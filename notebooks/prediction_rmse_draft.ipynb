{
 "cells": [
  {
   "cell_type": "markdown",
   "metadata": {},
   "source": [
    "# Libraries"
   ]
  },
  {
   "cell_type": "code",
   "execution_count": 1,
   "metadata": {},
   "outputs": [
    {
     "name": "stderr",
     "output_type": "stream",
     "text": [
      "/home/koomi_aims_ac_za/koomi/projects/AIMS-PROJECT/venv/lib/python3.10/site-packages/tqdm/auto.py:21: TqdmWarning: IProgress not found. Please update jupyter and ipywidgets. See https://ipywidgets.readthedocs.io/en/stable/user_install.html\n",
      "  from .autonotebook import tqdm as notebook_tqdm\n"
     ]
    }
   ],
   "source": [
    "import xarray as xr\n",
    "from datetime import datetime\n",
    "\n",
    "import torch\n",
    "\n",
    "from aurora import AuroraSmall, Batch, Metadata, rollout\n",
    "import matplotlib.pyplot as plt\n",
    "\n",
    "from pathlib import Path\n",
    "\n",
    "import cdsapi\n",
    "import numpy as np\n",
    "from sklearn.metrics import root_mean_squared_error\n",
    "import gcsfs\n",
    "\n",
    "from torch.utils.data import Dataset\n",
    "from aurora import Batch, Metadata\n",
    "import os"
   ]
  },
  {
   "cell_type": "code",
   "execution_count": 2,
   "metadata": {},
   "outputs": [
    {
     "data": {
      "text/plain": [
       "True"
      ]
     },
     "execution_count": 2,
     "metadata": {},
     "output_type": "execute_result"
    }
   ],
   "source": [
    "torch.cuda.is_available()"
   ]
  },
  {
   "cell_type": "code",
   "execution_count": 4,
   "metadata": {},
   "outputs": [
    {
     "name": "stdout",
     "output_type": "stream",
     "text": [
      "True\n"
     ]
    }
   ],
   "source": [
    "import torch\n",
    "print(torch.cuda.is_available())\n"
   ]
  },
  {
   "cell_type": "markdown",
   "metadata": {},
   "source": [
    "# Clear memory"
   ]
  },
  {
   "cell_type": "code",
   "execution_count": 5,
   "metadata": {},
   "outputs": [],
   "source": [
    "# torch.cuda.empty_cache()\n",
    "\n",
    "# os.environ[\"PYTORCH_CUDA_ALLOC_CONF\"] = \"max_split_size_mb:1024\"\n",
    "\n",
    "# torch.cuda.memory_allocated()"
   ]
  },
  {
   "cell_type": "code",
   "execution_count": 6,
   "metadata": {},
   "outputs": [],
   "source": [
    "\n",
    "# os.environ[\"CUDA_LAUNCH_BLOCKING\"] = \"1\""
   ]
  },
  {
   "cell_type": "code",
   "execution_count": 7,
   "metadata": {},
   "outputs": [],
   "source": [
    "# torch.backends.cuda.enable_mem_efficient_sdp(False)\n",
    "# torch.backends.cuda.enable_flash_sdp(False)\n",
    "# torch.backends.cuda.enable_math_sdp(True)"
   ]
  },
  {
   "cell_type": "markdown",
   "metadata": {},
   "source": [
    "# Load the model"
   ]
  },
  {
   "cell_type": "code",
   "execution_count": 3,
   "metadata": {},
   "outputs": [
    {
     "data": {
      "text/plain": [
       "<All keys matched successfully>"
      ]
     },
     "execution_count": 3,
     "metadata": {},
     "output_type": "execute_result"
    }
   ],
   "source": [
    "model = AuroraSmall()\n",
    "\n",
    "model.load_state_dict(torch.load('../model/aurora.pth'))"
   ]
  },
  {
   "cell_type": "code",
   "execution_count": 5,
   "metadata": {},
   "outputs": [],
   "source": [
    "# # model.half()\n",
    "# tensor = torch.tensor.half()"
   ]
  },
  {
   "cell_type": "markdown",
   "metadata": {},
   "source": [
    "# Data"
   ]
  },
  {
   "cell_type": "markdown",
   "metadata": {},
   "source": [
    "## World"
   ]
  },
  {
   "cell_type": "code",
   "execution_count": 4,
   "metadata": {},
   "outputs": [],
   "source": [
    "fs = gcsfs.GCSFileSystem(token=\"anon\")\n",
    "\n",
    "store = fs.get_mapper('gs://weatherbench2/datasets/era5/1959-2023_01_10-wb13-6h-1440x721_with_derived_variables.zarr')\n",
    "full_era5 = xr.open_zarr(store=store, consolidated=True, chunks=None)\n",
    "# df_2022 = ds.sel({'time':np.arange('2022-01-01','2023-01-11',dtype='datetime64[ns]')})"
   ]
  },
  {
   "cell_type": "markdown",
   "metadata": {},
   "source": [
    "### Subset data from 2022"
   ]
  },
  {
   "cell_type": "code",
   "execution_count": 5,
   "metadata": {},
   "outputs": [],
   "source": [
    "start_time = '2022-01-01'\n",
    "end_time = '2022-01-31'\n",
    "data_inner_steps = 6  # process every 6th hour\n",
    "\n",
    "sliced_era5_world = (\n",
    "    full_era5\n",
    "    # [['geopotential', 'specific_humidity', 'temperature', 'u_component_of_wind', 'v_component_of_wind']]\n",
    "    # .pipe(\n",
    "    #     xarray_utils.selective_temporal_shift,\n",
    "    #     variables=model.forcing_variables,\n",
    "    #     time_shift='24 hours',\n",
    "    # )\n",
    "    .sel(time=slice(start_time, end_time))\n",
    "    .isel(time=slice(None, -2))\n",
    "    # .compute()\n",
    ")"
   ]
  },
  {
   "cell_type": "code",
   "execution_count": 6,
   "metadata": {},
   "outputs": [],
   "source": [
    "target_sliced_era5_world = (\n",
    "    full_era5\n",
    "    .sel(time=slice(start_time, end_time))  # Select the time range\n",
    "    .isel(time=slice(2, None))  # Skip the first two time steps\n",
    ")"
   ]
  },
  {
   "cell_type": "code",
   "execution_count": 12,
   "metadata": {},
   "outputs": [
    {
     "name": "stdout",
     "output_type": "stream",
     "text": [
      "Feature sample (index 2): 2022-01-01T12:00:00.000000000\n",
      "Target sample (index 0): 2022-01-01T12:00:00.000000000\n"
     ]
    }
   ],
   "source": [
    "print(\"Feature sample (index 2):\", sliced_era5_world.isel(time=2).time.values)\n",
    "print(\"Target sample (index 0):\", target_sliced_era5_world.isel(time=0).time.values)\n"
   ]
  },
  {
   "cell_type": "code",
   "execution_count": 13,
   "metadata": {},
   "outputs": [
    {
     "data": {
      "text/plain": [
       "122"
      ]
     },
     "execution_count": 13,
     "metadata": {},
     "output_type": "execute_result"
    }
   ],
   "source": [
    "len(target_sliced_era5_world.time)"
   ]
  },
  {
   "cell_type": "code",
   "execution_count": 14,
   "metadata": {},
   "outputs": [
    {
     "data": {
      "text/plain": [
       "122"
      ]
     },
     "execution_count": 14,
     "metadata": {},
     "output_type": "execute_result"
    }
   ],
   "source": [
    "len(sliced_era5_world.time)"
   ]
  },
  {
   "cell_type": "markdown",
   "metadata": {},
   "source": [
    "# Draft"
   ]
  },
  {
   "cell_type": "code",
   "execution_count": 86,
   "metadata": {},
   "outputs": [
    {
     "data": {
      "text/html": [
       "<div><svg style=\"position: absolute; width: 0; height: 0; overflow: hidden\">\n",
       "<defs>\n",
       "<symbol id=\"icon-database\" viewBox=\"0 0 32 32\">\n",
       "<path d=\"M16 0c-8.837 0-16 2.239-16 5v4c0 2.761 7.163 5 16 5s16-2.239 16-5v-4c0-2.761-7.163-5-16-5z\"></path>\n",
       "<path d=\"M16 17c-8.837 0-16-2.239-16-5v6c0 2.761 7.163 5 16 5s16-2.239 16-5v-6c0 2.761-7.163 5-16 5z\"></path>\n",
       "<path d=\"M16 26c-8.837 0-16-2.239-16-5v6c0 2.761 7.163 5 16 5s16-2.239 16-5v-6c0 2.761-7.163 5-16 5z\"></path>\n",
       "</symbol>\n",
       "<symbol id=\"icon-file-text2\" viewBox=\"0 0 32 32\">\n",
       "<path d=\"M28.681 7.159c-0.694-0.947-1.662-2.053-2.724-3.116s-2.169-2.030-3.116-2.724c-1.612-1.182-2.393-1.319-2.841-1.319h-15.5c-1.378 0-2.5 1.121-2.5 2.5v27c0 1.378 1.122 2.5 2.5 2.5h23c1.378 0 2.5-1.122 2.5-2.5v-19.5c0-0.448-0.137-1.23-1.319-2.841zM24.543 5.457c0.959 0.959 1.712 1.825 2.268 2.543h-4.811v-4.811c0.718 0.556 1.584 1.309 2.543 2.268zM28 29.5c0 0.271-0.229 0.5-0.5 0.5h-23c-0.271 0-0.5-0.229-0.5-0.5v-27c0-0.271 0.229-0.5 0.5-0.5 0 0 15.499-0 15.5 0v7c0 0.552 0.448 1 1 1h7v19.5z\"></path>\n",
       "<path d=\"M23 26h-14c-0.552 0-1-0.448-1-1s0.448-1 1-1h14c0.552 0 1 0.448 1 1s-0.448 1-1 1z\"></path>\n",
       "<path d=\"M23 22h-14c-0.552 0-1-0.448-1-1s0.448-1 1-1h14c0.552 0 1 0.448 1 1s-0.448 1-1 1z\"></path>\n",
       "<path d=\"M23 18h-14c-0.552 0-1-0.448-1-1s0.448-1 1-1h14c0.552 0 1 0.448 1 1s-0.448 1-1 1z\"></path>\n",
       "</symbol>\n",
       "</defs>\n",
       "</svg>\n",
       "<style>/* CSS stylesheet for displaying xarray objects in jupyterlab.\n",
       " *\n",
       " */\n",
       "\n",
       ":root {\n",
       "  --xr-font-color0: var(--jp-content-font-color0, rgba(0, 0, 0, 1));\n",
       "  --xr-font-color2: var(--jp-content-font-color2, rgba(0, 0, 0, 0.54));\n",
       "  --xr-font-color3: var(--jp-content-font-color3, rgba(0, 0, 0, 0.38));\n",
       "  --xr-border-color: var(--jp-border-color2, #e0e0e0);\n",
       "  --xr-disabled-color: var(--jp-layout-color3, #bdbdbd);\n",
       "  --xr-background-color: var(--jp-layout-color0, white);\n",
       "  --xr-background-color-row-even: var(--jp-layout-color1, white);\n",
       "  --xr-background-color-row-odd: var(--jp-layout-color2, #eeeeee);\n",
       "}\n",
       "\n",
       "html[theme=\"dark\"],\n",
       "html[data-theme=\"dark\"],\n",
       "body[data-theme=\"dark\"],\n",
       "body.vscode-dark {\n",
       "  --xr-font-color0: rgba(255, 255, 255, 1);\n",
       "  --xr-font-color2: rgba(255, 255, 255, 0.54);\n",
       "  --xr-font-color3: rgba(255, 255, 255, 0.38);\n",
       "  --xr-border-color: #1f1f1f;\n",
       "  --xr-disabled-color: #515151;\n",
       "  --xr-background-color: #111111;\n",
       "  --xr-background-color-row-even: #111111;\n",
       "  --xr-background-color-row-odd: #313131;\n",
       "}\n",
       "\n",
       ".xr-wrap {\n",
       "  display: block !important;\n",
       "  min-width: 300px;\n",
       "  max-width: 700px;\n",
       "}\n",
       "\n",
       ".xr-text-repr-fallback {\n",
       "  /* fallback to plain text repr when CSS is not injected (untrusted notebook) */\n",
       "  display: none;\n",
       "}\n",
       "\n",
       ".xr-header {\n",
       "  padding-top: 6px;\n",
       "  padding-bottom: 6px;\n",
       "  margin-bottom: 4px;\n",
       "  border-bottom: solid 1px var(--xr-border-color);\n",
       "}\n",
       "\n",
       ".xr-header > div,\n",
       ".xr-header > ul {\n",
       "  display: inline;\n",
       "  margin-top: 0;\n",
       "  margin-bottom: 0;\n",
       "}\n",
       "\n",
       ".xr-obj-type,\n",
       ".xr-array-name {\n",
       "  margin-left: 2px;\n",
       "  margin-right: 10px;\n",
       "}\n",
       "\n",
       ".xr-obj-type {\n",
       "  color: var(--xr-font-color2);\n",
       "}\n",
       "\n",
       ".xr-sections {\n",
       "  padding-left: 0 !important;\n",
       "  display: grid;\n",
       "  grid-template-columns: 150px auto auto 1fr 0 20px 0 20px;\n",
       "}\n",
       "\n",
       ".xr-section-item {\n",
       "  display: contents;\n",
       "}\n",
       "\n",
       ".xr-section-item input {\n",
       "  display: inline-block;\n",
       "  opacity: 0;\n",
       "  height: 0;\n",
       "}\n",
       "\n",
       ".xr-section-item input + label {\n",
       "  color: var(--xr-disabled-color);\n",
       "}\n",
       "\n",
       ".xr-section-item input:enabled + label {\n",
       "  cursor: pointer;\n",
       "  color: var(--xr-font-color2);\n",
       "}\n",
       "\n",
       ".xr-section-item input:focus + label {\n",
       "  border: 2px solid var(--xr-font-color0);\n",
       "}\n",
       "\n",
       ".xr-section-item input:enabled + label:hover {\n",
       "  color: var(--xr-font-color0);\n",
       "}\n",
       "\n",
       ".xr-section-summary {\n",
       "  grid-column: 1;\n",
       "  color: var(--xr-font-color2);\n",
       "  font-weight: 500;\n",
       "}\n",
       "\n",
       ".xr-section-summary > span {\n",
       "  display: inline-block;\n",
       "  padding-left: 0.5em;\n",
       "}\n",
       "\n",
       ".xr-section-summary-in:disabled + label {\n",
       "  color: var(--xr-font-color2);\n",
       "}\n",
       "\n",
       ".xr-section-summary-in + label:before {\n",
       "  display: inline-block;\n",
       "  content: \"►\";\n",
       "  font-size: 11px;\n",
       "  width: 15px;\n",
       "  text-align: center;\n",
       "}\n",
       "\n",
       ".xr-section-summary-in:disabled + label:before {\n",
       "  color: var(--xr-disabled-color);\n",
       "}\n",
       "\n",
       ".xr-section-summary-in:checked + label:before {\n",
       "  content: \"▼\";\n",
       "}\n",
       "\n",
       ".xr-section-summary-in:checked + label > span {\n",
       "  display: none;\n",
       "}\n",
       "\n",
       ".xr-section-summary,\n",
       ".xr-section-inline-details {\n",
       "  padding-top: 4px;\n",
       "  padding-bottom: 4px;\n",
       "}\n",
       "\n",
       ".xr-section-inline-details {\n",
       "  grid-column: 2 / -1;\n",
       "}\n",
       "\n",
       ".xr-section-details {\n",
       "  display: none;\n",
       "  grid-column: 1 / -1;\n",
       "  margin-bottom: 5px;\n",
       "}\n",
       "\n",
       ".xr-section-summary-in:checked ~ .xr-section-details {\n",
       "  display: contents;\n",
       "}\n",
       "\n",
       ".xr-array-wrap {\n",
       "  grid-column: 1 / -1;\n",
       "  display: grid;\n",
       "  grid-template-columns: 20px auto;\n",
       "}\n",
       "\n",
       ".xr-array-wrap > label {\n",
       "  grid-column: 1;\n",
       "  vertical-align: top;\n",
       "}\n",
       "\n",
       ".xr-preview {\n",
       "  color: var(--xr-font-color3);\n",
       "}\n",
       "\n",
       ".xr-array-preview,\n",
       ".xr-array-data {\n",
       "  padding: 0 5px !important;\n",
       "  grid-column: 2;\n",
       "}\n",
       "\n",
       ".xr-array-data,\n",
       ".xr-array-in:checked ~ .xr-array-preview {\n",
       "  display: none;\n",
       "}\n",
       "\n",
       ".xr-array-in:checked ~ .xr-array-data,\n",
       ".xr-array-preview {\n",
       "  display: inline-block;\n",
       "}\n",
       "\n",
       ".xr-dim-list {\n",
       "  display: inline-block !important;\n",
       "  list-style: none;\n",
       "  padding: 0 !important;\n",
       "  margin: 0;\n",
       "}\n",
       "\n",
       ".xr-dim-list li {\n",
       "  display: inline-block;\n",
       "  padding: 0;\n",
       "  margin: 0;\n",
       "}\n",
       "\n",
       ".xr-dim-list:before {\n",
       "  content: \"(\";\n",
       "}\n",
       "\n",
       ".xr-dim-list:after {\n",
       "  content: \")\";\n",
       "}\n",
       "\n",
       ".xr-dim-list li:not(:last-child):after {\n",
       "  content: \",\";\n",
       "  padding-right: 5px;\n",
       "}\n",
       "\n",
       ".xr-has-index {\n",
       "  font-weight: bold;\n",
       "}\n",
       "\n",
       ".xr-var-list,\n",
       ".xr-var-item {\n",
       "  display: contents;\n",
       "}\n",
       "\n",
       ".xr-var-item > div,\n",
       ".xr-var-item label,\n",
       ".xr-var-item > .xr-var-name span {\n",
       "  background-color: var(--xr-background-color-row-even);\n",
       "  margin-bottom: 0;\n",
       "}\n",
       "\n",
       ".xr-var-item > .xr-var-name:hover span {\n",
       "  padding-right: 5px;\n",
       "}\n",
       "\n",
       ".xr-var-list > li:nth-child(odd) > div,\n",
       ".xr-var-list > li:nth-child(odd) > label,\n",
       ".xr-var-list > li:nth-child(odd) > .xr-var-name span {\n",
       "  background-color: var(--xr-background-color-row-odd);\n",
       "}\n",
       "\n",
       ".xr-var-name {\n",
       "  grid-column: 1;\n",
       "}\n",
       "\n",
       ".xr-var-dims {\n",
       "  grid-column: 2;\n",
       "}\n",
       "\n",
       ".xr-var-dtype {\n",
       "  grid-column: 3;\n",
       "  text-align: right;\n",
       "  color: var(--xr-font-color2);\n",
       "}\n",
       "\n",
       ".xr-var-preview {\n",
       "  grid-column: 4;\n",
       "}\n",
       "\n",
       ".xr-index-preview {\n",
       "  grid-column: 2 / 5;\n",
       "  color: var(--xr-font-color2);\n",
       "}\n",
       "\n",
       ".xr-var-name,\n",
       ".xr-var-dims,\n",
       ".xr-var-dtype,\n",
       ".xr-preview,\n",
       ".xr-attrs dt {\n",
       "  white-space: nowrap;\n",
       "  overflow: hidden;\n",
       "  text-overflow: ellipsis;\n",
       "  padding-right: 10px;\n",
       "}\n",
       "\n",
       ".xr-var-name:hover,\n",
       ".xr-var-dims:hover,\n",
       ".xr-var-dtype:hover,\n",
       ".xr-attrs dt:hover {\n",
       "  overflow: visible;\n",
       "  width: auto;\n",
       "  z-index: 1;\n",
       "}\n",
       "\n",
       ".xr-var-attrs,\n",
       ".xr-var-data,\n",
       ".xr-index-data {\n",
       "  display: none;\n",
       "  background-color: var(--xr-background-color) !important;\n",
       "  padding-bottom: 5px !important;\n",
       "}\n",
       "\n",
       ".xr-var-attrs-in:checked ~ .xr-var-attrs,\n",
       ".xr-var-data-in:checked ~ .xr-var-data,\n",
       ".xr-index-data-in:checked ~ .xr-index-data {\n",
       "  display: block;\n",
       "}\n",
       "\n",
       ".xr-var-data > table {\n",
       "  float: right;\n",
       "}\n",
       "\n",
       ".xr-var-name span,\n",
       ".xr-var-data,\n",
       ".xr-index-name div,\n",
       ".xr-index-data,\n",
       ".xr-attrs {\n",
       "  padding-left: 25px !important;\n",
       "}\n",
       "\n",
       ".xr-attrs,\n",
       ".xr-var-attrs,\n",
       ".xr-var-data,\n",
       ".xr-index-data {\n",
       "  grid-column: 1 / -1;\n",
       "}\n",
       "\n",
       "dl.xr-attrs {\n",
       "  padding: 0;\n",
       "  margin: 0;\n",
       "  display: grid;\n",
       "  grid-template-columns: 125px auto;\n",
       "}\n",
       "\n",
       ".xr-attrs dt,\n",
       ".xr-attrs dd {\n",
       "  padding: 0;\n",
       "  margin: 0;\n",
       "  float: left;\n",
       "  padding-right: 10px;\n",
       "  width: auto;\n",
       "}\n",
       "\n",
       ".xr-attrs dt {\n",
       "  font-weight: normal;\n",
       "  grid-column: 1;\n",
       "}\n",
       "\n",
       ".xr-attrs dt:hover span {\n",
       "  display: inline-block;\n",
       "  background: var(--xr-background-color);\n",
       "  padding-right: 10px;\n",
       "}\n",
       "\n",
       ".xr-attrs dd {\n",
       "  grid-column: 2;\n",
       "  white-space: pre-wrap;\n",
       "  word-break: break-all;\n",
       "}\n",
       "\n",
       ".xr-icon-database,\n",
       ".xr-icon-file-text2,\n",
       ".xr-no-icon {\n",
       "  display: inline-block;\n",
       "  vertical-align: middle;\n",
       "  width: 1em;\n",
       "  height: 1.5em !important;\n",
       "  stroke-width: 0;\n",
       "  stroke: currentColor;\n",
       "  fill: currentColor;\n",
       "}\n",
       "</style><pre class='xr-text-repr-fallback'>&lt;xarray.Dataset&gt; Size: 116GB\n",
       "Dimensions:                                           (time: 122,\n",
       "                                                       latitude: 721,\n",
       "                                                       longitude: 1440,\n",
       "                                                       level: 13)\n",
       "Coordinates:\n",
       "  * latitude                                          (latitude) float32 3kB ...\n",
       "  * level                                             (level) int64 104B 50 ....\n",
       "  * longitude                                         (longitude) float32 6kB ...\n",
       "  * time                                              (time) datetime64[ns] 976B ...\n",
       "Data variables: (12/62)\n",
       "    10m_u_component_of_wind                           (time, latitude, longitude) float32 507MB ...\n",
       "    10m_v_component_of_wind                           (time, latitude, longitude) float32 507MB ...\n",
       "    10m_wind_speed                                    (time, latitude, longitude) float32 507MB ...\n",
       "    2m_dewpoint_temperature                           (time, latitude, longitude) float32 507MB ...\n",
       "    2m_temperature                                    (time, latitude, longitude) float32 507MB ...\n",
       "    above_ground                                      (time, level, latitude, longitude) float32 7GB ...\n",
       "    ...                                                ...\n",
       "    volumetric_soil_water_layer_1                     (time, latitude, longitude) float32 507MB ...\n",
       "    volumetric_soil_water_layer_2                     (time, latitude, longitude) float32 507MB ...\n",
       "    volumetric_soil_water_layer_3                     (time, latitude, longitude) float32 507MB ...\n",
       "    volumetric_soil_water_layer_4                     (time, latitude, longitude) float32 507MB ...\n",
       "    vorticity                                         (time, level, latitude, longitude) float32 7GB ...\n",
       "    wind_speed                                        (time, level, latitude, longitude) float32 7GB ...</pre><div class='xr-wrap' style='display:none'><div class='xr-header'><div class='xr-obj-type'>xarray.Dataset</div></div><ul class='xr-sections'><li class='xr-section-item'><input id='section-7224360b-80e3-48c0-8629-2cbb235108b5' class='xr-section-summary-in' type='checkbox' disabled ><label for='section-7224360b-80e3-48c0-8629-2cbb235108b5' class='xr-section-summary'  title='Expand/collapse section'>Dimensions:</label><div class='xr-section-inline-details'><ul class='xr-dim-list'><li><span class='xr-has-index'>time</span>: 122</li><li><span class='xr-has-index'>latitude</span>: 721</li><li><span class='xr-has-index'>longitude</span>: 1440</li><li><span class='xr-has-index'>level</span>: 13</li></ul></div><div class='xr-section-details'></div></li><li class='xr-section-item'><input id='section-b6cd8357-5238-49d2-8069-f0c7142265a4' class='xr-section-summary-in' type='checkbox'  checked><label for='section-b6cd8357-5238-49d2-8069-f0c7142265a4' class='xr-section-summary' >Coordinates: <span>(4)</span></label><div class='xr-section-inline-details'></div><div class='xr-section-details'><ul class='xr-var-list'><li class='xr-var-item'><div class='xr-var-name'><span class='xr-has-index'>latitude</span></div><div class='xr-var-dims'>(latitude)</div><div class='xr-var-dtype'>float32</div><div class='xr-var-preview xr-preview'>90.0 89.75 89.5 ... -89.75 -90.0</div><input id='attrs-5663c0fc-0d4b-4e4f-a729-6ec7a27a50f0' class='xr-var-attrs-in' type='checkbox' ><label for='attrs-5663c0fc-0d4b-4e4f-a729-6ec7a27a50f0' title='Show/Hide attributes'><svg class='icon xr-icon-file-text2'><use xlink:href='#icon-file-text2'></use></svg></label><input id='data-eebf72e0-4b95-4449-a186-bb632accb883' class='xr-var-data-in' type='checkbox'><label for='data-eebf72e0-4b95-4449-a186-bb632accb883' title='Show/Hide data repr'><svg class='icon xr-icon-database'><use xlink:href='#icon-database'></use></svg></label><div class='xr-var-attrs'><dl class='xr-attrs'><dt><span>long_name :</span></dt><dd>latitude</dd><dt><span>units :</span></dt><dd>degrees_north</dd></dl></div><div class='xr-var-data'><pre>array([ 90.  ,  89.75,  89.5 , ..., -89.5 , -89.75, -90.  ], dtype=float32)</pre></div></li><li class='xr-var-item'><div class='xr-var-name'><span class='xr-has-index'>level</span></div><div class='xr-var-dims'>(level)</div><div class='xr-var-dtype'>int64</div><div class='xr-var-preview xr-preview'>50 100 150 200 ... 700 850 925 1000</div><input id='attrs-714b90a2-75ac-444b-ae3e-d3f5e05a1de5' class='xr-var-attrs-in' type='checkbox' disabled><label for='attrs-714b90a2-75ac-444b-ae3e-d3f5e05a1de5' title='Show/Hide attributes'><svg class='icon xr-icon-file-text2'><use xlink:href='#icon-file-text2'></use></svg></label><input id='data-ceec7f75-186d-49b3-b38e-9e4c25591471' class='xr-var-data-in' type='checkbox'><label for='data-ceec7f75-186d-49b3-b38e-9e4c25591471' title='Show/Hide data repr'><svg class='icon xr-icon-database'><use xlink:href='#icon-database'></use></svg></label><div class='xr-var-attrs'><dl class='xr-attrs'></dl></div><div class='xr-var-data'><pre>array([  50,  100,  150,  200,  250,  300,  400,  500,  600,  700,  850,  925,\n",
       "       1000])</pre></div></li><li class='xr-var-item'><div class='xr-var-name'><span class='xr-has-index'>longitude</span></div><div class='xr-var-dims'>(longitude)</div><div class='xr-var-dtype'>float32</div><div class='xr-var-preview xr-preview'>0.0 0.25 0.5 ... 359.2 359.5 359.8</div><input id='attrs-03d2b0aa-34f0-4d43-bb09-5de2ed4c3f2e' class='xr-var-attrs-in' type='checkbox' ><label for='attrs-03d2b0aa-34f0-4d43-bb09-5de2ed4c3f2e' title='Show/Hide attributes'><svg class='icon xr-icon-file-text2'><use xlink:href='#icon-file-text2'></use></svg></label><input id='data-7550c6a2-ef04-42ec-9af1-9916d5a61e84' class='xr-var-data-in' type='checkbox'><label for='data-7550c6a2-ef04-42ec-9af1-9916d5a61e84' title='Show/Hide data repr'><svg class='icon xr-icon-database'><use xlink:href='#icon-database'></use></svg></label><div class='xr-var-attrs'><dl class='xr-attrs'><dt><span>long_name :</span></dt><dd>longitude</dd><dt><span>units :</span></dt><dd>degrees_east</dd></dl></div><div class='xr-var-data'><pre>array([0.0000e+00, 2.5000e-01, 5.0000e-01, ..., 3.5925e+02, 3.5950e+02,\n",
       "       3.5975e+02], dtype=float32)</pre></div></li><li class='xr-var-item'><div class='xr-var-name'><span class='xr-has-index'>time</span></div><div class='xr-var-dims'>(time)</div><div class='xr-var-dtype'>datetime64[ns]</div><div class='xr-var-preview xr-preview'>2022-01-01 ... 2022-01-31T06:00:00</div><input id='attrs-c00dbba6-83cf-41b5-b6a6-b92199c2cdaa' class='xr-var-attrs-in' type='checkbox' disabled><label for='attrs-c00dbba6-83cf-41b5-b6a6-b92199c2cdaa' title='Show/Hide attributes'><svg class='icon xr-icon-file-text2'><use xlink:href='#icon-file-text2'></use></svg></label><input id='data-5fbc08c1-c0ab-4535-b16d-8107102deb26' class='xr-var-data-in' type='checkbox'><label for='data-5fbc08c1-c0ab-4535-b16d-8107102deb26' title='Show/Hide data repr'><svg class='icon xr-icon-database'><use xlink:href='#icon-database'></use></svg></label><div class='xr-var-attrs'><dl class='xr-attrs'></dl></div><div class='xr-var-data'><pre>array([&#x27;2022-01-01T00:00:00.000000000&#x27;, &#x27;2022-01-01T06:00:00.000000000&#x27;,\n",
       "       &#x27;2022-01-01T12:00:00.000000000&#x27;, &#x27;2022-01-01T18:00:00.000000000&#x27;,\n",
       "       &#x27;2022-01-02T00:00:00.000000000&#x27;, &#x27;2022-01-02T06:00:00.000000000&#x27;,\n",
       "       &#x27;2022-01-02T12:00:00.000000000&#x27;, &#x27;2022-01-02T18:00:00.000000000&#x27;,\n",
       "       &#x27;2022-01-03T00:00:00.000000000&#x27;, &#x27;2022-01-03T06:00:00.000000000&#x27;,\n",
       "       &#x27;2022-01-03T12:00:00.000000000&#x27;, &#x27;2022-01-03T18:00:00.000000000&#x27;,\n",
       "       &#x27;2022-01-04T00:00:00.000000000&#x27;, &#x27;2022-01-04T06:00:00.000000000&#x27;,\n",
       "       &#x27;2022-01-04T12:00:00.000000000&#x27;, &#x27;2022-01-04T18:00:00.000000000&#x27;,\n",
       "       &#x27;2022-01-05T00:00:00.000000000&#x27;, &#x27;2022-01-05T06:00:00.000000000&#x27;,\n",
       "       &#x27;2022-01-05T12:00:00.000000000&#x27;, &#x27;2022-01-05T18:00:00.000000000&#x27;,\n",
       "       &#x27;2022-01-06T00:00:00.000000000&#x27;, &#x27;2022-01-06T06:00:00.000000000&#x27;,\n",
       "       &#x27;2022-01-06T12:00:00.000000000&#x27;, &#x27;2022-01-06T18:00:00.000000000&#x27;,\n",
       "       &#x27;2022-01-07T00:00:00.000000000&#x27;, &#x27;2022-01-07T06:00:00.000000000&#x27;,\n",
       "       &#x27;2022-01-07T12:00:00.000000000&#x27;, &#x27;2022-01-07T18:00:00.000000000&#x27;,\n",
       "       &#x27;2022-01-08T00:00:00.000000000&#x27;, &#x27;2022-01-08T06:00:00.000000000&#x27;,\n",
       "       &#x27;2022-01-08T12:00:00.000000000&#x27;, &#x27;2022-01-08T18:00:00.000000000&#x27;,\n",
       "       &#x27;2022-01-09T00:00:00.000000000&#x27;, &#x27;2022-01-09T06:00:00.000000000&#x27;,\n",
       "       &#x27;2022-01-09T12:00:00.000000000&#x27;, &#x27;2022-01-09T18:00:00.000000000&#x27;,\n",
       "       &#x27;2022-01-10T00:00:00.000000000&#x27;, &#x27;2022-01-10T06:00:00.000000000&#x27;,\n",
       "       &#x27;2022-01-10T12:00:00.000000000&#x27;, &#x27;2022-01-10T18:00:00.000000000&#x27;,\n",
       "       &#x27;2022-01-11T00:00:00.000000000&#x27;, &#x27;2022-01-11T06:00:00.000000000&#x27;,\n",
       "       &#x27;2022-01-11T12:00:00.000000000&#x27;, &#x27;2022-01-11T18:00:00.000000000&#x27;,\n",
       "       &#x27;2022-01-12T00:00:00.000000000&#x27;, &#x27;2022-01-12T06:00:00.000000000&#x27;,\n",
       "       &#x27;2022-01-12T12:00:00.000000000&#x27;, &#x27;2022-01-12T18:00:00.000000000&#x27;,\n",
       "       &#x27;2022-01-13T00:00:00.000000000&#x27;, &#x27;2022-01-13T06:00:00.000000000&#x27;,\n",
       "       &#x27;2022-01-13T12:00:00.000000000&#x27;, &#x27;2022-01-13T18:00:00.000000000&#x27;,\n",
       "       &#x27;2022-01-14T00:00:00.000000000&#x27;, &#x27;2022-01-14T06:00:00.000000000&#x27;,\n",
       "       &#x27;2022-01-14T12:00:00.000000000&#x27;, &#x27;2022-01-14T18:00:00.000000000&#x27;,\n",
       "       &#x27;2022-01-15T00:00:00.000000000&#x27;, &#x27;2022-01-15T06:00:00.000000000&#x27;,\n",
       "       &#x27;2022-01-15T12:00:00.000000000&#x27;, &#x27;2022-01-15T18:00:00.000000000&#x27;,\n",
       "       &#x27;2022-01-16T00:00:00.000000000&#x27;, &#x27;2022-01-16T06:00:00.000000000&#x27;,\n",
       "       &#x27;2022-01-16T12:00:00.000000000&#x27;, &#x27;2022-01-16T18:00:00.000000000&#x27;,\n",
       "       &#x27;2022-01-17T00:00:00.000000000&#x27;, &#x27;2022-01-17T06:00:00.000000000&#x27;,\n",
       "       &#x27;2022-01-17T12:00:00.000000000&#x27;, &#x27;2022-01-17T18:00:00.000000000&#x27;,\n",
       "       &#x27;2022-01-18T00:00:00.000000000&#x27;, &#x27;2022-01-18T06:00:00.000000000&#x27;,\n",
       "       &#x27;2022-01-18T12:00:00.000000000&#x27;, &#x27;2022-01-18T18:00:00.000000000&#x27;,\n",
       "       &#x27;2022-01-19T00:00:00.000000000&#x27;, &#x27;2022-01-19T06:00:00.000000000&#x27;,\n",
       "       &#x27;2022-01-19T12:00:00.000000000&#x27;, &#x27;2022-01-19T18:00:00.000000000&#x27;,\n",
       "       &#x27;2022-01-20T00:00:00.000000000&#x27;, &#x27;2022-01-20T06:00:00.000000000&#x27;,\n",
       "       &#x27;2022-01-20T12:00:00.000000000&#x27;, &#x27;2022-01-20T18:00:00.000000000&#x27;,\n",
       "       &#x27;2022-01-21T00:00:00.000000000&#x27;, &#x27;2022-01-21T06:00:00.000000000&#x27;,\n",
       "       &#x27;2022-01-21T12:00:00.000000000&#x27;, &#x27;2022-01-21T18:00:00.000000000&#x27;,\n",
       "       &#x27;2022-01-22T00:00:00.000000000&#x27;, &#x27;2022-01-22T06:00:00.000000000&#x27;,\n",
       "       &#x27;2022-01-22T12:00:00.000000000&#x27;, &#x27;2022-01-22T18:00:00.000000000&#x27;,\n",
       "       &#x27;2022-01-23T00:00:00.000000000&#x27;, &#x27;2022-01-23T06:00:00.000000000&#x27;,\n",
       "       &#x27;2022-01-23T12:00:00.000000000&#x27;, &#x27;2022-01-23T18:00:00.000000000&#x27;,\n",
       "       &#x27;2022-01-24T00:00:00.000000000&#x27;, &#x27;2022-01-24T06:00:00.000000000&#x27;,\n",
       "       &#x27;2022-01-24T12:00:00.000000000&#x27;, &#x27;2022-01-24T18:00:00.000000000&#x27;,\n",
       "       &#x27;2022-01-25T00:00:00.000000000&#x27;, &#x27;2022-01-25T06:00:00.000000000&#x27;,\n",
       "       &#x27;2022-01-25T12:00:00.000000000&#x27;, &#x27;2022-01-25T18:00:00.000000000&#x27;,\n",
       "       &#x27;2022-01-26T00:00:00.000000000&#x27;, &#x27;2022-01-26T06:00:00.000000000&#x27;,\n",
       "       &#x27;2022-01-26T12:00:00.000000000&#x27;, &#x27;2022-01-26T18:00:00.000000000&#x27;,\n",
       "       &#x27;2022-01-27T00:00:00.000000000&#x27;, &#x27;2022-01-27T06:00:00.000000000&#x27;,\n",
       "       &#x27;2022-01-27T12:00:00.000000000&#x27;, &#x27;2022-01-27T18:00:00.000000000&#x27;,\n",
       "       &#x27;2022-01-28T00:00:00.000000000&#x27;, &#x27;2022-01-28T06:00:00.000000000&#x27;,\n",
       "       &#x27;2022-01-28T12:00:00.000000000&#x27;, &#x27;2022-01-28T18:00:00.000000000&#x27;,\n",
       "       &#x27;2022-01-29T00:00:00.000000000&#x27;, &#x27;2022-01-29T06:00:00.000000000&#x27;,\n",
       "       &#x27;2022-01-29T12:00:00.000000000&#x27;, &#x27;2022-01-29T18:00:00.000000000&#x27;,\n",
       "       &#x27;2022-01-30T00:00:00.000000000&#x27;, &#x27;2022-01-30T06:00:00.000000000&#x27;,\n",
       "       &#x27;2022-01-30T12:00:00.000000000&#x27;, &#x27;2022-01-30T18:00:00.000000000&#x27;,\n",
       "       &#x27;2022-01-31T00:00:00.000000000&#x27;, &#x27;2022-01-31T06:00:00.000000000&#x27;],\n",
       "      dtype=&#x27;datetime64[ns]&#x27;)</pre></div></li></ul></div></li><li class='xr-section-item'><input id='section-0f608eec-2987-49e9-8539-792341203750' class='xr-section-summary-in' type='checkbox'  ><label for='section-0f608eec-2987-49e9-8539-792341203750' class='xr-section-summary' >Data variables: <span>(62)</span></label><div class='xr-section-inline-details'></div><div class='xr-section-details'><ul class='xr-var-list'><li class='xr-var-item'><div class='xr-var-name'><span>10m_u_component_of_wind</span></div><div class='xr-var-dims'>(time, latitude, longitude)</div><div class='xr-var-dtype'>float32</div><div class='xr-var-preview xr-preview'>0.06759 0.06759 ... 0.315 0.315</div><input id='attrs-bd7232a3-006c-4e0d-be87-586ee48a28e4' class='xr-var-attrs-in' type='checkbox' ><label for='attrs-bd7232a3-006c-4e0d-be87-586ee48a28e4' title='Show/Hide attributes'><svg class='icon xr-icon-file-text2'><use xlink:href='#icon-file-text2'></use></svg></label><input id='data-d9dcc95a-c916-4700-9a5d-e6fe5de16479' class='xr-var-data-in' type='checkbox'><label for='data-d9dcc95a-c916-4700-9a5d-e6fe5de16479' title='Show/Hide data repr'><svg class='icon xr-icon-database'><use xlink:href='#icon-database'></use></svg></label><div class='xr-var-attrs'><dl class='xr-attrs'><dt><span>long_name :</span></dt><dd>10 metre U wind component</dd><dt><span>short_name :</span></dt><dd>u10</dd><dt><span>units :</span></dt><dd>m s**-1</dd></dl></div><div class='xr-var-data'><pre>array([[[ 0.067586,  0.067586, ...,  0.067586,  0.067586],\n",
       "        [-2.720278, -2.712126, ..., -2.738393, -2.729336],\n",
       "        ...,\n",
       "        [ 1.617305,  1.637232, ...,  1.581076,  1.600097],\n",
       "        [ 1.309354,  1.309354, ...,  1.309354,  1.309354]],\n",
       "\n",
       "       [[-0.259386, -0.259386, ..., -0.259386, -0.259386],\n",
       "        [-3.561709, -3.555369, ..., -3.571673, -3.566238],\n",
       "        ...,\n",
       "        [-0.633456, -0.616247, ..., -0.663345, -0.647947],\n",
       "        [ 0.555779,  0.555779, ...,  0.555779,  0.555779]],\n",
       "\n",
       "       ...,\n",
       "\n",
       "       [[-0.220008, -0.220008, ..., -0.220008, -0.220008],\n",
       "        [-2.264315, -2.261305, ..., -2.271839, -2.268077],\n",
       "        ...,\n",
       "        [-0.627063, -0.617282, ..., -0.645121, -0.636092],\n",
       "        [ 0.247993,  0.247993, ...,  0.247993,  0.247993]],\n",
       "\n",
       "       [[-0.165082, -0.165082, ..., -0.165082, -0.165082],\n",
       "        [-2.825615, -2.821101, ..., -2.830882, -2.827873],\n",
       "        ...,\n",
       "        [-1.075502, -1.064216, ..., -1.092807, -1.083778],\n",
       "        [ 0.314958,  0.314958, ...,  0.314958,  0.314958]]], dtype=float32)</pre></div></li><li class='xr-var-item'><div class='xr-var-name'><span>10m_v_component_of_wind</span></div><div class='xr-var-dims'>(time, latitude, longitude)</div><div class='xr-var-dtype'>float32</div><div class='xr-var-preview xr-preview'>0.008598 0.008598 ... 0.06179</div><input id='attrs-c076dd5e-97a3-4b7b-8d8e-c910f338bcfe' class='xr-var-attrs-in' type='checkbox' ><label for='attrs-c076dd5e-97a3-4b7b-8d8e-c910f338bcfe' title='Show/Hide attributes'><svg class='icon xr-icon-file-text2'><use xlink:href='#icon-file-text2'></use></svg></label><input id='data-2da157bf-d721-4a49-afa7-3b69e7219181' class='xr-var-data-in' type='checkbox'><label for='data-2da157bf-d721-4a49-afa7-3b69e7219181' title='Show/Hide data repr'><svg class='icon xr-icon-database'><use xlink:href='#icon-database'></use></svg></label><div class='xr-var-attrs'><dl class='xr-attrs'><dt><span>long_name :</span></dt><dd>10 metre V wind component</dd><dt><span>short_name :</span></dt><dd>v10</dd><dt><span>units :</span></dt><dd>m s**-1</dd></dl></div><div class='xr-var-data'><pre>array([[[ 0.008598,  0.008598, ...,  0.008598,  0.008598],\n",
       "        [ 3.863509,  3.865802, ...,  3.851281,  3.857395],\n",
       "        ...,\n",
       "        [-8.097872, -8.097872, ..., -8.087173, -8.093287],\n",
       "        [-0.439256, -0.439256, ..., -0.439256, -0.439256]],\n",
       "\n",
       "       [[ 0.081203,  0.081203, ...,  0.081203,  0.081203],\n",
       "        [ 2.746166,  2.751515, ...,  2.730116,  2.737759],\n",
       "        ...,\n",
       "        [-8.061952, -8.062716, ..., -8.053545, -8.05813 ],\n",
       "        [ 0.039933,  0.039933, ...,  0.039933,  0.039933]],\n",
       "\n",
       "       ...,\n",
       "\n",
       "       [[-0.243717, -0.243717, ..., -0.243717, -0.243717],\n",
       "        [ 0.675596,  0.678393, ...,  0.667906,  0.671402],\n",
       "        ...,\n",
       "        [-4.707454, -4.710949, ..., -4.696268, -4.70256 ],\n",
       "        [ 0.018445,  0.018445, ...,  0.018445,  0.018445]],\n",
       "\n",
       "       [[-0.173807, -0.173807, ..., -0.173807, -0.173807],\n",
       "        [ 0.573528,  0.577023, ...,  0.560245,  0.567236],\n",
       "        ...,\n",
       "        [-4.482345, -4.486539, ..., -4.469761, -4.475354],\n",
       "        [ 0.061789,  0.061789, ...,  0.061789,  0.061789]]], dtype=float32)</pre></div></li><li class='xr-var-item'><div class='xr-var-name'><span>10m_wind_speed</span></div><div class='xr-var-dims'>(time, latitude, longitude)</div><div class='xr-var-dtype'>float32</div><div class='xr-var-preview xr-preview'>...</div><input id='attrs-a35683ed-e412-4a68-b68b-41a559970ac1' class='xr-var-attrs-in' type='checkbox' disabled><label for='attrs-a35683ed-e412-4a68-b68b-41a559970ac1' title='Show/Hide attributes'><svg class='icon xr-icon-file-text2'><use xlink:href='#icon-file-text2'></use></svg></label><input id='data-3a009eff-30cf-4c9c-b3a6-905459dcc28e' class='xr-var-data-in' type='checkbox'><label for='data-3a009eff-30cf-4c9c-b3a6-905459dcc28e' title='Show/Hide data repr'><svg class='icon xr-icon-database'><use xlink:href='#icon-database'></use></svg></label><div class='xr-var-attrs'><dl class='xr-attrs'></dl></div><div class='xr-var-data'><pre>[126665280 values with dtype=float32]</pre></div></li><li class='xr-var-item'><div class='xr-var-name'><span>2m_dewpoint_temperature</span></div><div class='xr-var-dims'>(time, latitude, longitude)</div><div class='xr-var-dtype'>float32</div><div class='xr-var-preview xr-preview'>...</div><input id='attrs-6d662c73-3314-4f3a-8c4b-e35b080d5324' class='xr-var-attrs-in' type='checkbox' ><label for='attrs-6d662c73-3314-4f3a-8c4b-e35b080d5324' title='Show/Hide attributes'><svg class='icon xr-icon-file-text2'><use xlink:href='#icon-file-text2'></use></svg></label><input id='data-d9555eb5-1c6e-4759-be11-1637e8f2e3d0' class='xr-var-data-in' type='checkbox'><label for='data-d9555eb5-1c6e-4759-be11-1637e8f2e3d0' title='Show/Hide data repr'><svg class='icon xr-icon-database'><use xlink:href='#icon-database'></use></svg></label><div class='xr-var-attrs'><dl class='xr-attrs'><dt><span>long_name :</span></dt><dd>2 metre dewpoint temperature</dd><dt><span>short_name :</span></dt><dd>d2m</dd><dt><span>units :</span></dt><dd>K</dd></dl></div><div class='xr-var-data'><pre>[126665280 values with dtype=float32]</pre></div></li><li class='xr-var-item'><div class='xr-var-name'><span>2m_temperature</span></div><div class='xr-var-dims'>(time, latitude, longitude)</div><div class='xr-var-dtype'>float32</div><div class='xr-var-preview xr-preview'>248.4 248.4 248.4 ... 241.6 241.6</div><input id='attrs-e9c6d403-f9fe-409d-92f4-8bae95e9a1c3' class='xr-var-attrs-in' type='checkbox' ><label for='attrs-e9c6d403-f9fe-409d-92f4-8bae95e9a1c3' title='Show/Hide attributes'><svg class='icon xr-icon-file-text2'><use xlink:href='#icon-file-text2'></use></svg></label><input id='data-fe6abba9-970a-43d2-9404-ed33d7febf96' class='xr-var-data-in' type='checkbox'><label for='data-fe6abba9-970a-43d2-9404-ed33d7febf96' title='Show/Hide data repr'><svg class='icon xr-icon-database'><use xlink:href='#icon-database'></use></svg></label><div class='xr-var-attrs'><dl class='xr-attrs'><dt><span>long_name :</span></dt><dd>2 metre temperature</dd><dt><span>short_name :</span></dt><dd>t2m</dd><dt><span>units :</span></dt><dd>K</dd></dl></div><div class='xr-var-data'><pre>array([[[248.43976, 248.43976, ..., 248.43976, 248.43976],\n",
       "        [249.00487, 249.00172, ..., 249.00801, 249.00644],\n",
       "        ...,\n",
       "        [250.64822, 250.64508, ..., 250.65453, 250.65138],\n",
       "        [250.74898, 250.74898, ..., 250.74898, 250.74898]],\n",
       "\n",
       "       [[248.10448, 248.10448, ..., 248.10448, 248.10448],\n",
       "        [248.5956 , 248.59088, ..., 248.59875, 248.59717],\n",
       "        ...,\n",
       "        [248.79552, 248.79393, ..., 248.8018 , 248.79866],\n",
       "        [248.997  , 248.997  , ..., 248.997  , 248.997  ]],\n",
       "\n",
       "       ...,\n",
       "\n",
       "       [[242.14548, 242.14548, ..., 242.14548, 242.14548],\n",
       "        [242.25233, 242.2479 , ..., 242.25827, 242.25383],\n",
       "        ...,\n",
       "        [241.49684, 241.49684, ..., 241.49684, 241.49684],\n",
       "        [241.51613, 241.51613, ..., 241.51613, 241.51613]],\n",
       "\n",
       "       [[241.68535, 241.68535, ..., 241.68535, 241.68535],\n",
       "        [241.74026, 241.73877, ..., 241.7462 , 241.74472],\n",
       "        ...,\n",
       "        [241.21483, 241.21483, ..., 241.21631, 241.21483],\n",
       "        [241.64081, 241.64081, ..., 241.64081, 241.64081]]], dtype=float32)</pre></div></li><li class='xr-var-item'><div class='xr-var-name'><span>above_ground</span></div><div class='xr-var-dims'>(time, level, latitude, longitude)</div><div class='xr-var-dtype'>float32</div><div class='xr-var-preview xr-preview'>...</div><input id='attrs-9bd70e5a-e452-4ede-a0c5-2d083af50b7f' class='xr-var-attrs-in' type='checkbox' disabled><label for='attrs-9bd70e5a-e452-4ede-a0c5-2d083af50b7f' title='Show/Hide attributes'><svg class='icon xr-icon-file-text2'><use xlink:href='#icon-file-text2'></use></svg></label><input id='data-d34dc941-ca7d-42d2-9c4b-c6d76894f978' class='xr-var-data-in' type='checkbox'><label for='data-d34dc941-ca7d-42d2-9c4b-c6d76894f978' title='Show/Hide data repr'><svg class='icon xr-icon-database'><use xlink:href='#icon-database'></use></svg></label><div class='xr-var-attrs'><dl class='xr-attrs'></dl></div><div class='xr-var-data'><pre>[1646648640 values with dtype=float32]</pre></div></li><li class='xr-var-item'><div class='xr-var-name'><span>ageostrophic_wind_speed</span></div><div class='xr-var-dims'>(time, level, latitude, longitude)</div><div class='xr-var-dtype'>float32</div><div class='xr-var-preview xr-preview'>...</div><input id='attrs-3e037349-8668-441e-b568-7a079d099e29' class='xr-var-attrs-in' type='checkbox' disabled><label for='attrs-3e037349-8668-441e-b568-7a079d099e29' title='Show/Hide attributes'><svg class='icon xr-icon-file-text2'><use xlink:href='#icon-file-text2'></use></svg></label><input id='data-45e0dcfe-8180-4585-ae7a-1ed73a0fb323' class='xr-var-data-in' type='checkbox'><label for='data-45e0dcfe-8180-4585-ae7a-1ed73a0fb323' title='Show/Hide data repr'><svg class='icon xr-icon-database'><use xlink:href='#icon-database'></use></svg></label><div class='xr-var-attrs'><dl class='xr-attrs'></dl></div><div class='xr-var-data'><pre>[1646648640 values with dtype=float32]</pre></div></li><li class='xr-var-item'><div class='xr-var-name'><span>angle_of_sub_gridscale_orography</span></div><div class='xr-var-dims'>(latitude, longitude)</div><div class='xr-var-dtype'>float32</div><div class='xr-var-preview xr-preview'>...</div><input id='attrs-1ef3b53f-08f6-4446-a0de-4b65bbd41145' class='xr-var-attrs-in' type='checkbox' ><label for='attrs-1ef3b53f-08f6-4446-a0de-4b65bbd41145' title='Show/Hide attributes'><svg class='icon xr-icon-file-text2'><use xlink:href='#icon-file-text2'></use></svg></label><input id='data-3692d631-afd1-4503-97bc-0be4eb8b1806' class='xr-var-data-in' type='checkbox'><label for='data-3692d631-afd1-4503-97bc-0be4eb8b1806' title='Show/Hide data repr'><svg class='icon xr-icon-database'><use xlink:href='#icon-database'></use></svg></label><div class='xr-var-attrs'><dl class='xr-attrs'><dt><span>long_name :</span></dt><dd>Angle of sub-gridscale orography</dd><dt><span>short_name :</span></dt><dd>anor</dd><dt><span>units :</span></dt><dd>radians</dd></dl></div><div class='xr-var-data'><pre>[1038240 values with dtype=float32]</pre></div></li><li class='xr-var-item'><div class='xr-var-name'><span>anisotropy_of_sub_gridscale_orography</span></div><div class='xr-var-dims'>(latitude, longitude)</div><div class='xr-var-dtype'>float32</div><div class='xr-var-preview xr-preview'>...</div><input id='attrs-7fe75f1b-d323-47df-9533-98cdc17e82e9' class='xr-var-attrs-in' type='checkbox' ><label for='attrs-7fe75f1b-d323-47df-9533-98cdc17e82e9' title='Show/Hide attributes'><svg class='icon xr-icon-file-text2'><use xlink:href='#icon-file-text2'></use></svg></label><input id='data-3fe96dfd-e359-431f-b800-a4ed825897cb' class='xr-var-data-in' type='checkbox'><label for='data-3fe96dfd-e359-431f-b800-a4ed825897cb' title='Show/Hide data repr'><svg class='icon xr-icon-database'><use xlink:href='#icon-database'></use></svg></label><div class='xr-var-attrs'><dl class='xr-attrs'><dt><span>long_name :</span></dt><dd>Anisotropy of sub-gridscale orography</dd><dt><span>short_name :</span></dt><dd>isor</dd><dt><span>units :</span></dt><dd>~</dd></dl></div><div class='xr-var-data'><pre>[1038240 values with dtype=float32]</pre></div></li><li class='xr-var-item'><div class='xr-var-name'><span>boundary_layer_height</span></div><div class='xr-var-dims'>(time, latitude, longitude)</div><div class='xr-var-dtype'>float32</div><div class='xr-var-preview xr-preview'>...</div><input id='attrs-9b613789-dde8-4e03-accb-d6b1111392d5' class='xr-var-attrs-in' type='checkbox' ><label for='attrs-9b613789-dde8-4e03-accb-d6b1111392d5' title='Show/Hide attributes'><svg class='icon xr-icon-file-text2'><use xlink:href='#icon-file-text2'></use></svg></label><input id='data-06f7acc4-4b34-4ec1-87fc-4767dd9855b4' class='xr-var-data-in' type='checkbox'><label for='data-06f7acc4-4b34-4ec1-87fc-4767dd9855b4' title='Show/Hide data repr'><svg class='icon xr-icon-database'><use xlink:href='#icon-database'></use></svg></label><div class='xr-var-attrs'><dl class='xr-attrs'><dt><span>long_name :</span></dt><dd>Boundary layer height</dd><dt><span>short_name :</span></dt><dd>blh</dd><dt><span>units :</span></dt><dd>m</dd></dl></div><div class='xr-var-data'><pre>[126665280 values with dtype=float32]</pre></div></li><li class='xr-var-item'><div class='xr-var-name'><span>divergence</span></div><div class='xr-var-dims'>(time, level, latitude, longitude)</div><div class='xr-var-dtype'>float32</div><div class='xr-var-preview xr-preview'>...</div><input id='attrs-fae27d0a-fe52-4aeb-a05e-8ebe16b38822' class='xr-var-attrs-in' type='checkbox' disabled><label for='attrs-fae27d0a-fe52-4aeb-a05e-8ebe16b38822' title='Show/Hide attributes'><svg class='icon xr-icon-file-text2'><use xlink:href='#icon-file-text2'></use></svg></label><input id='data-296b4506-ad4c-46f0-a9bb-62452c31a504' class='xr-var-data-in' type='checkbox'><label for='data-296b4506-ad4c-46f0-a9bb-62452c31a504' title='Show/Hide data repr'><svg class='icon xr-icon-database'><use xlink:href='#icon-database'></use></svg></label><div class='xr-var-attrs'><dl class='xr-attrs'></dl></div><div class='xr-var-data'><pre>[1646648640 values with dtype=float32]</pre></div></li><li class='xr-var-item'><div class='xr-var-name'><span>eddy_kinetic_energy</span></div><div class='xr-var-dims'>(time, latitude, longitude)</div><div class='xr-var-dtype'>float32</div><div class='xr-var-preview xr-preview'>...</div><input id='attrs-7a2df9bf-b727-446f-a618-ba33403861dd' class='xr-var-attrs-in' type='checkbox' disabled><label for='attrs-7a2df9bf-b727-446f-a618-ba33403861dd' title='Show/Hide attributes'><svg class='icon xr-icon-file-text2'><use xlink:href='#icon-file-text2'></use></svg></label><input id='data-315097b8-b657-4be5-86b7-d0894c64e1bf' class='xr-var-data-in' type='checkbox'><label for='data-315097b8-b657-4be5-86b7-d0894c64e1bf' title='Show/Hide data repr'><svg class='icon xr-icon-database'><use xlink:href='#icon-database'></use></svg></label><div class='xr-var-attrs'><dl class='xr-attrs'></dl></div><div class='xr-var-data'><pre>[126665280 values with dtype=float32]</pre></div></li><li class='xr-var-item'><div class='xr-var-name'><span>geopotential</span></div><div class='xr-var-dims'>(time, level, latitude, longitude)</div><div class='xr-var-dtype'>float32</div><div class='xr-var-preview xr-preview'>1.882e+05 1.882e+05 ... 93.8 93.8</div><input id='attrs-63ced2d0-fd09-418a-bd6a-57dae432e79e' class='xr-var-attrs-in' type='checkbox' ><label for='attrs-63ced2d0-fd09-418a-bd6a-57dae432e79e' title='Show/Hide attributes'><svg class='icon xr-icon-file-text2'><use xlink:href='#icon-file-text2'></use></svg></label><input id='data-016ca339-3dd2-41e0-8888-a2ef1bab4e90' class='xr-var-data-in' type='checkbox'><label for='data-016ca339-3dd2-41e0-8888-a2ef1bab4e90' title='Show/Hide data repr'><svg class='icon xr-icon-database'><use xlink:href='#icon-database'></use></svg></label><div class='xr-var-attrs'><dl class='xr-attrs'><dt><span>long_name :</span></dt><dd>Geopotential</dd><dt><span>short_name :</span></dt><dd>z</dd><dt><span>standard_name :</span></dt><dd>geopotential</dd><dt><span>units :</span></dt><dd>m**2 s**-2</dd></dl></div><div class='xr-var-data'><pre>array([[[[ 1.881841e+05, ...,  1.881841e+05],\n",
       "         ...,\n",
       "         [ 1.980377e+05, ...,  1.980377e+05]],\n",
       "\n",
       "        ...,\n",
       "\n",
       "        [[ 2.035000e+03, ...,  2.035000e+03],\n",
       "         ...,\n",
       "         [-6.664696e+02, ..., -6.664696e+02]]],\n",
       "\n",
       "\n",
       "       ...,\n",
       "\n",
       "\n",
       "       [[[ 1.846464e+05, ...,  1.846464e+05],\n",
       "         ...,\n",
       "         [ 2.006381e+05, ...,  2.006381e+05]],\n",
       "\n",
       "        ...,\n",
       "\n",
       "        [[ 1.626510e+03, ...,  1.626510e+03],\n",
       "         ...,\n",
       "         [ 9.379584e+01, ...,  9.379584e+01]]]], dtype=float32)</pre></div></li><li class='xr-var-item'><div class='xr-var-name'><span>geopotential_at_surface</span></div><div class='xr-var-dims'>(latitude, longitude)</div><div class='xr-var-dtype'>float32</div><div class='xr-var-preview xr-preview'>-0.07617 -0.07617 ... 2.735e+04</div><input id='attrs-717fe73a-e469-416a-a942-9ee941a85385' class='xr-var-attrs-in' type='checkbox' ><label for='attrs-717fe73a-e469-416a-a942-9ee941a85385' title='Show/Hide attributes'><svg class='icon xr-icon-file-text2'><use xlink:href='#icon-file-text2'></use></svg></label><input id='data-ecfe8109-06c5-440b-86e5-23adc9278a85' class='xr-var-data-in' type='checkbox'><label for='data-ecfe8109-06c5-440b-86e5-23adc9278a85' title='Show/Hide data repr'><svg class='icon xr-icon-database'><use xlink:href='#icon-database'></use></svg></label><div class='xr-var-attrs'><dl class='xr-attrs'><dt><span>long_name :</span></dt><dd>Geopotential</dd><dt><span>short_name :</span></dt><dd>z</dd><dt><span>standard_name :</span></dt><dd>geopotential</dd><dt><span>units :</span></dt><dd>m**2 s**-2</dd></dl></div><div class='xr-var-data'><pre>array([[-7.617188e-02, -7.617188e-02, -7.617188e-02, ..., -7.617188e-02,\n",
       "        -7.617188e-02, -7.617188e-02],\n",
       "       [ 4.412109e+00,  4.412109e+00,  4.412109e+00, ...,  4.412109e+00,\n",
       "         4.412109e+00,  4.412109e+00],\n",
       "       [-1.873047e+00, -1.873047e+00, -1.873047e+00, ..., -1.873047e+00,\n",
       "        -1.873047e+00, -1.873047e+00],\n",
       "       ...,\n",
       "       [ 2.695786e+04,  2.696145e+04,  2.696504e+04, ...,  2.694978e+04,\n",
       "         2.695247e+04,  2.695607e+04],\n",
       "       [ 2.716349e+04,  2.716529e+04,  2.716708e+04, ...,  2.715900e+04,\n",
       "         2.715990e+04,  2.716169e+04],\n",
       "       [ 2.735475e+04,  2.735475e+04,  2.735475e+04, ...,  2.735475e+04,\n",
       "         2.735475e+04,  2.735475e+04]], dtype=float32)</pre></div></li><li class='xr-var-item'><div class='xr-var-name'><span>geostrophic_wind_speed</span></div><div class='xr-var-dims'>(time, level, latitude, longitude)</div><div class='xr-var-dtype'>float32</div><div class='xr-var-preview xr-preview'>...</div><input id='attrs-67463916-64d7-4519-b04b-60e9b032dfbb' class='xr-var-attrs-in' type='checkbox' disabled><label for='attrs-67463916-64d7-4519-b04b-60e9b032dfbb' title='Show/Hide attributes'><svg class='icon xr-icon-file-text2'><use xlink:href='#icon-file-text2'></use></svg></label><input id='data-fc4c356f-f7be-4eb6-ba60-dc6d2d6dd020' class='xr-var-data-in' type='checkbox'><label for='data-fc4c356f-f7be-4eb6-ba60-dc6d2d6dd020' title='Show/Hide data repr'><svg class='icon xr-icon-database'><use xlink:href='#icon-database'></use></svg></label><div class='xr-var-attrs'><dl class='xr-attrs'></dl></div><div class='xr-var-data'><pre>[1646648640 values with dtype=float32]</pre></div></li><li class='xr-var-item'><div class='xr-var-name'><span>high_vegetation_cover</span></div><div class='xr-var-dims'>(latitude, longitude)</div><div class='xr-var-dtype'>float32</div><div class='xr-var-preview xr-preview'>...</div><input id='attrs-e09c88c5-eab5-4790-9284-1b06bb804b47' class='xr-var-attrs-in' type='checkbox' ><label for='attrs-e09c88c5-eab5-4790-9284-1b06bb804b47' title='Show/Hide attributes'><svg class='icon xr-icon-file-text2'><use xlink:href='#icon-file-text2'></use></svg></label><input id='data-57fb5a7c-eeb4-425a-8ccd-ead9e8d1d293' class='xr-var-data-in' type='checkbox'><label for='data-57fb5a7c-eeb4-425a-8ccd-ead9e8d1d293' title='Show/Hide data repr'><svg class='icon xr-icon-database'><use xlink:href='#icon-database'></use></svg></label><div class='xr-var-attrs'><dl class='xr-attrs'><dt><span>long_name :</span></dt><dd>High vegetation cover</dd><dt><span>short_name :</span></dt><dd>cvh</dd><dt><span>units :</span></dt><dd>(0 - 1)</dd></dl></div><div class='xr-var-data'><pre>[1038240 values with dtype=float32]</pre></div></li><li class='xr-var-item'><div class='xr-var-name'><span>integrated_vapor_transport</span></div><div class='xr-var-dims'>(time, latitude, longitude)</div><div class='xr-var-dtype'>float32</div><div class='xr-var-preview xr-preview'>...</div><input id='attrs-7c0fc562-d5f8-467a-8946-8d5b8228bdbd' class='xr-var-attrs-in' type='checkbox' disabled><label for='attrs-7c0fc562-d5f8-467a-8946-8d5b8228bdbd' title='Show/Hide attributes'><svg class='icon xr-icon-file-text2'><use xlink:href='#icon-file-text2'></use></svg></label><input id='data-f8295fa6-58fb-4325-9818-249378583099' class='xr-var-data-in' type='checkbox'><label for='data-f8295fa6-58fb-4325-9818-249378583099' title='Show/Hide data repr'><svg class='icon xr-icon-database'><use xlink:href='#icon-database'></use></svg></label><div class='xr-var-attrs'><dl class='xr-attrs'></dl></div><div class='xr-var-data'><pre>[126665280 values with dtype=float32]</pre></div></li><li class='xr-var-item'><div class='xr-var-name'><span>lake_cover</span></div><div class='xr-var-dims'>(latitude, longitude)</div><div class='xr-var-dtype'>float32</div><div class='xr-var-preview xr-preview'>...</div><input id='attrs-c4fc7b4b-a214-43fa-997e-a239c1c262e6' class='xr-var-attrs-in' type='checkbox' ><label for='attrs-c4fc7b4b-a214-43fa-997e-a239c1c262e6' title='Show/Hide attributes'><svg class='icon xr-icon-file-text2'><use xlink:href='#icon-file-text2'></use></svg></label><input id='data-4814b579-3acd-4145-bd7f-3bea9c00c813' class='xr-var-data-in' type='checkbox'><label for='data-4814b579-3acd-4145-bd7f-3bea9c00c813' title='Show/Hide data repr'><svg class='icon xr-icon-database'><use xlink:href='#icon-database'></use></svg></label><div class='xr-var-attrs'><dl class='xr-attrs'><dt><span>long_name :</span></dt><dd>Lake cover</dd><dt><span>short_name :</span></dt><dd>cl</dd><dt><span>units :</span></dt><dd>(0 - 1)</dd></dl></div><div class='xr-var-data'><pre>[1038240 values with dtype=float32]</pre></div></li><li class='xr-var-item'><div class='xr-var-name'><span>land_sea_mask</span></div><div class='xr-var-dims'>(latitude, longitude)</div><div class='xr-var-dtype'>float32</div><div class='xr-var-preview xr-preview'>0.0 0.0 0.0 0.0 ... 1.0 1.0 1.0 1.0</div><input id='attrs-44c38fc3-97d9-4dfd-9b64-2667bc3b7c04' class='xr-var-attrs-in' type='checkbox' ><label for='attrs-44c38fc3-97d9-4dfd-9b64-2667bc3b7c04' title='Show/Hide attributes'><svg class='icon xr-icon-file-text2'><use xlink:href='#icon-file-text2'></use></svg></label><input id='data-17655d7f-820e-4c3a-af58-35e06f43efd8' class='xr-var-data-in' type='checkbox'><label for='data-17655d7f-820e-4c3a-af58-35e06f43efd8' title='Show/Hide data repr'><svg class='icon xr-icon-database'><use xlink:href='#icon-database'></use></svg></label><div class='xr-var-attrs'><dl class='xr-attrs'><dt><span>long_name :</span></dt><dd>Land-sea mask</dd><dt><span>short_name :</span></dt><dd>lsm</dd><dt><span>standard_name :</span></dt><dd>land_binary_mask</dd><dt><span>units :</span></dt><dd>(0 - 1)</dd></dl></div><div class='xr-var-data'><pre>array([[0., 0., 0., ..., 0., 0., 0.],\n",
       "       [0., 0., 0., ..., 0., 0., 0.],\n",
       "       [0., 0., 0., ..., 0., 0., 0.],\n",
       "       ...,\n",
       "       [1., 1., 1., ..., 1., 1., 1.],\n",
       "       [1., 1., 1., ..., 1., 1., 1.],\n",
       "       [1., 1., 1., ..., 1., 1., 1.]], dtype=float32)</pre></div></li><li class='xr-var-item'><div class='xr-var-name'><span>lapse_rate</span></div><div class='xr-var-dims'>(time, level, latitude, longitude)</div><div class='xr-var-dtype'>float32</div><div class='xr-var-preview xr-preview'>...</div><input id='attrs-09bb8af2-d1fe-4c0c-8c62-774bd1327a4d' class='xr-var-attrs-in' type='checkbox' disabled><label for='attrs-09bb8af2-d1fe-4c0c-8c62-774bd1327a4d' title='Show/Hide attributes'><svg class='icon xr-icon-file-text2'><use xlink:href='#icon-file-text2'></use></svg></label><input id='data-6d4db44d-cbc5-4fad-804a-476a82920ef8' class='xr-var-data-in' type='checkbox'><label for='data-6d4db44d-cbc5-4fad-804a-476a82920ef8' title='Show/Hide data repr'><svg class='icon xr-icon-database'><use xlink:href='#icon-database'></use></svg></label><div class='xr-var-attrs'><dl class='xr-attrs'></dl></div><div class='xr-var-data'><pre>[1646648640 values with dtype=float32]</pre></div></li><li class='xr-var-item'><div class='xr-var-name'><span>leaf_area_index_high_vegetation</span></div><div class='xr-var-dims'>(time, latitude, longitude)</div><div class='xr-var-dtype'>float32</div><div class='xr-var-preview xr-preview'>...</div><input id='attrs-8dbf8bea-7e87-4a4c-9722-0d5f8929c900' class='xr-var-attrs-in' type='checkbox' ><label for='attrs-8dbf8bea-7e87-4a4c-9722-0d5f8929c900' title='Show/Hide attributes'><svg class='icon xr-icon-file-text2'><use xlink:href='#icon-file-text2'></use></svg></label><input id='data-3f0f76c3-3c17-42ce-ba14-8a298aab3a3a' class='xr-var-data-in' type='checkbox'><label for='data-3f0f76c3-3c17-42ce-ba14-8a298aab3a3a' title='Show/Hide data repr'><svg class='icon xr-icon-database'><use xlink:href='#icon-database'></use></svg></label><div class='xr-var-attrs'><dl class='xr-attrs'><dt><span>long_name :</span></dt><dd>Leaf area index, high vegetation</dd><dt><span>short_name :</span></dt><dd>lai_hv</dd><dt><span>units :</span></dt><dd>m**2 m**-2</dd></dl></div><div class='xr-var-data'><pre>[126665280 values with dtype=float32]</pre></div></li><li class='xr-var-item'><div class='xr-var-name'><span>leaf_area_index_low_vegetation</span></div><div class='xr-var-dims'>(time, latitude, longitude)</div><div class='xr-var-dtype'>float32</div><div class='xr-var-preview xr-preview'>...</div><input id='attrs-1e88e189-3cac-4c50-8fa1-ab7aac801577' class='xr-var-attrs-in' type='checkbox' ><label for='attrs-1e88e189-3cac-4c50-8fa1-ab7aac801577' title='Show/Hide attributes'><svg class='icon xr-icon-file-text2'><use xlink:href='#icon-file-text2'></use></svg></label><input id='data-6b782fad-09db-4dab-90df-84fcb1878069' class='xr-var-data-in' type='checkbox'><label for='data-6b782fad-09db-4dab-90df-84fcb1878069' title='Show/Hide data repr'><svg class='icon xr-icon-database'><use xlink:href='#icon-database'></use></svg></label><div class='xr-var-attrs'><dl class='xr-attrs'><dt><span>long_name :</span></dt><dd>Leaf area index, low vegetation</dd><dt><span>short_name :</span></dt><dd>lai_lv</dd><dt><span>units :</span></dt><dd>m**2 m**-2</dd></dl></div><div class='xr-var-data'><pre>[126665280 values with dtype=float32]</pre></div></li><li class='xr-var-item'><div class='xr-var-name'><span>low_vegetation_cover</span></div><div class='xr-var-dims'>(latitude, longitude)</div><div class='xr-var-dtype'>float32</div><div class='xr-var-preview xr-preview'>...</div><input id='attrs-2520b097-56b1-43a9-b403-869e08115888' class='xr-var-attrs-in' type='checkbox' ><label for='attrs-2520b097-56b1-43a9-b403-869e08115888' title='Show/Hide attributes'><svg class='icon xr-icon-file-text2'><use xlink:href='#icon-file-text2'></use></svg></label><input id='data-1813e598-ff28-4e12-b912-c87172bca11a' class='xr-var-data-in' type='checkbox'><label for='data-1813e598-ff28-4e12-b912-c87172bca11a' title='Show/Hide data repr'><svg class='icon xr-icon-database'><use xlink:href='#icon-database'></use></svg></label><div class='xr-var-attrs'><dl class='xr-attrs'><dt><span>long_name :</span></dt><dd>Low vegetation cover</dd><dt><span>short_name :</span></dt><dd>cvl</dd><dt><span>units :</span></dt><dd>(0 - 1)</dd></dl></div><div class='xr-var-data'><pre>[1038240 values with dtype=float32]</pre></div></li><li class='xr-var-item'><div class='xr-var-name'><span>mean_sea_level_pressure</span></div><div class='xr-var-dims'>(time, latitude, longitude)</div><div class='xr-var-dtype'>float32</div><div class='xr-var-preview xr-preview'>1.029e+05 1.029e+05 ... 1.005e+05</div><input id='attrs-57dabdcc-b50a-471e-b36a-abda7cf8891b' class='xr-var-attrs-in' type='checkbox' ><label for='attrs-57dabdcc-b50a-471e-b36a-abda7cf8891b' title='Show/Hide attributes'><svg class='icon xr-icon-file-text2'><use xlink:href='#icon-file-text2'></use></svg></label><input id='data-a3d69523-be57-4199-8cbc-43b90166b6ea' class='xr-var-data-in' type='checkbox'><label for='data-a3d69523-be57-4199-8cbc-43b90166b6ea' title='Show/Hide data repr'><svg class='icon xr-icon-database'><use xlink:href='#icon-database'></use></svg></label><div class='xr-var-attrs'><dl class='xr-attrs'><dt><span>long_name :</span></dt><dd>Mean sea level pressure</dd><dt><span>short_name :</span></dt><dd>msl</dd><dt><span>standard_name :</span></dt><dd>air_pressure_at_mean_sea_level</dd><dt><span>units :</span></dt><dd>Pa</dd></dl></div><div class='xr-var-data'><pre>array([[[102897.336, 102897.336, ..., 102897.336, 102897.336],\n",
       "        [102887.266, 102887.58 , ..., 102887.11 , 102887.266],\n",
       "        ...,\n",
       "        [ 99359.57 ,  99359.89 , ...,  99358.625,  99359.1  ],\n",
       "        [ 99314.25 ,  99314.25 , ...,  99314.25 ,  99314.25 ]],\n",
       "\n",
       "       [[103089.96 , 103089.96 , ..., 103089.96 , 103089.96 ],\n",
       "        [103070.45 , 103070.766, ..., 103070.3  , 103070.45 ],\n",
       "        ...,\n",
       "        [ 99617.195,  99617.82 , ...,  99616.72 ,  99617.04 ],\n",
       "        [ 99572.19 ,  99572.19 , ...,  99572.19 ,  99572.19 ]],\n",
       "\n",
       "       ...,\n",
       "\n",
       "       [[102276.12 , 102276.12 , ..., 102276.12 , 102276.12 ],\n",
       "        [102263.42 , 102263.57 , ..., 102263.42 , 102263.42 ],\n",
       "        ...,\n",
       "        [100356.69 , 100356.69 , ..., 100356.39 , 100356.69 ],\n",
       "        [100317.12 , 100317.12 , ..., 100317.12 , 100317.12 ]],\n",
       "\n",
       "       [[102346.16 , 102346.16 , ..., 102346.16 , 102346.16 ],\n",
       "        [102330.18 , 102330.18 , ..., 102329.875, 102330.18 ],\n",
       "        ...,\n",
       "        [100529.625, 100529.625, ..., 100529.625, 100529.625],\n",
       "        [100517.67 , 100517.67 , ..., 100517.67 , 100517.67 ]]], dtype=float32)</pre></div></li><li class='xr-var-item'><div class='xr-var-name'><span>mean_surface_latent_heat_flux</span></div><div class='xr-var-dims'>(time, latitude, longitude)</div><div class='xr-var-dtype'>float32</div><div class='xr-var-preview xr-preview'>...</div><input id='attrs-9bc25d5a-03cf-4072-9b31-a28b0b67ade4' class='xr-var-attrs-in' type='checkbox' ><label for='attrs-9bc25d5a-03cf-4072-9b31-a28b0b67ade4' title='Show/Hide attributes'><svg class='icon xr-icon-file-text2'><use xlink:href='#icon-file-text2'></use></svg></label><input id='data-111823a4-5a4b-43db-8c1e-032ae8588be2' class='xr-var-data-in' type='checkbox'><label for='data-111823a4-5a4b-43db-8c1e-032ae8588be2' title='Show/Hide data repr'><svg class='icon xr-icon-database'><use xlink:href='#icon-database'></use></svg></label><div class='xr-var-attrs'><dl class='xr-attrs'><dt><span>long_name :</span></dt><dd>Mean surface latent heat flux</dd><dt><span>short_name :</span></dt><dd>mslhf</dd><dt><span>units :</span></dt><dd>W m**-2</dd></dl></div><div class='xr-var-data'><pre>[126665280 values with dtype=float32]</pre></div></li><li class='xr-var-item'><div class='xr-var-name'><span>mean_surface_net_long_wave_radiation_flux</span></div><div class='xr-var-dims'>(time, latitude, longitude)</div><div class='xr-var-dtype'>float32</div><div class='xr-var-preview xr-preview'>...</div><input id='attrs-f12282a9-ca6e-4588-9838-af868b6c4994' class='xr-var-attrs-in' type='checkbox' ><label for='attrs-f12282a9-ca6e-4588-9838-af868b6c4994' title='Show/Hide attributes'><svg class='icon xr-icon-file-text2'><use xlink:href='#icon-file-text2'></use></svg></label><input id='data-78434632-d790-47bb-9e90-e7b599cb0d8f' class='xr-var-data-in' type='checkbox'><label for='data-78434632-d790-47bb-9e90-e7b599cb0d8f' title='Show/Hide data repr'><svg class='icon xr-icon-database'><use xlink:href='#icon-database'></use></svg></label><div class='xr-var-attrs'><dl class='xr-attrs'><dt><span>long_name :</span></dt><dd>Mean surface net long-wave radiation flux</dd><dt><span>short_name :</span></dt><dd>msnlwrf</dd><dt><span>units :</span></dt><dd>W m**-2</dd></dl></div><div class='xr-var-data'><pre>[126665280 values with dtype=float32]</pre></div></li><li class='xr-var-item'><div class='xr-var-name'><span>mean_surface_net_short_wave_radiation_flux</span></div><div class='xr-var-dims'>(time, latitude, longitude)</div><div class='xr-var-dtype'>float32</div><div class='xr-var-preview xr-preview'>...</div><input id='attrs-93bd2927-091f-4e54-952a-1308ffb49db9' class='xr-var-attrs-in' type='checkbox' ><label for='attrs-93bd2927-091f-4e54-952a-1308ffb49db9' title='Show/Hide attributes'><svg class='icon xr-icon-file-text2'><use xlink:href='#icon-file-text2'></use></svg></label><input id='data-c140e5db-ac96-49d3-a6a4-d6ad0b78c445' class='xr-var-data-in' type='checkbox'><label for='data-c140e5db-ac96-49d3-a6a4-d6ad0b78c445' title='Show/Hide data repr'><svg class='icon xr-icon-database'><use xlink:href='#icon-database'></use></svg></label><div class='xr-var-attrs'><dl class='xr-attrs'><dt><span>long_name :</span></dt><dd>Mean surface net short-wave radiation flux</dd><dt><span>short_name :</span></dt><dd>msnswrf</dd><dt><span>units :</span></dt><dd>W m**-2</dd></dl></div><div class='xr-var-data'><pre>[126665280 values with dtype=float32]</pre></div></li><li class='xr-var-item'><div class='xr-var-name'><span>mean_surface_sensible_heat_flux</span></div><div class='xr-var-dims'>(time, latitude, longitude)</div><div class='xr-var-dtype'>float32</div><div class='xr-var-preview xr-preview'>...</div><input id='attrs-037976a3-3bc2-4e82-92e1-9c8b3ed8e847' class='xr-var-attrs-in' type='checkbox' ><label for='attrs-037976a3-3bc2-4e82-92e1-9c8b3ed8e847' title='Show/Hide attributes'><svg class='icon xr-icon-file-text2'><use xlink:href='#icon-file-text2'></use></svg></label><input id='data-97ac2397-40e5-4c69-a093-df5c6c839c6a' class='xr-var-data-in' type='checkbox'><label for='data-97ac2397-40e5-4c69-a093-df5c6c839c6a' title='Show/Hide data repr'><svg class='icon xr-icon-database'><use xlink:href='#icon-database'></use></svg></label><div class='xr-var-attrs'><dl class='xr-attrs'><dt><span>long_name :</span></dt><dd>Mean surface sensible heat flux</dd><dt><span>short_name :</span></dt><dd>msshf</dd><dt><span>units :</span></dt><dd>W m**-2</dd></dl></div><div class='xr-var-data'><pre>[126665280 values with dtype=float32]</pre></div></li><li class='xr-var-item'><div class='xr-var-name'><span>mean_top_downward_short_wave_radiation_flux</span></div><div class='xr-var-dims'>(time, latitude, longitude)</div><div class='xr-var-dtype'>float32</div><div class='xr-var-preview xr-preview'>...</div><input id='attrs-deb751a5-faf5-43f6-9b9c-44f3742f34a7' class='xr-var-attrs-in' type='checkbox' ><label for='attrs-deb751a5-faf5-43f6-9b9c-44f3742f34a7' title='Show/Hide attributes'><svg class='icon xr-icon-file-text2'><use xlink:href='#icon-file-text2'></use></svg></label><input id='data-89204049-7f10-45a0-8c0c-2b0e1dae38f8' class='xr-var-data-in' type='checkbox'><label for='data-89204049-7f10-45a0-8c0c-2b0e1dae38f8' title='Show/Hide data repr'><svg class='icon xr-icon-database'><use xlink:href='#icon-database'></use></svg></label><div class='xr-var-attrs'><dl class='xr-attrs'><dt><span>long_name :</span></dt><dd>Mean top downward short-wave radiation flux</dd><dt><span>short_name :</span></dt><dd>mtdwswrf</dd><dt><span>units :</span></dt><dd>W m**-2</dd></dl></div><div class='xr-var-data'><pre>[126665280 values with dtype=float32]</pre></div></li><li class='xr-var-item'><div class='xr-var-name'><span>mean_top_net_long_wave_radiation_flux</span></div><div class='xr-var-dims'>(time, latitude, longitude)</div><div class='xr-var-dtype'>float32</div><div class='xr-var-preview xr-preview'>...</div><input id='attrs-32cdfee3-8266-4cba-85a0-699f72a8832c' class='xr-var-attrs-in' type='checkbox' ><label for='attrs-32cdfee3-8266-4cba-85a0-699f72a8832c' title='Show/Hide attributes'><svg class='icon xr-icon-file-text2'><use xlink:href='#icon-file-text2'></use></svg></label><input id='data-689b71c6-95b4-41e6-99d8-313a1f6bf691' class='xr-var-data-in' type='checkbox'><label for='data-689b71c6-95b4-41e6-99d8-313a1f6bf691' title='Show/Hide data repr'><svg class='icon xr-icon-database'><use xlink:href='#icon-database'></use></svg></label><div class='xr-var-attrs'><dl class='xr-attrs'><dt><span>long_name :</span></dt><dd>Mean top net long-wave radiation flux</dd><dt><span>short_name :</span></dt><dd>mtnlwrf</dd><dt><span>units :</span></dt><dd>W m**-2</dd></dl></div><div class='xr-var-data'><pre>[126665280 values with dtype=float32]</pre></div></li><li class='xr-var-item'><div class='xr-var-name'><span>mean_top_net_short_wave_radiation_flux</span></div><div class='xr-var-dims'>(time, latitude, longitude)</div><div class='xr-var-dtype'>float32</div><div class='xr-var-preview xr-preview'>...</div><input id='attrs-48f9de02-05a8-4b5c-9207-fc045384ecb7' class='xr-var-attrs-in' type='checkbox' ><label for='attrs-48f9de02-05a8-4b5c-9207-fc045384ecb7' title='Show/Hide attributes'><svg class='icon xr-icon-file-text2'><use xlink:href='#icon-file-text2'></use></svg></label><input id='data-236192c9-ccdd-4c99-bc63-48ecf66a491d' class='xr-var-data-in' type='checkbox'><label for='data-236192c9-ccdd-4c99-bc63-48ecf66a491d' title='Show/Hide data repr'><svg class='icon xr-icon-database'><use xlink:href='#icon-database'></use></svg></label><div class='xr-var-attrs'><dl class='xr-attrs'><dt><span>long_name :</span></dt><dd>Mean top net short-wave radiation flux</dd><dt><span>short_name :</span></dt><dd>mtnswrf</dd><dt><span>units :</span></dt><dd>W m**-2</dd></dl></div><div class='xr-var-data'><pre>[126665280 values with dtype=float32]</pre></div></li><li class='xr-var-item'><div class='xr-var-name'><span>mean_vertically_integrated_moisture_divergence</span></div><div class='xr-var-dims'>(time, latitude, longitude)</div><div class='xr-var-dtype'>float32</div><div class='xr-var-preview xr-preview'>...</div><input id='attrs-65430361-e604-406b-b1c2-1edf3ee758de' class='xr-var-attrs-in' type='checkbox' ><label for='attrs-65430361-e604-406b-b1c2-1edf3ee758de' title='Show/Hide attributes'><svg class='icon xr-icon-file-text2'><use xlink:href='#icon-file-text2'></use></svg></label><input id='data-cad37884-cc68-41e0-baff-3b4e6b9787ff' class='xr-var-data-in' type='checkbox'><label for='data-cad37884-cc68-41e0-baff-3b4e6b9787ff' title='Show/Hide data repr'><svg class='icon xr-icon-database'><use xlink:href='#icon-database'></use></svg></label><div class='xr-var-attrs'><dl class='xr-attrs'><dt><span>long_name :</span></dt><dd>Mean vertically integrated moisture divergence</dd><dt><span>short_name :</span></dt><dd>mvimd</dd><dt><span>units :</span></dt><dd>kg m**-2 s**-1</dd></dl></div><div class='xr-var-data'><pre>[126665280 values with dtype=float32]</pre></div></li><li class='xr-var-item'><div class='xr-var-name'><span>potential_vorticity</span></div><div class='xr-var-dims'>(time, level, latitude, longitude)</div><div class='xr-var-dtype'>float32</div><div class='xr-var-preview xr-preview'>...</div><input id='attrs-0df38038-f25f-41af-8b3b-8710298ce644' class='xr-var-attrs-in' type='checkbox' ><label for='attrs-0df38038-f25f-41af-8b3b-8710298ce644' title='Show/Hide attributes'><svg class='icon xr-icon-file-text2'><use xlink:href='#icon-file-text2'></use></svg></label><input id='data-ed2eb441-9631-4e54-abbe-b626113eb0e3' class='xr-var-data-in' type='checkbox'><label for='data-ed2eb441-9631-4e54-abbe-b626113eb0e3' title='Show/Hide data repr'><svg class='icon xr-icon-database'><use xlink:href='#icon-database'></use></svg></label><div class='xr-var-attrs'><dl class='xr-attrs'><dt><span>long_name :</span></dt><dd>Potential vorticity</dd><dt><span>short_name :</span></dt><dd>pv</dd><dt><span>units :</span></dt><dd>K m**2 kg**-1 s**-1</dd></dl></div><div class='xr-var-data'><pre>[1646648640 values with dtype=float32]</pre></div></li><li class='xr-var-item'><div class='xr-var-name'><span>relative_humidity</span></div><div class='xr-var-dims'>(time, level, latitude, longitude)</div><div class='xr-var-dtype'>float32</div><div class='xr-var-preview xr-preview'>...</div><input id='attrs-c8098d0c-97d5-4e35-bb0c-43ccb5f93e4c' class='xr-var-attrs-in' type='checkbox' disabled><label for='attrs-c8098d0c-97d5-4e35-bb0c-43ccb5f93e4c' title='Show/Hide attributes'><svg class='icon xr-icon-file-text2'><use xlink:href='#icon-file-text2'></use></svg></label><input id='data-80c2e050-64b0-48e8-8f71-98bb9f9a98e9' class='xr-var-data-in' type='checkbox'><label for='data-80c2e050-64b0-48e8-8f71-98bb9f9a98e9' title='Show/Hide data repr'><svg class='icon xr-icon-database'><use xlink:href='#icon-database'></use></svg></label><div class='xr-var-attrs'><dl class='xr-attrs'></dl></div><div class='xr-var-data'><pre>[1646648640 values with dtype=float32]</pre></div></li><li class='xr-var-item'><div class='xr-var-name'><span>sea_ice_cover</span></div><div class='xr-var-dims'>(time, latitude, longitude)</div><div class='xr-var-dtype'>float32</div><div class='xr-var-preview xr-preview'>...</div><input id='attrs-6c99e90c-1806-4724-842a-4969244f301e' class='xr-var-attrs-in' type='checkbox' ><label for='attrs-6c99e90c-1806-4724-842a-4969244f301e' title='Show/Hide attributes'><svg class='icon xr-icon-file-text2'><use xlink:href='#icon-file-text2'></use></svg></label><input id='data-a2b0b5a4-2ee3-4f0d-814c-500d694c6fe5' class='xr-var-data-in' type='checkbox'><label for='data-a2b0b5a4-2ee3-4f0d-814c-500d694c6fe5' title='Show/Hide data repr'><svg class='icon xr-icon-database'><use xlink:href='#icon-database'></use></svg></label><div class='xr-var-attrs'><dl class='xr-attrs'><dt><span>long_name :</span></dt><dd>Sea ice area fraction</dd><dt><span>short_name :</span></dt><dd>siconc</dd><dt><span>standard_name :</span></dt><dd>sea_ice_area_fraction</dd><dt><span>units :</span></dt><dd>(0 - 1)</dd></dl></div><div class='xr-var-data'><pre>[126665280 values with dtype=float32]</pre></div></li><li class='xr-var-item'><div class='xr-var-name'><span>sea_surface_temperature</span></div><div class='xr-var-dims'>(time, latitude, longitude)</div><div class='xr-var-dtype'>float32</div><div class='xr-var-preview xr-preview'>...</div><input id='attrs-ba469ae5-3f11-41cf-8c8e-022133531363' class='xr-var-attrs-in' type='checkbox' ><label for='attrs-ba469ae5-3f11-41cf-8c8e-022133531363' title='Show/Hide attributes'><svg class='icon xr-icon-file-text2'><use xlink:href='#icon-file-text2'></use></svg></label><input id='data-3d946afb-a947-4ca0-ab79-b151f01d56f1' class='xr-var-data-in' type='checkbox'><label for='data-3d946afb-a947-4ca0-ab79-b151f01d56f1' title='Show/Hide data repr'><svg class='icon xr-icon-database'><use xlink:href='#icon-database'></use></svg></label><div class='xr-var-attrs'><dl class='xr-attrs'><dt><span>long_name :</span></dt><dd>Sea surface temperature</dd><dt><span>short_name :</span></dt><dd>sst</dd><dt><span>units :</span></dt><dd>K</dd></dl></div><div class='xr-var-data'><pre>[126665280 values with dtype=float32]</pre></div></li><li class='xr-var-item'><div class='xr-var-name'><span>slope_of_sub_gridscale_orography</span></div><div class='xr-var-dims'>(latitude, longitude)</div><div class='xr-var-dtype'>float32</div><div class='xr-var-preview xr-preview'>...</div><input id='attrs-598eb2bf-0224-431e-a4c5-9d54278619cc' class='xr-var-attrs-in' type='checkbox' ><label for='attrs-598eb2bf-0224-431e-a4c5-9d54278619cc' title='Show/Hide attributes'><svg class='icon xr-icon-file-text2'><use xlink:href='#icon-file-text2'></use></svg></label><input id='data-a4157772-cf79-46c6-9719-9b528935b067' class='xr-var-data-in' type='checkbox'><label for='data-a4157772-cf79-46c6-9719-9b528935b067' title='Show/Hide data repr'><svg class='icon xr-icon-database'><use xlink:href='#icon-database'></use></svg></label><div class='xr-var-attrs'><dl class='xr-attrs'><dt><span>long_name :</span></dt><dd>Slope of sub-gridscale orography</dd><dt><span>short_name :</span></dt><dd>slor</dd><dt><span>units :</span></dt><dd>~</dd></dl></div><div class='xr-var-data'><pre>[1038240 values with dtype=float32]</pre></div></li><li class='xr-var-item'><div class='xr-var-name'><span>snow_depth</span></div><div class='xr-var-dims'>(time, latitude, longitude)</div><div class='xr-var-dtype'>float32</div><div class='xr-var-preview xr-preview'>...</div><input id='attrs-4680ec0f-1373-4479-891f-643ca925787a' class='xr-var-attrs-in' type='checkbox' ><label for='attrs-4680ec0f-1373-4479-891f-643ca925787a' title='Show/Hide attributes'><svg class='icon xr-icon-file-text2'><use xlink:href='#icon-file-text2'></use></svg></label><input id='data-96991748-4e42-4a38-94e6-0197c38ccb9b' class='xr-var-data-in' type='checkbox'><label for='data-96991748-4e42-4a38-94e6-0197c38ccb9b' title='Show/Hide data repr'><svg class='icon xr-icon-database'><use xlink:href='#icon-database'></use></svg></label><div class='xr-var-attrs'><dl class='xr-attrs'><dt><span>long_name :</span></dt><dd>Snow depth</dd><dt><span>short_name :</span></dt><dd>sd</dd><dt><span>standard_name :</span></dt><dd>lwe_thickness_of_surface_snow_amount</dd><dt><span>units :</span></dt><dd>m of water equivalent</dd></dl></div><div class='xr-var-data'><pre>[126665280 values with dtype=float32]</pre></div></li><li class='xr-var-item'><div class='xr-var-name'><span>soil_type</span></div><div class='xr-var-dims'>(latitude, longitude)</div><div class='xr-var-dtype'>float32</div><div class='xr-var-preview xr-preview'>0.0 0.0 0.0 0.0 ... 1.0 1.0 1.0 1.0</div><input id='attrs-6a656a7d-658a-4c0a-8724-e65471e7105f' class='xr-var-attrs-in' type='checkbox' ><label for='attrs-6a656a7d-658a-4c0a-8724-e65471e7105f' title='Show/Hide attributes'><svg class='icon xr-icon-file-text2'><use xlink:href='#icon-file-text2'></use></svg></label><input id='data-db6b7839-5d2a-4db0-9652-9e6f7cdf78c4' class='xr-var-data-in' type='checkbox'><label for='data-db6b7839-5d2a-4db0-9652-9e6f7cdf78c4' title='Show/Hide data repr'><svg class='icon xr-icon-database'><use xlink:href='#icon-database'></use></svg></label><div class='xr-var-attrs'><dl class='xr-attrs'><dt><span>long_name :</span></dt><dd>Soil type</dd><dt><span>short_name :</span></dt><dd>slt</dd><dt><span>units :</span></dt><dd>~</dd></dl></div><div class='xr-var-data'><pre>array([[0.      , 0.      , 0.      , ..., 0.      , 0.      , 0.      ],\n",
       "       [0.      , 0.      , 0.      , ..., 0.      , 0.      , 0.      ],\n",
       "       [0.      , 0.      , 0.      , ..., 0.      , 0.      , 0.      ],\n",
       "       ...,\n",
       "       [1.000015, 1.000015, 1.000015, ..., 1.000015, 1.000015, 1.000015],\n",
       "       [1.000015, 1.000015, 1.000015, ..., 1.000015, 1.000015, 1.000015],\n",
       "       [1.000015, 1.000015, 1.000015, ..., 1.000015, 1.000015, 1.000015]],\n",
       "      dtype=float32)</pre></div></li><li class='xr-var-item'><div class='xr-var-name'><span>specific_humidity</span></div><div class='xr-var-dims'>(time, level, latitude, longitude)</div><div class='xr-var-dtype'>float32</div><div class='xr-var-preview xr-preview'>3.094e-06 3.094e-06 ... 0.0002993</div><input id='attrs-1aba923b-c0ed-425f-a487-81648ed3c019' class='xr-var-attrs-in' type='checkbox' ><label for='attrs-1aba923b-c0ed-425f-a487-81648ed3c019' title='Show/Hide attributes'><svg class='icon xr-icon-file-text2'><use xlink:href='#icon-file-text2'></use></svg></label><input id='data-b53450da-968c-423c-90e3-7cd979f211bd' class='xr-var-data-in' type='checkbox'><label for='data-b53450da-968c-423c-90e3-7cd979f211bd' title='Show/Hide data repr'><svg class='icon xr-icon-database'><use xlink:href='#icon-database'></use></svg></label><div class='xr-var-attrs'><dl class='xr-attrs'><dt><span>long_name :</span></dt><dd>Specific humidity</dd><dt><span>short_name :</span></dt><dd>q</dd><dt><span>standard_name :</span></dt><dd>specific_humidity</dd><dt><span>units :</span></dt><dd>kg kg**-1</dd></dl></div><div class='xr-var-data'><pre>array([[[[3.093607e-06, ..., 3.093607e-06],\n",
       "         ...,\n",
       "         [2.896372e-06, ..., 2.896372e-06]],\n",
       "\n",
       "        ...,\n",
       "\n",
       "        [[4.059738e-04, ..., 4.059738e-04],\n",
       "         ...,\n",
       "         [7.199394e-04, ..., 7.199394e-04]]],\n",
       "\n",
       "\n",
       "       ...,\n",
       "\n",
       "\n",
       "       [[[3.154097e-06, ..., 3.154097e-06],\n",
       "         ...,\n",
       "         [2.910728e-06, ..., 2.910728e-06]],\n",
       "\n",
       "        ...,\n",
       "\n",
       "        [[2.892781e-04, ..., 2.892781e-04],\n",
       "         ...,\n",
       "         [2.992908e-04, ..., 2.992908e-04]]]], dtype=float32)</pre></div></li><li class='xr-var-item'><div class='xr-var-name'><span>standard_deviation_of_filtered_subgrid_orography</span></div><div class='xr-var-dims'>(latitude, longitude)</div><div class='xr-var-dtype'>float32</div><div class='xr-var-preview xr-preview'>...</div><input id='attrs-41f1b00b-45d6-4dac-8651-975f2ef9f559' class='xr-var-attrs-in' type='checkbox' ><label for='attrs-41f1b00b-45d6-4dac-8651-975f2ef9f559' title='Show/Hide attributes'><svg class='icon xr-icon-file-text2'><use xlink:href='#icon-file-text2'></use></svg></label><input id='data-9f12e013-2eec-4a9d-8394-6dd90ca795e2' class='xr-var-data-in' type='checkbox'><label for='data-9f12e013-2eec-4a9d-8394-6dd90ca795e2' title='Show/Hide data repr'><svg class='icon xr-icon-database'><use xlink:href='#icon-database'></use></svg></label><div class='xr-var-attrs'><dl class='xr-attrs'><dt><span>long_name :</span></dt><dd>Standard deviation of filtered subgrid orography</dd><dt><span>short_name :</span></dt><dd>sdfor</dd><dt><span>units :</span></dt><dd>m</dd></dl></div><div class='xr-var-data'><pre>[1038240 values with dtype=float32]</pre></div></li><li class='xr-var-item'><div class='xr-var-name'><span>standard_deviation_of_orography</span></div><div class='xr-var-dims'>(latitude, longitude)</div><div class='xr-var-dtype'>float32</div><div class='xr-var-preview xr-preview'>...</div><input id='attrs-5c44e7cc-4e59-4354-932c-e47a2ee02d55' class='xr-var-attrs-in' type='checkbox' ><label for='attrs-5c44e7cc-4e59-4354-932c-e47a2ee02d55' title='Show/Hide attributes'><svg class='icon xr-icon-file-text2'><use xlink:href='#icon-file-text2'></use></svg></label><input id='data-946eca0a-11f1-4dd2-a4ad-e816f9583ed1' class='xr-var-data-in' type='checkbox'><label for='data-946eca0a-11f1-4dd2-a4ad-e816f9583ed1' title='Show/Hide data repr'><svg class='icon xr-icon-database'><use xlink:href='#icon-database'></use></svg></label><div class='xr-var-attrs'><dl class='xr-attrs'><dt><span>long_name :</span></dt><dd>Standard deviation of orography</dd><dt><span>short_name :</span></dt><dd>sdor</dd><dt><span>units :</span></dt><dd>m</dd></dl></div><div class='xr-var-data'><pre>[1038240 values with dtype=float32]</pre></div></li><li class='xr-var-item'><div class='xr-var-name'><span>surface_pressure</span></div><div class='xr-var-dims'>(time, latitude, longitude)</div><div class='xr-var-dtype'>float32</div><div class='xr-var-preview xr-preview'>...</div><input id='attrs-4c59b69c-3e5d-41b0-982f-98451747da39' class='xr-var-attrs-in' type='checkbox' ><label for='attrs-4c59b69c-3e5d-41b0-982f-98451747da39' title='Show/Hide attributes'><svg class='icon xr-icon-file-text2'><use xlink:href='#icon-file-text2'></use></svg></label><input id='data-48682bbb-f5c5-4d38-97f7-0eafdda51ffe' class='xr-var-data-in' type='checkbox'><label for='data-48682bbb-f5c5-4d38-97f7-0eafdda51ffe' title='Show/Hide data repr'><svg class='icon xr-icon-database'><use xlink:href='#icon-database'></use></svg></label><div class='xr-var-attrs'><dl class='xr-attrs'><dt><span>long_name :</span></dt><dd>Surface pressure</dd><dt><span>short_name :</span></dt><dd>sp</dd><dt><span>standard_name :</span></dt><dd>surface_air_pressure</dd><dt><span>units :</span></dt><dd>Pa</dd></dl></div><div class='xr-var-data'><pre>[126665280 values with dtype=float32]</pre></div></li><li class='xr-var-item'><div class='xr-var-name'><span>temperature</span></div><div class='xr-var-dims'>(time, level, latitude, longitude)</div><div class='xr-var-dtype'>float32</div><div class='xr-var-preview xr-preview'>194.4 194.4 194.4 ... 261.4 261.4</div><input id='attrs-88b44b89-ea98-4d46-8f32-4c311a6b1c26' class='xr-var-attrs-in' type='checkbox' ><label for='attrs-88b44b89-ea98-4d46-8f32-4c311a6b1c26' title='Show/Hide attributes'><svg class='icon xr-icon-file-text2'><use xlink:href='#icon-file-text2'></use></svg></label><input id='data-9b56d1bd-41c8-4502-94ec-3be6801eb3ee' class='xr-var-data-in' type='checkbox'><label for='data-9b56d1bd-41c8-4502-94ec-3be6801eb3ee' title='Show/Hide data repr'><svg class='icon xr-icon-database'><use xlink:href='#icon-database'></use></svg></label><div class='xr-var-attrs'><dl class='xr-attrs'><dt><span>long_name :</span></dt><dd>Temperature</dd><dt><span>short_name :</span></dt><dd>t</dd><dt><span>standard_name :</span></dt><dd>air_temperature</dd><dt><span>units :</span></dt><dd>K</dd></dl></div><div class='xr-var-data'><pre>array([[[[194.43652, ..., 194.43652],\n",
       "         ...,\n",
       "         [238.35762, ..., 238.35762]],\n",
       "\n",
       "        ...,\n",
       "\n",
       "        [[248.08792, ..., 248.08792],\n",
       "         ...,\n",
       "         [268.7137 , ..., 268.7137 ]]],\n",
       "\n",
       "\n",
       "       ...,\n",
       "\n",
       "\n",
       "       [[[191.0398 , ..., 191.0398 ],\n",
       "         ...,\n",
       "         [234.51584, ..., 234.51584]],\n",
       "\n",
       "        ...,\n",
       "\n",
       "        [[246.41696, ..., 246.41696],\n",
       "         ...,\n",
       "         [261.36493, ..., 261.36493]]]], dtype=float32)</pre></div></li><li class='xr-var-item'><div class='xr-var-name'><span>total_cloud_cover</span></div><div class='xr-var-dims'>(time, latitude, longitude)</div><div class='xr-var-dtype'>float32</div><div class='xr-var-preview xr-preview'>...</div><input id='attrs-660c3796-05e8-4b0a-bfe0-0313f255f4eb' class='xr-var-attrs-in' type='checkbox' ><label for='attrs-660c3796-05e8-4b0a-bfe0-0313f255f4eb' title='Show/Hide attributes'><svg class='icon xr-icon-file-text2'><use xlink:href='#icon-file-text2'></use></svg></label><input id='data-319333b3-2b18-4aa2-82d5-83661194a273' class='xr-var-data-in' type='checkbox'><label for='data-319333b3-2b18-4aa2-82d5-83661194a273' title='Show/Hide data repr'><svg class='icon xr-icon-database'><use xlink:href='#icon-database'></use></svg></label><div class='xr-var-attrs'><dl class='xr-attrs'><dt><span>long_name :</span></dt><dd>Total cloud cover</dd><dt><span>short_name :</span></dt><dd>tcc</dd><dt><span>standard_name :</span></dt><dd>cloud_area_fraction</dd><dt><span>units :</span></dt><dd>(0 - 1)</dd></dl></div><div class='xr-var-data'><pre>[126665280 values with dtype=float32]</pre></div></li><li class='xr-var-item'><div class='xr-var-name'><span>total_column_vapor</span></div><div class='xr-var-dims'>(time, latitude, longitude)</div><div class='xr-var-dtype'>float32</div><div class='xr-var-preview xr-preview'>...</div><input id='attrs-816d1f08-7dcc-478c-ba17-0ad11e15fddc' class='xr-var-attrs-in' type='checkbox' disabled><label for='attrs-816d1f08-7dcc-478c-ba17-0ad11e15fddc' title='Show/Hide attributes'><svg class='icon xr-icon-file-text2'><use xlink:href='#icon-file-text2'></use></svg></label><input id='data-ffe8296d-007f-42c3-b28a-1e9a0987e877' class='xr-var-data-in' type='checkbox'><label for='data-ffe8296d-007f-42c3-b28a-1e9a0987e877' title='Show/Hide data repr'><svg class='icon xr-icon-database'><use xlink:href='#icon-database'></use></svg></label><div class='xr-var-attrs'><dl class='xr-attrs'></dl></div><div class='xr-var-data'><pre>[126665280 values with dtype=float32]</pre></div></li><li class='xr-var-item'><div class='xr-var-name'><span>total_column_water</span></div><div class='xr-var-dims'>(time, latitude, longitude)</div><div class='xr-var-dtype'>float32</div><div class='xr-var-preview xr-preview'>...</div><input id='attrs-23f82a7b-7e86-4ae6-927e-f8cff0bb9f1b' class='xr-var-attrs-in' type='checkbox' ><label for='attrs-23f82a7b-7e86-4ae6-927e-f8cff0bb9f1b' title='Show/Hide attributes'><svg class='icon xr-icon-file-text2'><use xlink:href='#icon-file-text2'></use></svg></label><input id='data-aef6e80b-f7f7-41ef-b1a9-1b723aaf7158' class='xr-var-data-in' type='checkbox'><label for='data-aef6e80b-f7f7-41ef-b1a9-1b723aaf7158' title='Show/Hide data repr'><svg class='icon xr-icon-database'><use xlink:href='#icon-database'></use></svg></label><div class='xr-var-attrs'><dl class='xr-attrs'><dt><span>long_name :</span></dt><dd>Total column water</dd><dt><span>short_name :</span></dt><dd>tcw</dd><dt><span>units :</span></dt><dd>kg m**-2</dd></dl></div><div class='xr-var-data'><pre>[126665280 values with dtype=float32]</pre></div></li><li class='xr-var-item'><div class='xr-var-name'><span>total_column_water_vapour</span></div><div class='xr-var-dims'>(time, latitude, longitude)</div><div class='xr-var-dtype'>float32</div><div class='xr-var-preview xr-preview'>...</div><input id='attrs-a936c71d-eece-494b-8e42-5d0c1dfb47e0' class='xr-var-attrs-in' type='checkbox' ><label for='attrs-a936c71d-eece-494b-8e42-5d0c1dfb47e0' title='Show/Hide attributes'><svg class='icon xr-icon-file-text2'><use xlink:href='#icon-file-text2'></use></svg></label><input id='data-75529b7e-1ed9-4a29-8c49-2a0207edd067' class='xr-var-data-in' type='checkbox'><label for='data-75529b7e-1ed9-4a29-8c49-2a0207edd067' title='Show/Hide data repr'><svg class='icon xr-icon-database'><use xlink:href='#icon-database'></use></svg></label><div class='xr-var-attrs'><dl class='xr-attrs'><dt><span>long_name :</span></dt><dd>Total column vertically-integrated water vapour</dd><dt><span>short_name :</span></dt><dd>tcwv</dd><dt><span>standard_name :</span></dt><dd>lwe_thickness_of_atmosphere_mass_content_of_water_vapor</dd><dt><span>units :</span></dt><dd>kg m**-2</dd></dl></div><div class='xr-var-data'><pre>[126665280 values with dtype=float32]</pre></div></li><li class='xr-var-item'><div class='xr-var-name'><span>total_precipitation_12hr</span></div><div class='xr-var-dims'>(time, latitude, longitude)</div><div class='xr-var-dtype'>float32</div><div class='xr-var-preview xr-preview'>...</div><input id='attrs-395700c7-d5de-4c62-90be-48680b503221' class='xr-var-attrs-in' type='checkbox' ><label for='attrs-395700c7-d5de-4c62-90be-48680b503221' title='Show/Hide attributes'><svg class='icon xr-icon-file-text2'><use xlink:href='#icon-file-text2'></use></svg></label><input id='data-5f9cf7ab-3ca9-43a5-b524-67326c2b846a' class='xr-var-data-in' type='checkbox'><label for='data-5f9cf7ab-3ca9-43a5-b524-67326c2b846a' title='Show/Hide data repr'><svg class='icon xr-icon-database'><use xlink:href='#icon-database'></use></svg></label><div class='xr-var-attrs'><dl class='xr-attrs'><dt><span>long_name :</span></dt><dd>Total precipitation</dd><dt><span>short_name :</span></dt><dd>tp</dd><dt><span>units :</span></dt><dd>m</dd></dl></div><div class='xr-var-data'><pre>[126665280 values with dtype=float32]</pre></div></li><li class='xr-var-item'><div class='xr-var-name'><span>total_precipitation_24hr</span></div><div class='xr-var-dims'>(time, latitude, longitude)</div><div class='xr-var-dtype'>float32</div><div class='xr-var-preview xr-preview'>...</div><input id='attrs-9a055ec9-d621-49c4-8baf-8d941935f971' class='xr-var-attrs-in' type='checkbox' ><label for='attrs-9a055ec9-d621-49c4-8baf-8d941935f971' title='Show/Hide attributes'><svg class='icon xr-icon-file-text2'><use xlink:href='#icon-file-text2'></use></svg></label><input id='data-f8a4efc3-d145-4ef7-874f-7178b3a4826a' class='xr-var-data-in' type='checkbox'><label for='data-f8a4efc3-d145-4ef7-874f-7178b3a4826a' title='Show/Hide data repr'><svg class='icon xr-icon-database'><use xlink:href='#icon-database'></use></svg></label><div class='xr-var-attrs'><dl class='xr-attrs'><dt><span>long_name :</span></dt><dd>Total precipitation</dd><dt><span>short_name :</span></dt><dd>tp</dd><dt><span>units :</span></dt><dd>m</dd></dl></div><div class='xr-var-data'><pre>[126665280 values with dtype=float32]</pre></div></li><li class='xr-var-item'><div class='xr-var-name'><span>total_precipitation_6hr</span></div><div class='xr-var-dims'>(time, latitude, longitude)</div><div class='xr-var-dtype'>float32</div><div class='xr-var-preview xr-preview'>...</div><input id='attrs-81166dc5-7c66-4cda-a8ae-9757931f465c' class='xr-var-attrs-in' type='checkbox' ><label for='attrs-81166dc5-7c66-4cda-a8ae-9757931f465c' title='Show/Hide attributes'><svg class='icon xr-icon-file-text2'><use xlink:href='#icon-file-text2'></use></svg></label><input id='data-c1f7aba6-7814-4787-a846-c53a9e40d94f' class='xr-var-data-in' type='checkbox'><label for='data-c1f7aba6-7814-4787-a846-c53a9e40d94f' title='Show/Hide data repr'><svg class='icon xr-icon-database'><use xlink:href='#icon-database'></use></svg></label><div class='xr-var-attrs'><dl class='xr-attrs'><dt><span>long_name :</span></dt><dd>Total precipitation</dd><dt><span>short_name :</span></dt><dd>tp</dd><dt><span>units :</span></dt><dd>m</dd></dl></div><div class='xr-var-data'><pre>[126665280 values with dtype=float32]</pre></div></li><li class='xr-var-item'><div class='xr-var-name'><span>type_of_high_vegetation</span></div><div class='xr-var-dims'>(latitude, longitude)</div><div class='xr-var-dtype'>float32</div><div class='xr-var-preview xr-preview'>...</div><input id='attrs-bc932f67-52df-48df-a557-daa9b3ec5ad3' class='xr-var-attrs-in' type='checkbox' ><label for='attrs-bc932f67-52df-48df-a557-daa9b3ec5ad3' title='Show/Hide attributes'><svg class='icon xr-icon-file-text2'><use xlink:href='#icon-file-text2'></use></svg></label><input id='data-0347ccc1-b08d-4b07-881f-b2d445f8697d' class='xr-var-data-in' type='checkbox'><label for='data-0347ccc1-b08d-4b07-881f-b2d445f8697d' title='Show/Hide data repr'><svg class='icon xr-icon-database'><use xlink:href='#icon-database'></use></svg></label><div class='xr-var-attrs'><dl class='xr-attrs'><dt><span>long_name :</span></dt><dd>Type of high vegetation</dd><dt><span>short_name :</span></dt><dd>tvh</dd><dt><span>units :</span></dt><dd>~</dd></dl></div><div class='xr-var-data'><pre>[1038240 values with dtype=float32]</pre></div></li><li class='xr-var-item'><div class='xr-var-name'><span>type_of_low_vegetation</span></div><div class='xr-var-dims'>(latitude, longitude)</div><div class='xr-var-dtype'>float32</div><div class='xr-var-preview xr-preview'>...</div><input id='attrs-e6715850-6e1f-4e10-9301-d489c237bd0c' class='xr-var-attrs-in' type='checkbox' ><label for='attrs-e6715850-6e1f-4e10-9301-d489c237bd0c' title='Show/Hide attributes'><svg class='icon xr-icon-file-text2'><use xlink:href='#icon-file-text2'></use></svg></label><input id='data-4d17f70a-ac81-49ee-93e0-fce855ec0c1b' class='xr-var-data-in' type='checkbox'><label for='data-4d17f70a-ac81-49ee-93e0-fce855ec0c1b' title='Show/Hide data repr'><svg class='icon xr-icon-database'><use xlink:href='#icon-database'></use></svg></label><div class='xr-var-attrs'><dl class='xr-attrs'><dt><span>long_name :</span></dt><dd>Type of low vegetation</dd><dt><span>short_name :</span></dt><dd>tvl</dd><dt><span>units :</span></dt><dd>~</dd></dl></div><div class='xr-var-data'><pre>[1038240 values with dtype=float32]</pre></div></li><li class='xr-var-item'><div class='xr-var-name'><span>u_component_of_wind</span></div><div class='xr-var-dims'>(time, level, latitude, longitude)</div><div class='xr-var-dtype'>float32</div><div class='xr-var-preview xr-preview'>-0.0006628 -0.0006628 ... 0.0002547</div><input id='attrs-197ba123-0711-465a-b1ba-e9093398423e' class='xr-var-attrs-in' type='checkbox' ><label for='attrs-197ba123-0711-465a-b1ba-e9093398423e' title='Show/Hide attributes'><svg class='icon xr-icon-file-text2'><use xlink:href='#icon-file-text2'></use></svg></label><input id='data-fe43e69e-7ff1-46d6-805e-63747a1df89d' class='xr-var-data-in' type='checkbox'><label for='data-fe43e69e-7ff1-46d6-805e-63747a1df89d' title='Show/Hide data repr'><svg class='icon xr-icon-database'><use xlink:href='#icon-database'></use></svg></label><div class='xr-var-attrs'><dl class='xr-attrs'><dt><span>long_name :</span></dt><dd>U component of wind</dd><dt><span>short_name :</span></dt><dd>u</dd><dt><span>standard_name :</span></dt><dd>eastward_wind</dd><dt><span>units :</span></dt><dd>m s**-1</dd></dl></div><div class='xr-var-data'><pre>array([[[[-6.628036e-04, ..., -6.628036e-04],\n",
       "         ...,\n",
       "         [-6.628036e-04, ..., -6.628036e-04]],\n",
       "\n",
       "        ...,\n",
       "\n",
       "        [[ 7.843971e-05, ...,  7.843971e-05],\n",
       "         ...,\n",
       "         [ 7.843971e-05, ...,  7.843971e-05]]],\n",
       "\n",
       "\n",
       "       ...,\n",
       "\n",
       "\n",
       "       [[[-6.179810e-04, ..., -6.179810e-04],\n",
       "         ...,\n",
       "         [-6.179810e-04, ..., -6.179810e-04]],\n",
       "\n",
       "        ...,\n",
       "\n",
       "        [[ 2.547111e-04, ...,  2.547111e-04],\n",
       "         ...,\n",
       "         [ 2.547111e-04, ...,  2.547111e-04]]]], dtype=float32)</pre></div></li><li class='xr-var-item'><div class='xr-var-name'><span>v_component_of_wind</span></div><div class='xr-var-dims'>(time, level, latitude, longitude)</div><div class='xr-var-dtype'>float32</div><div class='xr-var-preview xr-preview'>0.0003135 0.0003135 ... -8.965e-05</div><input id='attrs-f39c7a47-d3fb-4e3c-b5c4-69003ac3f89e' class='xr-var-attrs-in' type='checkbox' ><label for='attrs-f39c7a47-d3fb-4e3c-b5c4-69003ac3f89e' title='Show/Hide attributes'><svg class='icon xr-icon-file-text2'><use xlink:href='#icon-file-text2'></use></svg></label><input id='data-3c6028e3-2941-4dbf-b721-5b095ac50942' class='xr-var-data-in' type='checkbox'><label for='data-3c6028e3-2941-4dbf-b721-5b095ac50942' title='Show/Hide data repr'><svg class='icon xr-icon-database'><use xlink:href='#icon-database'></use></svg></label><div class='xr-var-attrs'><dl class='xr-attrs'><dt><span>long_name :</span></dt><dd>V component of wind</dd><dt><span>short_name :</span></dt><dd>v</dd><dt><span>standard_name :</span></dt><dd>northward_wind</dd><dt><span>units :</span></dt><dd>m s**-1</dd></dl></div><div class='xr-var-data'><pre>array([[[[ 3.135204e-04, ...,  3.135204e-04],\n",
       "         ...,\n",
       "         [ 3.135204e-04, ...,  3.135204e-04]],\n",
       "\n",
       "        ...,\n",
       "\n",
       "        [[ 7.291138e-04, ...,  7.291138e-04],\n",
       "         ...,\n",
       "         [ 7.291138e-04, ...,  7.291138e-04]]],\n",
       "\n",
       "\n",
       "       ...,\n",
       "\n",
       "\n",
       "       [[[ 7.843971e-05, ...,  7.843971e-05],\n",
       "         ...,\n",
       "         [ 7.843971e-05, ...,  7.843971e-05]],\n",
       "\n",
       "        ...,\n",
       "\n",
       "        [[-8.964539e-05, ..., -8.964539e-05],\n",
       "         ...,\n",
       "         [-8.964539e-05, ..., -8.964539e-05]]]], dtype=float32)</pre></div></li><li class='xr-var-item'><div class='xr-var-name'><span>vertical_velocity</span></div><div class='xr-var-dims'>(time, level, latitude, longitude)</div><div class='xr-var-dtype'>float32</div><div class='xr-var-preview xr-preview'>...</div><input id='attrs-94bbebbb-97be-4643-a908-bc9d9d0e687f' class='xr-var-attrs-in' type='checkbox' ><label for='attrs-94bbebbb-97be-4643-a908-bc9d9d0e687f' title='Show/Hide attributes'><svg class='icon xr-icon-file-text2'><use xlink:href='#icon-file-text2'></use></svg></label><input id='data-ba6803f3-986a-4304-b96f-b75d613446a4' class='xr-var-data-in' type='checkbox'><label for='data-ba6803f3-986a-4304-b96f-b75d613446a4' title='Show/Hide data repr'><svg class='icon xr-icon-database'><use xlink:href='#icon-database'></use></svg></label><div class='xr-var-attrs'><dl class='xr-attrs'><dt><span>long_name :</span></dt><dd>Vertical velocity</dd><dt><span>short_name :</span></dt><dd>w</dd><dt><span>standard_name :</span></dt><dd>lagrangian_tendency_of_air_pressure</dd><dt><span>units :</span></dt><dd>Pa s**-1</dd></dl></div><div class='xr-var-data'><pre>[1646648640 values with dtype=float32]</pre></div></li><li class='xr-var-item'><div class='xr-var-name'><span>volumetric_soil_water_layer_1</span></div><div class='xr-var-dims'>(time, latitude, longitude)</div><div class='xr-var-dtype'>float32</div><div class='xr-var-preview xr-preview'>...</div><input id='attrs-ca592f55-f59d-4a1d-8be6-9473e764f286' class='xr-var-attrs-in' type='checkbox' ><label for='attrs-ca592f55-f59d-4a1d-8be6-9473e764f286' title='Show/Hide attributes'><svg class='icon xr-icon-file-text2'><use xlink:href='#icon-file-text2'></use></svg></label><input id='data-291ebda0-fb5b-4332-8f72-7bdb13988448' class='xr-var-data-in' type='checkbox'><label for='data-291ebda0-fb5b-4332-8f72-7bdb13988448' title='Show/Hide data repr'><svg class='icon xr-icon-database'><use xlink:href='#icon-database'></use></svg></label><div class='xr-var-attrs'><dl class='xr-attrs'><dt><span>long_name :</span></dt><dd>Volumetric soil water layer 1</dd><dt><span>short_name :</span></dt><dd>swvl1</dd><dt><span>units :</span></dt><dd>m**3 m**-3</dd></dl></div><div class='xr-var-data'><pre>[126665280 values with dtype=float32]</pre></div></li><li class='xr-var-item'><div class='xr-var-name'><span>volumetric_soil_water_layer_2</span></div><div class='xr-var-dims'>(time, latitude, longitude)</div><div class='xr-var-dtype'>float32</div><div class='xr-var-preview xr-preview'>...</div><input id='attrs-d9426a5b-78af-43c6-b72f-572998716f55' class='xr-var-attrs-in' type='checkbox' ><label for='attrs-d9426a5b-78af-43c6-b72f-572998716f55' title='Show/Hide attributes'><svg class='icon xr-icon-file-text2'><use xlink:href='#icon-file-text2'></use></svg></label><input id='data-fad2f145-9251-4b5d-aa57-7bc6eb6ced7f' class='xr-var-data-in' type='checkbox'><label for='data-fad2f145-9251-4b5d-aa57-7bc6eb6ced7f' title='Show/Hide data repr'><svg class='icon xr-icon-database'><use xlink:href='#icon-database'></use></svg></label><div class='xr-var-attrs'><dl class='xr-attrs'><dt><span>long_name :</span></dt><dd>Volumetric soil water layer 2</dd><dt><span>short_name :</span></dt><dd>swvl2</dd><dt><span>units :</span></dt><dd>m**3 m**-3</dd></dl></div><div class='xr-var-data'><pre>[126665280 values with dtype=float32]</pre></div></li><li class='xr-var-item'><div class='xr-var-name'><span>volumetric_soil_water_layer_3</span></div><div class='xr-var-dims'>(time, latitude, longitude)</div><div class='xr-var-dtype'>float32</div><div class='xr-var-preview xr-preview'>...</div><input id='attrs-cd13affb-8656-451d-91af-65c73b73617c' class='xr-var-attrs-in' type='checkbox' ><label for='attrs-cd13affb-8656-451d-91af-65c73b73617c' title='Show/Hide attributes'><svg class='icon xr-icon-file-text2'><use xlink:href='#icon-file-text2'></use></svg></label><input id='data-a2dcb070-e9cd-45e8-9148-53797cb48254' class='xr-var-data-in' type='checkbox'><label for='data-a2dcb070-e9cd-45e8-9148-53797cb48254' title='Show/Hide data repr'><svg class='icon xr-icon-database'><use xlink:href='#icon-database'></use></svg></label><div class='xr-var-attrs'><dl class='xr-attrs'><dt><span>long_name :</span></dt><dd>Volumetric soil water layer 3</dd><dt><span>short_name :</span></dt><dd>swvl3</dd><dt><span>units :</span></dt><dd>m**3 m**-3</dd></dl></div><div class='xr-var-data'><pre>[126665280 values with dtype=float32]</pre></div></li><li class='xr-var-item'><div class='xr-var-name'><span>volumetric_soil_water_layer_4</span></div><div class='xr-var-dims'>(time, latitude, longitude)</div><div class='xr-var-dtype'>float32</div><div class='xr-var-preview xr-preview'>...</div><input id='attrs-63addbf3-962f-4c6f-b40e-bea5c3dc1cc2' class='xr-var-attrs-in' type='checkbox' ><label for='attrs-63addbf3-962f-4c6f-b40e-bea5c3dc1cc2' title='Show/Hide attributes'><svg class='icon xr-icon-file-text2'><use xlink:href='#icon-file-text2'></use></svg></label><input id='data-b0e80a78-e8cc-4604-82c7-95dd959d0ddc' class='xr-var-data-in' type='checkbox'><label for='data-b0e80a78-e8cc-4604-82c7-95dd959d0ddc' title='Show/Hide data repr'><svg class='icon xr-icon-database'><use xlink:href='#icon-database'></use></svg></label><div class='xr-var-attrs'><dl class='xr-attrs'><dt><span>long_name :</span></dt><dd>Volumetric soil water layer 4</dd><dt><span>short_name :</span></dt><dd>swvl4</dd><dt><span>units :</span></dt><dd>m**3 m**-3</dd></dl></div><div class='xr-var-data'><pre>[126665280 values with dtype=float32]</pre></div></li><li class='xr-var-item'><div class='xr-var-name'><span>vorticity</span></div><div class='xr-var-dims'>(time, level, latitude, longitude)</div><div class='xr-var-dtype'>float32</div><div class='xr-var-preview xr-preview'>...</div><input id='attrs-dac13b21-709d-40c8-a942-a3013ccf2e42' class='xr-var-attrs-in' type='checkbox' disabled><label for='attrs-dac13b21-709d-40c8-a942-a3013ccf2e42' title='Show/Hide attributes'><svg class='icon xr-icon-file-text2'><use xlink:href='#icon-file-text2'></use></svg></label><input id='data-c25ba4c9-45ca-4aba-a7af-eb84f9a730f2' class='xr-var-data-in' type='checkbox'><label for='data-c25ba4c9-45ca-4aba-a7af-eb84f9a730f2' title='Show/Hide data repr'><svg class='icon xr-icon-database'><use xlink:href='#icon-database'></use></svg></label><div class='xr-var-attrs'><dl class='xr-attrs'></dl></div><div class='xr-var-data'><pre>[1646648640 values with dtype=float32]</pre></div></li><li class='xr-var-item'><div class='xr-var-name'><span>wind_speed</span></div><div class='xr-var-dims'>(time, level, latitude, longitude)</div><div class='xr-var-dtype'>float32</div><div class='xr-var-preview xr-preview'>...</div><input id='attrs-45ff201d-4bc0-4395-a7a3-99a423f79358' class='xr-var-attrs-in' type='checkbox' disabled><label for='attrs-45ff201d-4bc0-4395-a7a3-99a423f79358' title='Show/Hide attributes'><svg class='icon xr-icon-file-text2'><use xlink:href='#icon-file-text2'></use></svg></label><input id='data-6b60bff5-9e94-4798-8899-544f74aae72a' class='xr-var-data-in' type='checkbox'><label for='data-6b60bff5-9e94-4798-8899-544f74aae72a' title='Show/Hide data repr'><svg class='icon xr-icon-database'><use xlink:href='#icon-database'></use></svg></label><div class='xr-var-attrs'><dl class='xr-attrs'></dl></div><div class='xr-var-data'><pre>[1646648640 values with dtype=float32]</pre></div></li></ul></div></li><li class='xr-section-item'><input id='section-6d0f2a4d-7537-4a23-904e-543cc64296d7' class='xr-section-summary-in' type='checkbox'  ><label for='section-6d0f2a4d-7537-4a23-904e-543cc64296d7' class='xr-section-summary' >Indexes: <span>(4)</span></label><div class='xr-section-inline-details'></div><div class='xr-section-details'><ul class='xr-var-list'><li class='xr-var-item'><div class='xr-index-name'><div>latitude</div></div><div class='xr-index-preview'>PandasIndex</div><input type='checkbox' disabled/><label></label><input id='index-5c337fe3-a76e-4899-8e6a-be1303e699a1' class='xr-index-data-in' type='checkbox'/><label for='index-5c337fe3-a76e-4899-8e6a-be1303e699a1' title='Show/Hide index repr'><svg class='icon xr-icon-database'><use xlink:href='#icon-database'></use></svg></label><div class='xr-index-data'><pre>PandasIndex(Index([  90.0,  89.75,   89.5,  89.25,   89.0,  88.75,   88.5,  88.25,   88.0,\n",
       "        87.75,\n",
       "       ...\n",
       "       -87.75,  -88.0, -88.25,  -88.5, -88.75,  -89.0, -89.25,  -89.5, -89.75,\n",
       "        -90.0],\n",
       "      dtype=&#x27;float32&#x27;, name=&#x27;latitude&#x27;, length=721))</pre></div></li><li class='xr-var-item'><div class='xr-index-name'><div>level</div></div><div class='xr-index-preview'>PandasIndex</div><input type='checkbox' disabled/><label></label><input id='index-c895f4ce-7a24-45fb-a93f-cd09879b7daf' class='xr-index-data-in' type='checkbox'/><label for='index-c895f4ce-7a24-45fb-a93f-cd09879b7daf' title='Show/Hide index repr'><svg class='icon xr-icon-database'><use xlink:href='#icon-database'></use></svg></label><div class='xr-index-data'><pre>PandasIndex(Index([50, 100, 150, 200, 250, 300, 400, 500, 600, 700, 850, 925, 1000], dtype=&#x27;int64&#x27;, name=&#x27;level&#x27;))</pre></div></li><li class='xr-var-item'><div class='xr-index-name'><div>longitude</div></div><div class='xr-index-preview'>PandasIndex</div><input type='checkbox' disabled/><label></label><input id='index-d4a993b9-5471-4881-8eb5-e2b1abae095e' class='xr-index-data-in' type='checkbox'/><label for='index-d4a993b9-5471-4881-8eb5-e2b1abae095e' title='Show/Hide index repr'><svg class='icon xr-icon-database'><use xlink:href='#icon-database'></use></svg></label><div class='xr-index-data'><pre>PandasIndex(Index([   0.0,   0.25,    0.5,   0.75,    1.0,   1.25,    1.5,   1.75,    2.0,\n",
       "         2.25,\n",
       "       ...\n",
       "        357.5, 357.75,  358.0, 358.25,  358.5, 358.75,  359.0, 359.25,  359.5,\n",
       "       359.75],\n",
       "      dtype=&#x27;float32&#x27;, name=&#x27;longitude&#x27;, length=1440))</pre></div></li><li class='xr-var-item'><div class='xr-index-name'><div>time</div></div><div class='xr-index-preview'>PandasIndex</div><input type='checkbox' disabled/><label></label><input id='index-3c6195c4-200c-4e65-8024-5d3e792db03b' class='xr-index-data-in' type='checkbox'/><label for='index-3c6195c4-200c-4e65-8024-5d3e792db03b' title='Show/Hide index repr'><svg class='icon xr-icon-database'><use xlink:href='#icon-database'></use></svg></label><div class='xr-index-data'><pre>PandasIndex(DatetimeIndex([&#x27;2022-01-01 00:00:00&#x27;, &#x27;2022-01-01 06:00:00&#x27;,\n",
       "               &#x27;2022-01-01 12:00:00&#x27;, &#x27;2022-01-01 18:00:00&#x27;,\n",
       "               &#x27;2022-01-02 00:00:00&#x27;, &#x27;2022-01-02 06:00:00&#x27;,\n",
       "               &#x27;2022-01-02 12:00:00&#x27;, &#x27;2022-01-02 18:00:00&#x27;,\n",
       "               &#x27;2022-01-03 00:00:00&#x27;, &#x27;2022-01-03 06:00:00&#x27;,\n",
       "               ...\n",
       "               &#x27;2022-01-29 00:00:00&#x27;, &#x27;2022-01-29 06:00:00&#x27;,\n",
       "               &#x27;2022-01-29 12:00:00&#x27;, &#x27;2022-01-29 18:00:00&#x27;,\n",
       "               &#x27;2022-01-30 00:00:00&#x27;, &#x27;2022-01-30 06:00:00&#x27;,\n",
       "               &#x27;2022-01-30 12:00:00&#x27;, &#x27;2022-01-30 18:00:00&#x27;,\n",
       "               &#x27;2022-01-31 00:00:00&#x27;, &#x27;2022-01-31 06:00:00&#x27;],\n",
       "              dtype=&#x27;datetime64[ns]&#x27;, name=&#x27;time&#x27;, length=122, freq=None))</pre></div></li></ul></div></li><li class='xr-section-item'><input id='section-c5bade2e-5c32-4c38-8a20-0de984716f83' class='xr-section-summary-in' type='checkbox' disabled ><label for='section-c5bade2e-5c32-4c38-8a20-0de984716f83' class='xr-section-summary'  title='Expand/collapse section'>Attributes: <span>(0)</span></label><div class='xr-section-inline-details'></div><div class='xr-section-details'><dl class='xr-attrs'></dl></div></li></ul></div></div>"
      ],
      "text/plain": [
       "<xarray.Dataset> Size: 116GB\n",
       "Dimensions:                                           (time: 122,\n",
       "                                                       latitude: 721,\n",
       "                                                       longitude: 1440,\n",
       "                                                       level: 13)\n",
       "Coordinates:\n",
       "  * latitude                                          (latitude) float32 3kB ...\n",
       "  * level                                             (level) int64 104B 50 ....\n",
       "  * longitude                                         (longitude) float32 6kB ...\n",
       "  * time                                              (time) datetime64[ns] 976B ...\n",
       "Data variables: (12/62)\n",
       "    10m_u_component_of_wind                           (time, latitude, longitude) float32 507MB ...\n",
       "    10m_v_component_of_wind                           (time, latitude, longitude) float32 507MB ...\n",
       "    10m_wind_speed                                    (time, latitude, longitude) float32 507MB ...\n",
       "    2m_dewpoint_temperature                           (time, latitude, longitude) float32 507MB ...\n",
       "    2m_temperature                                    (time, latitude, longitude) float32 507MB ...\n",
       "    above_ground                                      (time, level, latitude, longitude) float32 7GB ...\n",
       "    ...                                                ...\n",
       "    volumetric_soil_water_layer_1                     (time, latitude, longitude) float32 507MB ...\n",
       "    volumetric_soil_water_layer_2                     (time, latitude, longitude) float32 507MB ...\n",
       "    volumetric_soil_water_layer_3                     (time, latitude, longitude) float32 507MB ...\n",
       "    volumetric_soil_water_layer_4                     (time, latitude, longitude) float32 507MB ...\n",
       "    vorticity                                         (time, level, latitude, longitude) float32 7GB ...\n",
       "    wind_speed                                        (time, level, latitude, longitude) float32 7GB ..."
      ]
     },
     "execution_count": 86,
     "metadata": {},
     "output_type": "execute_result"
    }
   ],
   "source": [
    "sliced_era5_world"
   ]
  },
  {
   "cell_type": "code",
   "execution_count": 12,
   "metadata": {},
   "outputs": [],
   "source": [
    "import xarray as xr\n",
    "import numpy as np\n"
   ]
  },
  {
   "cell_type": "code",
   "execution_count": 10,
   "metadata": {},
   "outputs": [],
   "source": [
    "R = 6371.0  # Earth's radius in kilometers\n"
   ]
  },
  {
   "cell_type": "code",
   "execution_count": 7,
   "metadata": {},
   "outputs": [],
   "source": [
    "lat_rad = np.deg2rad(sliced_era5_world.latitude)\n",
    "lon_rad = np.deg2rad(sliced_era5_world.longitude)\n"
   ]
  },
  {
   "cell_type": "code",
   "execution_count": 8,
   "metadata": {},
   "outputs": [],
   "source": [
    "dlat = np.abs(np.diff(lat_rad).mean())  # Average latitude difference\n",
    "dlon = np.abs(np.diff(lon_rad).mean())  # Average longitude difference\n"
   ]
  },
  {
   "cell_type": "code",
   "execution_count": 11,
   "metadata": {},
   "outputs": [],
   "source": [
    "# Calculate the area for each latitude band\n",
    "areas = R**2 * dlon * np.abs(np.sin(lat_rad + dlat/2) - np.sin(lat_rad - dlat/2))\n",
    "\n",
    "# Expand areas to match the shape of the grid\n",
    "area_grid = np.outer(areas, np.ones(len(sliced_era5_world.longitude)))  # Shape: (64, 80)\n"
   ]
  },
  {
   "cell_type": "code",
   "execution_count": 14,
   "metadata": {},
   "outputs": [
    {
     "data": {
      "text/plain": [
       "(720, 1440)"
      ]
     },
     "execution_count": 14,
     "metadata": {},
     "output_type": "execute_result"
    }
   ],
   "source": [
    "area_grid[1:,:].shape"
   ]
  },
  {
   "cell_type": "markdown",
   "metadata": {},
   "source": [
    "### Surface variables"
   ]
  },
  {
   "cell_type": "code",
   "execution_count": 15,
   "metadata": {},
   "outputs": [],
   "source": [
    "# List of surface variable names\n",
    "surface_vars = ['2m_temperature', '10m_u_component_of_wind', '10m_v_component_of_wind', 'mean_sea_level_pressure']\n",
    "\n",
    "# Select surface variables\n",
    "surf_vars_ds = sliced_era5_world[surface_vars]\n",
    "target_surf_vars_ds = target_sliced_era5_world[surface_vars]\n"
   ]
  },
  {
   "cell_type": "markdown",
   "metadata": {},
   "source": [
    "### Atmospherique variables"
   ]
  },
  {
   "cell_type": "code",
   "execution_count": 16,
   "metadata": {},
   "outputs": [],
   "source": [
    "atmostpheric_variables = [\"temperature\", \"u_component_of_wind\", \"v_component_of_wind\", \"specific_humidity\", \"geopotential\"]\n",
    "atmos_vars_ds = sliced_era5_world[atmostpheric_variables]\n",
    "target_atmos_vars_ds = target_sliced_era5_world[atmostpheric_variables]"
   ]
  },
  {
   "cell_type": "markdown",
   "metadata": {},
   "source": [
    "## Static variables"
   ]
  },
  {
   "cell_type": "code",
   "execution_count": 17,
   "metadata": {},
   "outputs": [],
   "source": [
    "static_variables = [\"land_sea_mask\", \"soil_type\", \"geopotential_at_surface\"]\n",
    "static_vars_ds = sliced_era5_world[static_variables]\n",
    "target_static_vars_ds = target_sliced_era5_world[static_variables]"
   ]
  },
  {
   "cell_type": "code",
   "execution_count": 13,
   "metadata": {},
   "outputs": [],
   "source": [
    "# surf_vars_ds"
   ]
  },
  {
   "cell_type": "code",
   "execution_count": 14,
   "metadata": {},
   "outputs": [],
   "source": [
    "# static_vars_ds[\"geopotential_at_surface\"].values.shape"
   ]
  },
  {
   "cell_type": "markdown",
   "metadata": {},
   "source": [
    "## Create batches"
   ]
  },
  {
   "cell_type": "code",
   "execution_count": 18,
   "metadata": {},
   "outputs": [],
   "source": [
    "\n",
    "class ERA5ZarrDataset(Dataset):\n",
    "    def __init__(self, surf_vars_ds, atmos_vars_ds, static_vars_ds, sequence_length):\n",
    "        self.surf_vars_ds = surf_vars_ds\n",
    "        self.atmos_vars_ds = atmos_vars_ds\n",
    "        self.static_vars_ds = static_vars_ds\n",
    "        self.sequence_length = sequence_length\n",
    "        self.time_indices = range(sequence_length, len(surf_vars_ds.time))\n",
    "\n",
    "    def __len__(self):\n",
    "        return len(self.time_indices)\n",
    "\n",
    "    def __getitem__(self, idx):\n",
    "        i = self.time_indices[idx]\n",
    "        # time_slice = slice(i - self.sequence_length, i)\n",
    "\n",
    "        surf_vars = {\n",
    "            \"2t\": torch.from_numpy(self.surf_vars_ds[\"2m_temperature\"].values[[i - 1, i]][None]),\n",
    "            \"10u\": torch.from_numpy(self.surf_vars_ds[\"10m_u_component_of_wind\"].values[[i - 1, i]][None]),\n",
    "            \"10v\": torch.from_numpy(self.surf_vars_ds[\"10m_v_component_of_wind\"].values[[i - 1, i]][None]),\n",
    "            \"msl\": torch.from_numpy(self.surf_vars_ds[\"mean_sea_level_pressure\"].values[[i - 1, i]][None]),\n",
    "        }\n",
    "\n",
    "        static_vars = {\n",
    "            \"z\": torch.from_numpy(self.static_vars_ds[\"geopotential_at_surface\"].values),\n",
    "            \"slt\": torch.from_numpy(self.static_vars_ds[\"soil_type\"].values),\n",
    "            \"lsm\": torch.from_numpy(self.static_vars_ds[\"land_sea_mask\"].values),\n",
    "        }\n",
    "\n",
    "        atmos_vars = {\n",
    "            \"t\": torch.from_numpy(self.atmos_vars_ds[\"temperature\"].values[[i - 1, i]][None]),\n",
    "            \"u\": torch.from_numpy(self.atmos_vars_ds[\"u_component_of_wind\"].values[[i - 1, i]][None]),\n",
    "            \"v\": torch.from_numpy(self.atmos_vars_ds[\"v_component_of_wind\"].values[[i - 1, i]][None]),\n",
    "            \"q\": torch.from_numpy(self.atmos_vars_ds[\"specific_humidity\"].values[[i - 1, i]][None]),\n",
    "            \"z\": torch.from_numpy(self.atmos_vars_ds[\"geopotential\"].values[[i - 1, i]][None]),\n",
    "        }\n",
    "\n",
    "        metadata=Metadata(\n",
    "        lat=torch.from_numpy(self.surf_vars_ds.latitude.values),\n",
    "        lon=torch.from_numpy(self.surf_vars_ds.longitude.values),\n",
    "        time=(self.surf_vars_ds.time.values.astype(\"datetime64[s]\").tolist()[i],),\n",
    "        atmos_levels=tuple(int(level) for level in self.atmos_vars_ds.level.values)\n",
    "    )\n",
    "\n",
    "\n",
    "        return Batch(surf_vars=surf_vars, static_vars=static_vars, atmos_vars=atmos_vars, metadata=metadata)\n"
   ]
  },
  {
   "cell_type": "code",
   "execution_count": 50,
   "metadata": {},
   "outputs": [],
   "source": [
    "#   metadata=Metadata(\n",
    "#         lat=torch.from_numpy(surf_vars_ds.latitude.values),\n",
    "#         lon=torch.from_numpy(surf_vars_ds.longitude.values),\n",
    "#         # Converting to `datetime64[s]` ensures that the output of `tolist()` gives\n",
    "#         # `datetime.datetime`s. Note that this needs to be a tuple of length one:\n",
    "#         # one value for every batch element.\n",
    "#         time=(surf_vars_ds.valid_time.values.astype(\"datetime64[s]\").tolist()[i],),\n",
    "#         atmos_levels=tuple(int(level) for level in atmos_vars_ds.pressure_level.values),\n",
    "#     ),\n",
    "# )"
   ]
  },
  {
   "cell_type": "code",
   "execution_count": 51,
   "metadata": {},
   "outputs": [],
   "source": [
    "\n",
    "# class ERA5ZarrDataset(Dataset):\n",
    "#     def __init__(self, surf_vars_ds, atmos_vars_ds, static_vars_ds, sequence_length):\n",
    "#         self.surf_vars_ds = surf_vars_ds\n",
    "#         self.atmos_vars_ds = atmos_vars_ds\n",
    "#         self.static_vars_ds = static_vars_ds\n",
    "#         self.sequence_length = sequence_length\n",
    "#         self.time_indices = range(sequence_length, len(surf_vars_ds.time))\n",
    "\n",
    "#     def __len__(self):\n",
    "#         return len(self.time_indices)\n",
    "\n",
    "#     def __getitem__(self, idx):\n",
    "#         i = self.time_indices[idx]\n",
    "#         time_slice = slice(i - self.sequence_length, i)\n",
    "\n",
    "#         surf_vars = {\n",
    "#             \"2t\": torch.from_numpy(self.surf_vars_ds[\"2m_temperature\"].isel(time=time_slice).values[None]),\n",
    "#             \"10u\": torch.from_numpy(self.surf_vars_ds[\"10m_u_component_of_wind\"].isel(time=time_slice).values[None]),\n",
    "#             \"10v\": torch.from_numpy(self.surf_vars_ds[\"10m_v_component_of_wind\"].isel(time=time_slice).values[None]),\n",
    "#             \"msl\": torch.from_numpy(self.surf_vars_ds[\"mean_sea_level_pressure\"].isel(time=time_slice).values[None]),\n",
    "#         }\n",
    "\n",
    "#         static_vars = {\n",
    "#             \"z\": torch.from_numpy(self.static_vars_ds[\"geopotential_at_surface\"].values),\n",
    "#             \"slt\": torch.from_numpy(self.static_vars_ds[\"soil_type\"].values),\n",
    "#             \"lsm\": torch.from_numpy(self.static_vars_ds[\"land_sea_mask\"].values),\n",
    "#         }\n",
    "\n",
    "#         atmos_vars = {\n",
    "#             \"t\": torch.from_numpy(self.atmos_vars_ds[\"temperature\"].isel(time=time_slice).values[None]),\n",
    "#             \"u\": torch.from_numpy(self.atmos_vars_ds[\"u_component_of_wind\"].isel(time=time_slice).values[None]),\n",
    "#             \"v\": torch.from_numpy(self.atmos_vars_ds[\"v_component_of_wind\"].isel(time=time_slice).values[None]),\n",
    "#             \"q\": torch.from_numpy(self.atmos_vars_ds[\"specific_humidity\"].isel(time=time_slice).values[None]),\n",
    "#             \"z\": torch.from_numpy(self.atmos_vars_ds[\"geopotential\"].isel(time=time_slice).values[None]),\n",
    "#         }\n",
    "\n",
    "#         metadata = Metadata(\n",
    "#             lat=torch.from_numpy(self.surf_vars_ds.latitude.values),\n",
    "#             lon=torch.from_numpy(self.surf_vars_ds.longitude.values),\n",
    "#             time=tuple(self.surf_vars_ds.time.isel(time=time_slice).values.astype(\"datetime64[s]\").tolist(),),\n",
    "#             atmos_levels=tuple(int(level) for level in self.atmos_vars_ds.level.values),\n",
    "#         )\n",
    "\n",
    "#         return Batch(surf_vars=surf_vars, static_vars=static_vars, atmos_vars=atmos_vars, metadata=metadata)\n"
   ]
  },
  {
   "cell_type": "markdown",
   "metadata": {},
   "source": []
  },
  {
   "cell_type": "code",
   "execution_count": 19,
   "metadata": {},
   "outputs": [],
   "source": [
    "world_batches = ERA5ZarrDataset(surf_vars_ds, atmos_vars_ds, static_vars_ds,1)\n",
    "target_world_batches = ERA5ZarrDataset(target_surf_vars_ds, target_atmos_vars_ds, target_static_vars_ds,1)"
   ]
  },
  {
   "cell_type": "code",
   "execution_count": 142,
   "metadata": {},
   "outputs": [],
   "source": [
    "i=0\n",
    "for batch in world_batches:\n",
    "    feature_data=batch\n",
    "    i+=1\n",
    "    if i==3:\n",
    "        break"
   ]
  },
  {
   "cell_type": "code",
   "execution_count": 143,
   "metadata": {},
   "outputs": [],
   "source": [
    "i=0\n",
    "for batch in target_world_batches:\n",
    "    target_data=batch\n",
    "    i+=1\n",
    "    if i==1:\n",
    "        break"
   ]
  },
  {
   "cell_type": "code",
   "execution_count": 145,
   "metadata": {},
   "outputs": [
    {
     "data": {
      "text/plain": [
       "tensor([[True, True, True,  ..., True, True, True],\n",
       "        [True, True, True,  ..., True, True, True],\n",
       "        [True, True, True,  ..., True, True, True],\n",
       "        ...,\n",
       "        [True, True, True,  ..., True, True, True],\n",
       "        [True, True, True,  ..., True, True, True],\n",
       "        [True, True, True,  ..., True, True, True]])"
      ]
     },
     "execution_count": 145,
     "metadata": {},
     "output_type": "execute_result"
    }
   ],
   "source": [
    "feature_data.surf_vars[\"2t\"].squeeze()[0,:,:]==target_data.surf_vars[\"2t\"].squeeze()[0,:,:]"
   ]
  },
  {
   "cell_type": "code",
   "execution_count": null,
   "metadata": {},
   "outputs": [],
   "source": []
  },
  {
   "cell_type": "code",
   "execution_count": 96,
   "metadata": {},
   "outputs": [],
   "source": [
    "for batch in target_world_batches:\n",
    "    target_data=batch\n",
    "    break"
   ]
  },
  {
   "cell_type": "code",
   "execution_count": 97,
   "metadata": {},
   "outputs": [],
   "source": [
    "\n",
    "for batch in world_batches:\n",
    "    feature_data=batch\n",
    "    break"
   ]
  },
  {
   "cell_type": "code",
   "execution_count": 98,
   "metadata": {},
   "outputs": [],
   "source": [
    "i=0\n",
    "for batch in world_batches:\n",
    "    feature_data1=batch\n",
    "    i+=1\n",
    "    if i==3:\n",
    "        break"
   ]
  },
  {
   "cell_type": "code",
   "execution_count": 99,
   "metadata": {},
   "outputs": [],
   "source": [
    "i=0\n",
    "for batch in world_batches:\n",
    "    feature_data2=batch\n",
    "    i+=1\n",
    "    if i==4:\n",
    "        break"
   ]
  },
  {
   "cell_type": "code",
   "execution_count": 106,
   "metadata": {},
   "outputs": [
    {
     "data": {
      "text/plain": [
       "tensor([[True, True, True,  ..., True, True, True],\n",
       "        [True, True, True,  ..., True, True, True],\n",
       "        [True, True, True,  ..., True, True, True],\n",
       "        ...,\n",
       "        [True, True, True,  ..., True, True, True],\n",
       "        [True, True, True,  ..., True, True, True],\n",
       "        [True, True, True,  ..., True, True, True]])"
      ]
     },
     "execution_count": 106,
     "metadata": {},
     "output_type": "execute_result"
    }
   ],
   "source": [
    "feature_data1.surf_vars[\"2t\"].squeeze()[1,:,:]==target_data.surf_vars[\"2t\"].squeeze()[1,:,:]"
   ]
  },
  {
   "cell_type": "code",
   "execution_count": 76,
   "metadata": {},
   "outputs": [],
   "source": [
    "i=0\n",
    "for batch in target_world_batches:\n",
    "    target_data1=batch\n",
    "    i+=1\n",
    "    if i==20:\n",
    "        break"
   ]
  },
  {
   "cell_type": "code",
   "execution_count": 77,
   "metadata": {},
   "outputs": [],
   "source": [
    "i=0\n",
    "for batch in target_world_batches:\n",
    "    target_data2=batch\n",
    "    i+=1\n",
    "    if i==21:\n",
    "        break"
   ]
  },
  {
   "cell_type": "code",
   "execution_count": 79,
   "metadata": {},
   "outputs": [
    {
     "data": {
      "text/plain": [
       "tensor([[True, True, True,  ..., True, True, True],\n",
       "        [True, True, True,  ..., True, True, True],\n",
       "        [True, True, True,  ..., True, True, True],\n",
       "        ...,\n",
       "        [True, True, True,  ..., True, True, True],\n",
       "        [True, True, True,  ..., True, True, True],\n",
       "        [True, True, True,  ..., True, True, True]])"
      ]
     },
     "execution_count": 79,
     "metadata": {},
     "output_type": "execute_result"
    }
   ],
   "source": [
    "target_data1.surf_vars[\"2t\"].squeeze()[1,:,:]==target_data2.surf_vars[\"2t\"].squeeze()[0,:,:]"
   ]
  },
  {
   "cell_type": "code",
   "execution_count": 101,
   "metadata": {},
   "outputs": [
    {
     "data": {
      "text/plain": [
       "tensor([[False, False, False,  ..., False, False, False],\n",
       "        [False, False, False,  ..., False, False, False],\n",
       "        [False, False, False,  ..., False, False, False],\n",
       "        ...,\n",
       "        [False, False, False,  ..., False, False, False],\n",
       "        [False, False, False,  ..., False, False, False],\n",
       "        [False, False, False,  ..., False, False, False]])"
      ]
     },
     "execution_count": 101,
     "metadata": {},
     "output_type": "execute_result"
    }
   ],
   "source": [
    "feature_data.surf_vars[\"2t\"].squeeze()[1,:,:]==feature_data1.surf_vars[\"2t\"].squeeze()[1,:,:]"
   ]
  },
  {
   "cell_type": "code",
   "execution_count": 49,
   "metadata": {},
   "outputs": [
    {
     "data": {
      "text/plain": [
       "(datetime.datetime(2022, 1, 1, 12, 0),)"
      ]
     },
     "execution_count": 49,
     "metadata": {},
     "output_type": "execute_result"
    }
   ],
   "source": [
    "feature_data1.metadata.time"
   ]
  },
  {
   "cell_type": "code",
   "execution_count": 50,
   "metadata": {},
   "outputs": [
    {
     "data": {
      "text/plain": [
       "(datetime.datetime(2022, 1, 1, 12, 0),)"
      ]
     },
     "execution_count": 50,
     "metadata": {},
     "output_type": "execute_result"
    }
   ],
   "source": [
    "target_data.metadata.time"
   ]
  },
  {
   "cell_type": "code",
   "execution_count": 50,
   "metadata": {},
   "outputs": [
    {
     "data": {
      "text/plain": [
       "tensor([[True, True, True,  ..., True, True, True],\n",
       "        [True, True, True,  ..., True, True, True],\n",
       "        [True, True, True,  ..., True, True, True],\n",
       "        ...,\n",
       "        [True, True, True,  ..., True, True, True],\n",
       "        [True, True, True,  ..., True, True, True],\n",
       "        [True, True, True,  ..., True, True, True]])"
      ]
     },
     "execution_count": 50,
     "metadata": {},
     "output_type": "execute_result"
    }
   ],
   "source": [
    "feature_data.surf_vars[\"2t\"].squeeze()[0,:,:]==feature_data.surf_vars[\"2t\"].squeeze()[0,:,:]"
   ]
  },
  {
   "cell_type": "code",
   "execution_count": 46,
   "metadata": {},
   "outputs": [
    {
     "data": {
      "text/plain": [
       "tensor([[True, True, True,  ..., True, True, True],\n",
       "        [True, True, True,  ..., True, True, True],\n",
       "        [True, True, True,  ..., True, True, True],\n",
       "        ...,\n",
       "        [True, True, True,  ..., True, True, True],\n",
       "        [True, True, True,  ..., True, True, True],\n",
       "        [True, True, True,  ..., True, True, True]])"
      ]
     },
     "execution_count": 46,
     "metadata": {},
     "output_type": "execute_result"
    }
   ],
   "source": [
    "feature_data.surf_vars[\"2t\"].squeeze()[1,:,:]==feature_data.surf_vars[\"2t\"].squeeze()[1,:,:]"
   ]
  },
  {
   "cell_type": "code",
   "execution_count": 45,
   "metadata": {},
   "outputs": [
    {
     "data": {
      "text/plain": [
       "tensor([[248.1045, 248.1045, 248.1045,  ..., 248.1045, 248.1045, 248.1045],\n",
       "        [248.5956, 248.5909, 248.5893,  ..., 248.6035, 248.5988, 248.5972],\n",
       "        [248.9970, 248.9939, 248.9891,  ..., 249.0112, 249.0049, 249.0017],\n",
       "        ...,\n",
       "        [248.6601, 248.6554, 248.6491,  ..., 248.6727, 248.6696, 248.6633],\n",
       "        [248.7955, 248.7939, 248.7908,  ..., 248.8034, 248.8018, 248.7987],\n",
       "        [248.9970, 248.9970, 248.9970,  ..., 248.9970, 248.9970, 248.9970]])"
      ]
     },
     "execution_count": 45,
     "metadata": {},
     "output_type": "execute_result"
    }
   ],
   "source": [
    "feature_data1.surf_vars[\"2t\"].squeeze()[0,:,:]"
   ]
  },
  {
   "cell_type": "code",
   "execution_count": 46,
   "metadata": {},
   "outputs": [
    {
     "data": {
      "text/plain": [
       "tensor([[241.6527, 241.6527, 241.6527,  ..., 241.6527, 241.6527, 241.6527],\n",
       "        [241.8501, 241.8456, 241.8442,  ..., 241.8620, 241.8575, 241.8546],\n",
       "        [242.2345, 242.2286, 242.2227,  ..., 242.2523, 242.2464, 242.2405],\n",
       "        ...,\n",
       "        [241.5592, 241.5592, 241.5592,  ..., 241.5607, 241.5607, 241.5607],\n",
       "        [241.8234, 241.8234, 241.8234,  ..., 241.8204, 241.8234, 241.8234],\n",
       "        [242.0935, 242.0935, 242.0935,  ..., 242.0935, 242.0935, 242.0935]])"
      ]
     },
     "execution_count": 46,
     "metadata": {},
     "output_type": "execute_result"
    }
   ],
   "source": [
    "target_data.surf_vars[\"2t\"].squeeze()[0,:,:]"
   ]
  },
  {
   "cell_type": "code",
   "execution_count": 83,
   "metadata": {},
   "outputs": [
    {
     "data": {
      "text/plain": [
       "tensor([[True, True, True,  ..., True, True, True],\n",
       "        [True, True, True,  ..., True, True, True],\n",
       "        [True, True, True,  ..., True, True, True],\n",
       "        ...,\n",
       "        [True, True, True,  ..., True, True, True],\n",
       "        [True, True, True,  ..., True, True, True],\n",
       "        [True, True, True,  ..., True, True, True]])"
      ]
     },
     "execution_count": 83,
     "metadata": {},
     "output_type": "execute_result"
    }
   ],
   "source": [
    "feature_data1.surf_vars[\"2t\"].squeeze()[1,:,:]==target_data.surf_vars[\"2t\"].squeeze()[1,:,:]"
   ]
  },
  {
   "cell_type": "code",
   "execution_count": 103,
   "metadata": {},
   "outputs": [
    {
     "data": {
      "text/plain": [
       "tensor([[True, True, True,  ..., True, True, True],\n",
       "        [True, True, True,  ..., True, True, True],\n",
       "        [True, True, True,  ..., True, True, True],\n",
       "        ...,\n",
       "        [True, True, True,  ..., True, True, True],\n",
       "        [True, True, True,  ..., True, True, True],\n",
       "        [True, True, True,  ..., True, True, True]])"
      ]
     },
     "execution_count": 103,
     "metadata": {},
     "output_type": "execute_result"
    }
   ],
   "source": [
    "target_data.surf_vars[\"2t\"].squeeze()[0,:,:]==target_data.surf_vars[\"2t\"].squeeze()[0,:,:]"
   ]
  },
  {
   "cell_type": "code",
   "execution_count": 100,
   "metadata": {},
   "outputs": [
    {
     "data": {
      "text/plain": [
       "(datetime.datetime(2022, 1, 1, 6, 0),)"
      ]
     },
     "execution_count": 100,
     "metadata": {},
     "output_type": "execute_result"
    }
   ],
   "source": [
    "data.metadata.time"
   ]
  },
  {
   "cell_type": "code",
   "execution_count": 93,
   "metadata": {},
   "outputs": [
    {
     "ename": "AttributeError",
     "evalue": "'dict' object has no attribute 'metadata'",
     "output_type": "error",
     "traceback": [
      "\u001b[0;31m---------------------------------------------------------------------------\u001b[0m",
      "\u001b[0;31mAttributeError\u001b[0m                            Traceback (most recent call last)",
      "Cell \u001b[0;32mIn[93], line 1\u001b[0m\n\u001b[0;32m----> 1\u001b[0m \u001b[43mfeature_data\u001b[49m\u001b[38;5;241;43m.\u001b[39;49m\u001b[43msurf_vars\u001b[49m\u001b[38;5;241;43m.\u001b[39;49m\u001b[43mmetadata\u001b[49m\u001b[38;5;241m.\u001b[39mtime\n",
      "\u001b[0;31mAttributeError\u001b[0m: 'dict' object has no attribute 'metadata'"
     ]
    }
   ],
   "source": [
    "feature_data.surf_vars.metadata.time"
   ]
  },
  {
   "cell_type": "code",
   "execution_count": 103,
   "metadata": {},
   "outputs": [
    {
     "data": {
      "text/plain": [
       "tensor([[248.4398, 248.4398, 248.4398,  ..., 248.4398, 248.4398, 248.4398],\n",
       "        [249.0049, 249.0017, 248.9986,  ..., 249.0096, 249.0080, 249.0064],\n",
       "        [249.5086, 249.5039, 249.5007,  ..., 249.5164, 249.5117, 249.5101],\n",
       "        ...,\n",
       "        [250.4027, 250.3964, 250.3916,  ..., 250.4247, 250.4168, 250.4090],\n",
       "        [250.6482, 250.6451, 250.6404,  ..., 250.6592, 250.6545, 250.6514],\n",
       "        [250.7490, 250.7490, 250.7490,  ..., 250.7490, 250.7490, 250.7490]])"
      ]
     },
     "execution_count": 103,
     "metadata": {},
     "output_type": "execute_result"
    }
   ],
   "source": [
    "feature_data.surf_vars[\"2t\"].squeeze()[1,:,:]"
   ]
  },
  {
   "cell_type": "code",
   "execution_count": 53,
   "metadata": {},
   "outputs": [
    {
     "name": "stdout",
     "output_type": "stream",
     "text": [
      "(datetime.datetime(2022, 1, 1, 0, 0),) (datetime.datetime(2022, 1, 1, 6, 0),)\n",
      "(datetime.datetime(2022, 1, 1, 6, 0),) (datetime.datetime(2022, 1, 1, 12, 0),)\n",
      "(datetime.datetime(2022, 1, 1, 12, 0),) (datetime.datetime(2022, 1, 1, 18, 0),)\n"
     ]
    },
    {
     "name": "stdout",
     "output_type": "stream",
     "text": [
      "(datetime.datetime(2022, 1, 1, 18, 0),) (datetime.datetime(2022, 1, 2, 0, 0),)\n",
      "(datetime.datetime(2022, 1, 2, 0, 0),) (datetime.datetime(2022, 1, 2, 6, 0),)\n",
      "(datetime.datetime(2022, 1, 2, 6, 0),) (datetime.datetime(2022, 1, 2, 12, 0),)\n",
      "(datetime.datetime(2022, 1, 2, 12, 0),) (datetime.datetime(2022, 1, 2, 18, 0),)\n",
      "(datetime.datetime(2022, 1, 2, 18, 0),) (datetime.datetime(2022, 1, 3, 0, 0),)\n",
      "(datetime.datetime(2022, 1, 3, 0, 0),) (datetime.datetime(2022, 1, 3, 6, 0),)\n"
     ]
    },
    {
     "ename": "KeyboardInterrupt",
     "evalue": "",
     "output_type": "error",
     "traceback": [
      "\u001b[0;31m---------------------------------------------------------------------------\u001b[0m",
      "\u001b[0;31mKeyboardInterrupt\u001b[0m                         Traceback (most recent call last)",
      "Cell \u001b[0;32mIn[53], line 1\u001b[0m\n\u001b[0;32m----> 1\u001b[0m \u001b[38;5;28;01mfor\u001b[39;00m batch, target_batch \u001b[38;5;129;01min\u001b[39;00m \u001b[38;5;28mzip\u001b[39m(world_batches, target_world_batches):\n\u001b[1;32m      2\u001b[0m     \u001b[38;5;28mprint\u001b[39m(batch\u001b[38;5;241m.\u001b[39mmetadata\u001b[38;5;241m.\u001b[39mtime, target_batch\u001b[38;5;241m.\u001b[39mmetadata\u001b[38;5;241m.\u001b[39mtime)\n",
      "Cell \u001b[0;32mIn[13], line 30\u001b[0m, in \u001b[0;36mERA5ZarrDataset.__getitem__\u001b[0;34m(self, idx)\u001b[0m\n\u001b[1;32m     16\u001b[0m     surf_vars \u001b[38;5;241m=\u001b[39m {\n\u001b[1;32m     17\u001b[0m         \u001b[38;5;124m\"\u001b[39m\u001b[38;5;124m2t\u001b[39m\u001b[38;5;124m\"\u001b[39m: torch\u001b[38;5;241m.\u001b[39mfrom_numpy(\u001b[38;5;28mself\u001b[39m\u001b[38;5;241m.\u001b[39msurf_vars_ds[\u001b[38;5;124m\"\u001b[39m\u001b[38;5;124m2m_temperature\u001b[39m\u001b[38;5;124m\"\u001b[39m]\u001b[38;5;241m.\u001b[39mvalues[[i \u001b[38;5;241m-\u001b[39m \u001b[38;5;241m1\u001b[39m, i]][\u001b[38;5;28;01mNone\u001b[39;00m]),\n\u001b[1;32m     18\u001b[0m         \u001b[38;5;124m\"\u001b[39m\u001b[38;5;124m10u\u001b[39m\u001b[38;5;124m\"\u001b[39m: torch\u001b[38;5;241m.\u001b[39mfrom_numpy(\u001b[38;5;28mself\u001b[39m\u001b[38;5;241m.\u001b[39msurf_vars_ds[\u001b[38;5;124m\"\u001b[39m\u001b[38;5;124m10m_u_component_of_wind\u001b[39m\u001b[38;5;124m\"\u001b[39m]\u001b[38;5;241m.\u001b[39mvalues[[i \u001b[38;5;241m-\u001b[39m \u001b[38;5;241m1\u001b[39m, i]][\u001b[38;5;28;01mNone\u001b[39;00m]),\n\u001b[1;32m     19\u001b[0m         \u001b[38;5;124m\"\u001b[39m\u001b[38;5;124m10v\u001b[39m\u001b[38;5;124m\"\u001b[39m: torch\u001b[38;5;241m.\u001b[39mfrom_numpy(\u001b[38;5;28mself\u001b[39m\u001b[38;5;241m.\u001b[39msurf_vars_ds[\u001b[38;5;124m\"\u001b[39m\u001b[38;5;124m10m_v_component_of_wind\u001b[39m\u001b[38;5;124m\"\u001b[39m]\u001b[38;5;241m.\u001b[39mvalues[[i \u001b[38;5;241m-\u001b[39m \u001b[38;5;241m1\u001b[39m, i]][\u001b[38;5;28;01mNone\u001b[39;00m]),\n\u001b[1;32m     20\u001b[0m         \u001b[38;5;124m\"\u001b[39m\u001b[38;5;124mmsl\u001b[39m\u001b[38;5;124m\"\u001b[39m: torch\u001b[38;5;241m.\u001b[39mfrom_numpy(\u001b[38;5;28mself\u001b[39m\u001b[38;5;241m.\u001b[39msurf_vars_ds[\u001b[38;5;124m\"\u001b[39m\u001b[38;5;124mmean_sea_level_pressure\u001b[39m\u001b[38;5;124m\"\u001b[39m]\u001b[38;5;241m.\u001b[39mvalues[[i \u001b[38;5;241m-\u001b[39m \u001b[38;5;241m1\u001b[39m, i]][\u001b[38;5;28;01mNone\u001b[39;00m]),\n\u001b[1;32m     21\u001b[0m     }\n\u001b[1;32m     23\u001b[0m     static_vars \u001b[38;5;241m=\u001b[39m {\n\u001b[1;32m     24\u001b[0m         \u001b[38;5;124m\"\u001b[39m\u001b[38;5;124mz\u001b[39m\u001b[38;5;124m\"\u001b[39m: torch\u001b[38;5;241m.\u001b[39mfrom_numpy(\u001b[38;5;28mself\u001b[39m\u001b[38;5;241m.\u001b[39mstatic_vars_ds[\u001b[38;5;124m\"\u001b[39m\u001b[38;5;124mgeopotential_at_surface\u001b[39m\u001b[38;5;124m\"\u001b[39m]\u001b[38;5;241m.\u001b[39mvalues),\n\u001b[1;32m     25\u001b[0m         \u001b[38;5;124m\"\u001b[39m\u001b[38;5;124mslt\u001b[39m\u001b[38;5;124m\"\u001b[39m: torch\u001b[38;5;241m.\u001b[39mfrom_numpy(\u001b[38;5;28mself\u001b[39m\u001b[38;5;241m.\u001b[39mstatic_vars_ds[\u001b[38;5;124m\"\u001b[39m\u001b[38;5;124msoil_type\u001b[39m\u001b[38;5;124m\"\u001b[39m]\u001b[38;5;241m.\u001b[39mvalues),\n\u001b[1;32m     26\u001b[0m         \u001b[38;5;124m\"\u001b[39m\u001b[38;5;124mlsm\u001b[39m\u001b[38;5;124m\"\u001b[39m: torch\u001b[38;5;241m.\u001b[39mfrom_numpy(\u001b[38;5;28mself\u001b[39m\u001b[38;5;241m.\u001b[39mstatic_vars_ds[\u001b[38;5;124m\"\u001b[39m\u001b[38;5;124mland_sea_mask\u001b[39m\u001b[38;5;124m\"\u001b[39m]\u001b[38;5;241m.\u001b[39mvalues),\n\u001b[1;32m     27\u001b[0m     }\n\u001b[1;32m     29\u001b[0m     atmos_vars \u001b[38;5;241m=\u001b[39m {\n\u001b[0;32m---> 30\u001b[0m         \u001b[38;5;124m\"\u001b[39m\u001b[38;5;124mt\u001b[39m\u001b[38;5;124m\"\u001b[39m: \u001b[43mtorch\u001b[49m\u001b[38;5;241;43m.\u001b[39;49m\u001b[43mfrom_numpy\u001b[49m\u001b[43m(\u001b[49m\u001b[38;5;28;43mself\u001b[39;49m\u001b[38;5;241;43m.\u001b[39;49m\u001b[43matmos_vars_ds\u001b[49m\u001b[43m[\u001b[49m\u001b[38;5;124;43m\"\u001b[39;49m\u001b[38;5;124;43mtemperature\u001b[39;49m\u001b[38;5;124;43m\"\u001b[39;49m\u001b[43m]\u001b[49m\u001b[38;5;241;43m.\u001b[39;49m\u001b[43mvalues\u001b[49m\u001b[43m[\u001b[49m\u001b[43m[\u001b[49m\u001b[43mi\u001b[49m\u001b[43m \u001b[49m\u001b[38;5;241;43m-\u001b[39;49m\u001b[43m \u001b[49m\u001b[38;5;241;43m1\u001b[39;49m\u001b[43m,\u001b[49m\u001b[43m \u001b[49m\u001b[43mi\u001b[49m\u001b[43m]\u001b[49m\u001b[43m]\u001b[49m\u001b[43m[\u001b[49m\u001b[38;5;28;43;01mNone\u001b[39;49;00m\u001b[43m]\u001b[49m\u001b[43m)\u001b[49m,\n\u001b[1;32m     31\u001b[0m         \u001b[38;5;124m\"\u001b[39m\u001b[38;5;124mu\u001b[39m\u001b[38;5;124m\"\u001b[39m: torch\u001b[38;5;241m.\u001b[39mfrom_numpy(\u001b[38;5;28mself\u001b[39m\u001b[38;5;241m.\u001b[39matmos_vars_ds[\u001b[38;5;124m\"\u001b[39m\u001b[38;5;124mu_component_of_wind\u001b[39m\u001b[38;5;124m\"\u001b[39m]\u001b[38;5;241m.\u001b[39mvalues[[i \u001b[38;5;241m-\u001b[39m \u001b[38;5;241m1\u001b[39m, i]][\u001b[38;5;28;01mNone\u001b[39;00m]),\n\u001b[1;32m     32\u001b[0m         \u001b[38;5;124m\"\u001b[39m\u001b[38;5;124mv\u001b[39m\u001b[38;5;124m\"\u001b[39m: torch\u001b[38;5;241m.\u001b[39mfrom_numpy(\u001b[38;5;28mself\u001b[39m\u001b[38;5;241m.\u001b[39matmos_vars_ds[\u001b[38;5;124m\"\u001b[39m\u001b[38;5;124mv_component_of_wind\u001b[39m\u001b[38;5;124m\"\u001b[39m]\u001b[38;5;241m.\u001b[39mvalues[[i \u001b[38;5;241m-\u001b[39m \u001b[38;5;241m1\u001b[39m, i]][\u001b[38;5;28;01mNone\u001b[39;00m]),\n\u001b[1;32m     33\u001b[0m         \u001b[38;5;124m\"\u001b[39m\u001b[38;5;124mq\u001b[39m\u001b[38;5;124m\"\u001b[39m: torch\u001b[38;5;241m.\u001b[39mfrom_numpy(\u001b[38;5;28mself\u001b[39m\u001b[38;5;241m.\u001b[39matmos_vars_ds[\u001b[38;5;124m\"\u001b[39m\u001b[38;5;124mspecific_humidity\u001b[39m\u001b[38;5;124m\"\u001b[39m]\u001b[38;5;241m.\u001b[39mvalues[[i \u001b[38;5;241m-\u001b[39m \u001b[38;5;241m1\u001b[39m, i]][\u001b[38;5;28;01mNone\u001b[39;00m]),\n\u001b[1;32m     34\u001b[0m         \u001b[38;5;124m\"\u001b[39m\u001b[38;5;124mz\u001b[39m\u001b[38;5;124m\"\u001b[39m: torch\u001b[38;5;241m.\u001b[39mfrom_numpy(\u001b[38;5;28mself\u001b[39m\u001b[38;5;241m.\u001b[39matmos_vars_ds[\u001b[38;5;124m\"\u001b[39m\u001b[38;5;124mgeopotential\u001b[39m\u001b[38;5;124m\"\u001b[39m]\u001b[38;5;241m.\u001b[39mvalues[[i \u001b[38;5;241m-\u001b[39m \u001b[38;5;241m1\u001b[39m, i]][\u001b[38;5;28;01mNone\u001b[39;00m]),\n\u001b[1;32m     35\u001b[0m     }\n\u001b[1;32m     37\u001b[0m     metadata\u001b[38;5;241m=\u001b[39mMetadata(\n\u001b[1;32m     38\u001b[0m     lat\u001b[38;5;241m=\u001b[39mtorch\u001b[38;5;241m.\u001b[39mfrom_numpy(\u001b[38;5;28mself\u001b[39m\u001b[38;5;241m.\u001b[39msurf_vars_ds\u001b[38;5;241m.\u001b[39mlatitude\u001b[38;5;241m.\u001b[39mvalues),\n\u001b[1;32m     39\u001b[0m     lon\u001b[38;5;241m=\u001b[39mtorch\u001b[38;5;241m.\u001b[39mfrom_numpy(\u001b[38;5;28mself\u001b[39m\u001b[38;5;241m.\u001b[39msurf_vars_ds\u001b[38;5;241m.\u001b[39mlongitude\u001b[38;5;241m.\u001b[39mvalues),\n\u001b[1;32m     40\u001b[0m     time\u001b[38;5;241m=\u001b[39m(\u001b[38;5;28mself\u001b[39m\u001b[38;5;241m.\u001b[39msurf_vars_ds\u001b[38;5;241m.\u001b[39mtime\u001b[38;5;241m.\u001b[39mvalues\u001b[38;5;241m.\u001b[39mastype(\u001b[38;5;124m\"\u001b[39m\u001b[38;5;124mdatetime64[s]\u001b[39m\u001b[38;5;124m\"\u001b[39m)\u001b[38;5;241m.\u001b[39mtolist()[i],),\n\u001b[1;32m     41\u001b[0m     atmos_levels\u001b[38;5;241m=\u001b[39m\u001b[38;5;28mtuple\u001b[39m(\u001b[38;5;28mint\u001b[39m(level) \u001b[38;5;28;01mfor\u001b[39;00m level \u001b[38;5;129;01min\u001b[39;00m \u001b[38;5;28mself\u001b[39m\u001b[38;5;241m.\u001b[39matmos_vars_ds\u001b[38;5;241m.\u001b[39mlevel\u001b[38;5;241m.\u001b[39mvalues)\n\u001b[1;32m     42\u001b[0m )\n\u001b[1;32m     45\u001b[0m     \u001b[38;5;28;01mreturn\u001b[39;00m Batch(surf_vars\u001b[38;5;241m=\u001b[39msurf_vars, static_vars\u001b[38;5;241m=\u001b[39mstatic_vars, atmos_vars\u001b[38;5;241m=\u001b[39matmos_vars, metadata\u001b[38;5;241m=\u001b[39mmetadata)\n",
      "\u001b[0;31mKeyboardInterrupt\u001b[0m: "
     ]
    }
   ],
   "source": [
    "for batch, target_batch in zip(world_batches, target_world_batches):\n",
    "    print(batch.metadata.time, target_batch.metadata.time)"
   ]
  },
  {
   "cell_type": "code",
   "execution_count": 20,
   "metadata": {},
   "outputs": [],
   "source": [
    "# world_batches"
   ]
  },
  {
   "cell_type": "code",
   "execution_count": 27,
   "metadata": {},
   "outputs": [],
   "source": [
    "data = iter(world_batches)\n"
   ]
  },
  {
   "cell_type": "code",
   "execution_count": 28,
   "metadata": {},
   "outputs": [
    {
     "ename": "KeyboardInterrupt",
     "evalue": "",
     "output_type": "error",
     "traceback": [
      "\u001b[0;31m---------------------------------------------------------------------------\u001b[0m",
      "\u001b[0;31mKeyboardInterrupt\u001b[0m                         Traceback (most recent call last)",
      "Cell \u001b[0;32mIn[28], line 1\u001b[0m\n\u001b[0;32m----> 1\u001b[0m data0 \u001b[38;5;241m=\u001b[39m \u001b[38;5;28;43mnext\u001b[39;49m\u001b[43m(\u001b[49m\u001b[43mdata\u001b[49m\u001b[43m)\u001b[49m\n",
      "Cell \u001b[0;32mIn[22], line 18\u001b[0m, in \u001b[0;36mERA5ZarrDataset.__getitem__\u001b[0;34m(self, idx)\u001b[0m\n\u001b[1;32m     13\u001b[0m i \u001b[38;5;241m=\u001b[39m \u001b[38;5;28mself\u001b[39m\u001b[38;5;241m.\u001b[39mtime_indices[idx]\n\u001b[1;32m     14\u001b[0m \u001b[38;5;66;03m# time_slice = slice(i - self.sequence_length, i)\u001b[39;00m\n\u001b[1;32m     16\u001b[0m surf_vars \u001b[38;5;241m=\u001b[39m {\n\u001b[1;32m     17\u001b[0m     \u001b[38;5;124m\"\u001b[39m\u001b[38;5;124m2t\u001b[39m\u001b[38;5;124m\"\u001b[39m: torch\u001b[38;5;241m.\u001b[39mfrom_numpy(\u001b[38;5;28mself\u001b[39m\u001b[38;5;241m.\u001b[39msurf_vars_ds[\u001b[38;5;124m\"\u001b[39m\u001b[38;5;124m2m_temperature\u001b[39m\u001b[38;5;124m\"\u001b[39m]\u001b[38;5;241m.\u001b[39mvalues[[i \u001b[38;5;241m-\u001b[39m \u001b[38;5;241m1\u001b[39m, i]][\u001b[38;5;28;01mNone\u001b[39;00m]),\n\u001b[0;32m---> 18\u001b[0m     \u001b[38;5;124m\"\u001b[39m\u001b[38;5;124m10u\u001b[39m\u001b[38;5;124m\"\u001b[39m: torch\u001b[38;5;241m.\u001b[39mfrom_numpy(\u001b[38;5;28;43mself\u001b[39;49m\u001b[38;5;241;43m.\u001b[39;49m\u001b[43msurf_vars_ds\u001b[49m\u001b[43m[\u001b[49m\u001b[38;5;124;43m\"\u001b[39;49m\u001b[38;5;124;43m10m_u_component_of_wind\u001b[39;49m\u001b[38;5;124;43m\"\u001b[39;49m\u001b[43m]\u001b[49m\u001b[38;5;241;43m.\u001b[39;49m\u001b[43mvalues\u001b[49m[[i \u001b[38;5;241m-\u001b[39m \u001b[38;5;241m1\u001b[39m, i]][\u001b[38;5;28;01mNone\u001b[39;00m]),\n\u001b[1;32m     19\u001b[0m     \u001b[38;5;124m\"\u001b[39m\u001b[38;5;124m10v\u001b[39m\u001b[38;5;124m\"\u001b[39m: torch\u001b[38;5;241m.\u001b[39mfrom_numpy(\u001b[38;5;28mself\u001b[39m\u001b[38;5;241m.\u001b[39msurf_vars_ds[\u001b[38;5;124m\"\u001b[39m\u001b[38;5;124m10m_v_component_of_wind\u001b[39m\u001b[38;5;124m\"\u001b[39m]\u001b[38;5;241m.\u001b[39mvalues[[i \u001b[38;5;241m-\u001b[39m \u001b[38;5;241m1\u001b[39m, i]][\u001b[38;5;28;01mNone\u001b[39;00m]),\n\u001b[1;32m     20\u001b[0m     \u001b[38;5;124m\"\u001b[39m\u001b[38;5;124mmsl\u001b[39m\u001b[38;5;124m\"\u001b[39m: torch\u001b[38;5;241m.\u001b[39mfrom_numpy(\u001b[38;5;28mself\u001b[39m\u001b[38;5;241m.\u001b[39msurf_vars_ds[\u001b[38;5;124m\"\u001b[39m\u001b[38;5;124mmean_sea_level_pressure\u001b[39m\u001b[38;5;124m\"\u001b[39m]\u001b[38;5;241m.\u001b[39mvalues[[i \u001b[38;5;241m-\u001b[39m \u001b[38;5;241m1\u001b[39m, i]][\u001b[38;5;28;01mNone\u001b[39;00m]),\n\u001b[1;32m     21\u001b[0m }\n\u001b[1;32m     23\u001b[0m static_vars \u001b[38;5;241m=\u001b[39m {\n\u001b[1;32m     24\u001b[0m     \u001b[38;5;124m\"\u001b[39m\u001b[38;5;124mz\u001b[39m\u001b[38;5;124m\"\u001b[39m: torch\u001b[38;5;241m.\u001b[39mfrom_numpy(\u001b[38;5;28mself\u001b[39m\u001b[38;5;241m.\u001b[39mstatic_vars_ds[\u001b[38;5;124m\"\u001b[39m\u001b[38;5;124mgeopotential_at_surface\u001b[39m\u001b[38;5;124m\"\u001b[39m]\u001b[38;5;241m.\u001b[39mvalues),\n\u001b[1;32m     25\u001b[0m     \u001b[38;5;124m\"\u001b[39m\u001b[38;5;124mslt\u001b[39m\u001b[38;5;124m\"\u001b[39m: torch\u001b[38;5;241m.\u001b[39mfrom_numpy(\u001b[38;5;28mself\u001b[39m\u001b[38;5;241m.\u001b[39mstatic_vars_ds[\u001b[38;5;124m\"\u001b[39m\u001b[38;5;124msoil_type\u001b[39m\u001b[38;5;124m\"\u001b[39m]\u001b[38;5;241m.\u001b[39mvalues),\n\u001b[1;32m     26\u001b[0m     \u001b[38;5;124m\"\u001b[39m\u001b[38;5;124mlsm\u001b[39m\u001b[38;5;124m\"\u001b[39m: torch\u001b[38;5;241m.\u001b[39mfrom_numpy(\u001b[38;5;28mself\u001b[39m\u001b[38;5;241m.\u001b[39mstatic_vars_ds[\u001b[38;5;124m\"\u001b[39m\u001b[38;5;124mland_sea_mask\u001b[39m\u001b[38;5;124m\"\u001b[39m]\u001b[38;5;241m.\u001b[39mvalues),\n\u001b[1;32m     27\u001b[0m }\n\u001b[1;32m     29\u001b[0m atmos_vars \u001b[38;5;241m=\u001b[39m {\n\u001b[1;32m     30\u001b[0m     \u001b[38;5;124m\"\u001b[39m\u001b[38;5;124mt\u001b[39m\u001b[38;5;124m\"\u001b[39m: torch\u001b[38;5;241m.\u001b[39mfrom_numpy(\u001b[38;5;28mself\u001b[39m\u001b[38;5;241m.\u001b[39matmos_vars_ds[\u001b[38;5;124m\"\u001b[39m\u001b[38;5;124mtemperature\u001b[39m\u001b[38;5;124m\"\u001b[39m]\u001b[38;5;241m.\u001b[39mvalues[[i \u001b[38;5;241m-\u001b[39m \u001b[38;5;241m1\u001b[39m, i]][\u001b[38;5;28;01mNone\u001b[39;00m]),\n\u001b[1;32m     31\u001b[0m     \u001b[38;5;124m\"\u001b[39m\u001b[38;5;124mu\u001b[39m\u001b[38;5;124m\"\u001b[39m: torch\u001b[38;5;241m.\u001b[39mfrom_numpy(\u001b[38;5;28mself\u001b[39m\u001b[38;5;241m.\u001b[39matmos_vars_ds[\u001b[38;5;124m\"\u001b[39m\u001b[38;5;124mu_component_of_wind\u001b[39m\u001b[38;5;124m\"\u001b[39m]\u001b[38;5;241m.\u001b[39mvalues[[i \u001b[38;5;241m-\u001b[39m \u001b[38;5;241m1\u001b[39m, i]][\u001b[38;5;28;01mNone\u001b[39;00m]),\n\u001b[0;32m   (...)\u001b[0m\n\u001b[1;32m     34\u001b[0m     \u001b[38;5;124m\"\u001b[39m\u001b[38;5;124mz\u001b[39m\u001b[38;5;124m\"\u001b[39m: torch\u001b[38;5;241m.\u001b[39mfrom_numpy(\u001b[38;5;28mself\u001b[39m\u001b[38;5;241m.\u001b[39matmos_vars_ds[\u001b[38;5;124m\"\u001b[39m\u001b[38;5;124mgeopotential\u001b[39m\u001b[38;5;124m\"\u001b[39m]\u001b[38;5;241m.\u001b[39mvalues[[i \u001b[38;5;241m-\u001b[39m \u001b[38;5;241m1\u001b[39m, i]][\u001b[38;5;28;01mNone\u001b[39;00m]),\n\u001b[1;32m     35\u001b[0m }\n",
      "File \u001b[0;32m~/koomi/projects/AIMS-PROJECT/venv/lib/python3.10/site-packages/xarray/core/dataarray.py:814\u001b[0m, in \u001b[0;36mDataArray.values\u001b[0;34m(self)\u001b[0m\n\u001b[1;32m    801\u001b[0m \u001b[38;5;129m@property\u001b[39m\n\u001b[1;32m    802\u001b[0m \u001b[38;5;28;01mdef\u001b[39;00m\u001b[38;5;250m \u001b[39m\u001b[38;5;21mvalues\u001b[39m(\u001b[38;5;28mself\u001b[39m) \u001b[38;5;241m-\u001b[39m\u001b[38;5;241m>\u001b[39m np\u001b[38;5;241m.\u001b[39mndarray:\n\u001b[1;32m    803\u001b[0m \u001b[38;5;250m    \u001b[39m\u001b[38;5;124;03m\"\"\"\u001b[39;00m\n\u001b[1;32m    804\u001b[0m \u001b[38;5;124;03m    The array's data converted to numpy.ndarray.\u001b[39;00m\n\u001b[1;32m    805\u001b[0m \n\u001b[0;32m   (...)\u001b[0m\n\u001b[1;32m    812\u001b[0m \u001b[38;5;124;03m    to this array may be reflected in the DataArray as well.\u001b[39;00m\n\u001b[1;32m    813\u001b[0m \u001b[38;5;124;03m    \"\"\"\u001b[39;00m\n\u001b[0;32m--> 814\u001b[0m     \u001b[38;5;28;01mreturn\u001b[39;00m \u001b[38;5;28;43mself\u001b[39;49m\u001b[38;5;241;43m.\u001b[39;49m\u001b[43mvariable\u001b[49m\u001b[38;5;241;43m.\u001b[39;49m\u001b[43mvalues\u001b[49m\n",
      "File \u001b[0;32m~/koomi/projects/AIMS-PROJECT/venv/lib/python3.10/site-packages/xarray/core/variable.py:507\u001b[0m, in \u001b[0;36mVariable.values\u001b[0;34m(self)\u001b[0m\n\u001b[1;32m    504\u001b[0m \u001b[38;5;129m@property\u001b[39m\n\u001b[1;32m    505\u001b[0m \u001b[38;5;28;01mdef\u001b[39;00m\u001b[38;5;250m \u001b[39m\u001b[38;5;21mvalues\u001b[39m(\u001b[38;5;28mself\u001b[39m) \u001b[38;5;241m-\u001b[39m\u001b[38;5;241m>\u001b[39m np\u001b[38;5;241m.\u001b[39mndarray:\n\u001b[1;32m    506\u001b[0m \u001b[38;5;250m    \u001b[39m\u001b[38;5;124;03m\"\"\"The variable's data as a numpy.ndarray\"\"\"\u001b[39;00m\n\u001b[0;32m--> 507\u001b[0m     \u001b[38;5;28;01mreturn\u001b[39;00m \u001b[43m_as_array_or_item\u001b[49m\u001b[43m(\u001b[49m\u001b[38;5;28;43mself\u001b[39;49m\u001b[38;5;241;43m.\u001b[39;49m\u001b[43m_data\u001b[49m\u001b[43m)\u001b[49m\n",
      "File \u001b[0;32m~/koomi/projects/AIMS-PROJECT/venv/lib/python3.10/site-packages/xarray/core/variable.py:301\u001b[0m, in \u001b[0;36m_as_array_or_item\u001b[0;34m(data)\u001b[0m\n\u001b[1;32m    287\u001b[0m \u001b[38;5;28;01mdef\u001b[39;00m\u001b[38;5;250m \u001b[39m\u001b[38;5;21m_as_array_or_item\u001b[39m(data):\n\u001b[1;32m    288\u001b[0m \u001b[38;5;250m    \u001b[39m\u001b[38;5;124;03m\"\"\"Return the given values as a numpy array, or as an individual item if\u001b[39;00m\n\u001b[1;32m    289\u001b[0m \u001b[38;5;124;03m    it's a 0d datetime64 or timedelta64 array.\u001b[39;00m\n\u001b[1;32m    290\u001b[0m \n\u001b[0;32m   (...)\u001b[0m\n\u001b[1;32m    299\u001b[0m \u001b[38;5;124;03m    TODO: remove this (replace with np.asarray) once these issues are fixed\u001b[39;00m\n\u001b[1;32m    300\u001b[0m \u001b[38;5;124;03m    \"\"\"\u001b[39;00m\n\u001b[0;32m--> 301\u001b[0m     data \u001b[38;5;241m=\u001b[39m \u001b[43mnp\u001b[49m\u001b[38;5;241;43m.\u001b[39;49m\u001b[43masarray\u001b[49m\u001b[43m(\u001b[49m\u001b[43mdata\u001b[49m\u001b[43m)\u001b[49m\n\u001b[1;32m    302\u001b[0m     \u001b[38;5;28;01mif\u001b[39;00m data\u001b[38;5;241m.\u001b[39mndim \u001b[38;5;241m==\u001b[39m \u001b[38;5;241m0\u001b[39m:\n\u001b[1;32m    303\u001b[0m         kind \u001b[38;5;241m=\u001b[39m data\u001b[38;5;241m.\u001b[39mdtype\u001b[38;5;241m.\u001b[39mkind\n",
      "File \u001b[0;32m~/koomi/projects/AIMS-PROJECT/venv/lib/python3.10/site-packages/xarray/core/indexing.py:509\u001b[0m, in \u001b[0;36mExplicitlyIndexed.__array__\u001b[0;34m(self, dtype, copy)\u001b[0m\n\u001b[1;32m    504\u001b[0m \u001b[38;5;28;01mdef\u001b[39;00m\u001b[38;5;250m \u001b[39m\u001b[38;5;21m__array__\u001b[39m(\n\u001b[1;32m    505\u001b[0m     \u001b[38;5;28mself\u001b[39m, dtype: np\u001b[38;5;241m.\u001b[39mtyping\u001b[38;5;241m.\u001b[39mDTypeLike \u001b[38;5;241m=\u001b[39m \u001b[38;5;28;01mNone\u001b[39;00m, \u001b[38;5;241m/\u001b[39m, \u001b[38;5;241m*\u001b[39m, copy: \u001b[38;5;28mbool\u001b[39m \u001b[38;5;241m|\u001b[39m \u001b[38;5;28;01mNone\u001b[39;00m \u001b[38;5;241m=\u001b[39m \u001b[38;5;28;01mNone\u001b[39;00m\n\u001b[1;32m    506\u001b[0m ) \u001b[38;5;241m-\u001b[39m\u001b[38;5;241m>\u001b[39m np\u001b[38;5;241m.\u001b[39mndarray:\n\u001b[1;32m    507\u001b[0m     \u001b[38;5;66;03m# Leave casting to an array up to the underlying array type.\u001b[39;00m\n\u001b[1;32m    508\u001b[0m     \u001b[38;5;28;01mif\u001b[39;00m Version(np\u001b[38;5;241m.\u001b[39m__version__) \u001b[38;5;241m>\u001b[39m\u001b[38;5;241m=\u001b[39m Version(\u001b[38;5;124m\"\u001b[39m\u001b[38;5;124m2.0.0\u001b[39m\u001b[38;5;124m\"\u001b[39m):\n\u001b[0;32m--> 509\u001b[0m         \u001b[38;5;28;01mreturn\u001b[39;00m np\u001b[38;5;241m.\u001b[39masarray(\u001b[38;5;28;43mself\u001b[39;49m\u001b[38;5;241;43m.\u001b[39;49m\u001b[43mget_duck_array\u001b[49m\u001b[43m(\u001b[49m\u001b[43m)\u001b[49m, dtype\u001b[38;5;241m=\u001b[39mdtype, copy\u001b[38;5;241m=\u001b[39mcopy)\n\u001b[1;32m    510\u001b[0m     \u001b[38;5;28;01melse\u001b[39;00m:\n\u001b[1;32m    511\u001b[0m         \u001b[38;5;28;01mreturn\u001b[39;00m np\u001b[38;5;241m.\u001b[39masarray(\u001b[38;5;28mself\u001b[39m\u001b[38;5;241m.\u001b[39mget_duck_array(), dtype\u001b[38;5;241m=\u001b[39mdtype)\n",
      "File \u001b[0;32m~/koomi/projects/AIMS-PROJECT/venv/lib/python3.10/site-packages/xarray/core/indexing.py:835\u001b[0m, in \u001b[0;36mMemoryCachedArray.get_duck_array\u001b[0;34m(self)\u001b[0m\n\u001b[1;32m    834\u001b[0m \u001b[38;5;28;01mdef\u001b[39;00m\u001b[38;5;250m \u001b[39m\u001b[38;5;21mget_duck_array\u001b[39m(\u001b[38;5;28mself\u001b[39m):\n\u001b[0;32m--> 835\u001b[0m     \u001b[38;5;28;43mself\u001b[39;49m\u001b[38;5;241;43m.\u001b[39;49m\u001b[43m_ensure_cached\u001b[49m\u001b[43m(\u001b[49m\u001b[43m)\u001b[49m\n\u001b[1;32m    836\u001b[0m     \u001b[38;5;28;01mreturn\u001b[39;00m \u001b[38;5;28mself\u001b[39m\u001b[38;5;241m.\u001b[39marray\u001b[38;5;241m.\u001b[39mget_duck_array()\n",
      "File \u001b[0;32m~/koomi/projects/AIMS-PROJECT/venv/lib/python3.10/site-packages/xarray/core/indexing.py:832\u001b[0m, in \u001b[0;36mMemoryCachedArray._ensure_cached\u001b[0;34m(self)\u001b[0m\n\u001b[1;32m    831\u001b[0m \u001b[38;5;28;01mdef\u001b[39;00m\u001b[38;5;250m \u001b[39m\u001b[38;5;21m_ensure_cached\u001b[39m(\u001b[38;5;28mself\u001b[39m):\n\u001b[0;32m--> 832\u001b[0m     \u001b[38;5;28mself\u001b[39m\u001b[38;5;241m.\u001b[39marray \u001b[38;5;241m=\u001b[39m as_indexable(\u001b[38;5;28;43mself\u001b[39;49m\u001b[38;5;241;43m.\u001b[39;49m\u001b[43marray\u001b[49m\u001b[38;5;241;43m.\u001b[39;49m\u001b[43mget_duck_array\u001b[49m\u001b[43m(\u001b[49m\u001b[43m)\u001b[49m)\n",
      "File \u001b[0;32m~/koomi/projects/AIMS-PROJECT/venv/lib/python3.10/site-packages/xarray/core/indexing.py:789\u001b[0m, in \u001b[0;36mCopyOnWriteArray.get_duck_array\u001b[0;34m(self)\u001b[0m\n\u001b[1;32m    788\u001b[0m \u001b[38;5;28;01mdef\u001b[39;00m\u001b[38;5;250m \u001b[39m\u001b[38;5;21mget_duck_array\u001b[39m(\u001b[38;5;28mself\u001b[39m):\n\u001b[0;32m--> 789\u001b[0m     \u001b[38;5;28;01mreturn\u001b[39;00m \u001b[38;5;28;43mself\u001b[39;49m\u001b[38;5;241;43m.\u001b[39;49m\u001b[43marray\u001b[49m\u001b[38;5;241;43m.\u001b[39;49m\u001b[43mget_duck_array\u001b[49m\u001b[43m(\u001b[49m\u001b[43m)\u001b[49m\n",
      "File \u001b[0;32m~/koomi/projects/AIMS-PROJECT/venv/lib/python3.10/site-packages/xarray/core/indexing.py:652\u001b[0m, in \u001b[0;36mLazilyIndexedArray.get_duck_array\u001b[0;34m(self)\u001b[0m\n\u001b[1;32m    648\u001b[0m     array \u001b[38;5;241m=\u001b[39m apply_indexer(\u001b[38;5;28mself\u001b[39m\u001b[38;5;241m.\u001b[39marray, \u001b[38;5;28mself\u001b[39m\u001b[38;5;241m.\u001b[39mkey)\n\u001b[1;32m    649\u001b[0m \u001b[38;5;28;01melse\u001b[39;00m:\n\u001b[1;32m    650\u001b[0m     \u001b[38;5;66;03m# If the array is not an ExplicitlyIndexedNDArrayMixin,\u001b[39;00m\n\u001b[1;32m    651\u001b[0m     \u001b[38;5;66;03m# it may wrap a BackendArray so use its __getitem__\u001b[39;00m\n\u001b[0;32m--> 652\u001b[0m     array \u001b[38;5;241m=\u001b[39m \u001b[38;5;28;43mself\u001b[39;49m\u001b[38;5;241;43m.\u001b[39;49m\u001b[43marray\u001b[49m\u001b[43m[\u001b[49m\u001b[38;5;28;43mself\u001b[39;49m\u001b[38;5;241;43m.\u001b[39;49m\u001b[43mkey\u001b[49m\u001b[43m]\u001b[49m\n\u001b[1;32m    654\u001b[0m \u001b[38;5;66;03m# self.array[self.key] is now a numpy array when\u001b[39;00m\n\u001b[1;32m    655\u001b[0m \u001b[38;5;66;03m# self.array is a BackendArray subclass\u001b[39;00m\n\u001b[1;32m    656\u001b[0m \u001b[38;5;66;03m# and self.key is BasicIndexer((slice(None, None, None),))\u001b[39;00m\n\u001b[1;32m    657\u001b[0m \u001b[38;5;66;03m# so we need the explicit check for ExplicitlyIndexed\u001b[39;00m\n\u001b[1;32m    658\u001b[0m \u001b[38;5;28;01mif\u001b[39;00m \u001b[38;5;28misinstance\u001b[39m(array, ExplicitlyIndexed):\n",
      "File \u001b[0;32m~/koomi/projects/AIMS-PROJECT/venv/lib/python3.10/site-packages/xarray/backends/zarr.py:223\u001b[0m, in \u001b[0;36mZarrArrayWrapper.__getitem__\u001b[0;34m(self, key)\u001b[0m\n\u001b[1;32m    221\u001b[0m \u001b[38;5;28;01melif\u001b[39;00m \u001b[38;5;28misinstance\u001b[39m(key, indexing\u001b[38;5;241m.\u001b[39mOuterIndexer):\n\u001b[1;32m    222\u001b[0m     method \u001b[38;5;241m=\u001b[39m \u001b[38;5;28mself\u001b[39m\u001b[38;5;241m.\u001b[39m_oindex\n\u001b[0;32m--> 223\u001b[0m \u001b[38;5;28;01mreturn\u001b[39;00m \u001b[43mindexing\u001b[49m\u001b[38;5;241;43m.\u001b[39;49m\u001b[43mexplicit_indexing_adapter\u001b[49m\u001b[43m(\u001b[49m\n\u001b[1;32m    224\u001b[0m \u001b[43m    \u001b[49m\u001b[43mkey\u001b[49m\u001b[43m,\u001b[49m\u001b[43m \u001b[49m\u001b[43marray\u001b[49m\u001b[38;5;241;43m.\u001b[39;49m\u001b[43mshape\u001b[49m\u001b[43m,\u001b[49m\u001b[43m \u001b[49m\u001b[43mindexing\u001b[49m\u001b[38;5;241;43m.\u001b[39;49m\u001b[43mIndexingSupport\u001b[49m\u001b[38;5;241;43m.\u001b[39;49m\u001b[43mVECTORIZED\u001b[49m\u001b[43m,\u001b[49m\u001b[43m \u001b[49m\u001b[43mmethod\u001b[49m\n\u001b[1;32m    225\u001b[0m \u001b[43m\u001b[49m\u001b[43m)\u001b[49m\n",
      "File \u001b[0;32m~/koomi/projects/AIMS-PROJECT/venv/lib/python3.10/site-packages/xarray/core/indexing.py:1013\u001b[0m, in \u001b[0;36mexplicit_indexing_adapter\u001b[0;34m(key, shape, indexing_support, raw_indexing_method)\u001b[0m\n\u001b[1;32m    991\u001b[0m \u001b[38;5;250m\u001b[39m\u001b[38;5;124;03m\"\"\"Support explicit indexing by delegating to a raw indexing method.\u001b[39;00m\n\u001b[1;32m    992\u001b[0m \n\u001b[1;32m    993\u001b[0m \u001b[38;5;124;03mOuter and/or vectorized indexers are supported by indexing a second time\u001b[39;00m\n\u001b[0;32m   (...)\u001b[0m\n\u001b[1;32m   1010\u001b[0m \u001b[38;5;124;03mIndexing result, in the form of a duck numpy-array.\u001b[39;00m\n\u001b[1;32m   1011\u001b[0m \u001b[38;5;124;03m\"\"\"\u001b[39;00m\n\u001b[1;32m   1012\u001b[0m raw_key, numpy_indices \u001b[38;5;241m=\u001b[39m decompose_indexer(key, shape, indexing_support)\n\u001b[0;32m-> 1013\u001b[0m result \u001b[38;5;241m=\u001b[39m \u001b[43mraw_indexing_method\u001b[49m\u001b[43m(\u001b[49m\u001b[43mraw_key\u001b[49m\u001b[38;5;241;43m.\u001b[39;49m\u001b[43mtuple\u001b[49m\u001b[43m)\u001b[49m\n\u001b[1;32m   1014\u001b[0m \u001b[38;5;28;01mif\u001b[39;00m numpy_indices\u001b[38;5;241m.\u001b[39mtuple:\n\u001b[1;32m   1015\u001b[0m     \u001b[38;5;66;03m# index the loaded np.ndarray\u001b[39;00m\n\u001b[1;32m   1016\u001b[0m     indexable \u001b[38;5;241m=\u001b[39m NumpyIndexingAdapter(result)\n",
      "File \u001b[0;32m~/koomi/projects/AIMS-PROJECT/venv/lib/python3.10/site-packages/xarray/backends/zarr.py:213\u001b[0m, in \u001b[0;36mZarrArrayWrapper._getitem\u001b[0;34m(self, key)\u001b[0m\n\u001b[1;32m    212\u001b[0m \u001b[38;5;28;01mdef\u001b[39;00m\u001b[38;5;250m \u001b[39m\u001b[38;5;21m_getitem\u001b[39m(\u001b[38;5;28mself\u001b[39m, key):\n\u001b[0;32m--> 213\u001b[0m     \u001b[38;5;28;01mreturn\u001b[39;00m \u001b[38;5;28;43mself\u001b[39;49m\u001b[38;5;241;43m.\u001b[39;49m\u001b[43m_array\u001b[49m\u001b[43m[\u001b[49m\u001b[43mkey\u001b[49m\u001b[43m]\u001b[49m\n",
      "File \u001b[0;32m~/koomi/projects/AIMS-PROJECT/venv/lib/python3.10/site-packages/zarr/core.py:795\u001b[0m, in \u001b[0;36mArray.__getitem__\u001b[0;34m(self, selection)\u001b[0m\n\u001b[1;32m    793\u001b[0m     result \u001b[38;5;241m=\u001b[39m \u001b[38;5;28mself\u001b[39m\u001b[38;5;241m.\u001b[39mvindex[selection]\n\u001b[1;32m    794\u001b[0m \u001b[38;5;28;01melif\u001b[39;00m is_pure_orthogonal_indexing(pure_selection, \u001b[38;5;28mself\u001b[39m\u001b[38;5;241m.\u001b[39mndim):\n\u001b[0;32m--> 795\u001b[0m     result \u001b[38;5;241m=\u001b[39m \u001b[38;5;28;43mself\u001b[39;49m\u001b[38;5;241;43m.\u001b[39;49m\u001b[43mget_orthogonal_selection\u001b[49m\u001b[43m(\u001b[49m\u001b[43mpure_selection\u001b[49m\u001b[43m,\u001b[49m\u001b[43m \u001b[49m\u001b[43mfields\u001b[49m\u001b[38;5;241;43m=\u001b[39;49m\u001b[43mfields\u001b[49m\u001b[43m)\u001b[49m\n\u001b[1;32m    796\u001b[0m \u001b[38;5;28;01melse\u001b[39;00m:\n\u001b[1;32m    797\u001b[0m     result \u001b[38;5;241m=\u001b[39m \u001b[38;5;28mself\u001b[39m\u001b[38;5;241m.\u001b[39mget_basic_selection(pure_selection, fields\u001b[38;5;241m=\u001b[39mfields)\n",
      "File \u001b[0;32m~/koomi/projects/AIMS-PROJECT/venv/lib/python3.10/site-packages/zarr/core.py:1077\u001b[0m, in \u001b[0;36mArray.get_orthogonal_selection\u001b[0;34m(self, selection, out, fields)\u001b[0m\n\u001b[1;32m   1074\u001b[0m \u001b[38;5;66;03m# setup indexer\u001b[39;00m\n\u001b[1;32m   1075\u001b[0m indexer \u001b[38;5;241m=\u001b[39m OrthogonalIndexer(selection, \u001b[38;5;28mself\u001b[39m)\n\u001b[0;32m-> 1077\u001b[0m \u001b[38;5;28;01mreturn\u001b[39;00m \u001b[38;5;28;43mself\u001b[39;49m\u001b[38;5;241;43m.\u001b[39;49m\u001b[43m_get_selection\u001b[49m\u001b[43m(\u001b[49m\u001b[43mindexer\u001b[49m\u001b[38;5;241;43m=\u001b[39;49m\u001b[43mindexer\u001b[49m\u001b[43m,\u001b[49m\u001b[43m \u001b[49m\u001b[43mout\u001b[49m\u001b[38;5;241;43m=\u001b[39;49m\u001b[43mout\u001b[49m\u001b[43m,\u001b[49m\u001b[43m \u001b[49m\u001b[43mfields\u001b[49m\u001b[38;5;241;43m=\u001b[39;49m\u001b[43mfields\u001b[49m\u001b[43m)\u001b[49m\n",
      "File \u001b[0;32m~/koomi/projects/AIMS-PROJECT/venv/lib/python3.10/site-packages/zarr/core.py:1340\u001b[0m, in \u001b[0;36mArray._get_selection\u001b[0;34m(self, indexer, out, fields)\u001b[0m\n\u001b[1;32m   1337\u001b[0m \u001b[38;5;28;01mif\u001b[39;00m math\u001b[38;5;241m.\u001b[39mprod(out_shape) \u001b[38;5;241m>\u001b[39m \u001b[38;5;241m0\u001b[39m:\n\u001b[1;32m   1338\u001b[0m     \u001b[38;5;66;03m# allow storage to get multiple items at once\u001b[39;00m\n\u001b[1;32m   1339\u001b[0m     lchunk_coords, lchunk_selection, lout_selection \u001b[38;5;241m=\u001b[39m \u001b[38;5;28mzip\u001b[39m(\u001b[38;5;241m*\u001b[39mindexer)\n\u001b[0;32m-> 1340\u001b[0m     \u001b[38;5;28;43mself\u001b[39;49m\u001b[38;5;241;43m.\u001b[39;49m\u001b[43m_chunk_getitems\u001b[49m\u001b[43m(\u001b[49m\n\u001b[1;32m   1341\u001b[0m \u001b[43m        \u001b[49m\u001b[43mlchunk_coords\u001b[49m\u001b[43m,\u001b[49m\n\u001b[1;32m   1342\u001b[0m \u001b[43m        \u001b[49m\u001b[43mlchunk_selection\u001b[49m\u001b[43m,\u001b[49m\n\u001b[1;32m   1343\u001b[0m \u001b[43m        \u001b[49m\u001b[43mout\u001b[49m\u001b[43m,\u001b[49m\n\u001b[1;32m   1344\u001b[0m \u001b[43m        \u001b[49m\u001b[43mlout_selection\u001b[49m\u001b[43m,\u001b[49m\n\u001b[1;32m   1345\u001b[0m \u001b[43m        \u001b[49m\u001b[43mdrop_axes\u001b[49m\u001b[38;5;241;43m=\u001b[39;49m\u001b[43mindexer\u001b[49m\u001b[38;5;241;43m.\u001b[39;49m\u001b[43mdrop_axes\u001b[49m\u001b[43m,\u001b[49m\n\u001b[1;32m   1346\u001b[0m \u001b[43m        \u001b[49m\u001b[43mfields\u001b[49m\u001b[38;5;241;43m=\u001b[39;49m\u001b[43mfields\u001b[49m\u001b[43m,\u001b[49m\n\u001b[1;32m   1347\u001b[0m \u001b[43m    \u001b[49m\u001b[43m)\u001b[49m\n\u001b[1;32m   1348\u001b[0m \u001b[38;5;28;01mif\u001b[39;00m out\u001b[38;5;241m.\u001b[39mshape:\n\u001b[1;32m   1349\u001b[0m     \u001b[38;5;28;01mreturn\u001b[39;00m out\n",
      "File \u001b[0;32m~/koomi/projects/AIMS-PROJECT/venv/lib/python3.10/site-packages/zarr/core.py:2181\u001b[0m, in \u001b[0;36mArray._chunk_getitems\u001b[0;34m(self, lchunk_coords, lchunk_selection, out, lout_selection, drop_axes, fields)\u001b[0m\n\u001b[1;32m   2179\u001b[0m     \u001b[38;5;28;01mif\u001b[39;00m \u001b[38;5;129;01mnot\u001b[39;00m \u001b[38;5;28misinstance\u001b[39m(\u001b[38;5;28mself\u001b[39m\u001b[38;5;241m.\u001b[39m_meta_array, np\u001b[38;5;241m.\u001b[39mndarray):\n\u001b[1;32m   2180\u001b[0m         contexts \u001b[38;5;241m=\u001b[39m ConstantMap(ckeys, constant\u001b[38;5;241m=\u001b[39mContext(meta_array\u001b[38;5;241m=\u001b[39m\u001b[38;5;28mself\u001b[39m\u001b[38;5;241m.\u001b[39m_meta_array))\n\u001b[0;32m-> 2181\u001b[0m     cdatas \u001b[38;5;241m=\u001b[39m \u001b[38;5;28;43mself\u001b[39;49m\u001b[38;5;241;43m.\u001b[39;49m\u001b[43mchunk_store\u001b[49m\u001b[38;5;241;43m.\u001b[39;49m\u001b[43mgetitems\u001b[49m\u001b[43m(\u001b[49m\u001b[43mckeys\u001b[49m\u001b[43m,\u001b[49m\u001b[43m \u001b[49m\u001b[43mcontexts\u001b[49m\u001b[38;5;241;43m=\u001b[39;49m\u001b[43mcontexts\u001b[49m\u001b[43m)\u001b[49m\n\u001b[1;32m   2183\u001b[0m \u001b[38;5;28;01mfor\u001b[39;00m ckey, chunk_select, out_select \u001b[38;5;129;01min\u001b[39;00m \u001b[38;5;28mzip\u001b[39m(ckeys, lchunk_selection, lout_selection):\n\u001b[1;32m   2184\u001b[0m     \u001b[38;5;28;01mif\u001b[39;00m ckey \u001b[38;5;129;01min\u001b[39;00m cdatas:\n",
      "File \u001b[0;32m~/koomi/projects/AIMS-PROJECT/venv/lib/python3.10/site-packages/zarr/storage.py:1426\u001b[0m, in \u001b[0;36mFSStore.getitems\u001b[0;34m(self, keys, contexts)\u001b[0m\n\u001b[1;32m   1422\u001b[0m \u001b[38;5;28;01mdef\u001b[39;00m\u001b[38;5;250m \u001b[39m\u001b[38;5;21mgetitems\u001b[39m(\n\u001b[1;32m   1423\u001b[0m     \u001b[38;5;28mself\u001b[39m, keys: Sequence[\u001b[38;5;28mstr\u001b[39m], \u001b[38;5;241m*\u001b[39m, contexts: Mapping[\u001b[38;5;28mstr\u001b[39m, Context]\n\u001b[1;32m   1424\u001b[0m ) \u001b[38;5;241m-\u001b[39m\u001b[38;5;241m>\u001b[39m Mapping[\u001b[38;5;28mstr\u001b[39m, Any]:\n\u001b[1;32m   1425\u001b[0m     keys_transformed \u001b[38;5;241m=\u001b[39m {\u001b[38;5;28mself\u001b[39m\u001b[38;5;241m.\u001b[39m_normalize_key(key): key \u001b[38;5;28;01mfor\u001b[39;00m key \u001b[38;5;129;01min\u001b[39;00m keys}\n\u001b[0;32m-> 1426\u001b[0m     results_transformed \u001b[38;5;241m=\u001b[39m \u001b[38;5;28;43mself\u001b[39;49m\u001b[38;5;241;43m.\u001b[39;49m\u001b[43mmap\u001b[49m\u001b[38;5;241;43m.\u001b[39;49m\u001b[43mgetitems\u001b[49m\u001b[43m(\u001b[49m\u001b[38;5;28;43mlist\u001b[39;49m\u001b[43m(\u001b[49m\u001b[43mkeys_transformed\u001b[49m\u001b[43m)\u001b[49m\u001b[43m,\u001b[49m\u001b[43m \u001b[49m\u001b[43mon_error\u001b[49m\u001b[38;5;241;43m=\u001b[39;49m\u001b[38;5;124;43m\"\u001b[39;49m\u001b[38;5;124;43mreturn\u001b[39;49m\u001b[38;5;124;43m\"\u001b[39;49m\u001b[43m)\u001b[49m\n\u001b[1;32m   1427\u001b[0m     results \u001b[38;5;241m=\u001b[39m {}\n\u001b[1;32m   1428\u001b[0m     \u001b[38;5;28;01mfor\u001b[39;00m k, v \u001b[38;5;129;01min\u001b[39;00m results_transformed\u001b[38;5;241m.\u001b[39mitems():\n",
      "File \u001b[0;32m~/koomi/projects/AIMS-PROJECT/venv/lib/python3.10/site-packages/fsspec/mapping.py:105\u001b[0m, in \u001b[0;36mFSMap.getitems\u001b[0;34m(self, keys, on_error)\u001b[0m\n\u001b[1;32m    103\u001b[0m oe \u001b[38;5;241m=\u001b[39m on_error \u001b[38;5;28;01mif\u001b[39;00m on_error \u001b[38;5;241m==\u001b[39m \u001b[38;5;124m\"\u001b[39m\u001b[38;5;124mraise\u001b[39m\u001b[38;5;124m\"\u001b[39m \u001b[38;5;28;01melse\u001b[39;00m \u001b[38;5;124m\"\u001b[39m\u001b[38;5;124mreturn\u001b[39m\u001b[38;5;124m\"\u001b[39m\n\u001b[1;32m    104\u001b[0m \u001b[38;5;28;01mtry\u001b[39;00m:\n\u001b[0;32m--> 105\u001b[0m     out \u001b[38;5;241m=\u001b[39m \u001b[38;5;28;43mself\u001b[39;49m\u001b[38;5;241;43m.\u001b[39;49m\u001b[43mfs\u001b[49m\u001b[38;5;241;43m.\u001b[39;49m\u001b[43mcat\u001b[49m\u001b[43m(\u001b[49m\u001b[43mkeys2\u001b[49m\u001b[43m,\u001b[49m\u001b[43m \u001b[49m\u001b[43mon_error\u001b[49m\u001b[38;5;241;43m=\u001b[39;49m\u001b[43moe\u001b[49m\u001b[43m)\u001b[49m\n\u001b[1;32m    106\u001b[0m     \u001b[38;5;28;01mif\u001b[39;00m \u001b[38;5;28misinstance\u001b[39m(out, \u001b[38;5;28mbytes\u001b[39m):\n\u001b[1;32m    107\u001b[0m         out \u001b[38;5;241m=\u001b[39m {keys2[\u001b[38;5;241m0\u001b[39m]: out}\n",
      "File \u001b[0;32m~/koomi/projects/AIMS-PROJECT/venv/lib/python3.10/site-packages/fsspec/asyn.py:118\u001b[0m, in \u001b[0;36msync_wrapper.<locals>.wrapper\u001b[0;34m(*args, **kwargs)\u001b[0m\n\u001b[1;32m    115\u001b[0m \u001b[38;5;129m@functools\u001b[39m\u001b[38;5;241m.\u001b[39mwraps(func)\n\u001b[1;32m    116\u001b[0m \u001b[38;5;28;01mdef\u001b[39;00m\u001b[38;5;250m \u001b[39m\u001b[38;5;21mwrapper\u001b[39m(\u001b[38;5;241m*\u001b[39margs, \u001b[38;5;241m*\u001b[39m\u001b[38;5;241m*\u001b[39mkwargs):\n\u001b[1;32m    117\u001b[0m     \u001b[38;5;28mself\u001b[39m \u001b[38;5;241m=\u001b[39m obj \u001b[38;5;129;01mor\u001b[39;00m args[\u001b[38;5;241m0\u001b[39m]\n\u001b[0;32m--> 118\u001b[0m     \u001b[38;5;28;01mreturn\u001b[39;00m \u001b[43msync\u001b[49m\u001b[43m(\u001b[49m\u001b[38;5;28;43mself\u001b[39;49m\u001b[38;5;241;43m.\u001b[39;49m\u001b[43mloop\u001b[49m\u001b[43m,\u001b[49m\u001b[43m \u001b[49m\u001b[43mfunc\u001b[49m\u001b[43m,\u001b[49m\u001b[43m \u001b[49m\u001b[38;5;241;43m*\u001b[39;49m\u001b[43margs\u001b[49m\u001b[43m,\u001b[49m\u001b[43m \u001b[49m\u001b[38;5;241;43m*\u001b[39;49m\u001b[38;5;241;43m*\u001b[39;49m\u001b[43mkwargs\u001b[49m\u001b[43m)\u001b[49m\n",
      "File \u001b[0;32m~/koomi/projects/AIMS-PROJECT/venv/lib/python3.10/site-packages/fsspec/asyn.py:91\u001b[0m, in \u001b[0;36msync\u001b[0;34m(loop, func, timeout, *args, **kwargs)\u001b[0m\n\u001b[1;32m     88\u001b[0m asyncio\u001b[38;5;241m.\u001b[39mrun_coroutine_threadsafe(_runner(event, coro, result, timeout), loop)\n\u001b[1;32m     89\u001b[0m \u001b[38;5;28;01mwhile\u001b[39;00m \u001b[38;5;28;01mTrue\u001b[39;00m:\n\u001b[1;32m     90\u001b[0m     \u001b[38;5;66;03m# this loops allows thread to get interrupted\u001b[39;00m\n\u001b[0;32m---> 91\u001b[0m     \u001b[38;5;28;01mif\u001b[39;00m \u001b[43mevent\u001b[49m\u001b[38;5;241;43m.\u001b[39;49m\u001b[43mwait\u001b[49m\u001b[43m(\u001b[49m\u001b[38;5;241;43m1\u001b[39;49m\u001b[43m)\u001b[49m:\n\u001b[1;32m     92\u001b[0m         \u001b[38;5;28;01mbreak\u001b[39;00m\n\u001b[1;32m     93\u001b[0m     \u001b[38;5;28;01mif\u001b[39;00m timeout \u001b[38;5;129;01mis\u001b[39;00m \u001b[38;5;129;01mnot\u001b[39;00m \u001b[38;5;28;01mNone\u001b[39;00m:\n",
      "File \u001b[0;32m/opt/conda/lib/python3.10/threading.py:607\u001b[0m, in \u001b[0;36mEvent.wait\u001b[0;34m(self, timeout)\u001b[0m\n\u001b[1;32m    605\u001b[0m signaled \u001b[38;5;241m=\u001b[39m \u001b[38;5;28mself\u001b[39m\u001b[38;5;241m.\u001b[39m_flag\n\u001b[1;32m    606\u001b[0m \u001b[38;5;28;01mif\u001b[39;00m \u001b[38;5;129;01mnot\u001b[39;00m signaled:\n\u001b[0;32m--> 607\u001b[0m     signaled \u001b[38;5;241m=\u001b[39m \u001b[38;5;28;43mself\u001b[39;49m\u001b[38;5;241;43m.\u001b[39;49m\u001b[43m_cond\u001b[49m\u001b[38;5;241;43m.\u001b[39;49m\u001b[43mwait\u001b[49m\u001b[43m(\u001b[49m\u001b[43mtimeout\u001b[49m\u001b[43m)\u001b[49m\n\u001b[1;32m    608\u001b[0m \u001b[38;5;28;01mreturn\u001b[39;00m signaled\n",
      "File \u001b[0;32m/opt/conda/lib/python3.10/threading.py:324\u001b[0m, in \u001b[0;36mCondition.wait\u001b[0;34m(self, timeout)\u001b[0m\n\u001b[1;32m    322\u001b[0m \u001b[38;5;28;01melse\u001b[39;00m:\n\u001b[1;32m    323\u001b[0m     \u001b[38;5;28;01mif\u001b[39;00m timeout \u001b[38;5;241m>\u001b[39m \u001b[38;5;241m0\u001b[39m:\n\u001b[0;32m--> 324\u001b[0m         gotit \u001b[38;5;241m=\u001b[39m \u001b[43mwaiter\u001b[49m\u001b[38;5;241;43m.\u001b[39;49m\u001b[43macquire\u001b[49m\u001b[43m(\u001b[49m\u001b[38;5;28;43;01mTrue\u001b[39;49;00m\u001b[43m,\u001b[49m\u001b[43m \u001b[49m\u001b[43mtimeout\u001b[49m\u001b[43m)\u001b[49m\n\u001b[1;32m    325\u001b[0m     \u001b[38;5;28;01melse\u001b[39;00m:\n\u001b[1;32m    326\u001b[0m         gotit \u001b[38;5;241m=\u001b[39m waiter\u001b[38;5;241m.\u001b[39macquire(\u001b[38;5;28;01mFalse\u001b[39;00m)\n",
      "\u001b[0;31mKeyboardInterrupt\u001b[0m: "
     ]
    }
   ],
   "source": [
    "data0 = next(data)"
   ]
  },
  {
   "cell_type": "code",
   "execution_count": 38,
   "metadata": {},
   "outputs": [
    {
     "data": {
      "text/plain": [
       "(datetime.datetime(2022, 1, 1, 12, 0),)"
      ]
     },
     "execution_count": 38,
     "metadata": {},
     "output_type": "execute_result"
    }
   ],
   "source": [
    "data0.metadata.time"
   ]
  },
  {
   "cell_type": "code",
   "execution_count": 40,
   "metadata": {},
   "outputs": [
    {
     "data": {
      "text/plain": [
       "torch.Size([1, 2, 721, 1440])"
      ]
     },
     "execution_count": 40,
     "metadata": {},
     "output_type": "execute_result"
    }
   ],
   "source": [
    "data0.surf_vars[\"2t\"].shape"
   ]
  },
  {
   "cell_type": "code",
   "execution_count": null,
   "metadata": {},
   "outputs": [],
   "source": [
    "data0.surf_vars_ds[\"t2m\"][2 + 1].values"
   ]
  },
  {
   "cell_type": "code",
   "execution_count": 47,
   "metadata": {},
   "outputs": [],
   "source": [
    "import itertools"
   ]
  },
  {
   "cell_type": "code",
   "execution_count": 48,
   "metadata": {},
   "outputs": [],
   "source": [
    "iter1, iter2 = itertools.tee(iter(world_batches))"
   ]
  },
  {
   "cell_type": "markdown",
   "metadata": {},
   "source": [
    "### South Africa Data"
   ]
  },
  {
   "cell_type": "code",
   "execution_count": 29,
   "metadata": {},
   "outputs": [],
   "source": [
    "# sa_area = [\n",
    "#     -22.12,  # North latitude\n",
    "#     15.125,   # West longitude\n",
    "#     -37.875,  # South latitude\n",
    "#     34.875    # East longitude\n",
    "# ]\n",
    "\n",
    "# lat_min, lon_min, lat_max, lon_max = sa_area"
   ]
  },
  {
   "cell_type": "code",
   "execution_count": 23,
   "metadata": {},
   "outputs": [],
   "source": [
    "start_time = '2022-01-01'\n",
    "end_time = '2023-01-31'\n",
    "data_inner_steps = 6  # process every 6th hour\n",
    "\n",
    "# Adjusted latitude and longitude to get exactly 64 x 80 grid points\n",
    "lat_max = -22.00  # Keep latitude unchanged (64 rows are correct)\n",
    "lat_min = -37.75  # Keep latitude unchanged\n",
    "\n",
    "lon_min = 15.25   # Keep longitude start the same\n",
    "lon_max = 35.00   # Increase longitude slightly to add 1 extra column\n",
    "\n",
    "sliced_era5_SA = (\n",
    "    full_era5\n",
    "    .sel(\n",
    "        time=slice(start_time, end_time, data_inner_steps),\n",
    "        latitude=slice(lat_max, lat_min),\n",
    "        longitude=slice(lon_min, lon_max)  # Expanding max longitude\n",
    "    )\n",
    ")\n"
   ]
  },
  {
   "cell_type": "code",
   "execution_count": 31,
   "metadata": {},
   "outputs": [],
   "source": [
    "surf_vars_ds_SA = sliced_era5_SA[surface_vars]\n",
    "atmos_vars_ds_SA = sliced_era5_SA[atmostpheric_variables]\n",
    "static_vars_ds_SA = sliced_era5_SA[static_variables]"
   ]
  },
  {
   "cell_type": "code",
   "execution_count": 32,
   "metadata": {},
   "outputs": [],
   "source": [
    "SA_batches = ERA5ZarrDataset(surf_vars_ds_SA, atmos_vars_ds_SA, static_vars_ds_SA,1)"
   ]
  },
  {
   "cell_type": "markdown",
   "metadata": {},
   "source": [
    "## Predictions Function"
   ]
  },
  {
   "cell_type": "code",
   "execution_count": 20,
   "metadata": {},
   "outputs": [],
   "source": [
    "def predict_fn(model, batch):\n",
    "    model.eval()\n",
    "    model = model.to(\"cuda\")\n",
    "    with torch.inference_mode():\n",
    "        preds = [pred.to(\"cpu\") for pred in rollout(model, batch, steps=2)]\n",
    "    model = model.to(\"cpu\")\n",
    "    return preds"
   ]
  },
  {
   "cell_type": "markdown",
   "metadata": {},
   "source": [
    "# RMSEs World dataset"
   ]
  },
  {
   "cell_type": "code",
   "execution_count": 21,
   "metadata": {},
   "outputs": [],
   "source": [
    "def rmse_fn(model, feature_batch, target_bacth, var_name, var_type=\"surface\", atmos_level_idx=0):\n",
    "    predictions = predict_fn(model, batch=feature_batch)\n",
    "    two_steps_rmse = []\n",
    "    pred_dates = []\n",
    "    for i in range(len(predictions)):\n",
    "        pred = predictions[i]\n",
    "        if var_type==\"surface\":\n",
    "            prediction = pred.surf_vars[var_name][0, 0].numpy()\n",
    "            actual = target_batch.surf_vars[var_name].squeeze()[i,:,:][:-1, :]\n",
    "            # actual = target_batch.surf_vars[var_name][0, 0].numpy()\n",
    "            \n",
    "            rmse = root_mean_squared_error(actual.flatten(), prediction.flatten())\n",
    "            two_steps_rmse.append(rmse)\n",
    "            pred_dates.append(pred.metadata.time[0])\n",
    "        # Atmospherique variable\n",
    "        elif var_type==\"atmosphere\":\n",
    "            prediction = pred.atmos_vars[var_name].squeeze()[atmos_level_idx,:,:].numpy().squeeze()\n",
    "            actual = target_batch.atmos_vars[var_name].squeeze()[i,:,:][:-1, :]\n",
    "            # actual = target_batch.atmos_vars[var_name].squeeze()[i,atmos_level_idx,:,:].numpy()[:-1,:]\n",
    "            rmse = root_mean_squared_error(actual.flatten(), prediction.flatten())\n",
    "            two_steps_rmse.append(rmse)\n",
    "            pred_dates.append(pred.metadata.time[0])\n",
    "    return two_steps_rmse, pred_dates"
   ]
  },
  {
   "cell_type": "markdown",
   "metadata": {},
   "source": [
    "# RMSEs South Africa dataset"
   ]
  },
  {
   "cell_type": "code",
   "execution_count": 148,
   "metadata": {},
   "outputs": [],
   "source": [
    "def rmse(actual, prediction):\n",
    "    return ((actual-prediction)**2).mean()"
   ]
  },
  {
   "cell_type": "code",
   "execution_count": null,
   "metadata": {},
   "outputs": [],
   "source": []
  },
  {
   "cell_type": "code",
   "execution_count": 22,
   "metadata": {},
   "outputs": [],
   "source": [
    "def rmse_fn_sa(model, actual_batch, var_name, var_type=\"surface\",  atmos_level_idx=0):\n",
    "    predictions = predict_fn(model, batch=actual_batch)\n",
    "    two_steps_rmse = []\n",
    "    pred_dates = []\n",
    "    for i in range(len(predictions)):\n",
    "        pred = predictions[i]\n",
    "        if var_type==\"surface\":\n",
    "            # prediction = pred.surf_vars[var_name][0, 0].numpy()\n",
    "            # actual = actual_batch.surf_vars[var_name][0, 0].numpy()\n",
    "            # rmse = root_mean_squared_error(actual.flatten(), prediction.flatten())\n",
    "            prediction = pred.surf_vars[var_name][0, 0].numpy()\n",
    "            actual = target_batch.surf_vars[var_name].squeeze()[i,:,:][:-1, :]\n",
    "            # rmse1 = rmse(actual, prediction)\n",
    "            two_steps_rmse.append(rmse)\n",
    "            pred_dates.append(pred.metadata.time[0])\n",
    "            # print(rmse, rmse1)\n",
    "        elif var_type==\"atmosphere\":\n",
    "            prediction = pred.atmos_vars[var_name].squeeze()[atmos_level_idx,:,:].numpy().squeeze()\n",
    "            actual = actual_batch.atmos_vars[var_name].squeeze()[i,atmos_level_idx,:,:].numpy()\n",
    "            rmse = root_mean_squared_error(actual.flatten(), prediction.flatten())\n",
    "            two_steps_rmse.append(rmse)\n",
    "            pred_dates.append(pred.metadata.time[0])\n",
    "    return two_steps_rmse, pred_dates"
   ]
  },
  {
   "cell_type": "markdown",
   "metadata": {},
   "source": [
    "# PLot RMSES"
   ]
  },
  {
   "cell_type": "code",
   "execution_count": 23,
   "metadata": {},
   "outputs": [],
   "source": [
    "\n",
    "def plot_rmses(variable, rmses_world, rmses_sa, \n",
    "               figsize=(12, 8), fontsize=18,\n",
    "               alpha=0.2, date_ranges=None, \n",
    "               title=\"Two steps forward prediction: RMSEs\",\n",
    "               save_path=\"../report/rmses_world_SA\"):\n",
    "\n",
    "    fig, ax = plt.subplots(figsize=figsize, dpi=1000)\n",
    "\n",
    "    # Extract dates\n",
    "    date_times_6_hours = [date1 for date1, date2 in date_ranges]\n",
    "    date_times_12_hours = [date2 for date1, date2 in date_ranges]\n",
    "    formatted_dates_6_hours = [dt.strftime('%Y-%m-%d (%H:%M)') for dt in date_times_6_hours]\n",
    "    formatted_dates_12_hours = [dt.strftime('%Y-%m-%d (%H:%M)') for dt in date_times_12_hours]\n",
    "\n",
    "    # Convert x-axis to indices\n",
    "    x_indices = np.arange(len(formatted_dates_6_hours))\n",
    "\n",
    "    # Select a subset of dates for x-axis labels\n",
    "    num_ticks = min(6, len(formatted_dates_6_hours))  # Show max 6 ticks\n",
    "    tick_positions = np.linspace(0, len(formatted_dates_6_hours) - 1, num_ticks, dtype=int)\n",
    "\n",
    "    ax.plot(x_indices, np.array(rmses_world)[:,0], label=\"World 6 hours forward prediction\")\n",
    "    ax.plot(x_indices, np.array(rmses_sa)[:,0], label=\"South Africa 6 hours forward prediction\")\n",
    "    ax.plot(x_indices, np.array(rmses_world)[:,1], label=\"World 12 hours forward prediction\")\n",
    "    ax.plot(x_indices, np.array(rmses_sa)[:,1], label=\"South Africa 12 hours forward prediction\")\n",
    "\n",
    "    # Set selected x-ticks\n",
    "    ax.set_xticks(tick_positions)\n",
    "    ax.set_xticklabels([formatted_dates_6_hours[i] for i in tick_positions], rotation=30, ha='right')\n",
    "\n",
    "    ax.legend(\n",
    "    title=\"RMSEs\\n\", title_fontsize=fontsize, markerscale=1.5,\n",
    "    bbox_to_anchor=(0.98, 0.98), loc=\"upper left\", frameon=False\n",
    ")\n",
    "\n",
    "    ax.set_xlabel(\"Dates\")\n",
    "    ax.set_ylabel(\"RMSEs\")\n",
    "    ax.set_title(title, fontsize=fontsize, pad=20)\n",
    "    \n",
    "    plt.savefig(f\"{save_path}/rmse-{variable}.pdf\")\n",
    "    plt.savefig(f\"{save_path}/rmse-{variable}.png\")\n",
    "    plt.savefig(f\"{save_path}/rmse-{variable}.svg\")\n",
    "\n",
    "    plt.show()\n"
   ]
  },
  {
   "cell_type": "code",
   "execution_count": 24,
   "metadata": {},
   "outputs": [],
   "source": [
    "\n",
    "def plot_rmses(variable, rmses_world, rmses_sa, \n",
    "               figsize=(12, 8), fontsize=18,\n",
    "               date_ranges=None, \n",
    "               title=\"Two Steps Forward Prediction: RMSEs\",\n",
    "               save_path=\"../report/rmses_world_SA\",\n",
    "               atmos_level=None):\n",
    "\n",
    "    fig, ax = plt.subplots(figsize=figsize, dpi=300)\n",
    "\n",
    "    # Extract dates\n",
    "    date_times_6_hours = [date1 for date1, date2 in date_ranges]\n",
    "    date_times_12_hours = [date2 for date1, date2 in date_ranges]\n",
    "    formatted_dates_6_hours = [dt.strftime('%Y-%m-%d (%H:%M)') for dt in date_times_6_hours]\n",
    "    formatted_dates_12_hours = [dt.strftime('%Y-%m-%d (%H:%M)') for dt in date_times_12_hours]\n",
    "\n",
    "    # Convert x-axis to indices\n",
    "    x_indices = np.arange(len(formatted_dates_6_hours))\n",
    "\n",
    "    # Select a subset of dates for x-axis labels\n",
    "    num_ticks = min(6, len(formatted_dates_6_hours))\n",
    "    tick_positions = np.linspace(0, len(formatted_dates_6_hours) - 1, num_ticks, dtype=int)\n",
    "\n",
    "    # Plot RMSEs with improved colors and styles\n",
    "    ax.plot(x_indices, np.array(rmses_world)[:, 0], label=\"Global RMSE (6h Forecast)\", color=\"blue\", linestyle=\"-\", linewidth=2)\n",
    "    ax.plot(x_indices, np.array(rmses_sa)[:, 0], label=\"South Africa RMSE (6h Forecast)\", color=\"orange\", linestyle=\"-\", linewidth=2)\n",
    "    ax.plot(x_indices, np.array(rmses_world)[:, 1], label=\"Global RMSE (12h Forecast)\", color=\"blue\", linestyle=\"--\", linewidth=2)\n",
    "    ax.plot(x_indices, np.array(rmses_sa)[:, 1], label=\"South Africa RMSE (12h Forecast)\", color=\"orange\", linestyle=\"--\", linewidth=2)\n",
    "\n",
    "    # Set selected x-ticks\n",
    "    ax.set_xticks(tick_positions)\n",
    "    ax.set_xticklabels([formatted_dates_12_hours[i] for i in tick_positions], rotation=30, ha='right')\n",
    "\n",
    "    # Improve legend appearance\n",
    "    ax.legend(title=\"Forecast Horizon\", title_fontsize=fontsize-2, fontsize=fontsize-4,\n",
    "              bbox_to_anchor=(1.05, 1), loc=\"upper left\", frameon=False)\n",
    "\n",
    "    # Improve axis labels and title\n",
    "    ax.set_xlabel(\"Forecast Date\", fontsize=fontsize-2)\n",
    "    ax.set_ylabel(\"Root Mean Squared Error (RMSE)\", fontsize=fontsize-2)\n",
    "    ax.set_title(title, fontsize=fontsize, pad=20)\n",
    "    if atmos_level:\n",
    "        # Save the plots\n",
    "        plt.savefig(f\"{save_path}/rmse-{variable}-{atmos_level}.pdf\", bbox_inches=\"tight\")\n",
    "        plt.savefig(f\"{save_path}/rmse-{variable}-{atmos_level}.png\", bbox_inches=\"tight\")\n",
    "        plt.savefig(f\"{save_path}/rmse-{variable}-{atmos_level}.svg\", bbox_inches=\"tight\")\n",
    "    else:\n",
    "        plt.savefig(f\"{save_path}/rmse-{variable}.pdf\", bbox_inches=\"tight\")\n",
    "        plt.savefig(f\"{save_path}/rmse-{variable}.png\", bbox_inches=\"tight\", dpi=300)\n",
    "        plt.savefig(f\"{save_path}/rmse-{variable}.svg\", bbox_inches=\"tight\")\n",
    "\n",
    "    plt.show()\n"
   ]
  },
  {
   "cell_type": "code",
   "execution_count": 25,
   "metadata": {},
   "outputs": [],
   "source": [
    "# data = iter(world_batches)"
   ]
  },
  {
   "cell_type": "code",
   "execution_count": 26,
   "metadata": {},
   "outputs": [],
   "source": [
    "# data0 = next(data)"
   ]
  },
  {
   "cell_type": "code",
   "execution_count": 27,
   "metadata": {},
   "outputs": [],
   "source": [
    "# data0.atmos_vars[\"t\"].squeeze()[0,0,:,:].numpy()[:-1,:].shape"
   ]
  },
  {
   "cell_type": "code",
   "execution_count": 28,
   "metadata": {},
   "outputs": [],
   "source": [
    "# data0.static_vars[\"lsm\"].shape"
   ]
  },
  {
   "cell_type": "code",
   "execution_count": 29,
   "metadata": {},
   "outputs": [],
   "source": [
    "# data0.surf_vars[\"10v\"].shape"
   ]
  },
  {
   "cell_type": "code",
   "execution_count": 157,
   "metadata": {},
   "outputs": [],
   "source": [
    "# data0.surf_vars[\"2t\"].shape"
   ]
  },
  {
   "cell_type": "code",
   "execution_count": 21,
   "metadata": {},
   "outputs": [],
   "source": []
  },
  {
   "cell_type": "code",
   "execution_count": 158,
   "metadata": {},
   "outputs": [],
   "source": [
    "# preds = predict_fn(model, data0)"
   ]
  },
  {
   "cell_type": "code",
   "execution_count": 159,
   "metadata": {},
   "outputs": [],
   "source": [
    "# preds[0].surf_vars[\"2t\"].shape"
   ]
  },
  {
   "cell_type": "code",
   "execution_count": 160,
   "metadata": {},
   "outputs": [],
   "source": [
    "# preds.surf_vars[\"10v\"][1,:,:,:].shape"
   ]
  },
  {
   "cell_type": "code",
   "execution_count": 161,
   "metadata": {},
   "outputs": [],
   "source": [
    "# data0.metadata.time"
   ]
  },
  {
   "cell_type": "code",
   "execution_count": 19,
   "metadata": {},
   "outputs": [],
   "source": []
  },
  {
   "cell_type": "markdown",
   "metadata": {},
   "source": [
    "# Surface Variables"
   ]
  },
  {
   "cell_type": "markdown",
   "metadata": {},
   "source": [
    "## Two-meter temperature in K: 2t"
   ]
  },
  {
   "cell_type": "code",
   "execution_count": 162,
   "metadata": {},
   "outputs": [],
   "source": [
    "# data0.surf_vars[\"2t\"][1].shape"
   ]
  },
  {
   "cell_type": "code",
   "execution_count": 30,
   "metadata": {},
   "outputs": [],
   "source": [
    "rmses_world_2t = []\n",
    "dates_world_2t = []\n",
    "\n",
    "for batch, target_batch in zip(world_batches, target_world_batches):\n",
    "    # print(batch.metadata.time)\n",
    "    rmse, date = rmse_fn(model, feature_batch=batch, target_bacth=target_batch, var_name=\"2t\", var_type=\"surface\")\n",
    "    rmses_world_2t.append(rmse)\n",
    "    dates_world_2t.append(date)"
   ]
  },
  {
   "cell_type": "code",
   "execution_count": 33,
   "metadata": {},
   "outputs": [],
   "source": [
    "# plt.plot(np.array(rmses)[:,0], label=\"1\")\n",
    "# plt.plot(np.array(rmses)[:,1], label=\"2\")\n",
    "# plt.legend()"
   ]
  },
  {
   "cell_type": "code",
   "execution_count": 34,
   "metadata": {},
   "outputs": [],
   "source": [
    "# rmse_fn(model, data0, \"2t\")"
   ]
  },
  {
   "cell_type": "code",
   "execution_count": 35,
   "metadata": {},
   "outputs": [],
   "source": [
    "# i=0\n",
    "# for batch in world_batches:\n",
    "#    i+=1\n",
    "# i "
   ]
  },
  {
   "cell_type": "code",
   "execution_count": 23,
   "metadata": {},
   "outputs": [],
   "source": [
    "# data = iter(sa_batches)\n",
    "# data0 = next(data)"
   ]
  },
  {
   "cell_type": "code",
   "execution_count": 24,
   "metadata": {},
   "outputs": [],
   "source": [
    "# data0.surf_vars[\"2t\"].shape"
   ]
  },
  {
   "cell_type": "code",
   "execution_count": 43,
   "metadata": {},
   "outputs": [],
   "source": [
    "rmses_SA_2t = []\n",
    "dates_SA_2t = []\n",
    "for batch in SA_batches:\n",
    "    rmse, date = rmse_fn_sa(model, batch, \"2t\", var_type=\"surface\")\n",
    "    rmses_SA_2t.append(rmse)\n",
    "    dates_SA_2t.append(date)"
   ]
  },
  {
   "cell_type": "code",
   "execution_count": 31,
   "metadata": {},
   "outputs": [
    {
     "data": {
      "text/plain": [
       "array([[0.64297462, 0.81056142],\n",
       "       [0.66571653, 0.80725676],\n",
       "       [0.64747256, 0.79085732],\n",
       "       [0.64344192, 0.78815627],\n",
       "       [0.65558773, 0.83771569],\n",
       "       [0.67267013, 0.79690671],\n",
       "       [0.63998479, 0.7775206 ],\n",
       "       [0.65142643, 0.82794797],\n",
       "       [0.67610705, 0.80139863],\n",
       "       [0.64878321, 0.78391188],\n",
       "       [0.62195015, 0.75908512],\n",
       "       [0.64276409, 0.82027578],\n",
       "       [0.6703518 , 0.80241579],\n",
       "       [0.67262   , 0.78906655],\n",
       "       [0.62326431, 0.76710409],\n",
       "       [0.65398151, 0.77169764],\n",
       "       [0.62939465, 0.80573869],\n",
       "       [0.65925723, 0.78838933],\n",
       "       [0.64091665, 0.7714445 ],\n",
       "       [0.66544425, 0.79534853],\n",
       "       [0.66985869, 0.8253144 ],\n",
       "       [0.70008236, 0.81205505],\n",
       "       [0.65146852, 0.7685585 ],\n",
       "       [0.65976322, 0.78265059],\n",
       "       [0.65903258, 0.82132655],\n",
       "       [0.67279375, 0.80972224],\n",
       "       [0.64705622, 0.76791722],\n",
       "       [0.64205861, 0.80830336],\n",
       "       [0.66468394, 0.83023036],\n",
       "       [0.68653309, 0.80753607],\n",
       "       [0.63930756, 0.77464271],\n",
       "       [0.64237666, 0.78435606],\n",
       "       [0.64482152, 0.83681601],\n",
       "       [0.69181871, 0.79943764],\n",
       "       [0.64200264, 0.79973602],\n",
       "       [0.65450937, 0.76963127],\n",
       "       [0.62749016, 0.79298353],\n",
       "       [0.65973896, 0.80554962],\n",
       "       [0.63132608, 0.76480514],\n",
       "       [0.6287573 , 0.79025131],\n",
       "       [0.65474796, 0.82219166],\n",
       "       [0.68375468, 0.81684279],\n",
       "       [0.64508182, 0.80097806],\n",
       "       [0.64673388, 0.79819876],\n",
       "       [0.65024745, 0.8137747 ],\n",
       "       [0.68597019, 0.81426275],\n",
       "       [0.65585625, 0.75437564],\n",
       "       [0.6322093 , 0.77144897],\n",
       "       [0.64978898, 0.81979817],\n",
       "       [0.68040925, 0.78968894],\n",
       "       [0.62879282, 0.79429674],\n",
       "       [0.64281631, 0.74369019],\n",
       "       [0.62892085, 0.83657867],\n",
       "       [0.70501477, 0.7812947 ],\n",
       "       [0.62080157, 0.76172549],\n",
       "       [0.63627785, 0.78649539],\n",
       "       [0.6537742 , 0.8075552 ],\n",
       "       [0.66511905, 0.79610187],\n",
       "       [0.63259643, 0.75699782],\n",
       "       [0.63193518, 0.75034088],\n",
       "       [0.6239959 , 0.80516052],\n",
       "       [0.65963191, 0.81543851],\n",
       "       [0.65246117, 0.76945263],\n",
       "       [0.655774  , 0.77018672],\n",
       "       [0.63364244, 0.76840997],\n",
       "       [0.65581459, 0.78910863],\n",
       "       [0.6412549 , 0.75203365],\n",
       "       [0.63095307, 0.76867849],\n",
       "       [0.63263357, 0.79007471],\n",
       "       [0.66253209, 0.77071071],\n",
       "       [0.63119948, 0.76111591],\n",
       "       [0.6429022 , 0.76334673],\n",
       "       [0.63586152, 0.78228903],\n",
       "       [0.66263616, 0.80593425],\n",
       "       [0.62806207, 0.77110225],\n",
       "       [0.65113074, 0.76730502],\n",
       "       [0.61951905, 0.7973296 ],\n",
       "       [0.67608678, 0.79317921],\n",
       "       [0.63197142, 0.78547496],\n",
       "       [0.67646724, 0.75567764],\n",
       "       [0.63173813, 0.8315993 ],\n",
       "       [0.7040506 , 0.80348235],\n",
       "       [0.63783538, 0.83579028],\n",
       "       [0.69793779, 0.79706025],\n",
       "       [0.65004903, 0.82570207],\n",
       "       [0.66473538, 0.77948385],\n",
       "       [0.62583315, 0.77004212],\n",
       "       [0.66932559, 0.7618584 ],\n",
       "       [0.61356705, 0.79184055],\n",
       "       [0.67048323, 0.79827607],\n",
       "       [0.65389651, 0.7748214 ],\n",
       "       [0.66872716, 0.76524407],\n",
       "       [0.64373684, 0.78883356],\n",
       "       [0.65882838, 0.79531658],\n",
       "       [0.65890193, 0.79941708],\n",
       "       [0.6779263 , 0.77211177],\n",
       "       [0.63759834, 0.81302625],\n",
       "       [0.67529285, 0.81209379],\n",
       "       [0.66083115, 0.78028625],\n",
       "       [0.65416712, 0.74838352],\n",
       "       [0.635481  , 0.81246936],\n",
       "       [0.68899912, 0.77657259],\n",
       "       [0.63105929, 0.7727403 ],\n",
       "       [0.64968681, 0.78034961],\n",
       "       [0.6467855 , 0.80349356],\n",
       "       [0.66832751, 0.78107649],\n",
       "       [0.62051857, 0.75730044],\n",
       "       [0.64749193, 0.76356065],\n",
       "       [0.63451117, 0.81662017],\n",
       "       [0.67430449, 0.82401055],\n",
       "       [0.6488381 , 0.74594772],\n",
       "       [0.63228178, 0.75547826],\n",
       "       [0.63511568, 0.80272174],\n",
       "       [0.68127072, 0.82059014],\n",
       "       [0.65985149, 0.77475965],\n",
       "       [0.66408056, 0.7839247 ],\n",
       "       [0.65726596, 0.80383122],\n",
       "       [0.67450213, 0.83078074],\n",
       "       [0.67734414, 0.78903294],\n",
       "       [0.64469075, 0.80628836],\n",
       "       [0.66863531, 0.82015914]])"
      ]
     },
     "execution_count": 31,
     "metadata": {},
     "output_type": "execute_result"
    }
   ],
   "source": [
    "np.array(rmses_world_2t)"
   ]
  },
  {
   "cell_type": "code",
   "execution_count": 32,
   "metadata": {},
   "outputs": [
    {
     "data": {
      "text/plain": [
       "<matplotlib.legend.Legend at 0x7fd51c26fd30>"
      ]
     },
     "execution_count": 32,
     "metadata": {},
     "output_type": "execute_result"
    },
    {
     "data": {
      "image/png": "[encoded data removed]",
      "text/plain": [
       "<Figure size 640x480 with 1 Axes>"
      ]
     },
     "metadata": {},
     "output_type": "display_data"
    }
   ],
   "source": [
    "plt.plot(np.array(rmses_world_2t)[:,0], label=\"w1\")\n",
    "plt.plot(np.array(rmses_world_2t)[:,1], label=\"w2\")\n",
    "# plt.plot(np.array(rmses_sa)[:,0], label=\"sa1\")\n",
    "# plt.plot(np.array(rmses_sa)[:,1], label=\"sa2\")\n",
    "plt.legend()"
   ]
  },
  {
   "cell_type": "code",
   "execution_count": null,
   "metadata": {},
   "outputs": [],
   "source": [
    "# print(sliced_era5.latitude.shape, sliced_era5.longitude.shape)\n"
   ]
  },
  {
   "cell_type": "code",
   "execution_count": null,
   "metadata": {},
   "outputs": [],
   "source": [
    "plot_rmses(\"2t\",rmses_world_2t, rmses_SA_2t, \n",
    "            figsize=(15, 8), fontsize=18,\n",
    "            date_ranges=dates_world_2t, title=\"Temperature two steps forward prediction: RMSES\")"
   ]
  },
  {
   "cell_type": "markdown",
   "metadata": {},
   "source": [
    "## Ten-meter eastward wind speed in m/s :U10"
   ]
  },
  {
   "cell_type": "code",
   "execution_count": 48,
   "metadata": {},
   "outputs": [],
   "source": [
    "rmses_world_u10 = []\n",
    "dates_world_u10 = []\n",
    "for batch in world_batches:\n",
    "    rmse, date = rmse_fn(model, batch, \"10u\", var_type=\"surface\")\n",
    "    rmses_world_u10.append(rmse)\n",
    "    dates_world_u10.append(date)"
   ]
  },
  {
   "cell_type": "code",
   "execution_count": 49,
   "metadata": {},
   "outputs": [],
   "source": [
    "rmses_SA_u10 = []\n",
    "dates_SA_u10 = []\n",
    "for batch in SA_batches:\n",
    "    rmse, date = rmse_fn_sa(model, batch, \"10u\", var_type=\"surface\")\n",
    "    rmses_SA_u10.append(rmse)\n",
    "    dates_SA_u10.append(date)"
   ]
  },
  {
   "cell_type": "code",
   "execution_count": null,
   "metadata": {},
   "outputs": [],
   "source": [
    "plot_rmses(\"u10\",rmses_world_u10, rmses_SA_u10, \n",
    "            figsize=(15, 8), fontsize=18,\n",
    "            date_ranges=dates_world_u10, title=\"Ten-meter eastward wind speed two steps forward prediction: RMSES\")"
   ]
  },
  {
   "cell_type": "markdown",
   "metadata": {},
   "source": [
    "## Ten-meter southward wind speed in m/s: V10"
   ]
  },
  {
   "cell_type": "code",
   "execution_count": 51,
   "metadata": {},
   "outputs": [],
   "source": [
    "rmses_world_v10 = []\n",
    "dates_world_v10 = []\n",
    "for batch in world_batches:\n",
    "    rmse, date = rmse_fn(model, batch, \"10v\", var_type=\"surface\")\n",
    "    rmses_world_v10.append(rmse)\n",
    "    dates_world_v10.append(date)"
   ]
  },
  {
   "cell_type": "code",
   "execution_count": 52,
   "metadata": {},
   "outputs": [],
   "source": [
    "rmses_SA_v10 = []\n",
    "dates_SA_v10 = []\n",
    "for batch in SA_batches:\n",
    "    rmse, date = rmse_fn_sa(model, batch, \"10v\", var_type=\"surface\")\n",
    "    rmses_SA_v10.append(rmse)\n",
    "    dates_SA_v10.append(date)"
   ]
  },
  {
   "cell_type": "code",
   "execution_count": null,
   "metadata": {},
   "outputs": [],
   "source": [
    "plot_rmses(\"v10\",rmses_world_v10, rmses_SA_v10, \n",
    "            figsize=(15, 8), fontsize=18,\n",
    "            date_ranges=dates_world_v10, title=\"Ten-meter southward wind speed two steps forward prediction: RMSES\")"
   ]
  },
  {
   "cell_type": "markdown",
   "metadata": {},
   "source": [
    "## Mean sea-level pressure in Pa :msl"
   ]
  },
  {
   "cell_type": "code",
   "execution_count": 54,
   "metadata": {},
   "outputs": [],
   "source": [
    "rmses_world_msl = []\n",
    "dates_world_msl = []\n",
    "for batch in world_batches:\n",
    "    rmse, date = rmse_fn(model, batch, \"msl\", var_type=\"surface\")\n",
    "    rmses_world_msl.append(rmse)\n",
    "    dates_world_msl.append(date)"
   ]
  },
  {
   "cell_type": "code",
   "execution_count": 55,
   "metadata": {},
   "outputs": [],
   "source": [
    "rmses_SA_msl = []\n",
    "dates_SA_msl = []\n",
    "for batch in SA_batches:\n",
    "    rmse, date = rmse_fn_sa(model, batch, \"msl\", var_type=\"surface\")\n",
    "    rmses_SA_msl.append(rmse)\n",
    "    dates_SA_msl.append(date)"
   ]
  },
  {
   "cell_type": "code",
   "execution_count": null,
   "metadata": {},
   "outputs": [],
   "source": [
    "plot_rmses(\"msl\",rmses_world_msl, rmses_SA_msl, \n",
    "            figsize=(15, 8), fontsize=18,\n",
    "            date_ranges=dates_world_msl, title=\"Mean sea-level pressure two steps forward prediction: RMSES\")"
   ]
  },
  {
   "cell_type": "markdown",
   "metadata": {},
   "source": [
    "# Atmosphere"
   ]
  },
  {
   "cell_type": "markdown",
   "metadata": {},
   "source": [
    "## Temperature in K : t"
   ]
  },
  {
   "cell_type": "markdown",
   "metadata": {},
   "source": [
    "### 50 hPa"
   ]
  },
  {
   "cell_type": "code",
   "execution_count": 57,
   "metadata": {},
   "outputs": [],
   "source": [
    "rmses_world_t = []\n",
    "dates_world_t = []\n",
    "for batch in world_batches:\n",
    "    rmse, date = rmse_fn(model, batch, \"t\", var_type=\"atmosphere\", atmos_level_idx=0)\n",
    "    rmses_world_t.append(rmse)\n",
    "    dates_world_t.append(date)"
   ]
  },
  {
   "cell_type": "code",
   "execution_count": 58,
   "metadata": {},
   "outputs": [],
   "source": [
    "rmses_SA_t = []\n",
    "dates_SA_t = []\n",
    "for batch in SA_batches:\n",
    "    rmse, date = rmse_fn_sa(model, batch, \"t\", var_type=\"atmosphere\", atmos_level_idx=0)\n",
    "    rmses_SA_t.append(rmse)\n",
    "    dates_SA_t.append(date)"
   ]
  },
  {
   "cell_type": "code",
   "execution_count": null,
   "metadata": {},
   "outputs": [],
   "source": [
    "plot_rmses(\"t\",rmses_world_t, rmses_SA_t, \n",
    "            figsize=(15, 8), fontsize=18,\n",
    "            date_ranges=dates_world_t, title=\"Temperature in K  two steps forward prediction: RMSES\",\n",
    "            atmos_level=\"50hPa\")"
   ]
  },
  {
   "cell_type": "markdown",
   "metadata": {},
   "source": [
    "### 100 hPa"
   ]
  },
  {
   "cell_type": "code",
   "execution_count": null,
   "metadata": {},
   "outputs": [],
   "source": []
  },
  {
   "cell_type": "code",
   "execution_count": null,
   "metadata": {},
   "outputs": [],
   "source": []
  },
  {
   "cell_type": "markdown",
   "metadata": {},
   "source": [
    "### 150 hPa"
   ]
  },
  {
   "cell_type": "code",
   "execution_count": null,
   "metadata": {},
   "outputs": [],
   "source": []
  },
  {
   "cell_type": "markdown",
   "metadata": {},
   "source": [
    "### 200 hPa"
   ]
  },
  {
   "cell_type": "code",
   "execution_count": null,
   "metadata": {},
   "outputs": [],
   "source": []
  },
  {
   "cell_type": "markdown",
   "metadata": {},
   "source": [
    "### 250 hPa"
   ]
  },
  {
   "cell_type": "code",
   "execution_count": null,
   "metadata": {},
   "outputs": [],
   "source": []
  },
  {
   "cell_type": "markdown",
   "metadata": {},
   "source": [
    "### 300 hPa"
   ]
  },
  {
   "cell_type": "code",
   "execution_count": null,
   "metadata": {},
   "outputs": [],
   "source": []
  },
  {
   "cell_type": "markdown",
   "metadata": {},
   "source": [
    "### 400 hPa"
   ]
  },
  {
   "cell_type": "code",
   "execution_count": 70,
   "metadata": {},
   "outputs": [],
   "source": [
    "rmses_world_t_400hpa = []\n",
    "dates_world_t_400hpa = []\n",
    "for batch in world_batches:\n",
    "    rmse, date = rmse_fn(model, batch, \"t\", var_type=\"atmosphere\", atmos_level_idx=6)\n",
    "    rmses_world_t_400hpa.append(rmse)\n",
    "    dates_world_t_400hpa.append(date)"
   ]
  },
  {
   "cell_type": "code",
   "execution_count": 71,
   "metadata": {},
   "outputs": [],
   "source": [
    "rmses_SA_t_400hpa = []\n",
    "dates_SA_t_400hpa = []\n",
    "for batch in SA_batches:\n",
    "    rmse, date = rmse_fn_sa(model, batch, \"t\", var_type=\"atmosphere\", atmos_level_idx=6)\n",
    "    rmses_SA_t_400hpa.append(rmse)\n",
    "    dates_SA_t_400hpa.append(date)"
   ]
  },
  {
   "cell_type": "code",
   "execution_count": null,
   "metadata": {},
   "outputs": [],
   "source": [
    "plot_rmses(\"t\",rmses_world_t_400hpa, rmses_SA_t_400hpa, \n",
    "            figsize=(15, 8), fontsize=18,\n",
    "            date_ranges=dates_world_t_400hpa, title=\"Temperature in K  two steps forward prediction: RMSES\",\n",
    "            atmos_level=\"400hPa\")"
   ]
  },
  {
   "cell_type": "markdown",
   "metadata": {},
   "source": [
    "### 500 hPa"
   ]
  },
  {
   "cell_type": "code",
   "execution_count": null,
   "metadata": {},
   "outputs": [],
   "source": []
  },
  {
   "cell_type": "markdown",
   "metadata": {},
   "source": [
    "### 600hPa"
   ]
  },
  {
   "cell_type": "code",
   "execution_count": null,
   "metadata": {},
   "outputs": [],
   "source": []
  },
  {
   "cell_type": "markdown",
   "metadata": {},
   "source": [
    "### 700 hPa"
   ]
  },
  {
   "cell_type": "code",
   "execution_count": null,
   "metadata": {},
   "outputs": [],
   "source": []
  },
  {
   "cell_type": "markdown",
   "metadata": {},
   "source": [
    "### 850 hPa"
   ]
  },
  {
   "cell_type": "code",
   "execution_count": null,
   "metadata": {},
   "outputs": [],
   "source": []
  },
  {
   "cell_type": "markdown",
   "metadata": {},
   "source": [
    "### 925 hPa"
   ]
  },
  {
   "cell_type": "code",
   "execution_count": null,
   "metadata": {},
   "outputs": [],
   "source": []
  },
  {
   "cell_type": "markdown",
   "metadata": {},
   "source": [
    "### 1000 hPa"
   ]
  },
  {
   "cell_type": "code",
   "execution_count": 73,
   "metadata": {},
   "outputs": [],
   "source": [
    "rmses_world_t_1000hpa = []\n",
    "dates_world_t_1000hpa = []\n",
    "for batch in world_batches:\n",
    "    rmse, date = rmse_fn(model, batch, \"t\", var_type=\"atmosphere\", atmos_level_idx=12)\n",
    "    rmses_world_t_1000hpa.append(rmse)\n",
    "    dates_world_t_1000hpa.append(date)"
   ]
  },
  {
   "cell_type": "code",
   "execution_count": 74,
   "metadata": {},
   "outputs": [],
   "source": [
    "rmses_SA_t_1000hpa = []\n",
    "dates_SA_t_1000hpa = []\n",
    "for batch in SA_batches:\n",
    "    rmse, date = rmse_fn_sa(model, batch, \"t\", var_type=\"atmosphere\", atmos_level_idx=12)\n",
    "    rmses_SA_t_1000hpa.append(rmse)\n",
    "    dates_SA_t_1000hpa.append(date)"
   ]
  },
  {
   "cell_type": "code",
   "execution_count": null,
   "metadata": {},
   "outputs": [],
   "source": [
    "plot_rmses(\"t\",rmses_world_t_1000hpa, rmses_SA_t_1000hpa, \n",
    "            figsize=(15, 8), fontsize=18,\n",
    "            date_ranges=dates_SA_t_1000hpa, title=\"Temperature in K  two steps forward prediction: RMSES\",\n",
    "            atmos_level=\"1000hPa\")"
   ]
  },
  {
   "cell_type": "code",
   "execution_count": null,
   "metadata": {},
   "outputs": [],
   "source": []
  },
  {
   "cell_type": "markdown",
   "metadata": {},
   "source": [
    "## Eastward wind speed in m/s u"
   ]
  },
  {
   "cell_type": "markdown",
   "metadata": {},
   "source": [
    "### 50 hPa"
   ]
  },
  {
   "cell_type": "code",
   "execution_count": 76,
   "metadata": {},
   "outputs": [],
   "source": [
    "rmses_world_u = []\n",
    "dates_world_u = []\n",
    "for batch in world_batches:\n",
    "    rmse, date = rmse_fn(model, batch, \"u\", var_type=\"atmosphere\", atmos_level_idx=0)\n",
    "    rmses_world_u.append(rmse)\n",
    "    dates_world_u.append(date)"
   ]
  },
  {
   "cell_type": "code",
   "execution_count": 77,
   "metadata": {},
   "outputs": [],
   "source": [
    "rmses_SA_u = []\n",
    "dates_SA_u = []\n",
    "for batch in SA_batches:\n",
    "    rmse, date = rmse_fn_sa(model, batch, \"u\", var_type=\"atmosphere\", atmos_level_idx=0)\n",
    "    rmses_SA_u.append(rmse)\n",
    "    dates_SA_u.append(date)"
   ]
  },
  {
   "cell_type": "code",
   "execution_count": null,
   "metadata": {},
   "outputs": [],
   "source": [
    "plot_rmses(\"u\",rmses_world_u, rmses_SA_u, \n",
    "            figsize=(15, 8), fontsize=18,\n",
    "            date_ranges=dates_world_u, title=\"Eastward wind speed two steps forward prediction: RMSES\",\n",
    "            atmos_level=\"50hPa\")"
   ]
  },
  {
   "cell_type": "markdown",
   "metadata": {},
   "source": [
    "### 100 hPa"
   ]
  },
  {
   "cell_type": "code",
   "execution_count": null,
   "metadata": {},
   "outputs": [],
   "source": []
  },
  {
   "cell_type": "code",
   "execution_count": null,
   "metadata": {},
   "outputs": [],
   "source": []
  },
  {
   "cell_type": "markdown",
   "metadata": {},
   "source": [
    "### 150 hPa"
   ]
  },
  {
   "cell_type": "code",
   "execution_count": null,
   "metadata": {},
   "outputs": [],
   "source": []
  },
  {
   "cell_type": "markdown",
   "metadata": {},
   "source": [
    "### 200 hPa"
   ]
  },
  {
   "cell_type": "code",
   "execution_count": null,
   "metadata": {},
   "outputs": [],
   "source": []
  },
  {
   "cell_type": "markdown",
   "metadata": {},
   "source": [
    "### 250 hPa"
   ]
  },
  {
   "cell_type": "code",
   "execution_count": null,
   "metadata": {},
   "outputs": [],
   "source": []
  },
  {
   "cell_type": "markdown",
   "metadata": {},
   "source": [
    "### 300 hPa"
   ]
  },
  {
   "cell_type": "code",
   "execution_count": null,
   "metadata": {},
   "outputs": [],
   "source": []
  },
  {
   "cell_type": "markdown",
   "metadata": {},
   "source": [
    "### 400 hPa"
   ]
  },
  {
   "cell_type": "code",
   "execution_count": 79,
   "metadata": {},
   "outputs": [],
   "source": [
    "rmses_world_u_400hpa = []\n",
    "dates_world_u_400hpa = []\n",
    "for batch in world_batches:\n",
    "    rmse, date = rmse_fn(model, batch, \"u\", var_type=\"atmosphere\", atmos_level_idx=6)\n",
    "    rmses_world_u_400hpa.append(rmse)\n",
    "    dates_world_u_400hpa.append(date)"
   ]
  },
  {
   "cell_type": "code",
   "execution_count": 80,
   "metadata": {},
   "outputs": [],
   "source": [
    "rmses_SA_u_400hpa = []\n",
    "dates_SA_u_400hpa = []\n",
    "for batch in SA_batches:\n",
    "    rmse, date = rmse_fn_sa(model, batch, \"u\", var_type=\"atmosphere\", atmos_level_idx=6)\n",
    "    rmses_SA_u_400hpa.append(rmse)\n",
    "    dates_SA_u_400hpa.append(date)"
   ]
  },
  {
   "cell_type": "code",
   "execution_count": null,
   "metadata": {},
   "outputs": [],
   "source": [
    "plot_rmses(\"u\",rmses_world_u_400hpa, rmses_SA_u_400hpa, \n",
    "            figsize=(15, 8), fontsize=18,\n",
    "            date_ranges=dates_world_u_400hpa, title=\"Eastward wind speed  two steps forward prediction: RMSES\",\n",
    "            atmos_level=\"400hPa\")"
   ]
  },
  {
   "cell_type": "markdown",
   "metadata": {},
   "source": [
    "### 500 hPa"
   ]
  },
  {
   "cell_type": "code",
   "execution_count": null,
   "metadata": {},
   "outputs": [],
   "source": []
  },
  {
   "cell_type": "markdown",
   "metadata": {},
   "source": [
    "### 600hPa"
   ]
  },
  {
   "cell_type": "code",
   "execution_count": null,
   "metadata": {},
   "outputs": [],
   "source": []
  },
  {
   "cell_type": "markdown",
   "metadata": {},
   "source": [
    "### 700 hPa"
   ]
  },
  {
   "cell_type": "code",
   "execution_count": null,
   "metadata": {},
   "outputs": [],
   "source": []
  },
  {
   "cell_type": "markdown",
   "metadata": {},
   "source": [
    "### 850 hPa"
   ]
  },
  {
   "cell_type": "code",
   "execution_count": null,
   "metadata": {},
   "outputs": [],
   "source": []
  },
  {
   "cell_type": "markdown",
   "metadata": {},
   "source": [
    "### 925 hPa"
   ]
  },
  {
   "cell_type": "code",
   "execution_count": null,
   "metadata": {},
   "outputs": [],
   "source": []
  },
  {
   "cell_type": "markdown",
   "metadata": {},
   "source": [
    "### 1000 hPa"
   ]
  },
  {
   "cell_type": "code",
   "execution_count": 82,
   "metadata": {},
   "outputs": [],
   "source": [
    "rmses_world_u_1000hpa = []\n",
    "dates_world_u_1000hpa = []\n",
    "for batch in world_batches:\n",
    "    rmse, date = rmse_fn(model, batch, \"u\", var_type=\"atmosphere\", atmos_level_idx=12)\n",
    "    rmses_world_u_1000hpa.append(rmse)\n",
    "    dates_world_u_1000hpa.append(date)"
   ]
  },
  {
   "cell_type": "code",
   "execution_count": 83,
   "metadata": {},
   "outputs": [],
   "source": [
    "rmses_SA_u_1000hpa = []\n",
    "dates_SA_u_1000hpa = []\n",
    "for batch in SA_batches:\n",
    "    rmse, date = rmse_fn_sa(model, batch, \"u\", var_type=\"atmosphere\", atmos_level_idx=12)\n",
    "    rmses_SA_u_1000hpa.append(rmse)\n",
    "    dates_SA_u_1000hpa.append(date)"
   ]
  },
  {
   "cell_type": "code",
   "execution_count": null,
   "metadata": {},
   "outputs": [],
   "source": [
    "plot_rmses(\"u\",rmses_world_u_1000hpa, rmses_SA_u_1000hpa, \n",
    "            figsize=(15, 8), fontsize=18,\n",
    "            date_ranges=dates_SA_u_1000hpa, title=\"Eastward wind speed  two steps forward prediction: RMSES\",\n",
    "            atmos_level=\"1000hPa\")"
   ]
  },
  {
   "cell_type": "code",
   "execution_count": null,
   "metadata": {},
   "outputs": [],
   "source": []
  },
  {
   "cell_type": "markdown",
   "metadata": {},
   "source": [
    "### Southward wind speed in m/s :v"
   ]
  },
  {
   "cell_type": "markdown",
   "metadata": {},
   "source": [
    "### 50 hPa"
   ]
  },
  {
   "cell_type": "code",
   "execution_count": 85,
   "metadata": {},
   "outputs": [],
   "source": [
    "rmses_world_v = []\n",
    "dates_world_v = []\n",
    "for batch in world_batches:\n",
    "    rmse, date = rmse_fn(model, batch, \"v\", var_type=\"atmosphere\", atmos_level_idx=0)\n",
    "    rmses_world_v.append(rmse)\n",
    "    dates_world_v.append(date)"
   ]
  },
  {
   "cell_type": "code",
   "execution_count": 86,
   "metadata": {},
   "outputs": [],
   "source": [
    "rmses_SA_v = []\n",
    "dates_SA_v = []\n",
    "for batch in SA_batches:\n",
    "    rmse, date = rmse_fn_sa(model, batch, \"v\", var_type=\"atmosphere\", atmos_level_idx=0)\n",
    "    rmses_SA_v.append(rmse)\n",
    "    dates_SA_v.append(date)"
   ]
  },
  {
   "cell_type": "code",
   "execution_count": null,
   "metadata": {},
   "outputs": [],
   "source": [
    "plot_rmses(\"v\",rmses_world_v, rmses_SA_v, \n",
    "            figsize=(15, 8), fontsize=18,\n",
    "            date_ranges=dates_world_v, title=\"Southward wind speed two steps forward prediction: RMSES\",\n",
    "            atmos_level=\"50hPa\")"
   ]
  },
  {
   "cell_type": "markdown",
   "metadata": {},
   "source": [
    "### 100 hPa"
   ]
  },
  {
   "cell_type": "code",
   "execution_count": null,
   "metadata": {},
   "outputs": [],
   "source": []
  },
  {
   "cell_type": "code",
   "execution_count": null,
   "metadata": {},
   "outputs": [],
   "source": []
  },
  {
   "cell_type": "markdown",
   "metadata": {},
   "source": [
    "### 150 hPa"
   ]
  },
  {
   "cell_type": "code",
   "execution_count": null,
   "metadata": {},
   "outputs": [],
   "source": []
  },
  {
   "cell_type": "markdown",
   "metadata": {},
   "source": [
    "### 200 hPa"
   ]
  },
  {
   "cell_type": "code",
   "execution_count": null,
   "metadata": {},
   "outputs": [],
   "source": []
  },
  {
   "cell_type": "markdown",
   "metadata": {},
   "source": [
    "### 250 hPa"
   ]
  },
  {
   "cell_type": "code",
   "execution_count": null,
   "metadata": {},
   "outputs": [],
   "source": []
  },
  {
   "cell_type": "markdown",
   "metadata": {},
   "source": [
    "### 300 hPa"
   ]
  },
  {
   "cell_type": "code",
   "execution_count": null,
   "metadata": {},
   "outputs": [],
   "source": []
  },
  {
   "cell_type": "markdown",
   "metadata": {},
   "source": [
    "### 400 hPa"
   ]
  },
  {
   "cell_type": "code",
   "execution_count": 88,
   "metadata": {},
   "outputs": [],
   "source": [
    "rmses_world_v_400hpa = []\n",
    "dates_world_v_400hpa = []\n",
    "for batch in world_batches:\n",
    "    rmse, date = rmse_fn(model, batch, \"v\", var_type=\"atmosphere\", atmos_level_idx=6)\n",
    "    rmses_world_v_400hpa.append(rmse)\n",
    "    dates_world_v_400hpa.append(date)"
   ]
  },
  {
   "cell_type": "code",
   "execution_count": 89,
   "metadata": {},
   "outputs": [],
   "source": [
    "rmses_SA_v_400hpa = []\n",
    "dates_SA_v_400hpa = []\n",
    "for batch in SA_batches:\n",
    "    rmse, date = rmse_fn_sa(model, batch, \"v\", var_type=\"atmosphere\", atmos_level_idx=6)\n",
    "    rmses_SA_v_400hpa.append(rmse)\n",
    "    dates_SA_v_400hpa.append(date)"
   ]
  },
  {
   "cell_type": "code",
   "execution_count": null,
   "metadata": {},
   "outputs": [],
   "source": [
    "plot_rmses(\"v\",rmses_world_v_400hpa, rmses_SA_v_400hpa, \n",
    "            figsize=(15, 8), fontsize=18,\n",
    "            date_ranges=dates_world_v_400hpa, title=\"Southward wind speed  two steps forward prediction: RMSES\",\n",
    "            atmos_level=\"400hPa\")"
   ]
  },
  {
   "cell_type": "markdown",
   "metadata": {},
   "source": [
    "### 500 hPa"
   ]
  },
  {
   "cell_type": "code",
   "execution_count": null,
   "metadata": {},
   "outputs": [],
   "source": []
  },
  {
   "cell_type": "markdown",
   "metadata": {},
   "source": [
    "### 600hPa"
   ]
  },
  {
   "cell_type": "code",
   "execution_count": null,
   "metadata": {},
   "outputs": [],
   "source": []
  },
  {
   "cell_type": "markdown",
   "metadata": {},
   "source": [
    "### 700 hPa"
   ]
  },
  {
   "cell_type": "code",
   "execution_count": null,
   "metadata": {},
   "outputs": [],
   "source": []
  },
  {
   "cell_type": "markdown",
   "metadata": {},
   "source": [
    "### 850 hPa"
   ]
  },
  {
   "cell_type": "code",
   "execution_count": null,
   "metadata": {},
   "outputs": [],
   "source": []
  },
  {
   "cell_type": "markdown",
   "metadata": {},
   "source": [
    "### 925 hPa"
   ]
  },
  {
   "cell_type": "code",
   "execution_count": null,
   "metadata": {},
   "outputs": [],
   "source": []
  },
  {
   "cell_type": "markdown",
   "metadata": {},
   "source": [
    "### 1000 hPa"
   ]
  },
  {
   "cell_type": "code",
   "execution_count": 91,
   "metadata": {},
   "outputs": [],
   "source": [
    "rmses_world_v_1000hpa = []\n",
    "dates_world_v_1000hpa = []\n",
    "for batch in world_batches:\n",
    "    rmse, date = rmse_fn(model, batch, \"v\", var_type=\"atmosphere\", atmos_level_idx=12)\n",
    "    rmses_world_v_1000hpa.append(rmse)\n",
    "    dates_world_v_1000hpa.append(date)"
   ]
  },
  {
   "cell_type": "code",
   "execution_count": 92,
   "metadata": {},
   "outputs": [],
   "source": [
    "rmses_SA_v_1000hpa = []\n",
    "dates_SA_v_1000hpa = []\n",
    "for batch in SA_batches:\n",
    "    rmse, date = rmse_fn_sa(model, batch, \"v\", var_type=\"atmosphere\", atmos_level_idx=12)\n",
    "    rmses_SA_v_1000hpa.append(rmse)\n",
    "    dates_SA_v_1000hpa.append(date)"
   ]
  },
  {
   "cell_type": "code",
   "execution_count": null,
   "metadata": {},
   "outputs": [],
   "source": [
    "plot_rmses(\"v\",rmses_world_v_1000hpa, rmses_SA_v_1000hpa, \n",
    "            figsize=(15, 8), fontsize=18,\n",
    "            date_ranges=dates_SA_v_1000hpa, title=\"Southward wind speed  two steps forward prediction: RMSES\",\n",
    "            atmos_level=\"1000hPa\")"
   ]
  },
  {
   "cell_type": "markdown",
   "metadata": {},
   "source": [
    "### Specific humidity in kg / kg: q"
   ]
  },
  {
   "cell_type": "markdown",
   "metadata": {},
   "source": [
    "### 50 hPa"
   ]
  },
  {
   "cell_type": "code",
   "execution_count": 94,
   "metadata": {},
   "outputs": [],
   "source": [
    "rmses_world_q = []\n",
    "dates_world_q = []\n",
    "for batch in world_batches:\n",
    "    rmse, date = rmse_fn(model, batch, \"q\", var_type=\"atmosphere\", atmos_level_idx=0)\n",
    "    rmses_world_q.append(rmse)\n",
    "    dates_world_q.append(date)"
   ]
  },
  {
   "cell_type": "code",
   "execution_count": 95,
   "metadata": {},
   "outputs": [],
   "source": [
    "rmses_SA_q = []\n",
    "dates_SA_q = []\n",
    "for batch in SA_batches:\n",
    "    rmse, date = rmse_fn_sa(model, batch, \"q\", var_type=\"atmosphere\", atmos_level_idx=0)\n",
    "    rmses_SA_q.append(rmse)\n",
    "    dates_SA_q.append(date)"
   ]
  },
  {
   "cell_type": "code",
   "execution_count": null,
   "metadata": {},
   "outputs": [],
   "source": [
    "plot_rmses(\"q\",rmses_world_q, rmses_SA_q, \n",
    "            figsize=(15, 8), fontsize=18,\n",
    "            date_ranges=dates_world_q, title=\"Specific humidity two steps forward prediction: RMSES\",\n",
    "            atmos_level=\"50hPa\")"
   ]
  },
  {
   "cell_type": "markdown",
   "metadata": {},
   "source": [
    "### 100 hPa"
   ]
  },
  {
   "cell_type": "code",
   "execution_count": null,
   "metadata": {},
   "outputs": [],
   "source": []
  },
  {
   "cell_type": "code",
   "execution_count": null,
   "metadata": {},
   "outputs": [],
   "source": []
  },
  {
   "cell_type": "markdown",
   "metadata": {},
   "source": [
    "### 150 hPa"
   ]
  },
  {
   "cell_type": "code",
   "execution_count": null,
   "metadata": {},
   "outputs": [],
   "source": []
  },
  {
   "cell_type": "markdown",
   "metadata": {},
   "source": [
    "### 200 hPa"
   ]
  },
  {
   "cell_type": "code",
   "execution_count": null,
   "metadata": {},
   "outputs": [],
   "source": []
  },
  {
   "cell_type": "markdown",
   "metadata": {},
   "source": [
    "### 250 hPa"
   ]
  },
  {
   "cell_type": "code",
   "execution_count": null,
   "metadata": {},
   "outputs": [],
   "source": []
  },
  {
   "cell_type": "markdown",
   "metadata": {},
   "source": [
    "### 300 hPa"
   ]
  },
  {
   "cell_type": "code",
   "execution_count": null,
   "metadata": {},
   "outputs": [],
   "source": []
  },
  {
   "cell_type": "markdown",
   "metadata": {},
   "source": [
    "### 400 hPa"
   ]
  },
  {
   "cell_type": "code",
   "execution_count": 97,
   "metadata": {},
   "outputs": [],
   "source": [
    "rmses_world_q_400hpa = []\n",
    "dates_world_q_400hpa = []\n",
    "for batch in world_batches:\n",
    "    rmse, date = rmse_fn(model, batch, \"q\", var_type=\"atmosphere\", atmos_level_idx=6)\n",
    "    rmses_world_q_400hpa.append(rmse)\n",
    "    dates_world_q_400hpa.append(date)"
   ]
  },
  {
   "cell_type": "code",
   "execution_count": 98,
   "metadata": {},
   "outputs": [],
   "source": [
    "rmses_SA_q_400hpa = []\n",
    "dates_SA_q_400hpa = []\n",
    "for batch in SA_batches:\n",
    "    rmse, date = rmse_fn_sa(model, batch, \"q\", var_type=\"atmosphere\", atmos_level_idx=6)\n",
    "    rmses_SA_q_400hpa.append(rmse)\n",
    "    dates_SA_q_400hpa.append(date)"
   ]
  },
  {
   "cell_type": "code",
   "execution_count": null,
   "metadata": {},
   "outputs": [],
   "source": [
    "plot_rmses(\"q\",rmses_world_q_400hpa, rmses_SA_q_400hpa, \n",
    "            figsize=(15, 8), fontsize=18,\n",
    "            date_ranges=dates_world_q_400hpa, title=\"Southward wind speed  two steps forward prediction: RMSES\",\n",
    "            atmos_level=\"400hPa\")"
   ]
  },
  {
   "cell_type": "markdown",
   "metadata": {},
   "source": [
    "### 500 hPa"
   ]
  },
  {
   "cell_type": "code",
   "execution_count": null,
   "metadata": {},
   "outputs": [],
   "source": []
  },
  {
   "cell_type": "markdown",
   "metadata": {},
   "source": [
    "### 600hPa"
   ]
  },
  {
   "cell_type": "code",
   "execution_count": null,
   "metadata": {},
   "outputs": [],
   "source": []
  },
  {
   "cell_type": "markdown",
   "metadata": {},
   "source": [
    "### 700 hPa"
   ]
  },
  {
   "cell_type": "code",
   "execution_count": null,
   "metadata": {},
   "outputs": [],
   "source": []
  },
  {
   "cell_type": "markdown",
   "metadata": {},
   "source": [
    "### 850 hPa"
   ]
  },
  {
   "cell_type": "code",
   "execution_count": null,
   "metadata": {},
   "outputs": [],
   "source": []
  },
  {
   "cell_type": "markdown",
   "metadata": {},
   "source": [
    "### 925 hPa"
   ]
  },
  {
   "cell_type": "code",
   "execution_count": null,
   "metadata": {},
   "outputs": [],
   "source": []
  },
  {
   "cell_type": "markdown",
   "metadata": {},
   "source": [
    "### 1000 hPa"
   ]
  },
  {
   "cell_type": "code",
   "execution_count": 100,
   "metadata": {},
   "outputs": [],
   "source": [
    "rmses_world_q_1000hpa = []\n",
    "dates_world_q_1000hpa = []\n",
    "for batch in world_batches:\n",
    "    rmse, date = rmse_fn(model, batch, \"q\", var_type=\"atmosphere\", atmos_level_idx=12)\n",
    "    rmses_world_q_1000hpa.append(rmse)\n",
    "    dates_world_q_1000hpa.append(date)"
   ]
  },
  {
   "cell_type": "code",
   "execution_count": 101,
   "metadata": {},
   "outputs": [],
   "source": [
    "rmses_SA_q_1000hpa = []\n",
    "dates_SA_q_1000hpa = []\n",
    "for batch in SA_batches:\n",
    "    rmse, date = rmse_fn_sa(model, batch, \"q\", var_type=\"atmosphere\", atmos_level_idx=12)\n",
    "    rmses_SA_q_1000hpa.append(rmse)\n",
    "    dates_SA_q_1000hpa.append(date)"
   ]
  },
  {
   "cell_type": "code",
   "execution_count": null,
   "metadata": {},
   "outputs": [],
   "source": [
    "plot_rmses(\"q\",rmses_world_q_1000hpa, rmses_SA_q_1000hpa, \n",
    "            figsize=(15, 8), fontsize=18,\n",
    "            date_ranges=dates_SA_q_1000hpa, title=\"Specific humidity  two steps forward prediction: RMSES\",\n",
    "            atmos_level=\"1000hPa\")"
   ]
  },
  {
   "cell_type": "markdown",
   "metadata": {},
   "source": [
    "### Geopotential in m^2 / s^2 : z"
   ]
  },
  {
   "cell_type": "markdown",
   "metadata": {},
   "source": [
    "### 50 hPa"
   ]
  },
  {
   "cell_type": "code",
   "execution_count": 103,
   "metadata": {},
   "outputs": [],
   "source": [
    "rmses_world_z = []\n",
    "dates_world_z = []\n",
    "for batch in world_batches:\n",
    "    rmse, date = rmse_fn(model, batch, \"z\", var_type=\"atmosphere\", atmos_level_idx=0)\n",
    "    rmses_world_z.append(rmse)\n",
    "    dates_world_z.append(date)"
   ]
  },
  {
   "cell_type": "code",
   "execution_count": 104,
   "metadata": {},
   "outputs": [],
   "source": [
    "rmses_SA_z = []\n",
    "dates_SA_z = []\n",
    "for batch in SA_batches:\n",
    "    rmse, date = rmse_fn_sa(model, batch, \"z\", var_type=\"atmosphere\", atmos_level_idx=0)\n",
    "    rmses_SA_z.append(rmse)\n",
    "    dates_SA_z.append(date)"
   ]
  },
  {
   "cell_type": "code",
   "execution_count": null,
   "metadata": {},
   "outputs": [],
   "source": [
    "plot_rmses(\"z\",rmses_world_z, rmses_SA_z, \n",
    "            figsize=(15, 8), fontsize=18,\n",
    "            date_ranges=dates_world_z, title=\"Geopotential two steps forward prediction: RMSES\",\n",
    "            atmos_level=\"50hPa\")"
   ]
  },
  {
   "cell_type": "markdown",
   "metadata": {},
   "source": [
    "### 100 hPa"
   ]
  },
  {
   "cell_type": "code",
   "execution_count": null,
   "metadata": {},
   "outputs": [],
   "source": []
  },
  {
   "cell_type": "code",
   "execution_count": null,
   "metadata": {},
   "outputs": [],
   "source": []
  },
  {
   "cell_type": "markdown",
   "metadata": {},
   "source": [
    "### 150 hPa"
   ]
  },
  {
   "cell_type": "code",
   "execution_count": null,
   "metadata": {},
   "outputs": [],
   "source": []
  },
  {
   "cell_type": "markdown",
   "metadata": {},
   "source": [
    "### 200 hPa"
   ]
  },
  {
   "cell_type": "code",
   "execution_count": null,
   "metadata": {},
   "outputs": [],
   "source": []
  },
  {
   "cell_type": "markdown",
   "metadata": {},
   "source": [
    "### 250 hPa"
   ]
  },
  {
   "cell_type": "code",
   "execution_count": null,
   "metadata": {},
   "outputs": [],
   "source": []
  },
  {
   "cell_type": "markdown",
   "metadata": {},
   "source": [
    "### 300 hPa"
   ]
  },
  {
   "cell_type": "code",
   "execution_count": null,
   "metadata": {},
   "outputs": [],
   "source": []
  },
  {
   "cell_type": "markdown",
   "metadata": {},
   "source": [
    "### 400 hPa"
   ]
  },
  {
   "cell_type": "code",
   "execution_count": 106,
   "metadata": {},
   "outputs": [],
   "source": [
    "rmses_world_z_400hpa = []\n",
    "dates_world_z_400hpa = []\n",
    "for batch in world_batches:\n",
    "    rmse, date = rmse_fn(model, batch, \"z\", var_type=\"atmosphere\", atmos_level_idx=6)\n",
    "    rmses_world_z_400hpa.append(rmse)\n",
    "    dates_world_z_400hpa.append(date)"
   ]
  },
  {
   "cell_type": "code",
   "execution_count": 107,
   "metadata": {},
   "outputs": [],
   "source": [
    "rmses_SA_z_400hpa = []\n",
    "dates_SA_z_400hpa = []\n",
    "for batch in SA_batches:\n",
    "    rmse, date = rmse_fn_sa(model, batch, \"z\", var_type=\"atmosphere\", atmos_level_idx=6)\n",
    "    rmses_SA_z_400hpa.append(rmse)\n",
    "    dates_SA_z_400hpa.append(date)"
   ]
  },
  {
   "cell_type": "code",
   "execution_count": null,
   "metadata": {},
   "outputs": [],
   "source": [
    "plot_rmses(\"z\",rmses_world_z_400hpa, rmses_SA_z_400hpa, \n",
    "            figsize=(15, 8), fontsize=18,\n",
    "            date_ranges=dates_world_z_400hpa, title=\"Geopotential two steps forward prediction: RMSES\",\n",
    "            atmos_level=\"400hPa\")"
   ]
  },
  {
   "cell_type": "markdown",
   "metadata": {},
   "source": [
    "### 500 hPa"
   ]
  },
  {
   "cell_type": "code",
   "execution_count": null,
   "metadata": {},
   "outputs": [],
   "source": []
  },
  {
   "cell_type": "markdown",
   "metadata": {},
   "source": [
    "### 600hPa"
   ]
  },
  {
   "cell_type": "code",
   "execution_count": null,
   "metadata": {},
   "outputs": [],
   "source": []
  },
  {
   "cell_type": "markdown",
   "metadata": {},
   "source": [
    "### 700 hPa"
   ]
  },
  {
   "cell_type": "code",
   "execution_count": null,
   "metadata": {},
   "outputs": [],
   "source": []
  },
  {
   "cell_type": "markdown",
   "metadata": {},
   "source": [
    "### 850 hPa"
   ]
  },
  {
   "cell_type": "code",
   "execution_count": null,
   "metadata": {},
   "outputs": [],
   "source": []
  },
  {
   "cell_type": "markdown",
   "metadata": {},
   "source": [
    "### 925 hPa"
   ]
  },
  {
   "cell_type": "code",
   "execution_count": null,
   "metadata": {},
   "outputs": [],
   "source": []
  },
  {
   "cell_type": "markdown",
   "metadata": {},
   "source": [
    "### 1000 hPa"
   ]
  },
  {
   "cell_type": "code",
   "execution_count": 109,
   "metadata": {},
   "outputs": [],
   "source": [
    "rmses_world_z_1000hpa = []\n",
    "dates_world_z_1000hpa = []\n",
    "for batch in world_batches:\n",
    "    rmse, date = rmse_fn(model, batch, \"z\", var_type=\"atmosphere\", atmos_level_idx=12)\n",
    "    rmses_world_z_1000hpa.append(rmse)\n",
    "    dates_world_z_1000hpa.append(date)"
   ]
  },
  {
   "cell_type": "code",
   "execution_count": 110,
   "metadata": {},
   "outputs": [],
   "source": [
    "rmses_SA_z_1000hpa = []\n",
    "dates_SA_z_1000hpa = []\n",
    "for batch in SA_batches:\n",
    "    rmse, date = rmse_fn_sa(model, batch, \"z\", var_type=\"atmosphere\", atmos_level_idx=12)\n",
    "    rmses_SA_z_1000hpa.append(rmse)\n",
    "    dates_SA_z_1000hpa.append(date)"
   ]
  },
  {
   "cell_type": "code",
   "execution_count": null,
   "metadata": {},
   "outputs": [],
   "source": [
    "plot_rmses(\"z\",rmses_world_z_1000hpa, rmses_SA_z_1000hpa, \n",
    "            figsize=(15, 8), fontsize=18,\n",
    "            date_ranges=dates_SA_z_1000hpa, title=\"Geopotential  two steps forward prediction: RMSES\",\n",
    "            atmos_level=\"1000hPa\")"
   ]
  },
  {
   "cell_type": "code",
   "execution_count": null,
   "metadata": {},
   "outputs": [],
   "source": []
  },
  {
   "cell_type": "code",
   "execution_count": null,
   "metadata": {},
   "outputs": [],
   "source": []
  }
 ],
 "metadata": {
  "kernelspec": {
   "display_name": "venv",
   "language": "python",
   "name": "python3"
  },
  "language_info": {
   "codemirror_mode": {
    "name": "ipython",
    "version": 3
   },
   "file_extension": ".py",
   "mimetype": "text/x-python",
   "name": "python",
   "nbconvert_exporter": "python",
   "pygments_lexer": "ipython3",
   "version": "3.10.15"
  }
 },
 "nbformat": 4,
 "nbformat_minor": 2
}
