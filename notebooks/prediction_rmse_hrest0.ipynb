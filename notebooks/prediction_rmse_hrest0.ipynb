{
 "cells": [
  {
   "cell_type": "code",
   "execution_count": 1,
   "metadata": {},
   "outputs": [
    {
     "name": "stderr",
     "output_type": "stream",
     "text": [
      "/home/koomi_aims_ac_za/koomi/projects/AIMS-PROJECT/venv/lib/python3.10/site-packages/tqdm/auto.py:21: TqdmWarning: IProgress not found. Please update jupyter and ipywidgets. See https://ipywidgets.readthedocs.io/en/stable/user_install.html\n",
      "  from .autonotebook import tqdm as notebook_tqdm\n"
     ]
    }
   ],
   "source": [
    "import xarray as xr\n",
    "from datetime import datetime\n",
    "\n",
    "import torch\n",
    "\n",
    "from aurora import AuroraSmall, Batch, Metadata, rollout\n",
    "import matplotlib.pyplot as plt\n",
    "\n",
    "from pathlib import Path\n",
    "\n",
    "import cdsapi\n",
    "import numpy as np\n",
    "from sklearn.metrics import root_mean_squared_error\n",
    "import gcsfs\n",
    "\n",
    "from torch.utils.data import Dataset\n",
    "from aurora import Batch, Metadata\n",
    "import os\n"
   ]
  },
  {
   "cell_type": "markdown",
   "metadata": {},
   "source": [
    "# Load the model"
   ]
  },
  {
   "cell_type": "code",
   "execution_count": 2,
   "metadata": {},
   "outputs": [
    {
     "data": {
      "text/plain": [
       "<All keys matched successfully>"
      ]
     },
     "execution_count": 2,
     "metadata": {},
     "output_type": "execute_result"
    }
   ],
   "source": [
    "model = AuroraSmall()\n",
    "\n",
    "model.load_state_dict(torch.load('../model/aurora.pth'))"
   ]
  },
  {
   "cell_type": "markdown",
   "metadata": {},
   "source": [
    "# Data"
   ]
  },
  {
   "cell_type": "markdown",
   "metadata": {},
   "source": [
    "## World"
   ]
  },
  {
   "cell_type": "code",
   "execution_count": 2,
   "metadata": {},
   "outputs": [],
   "source": [
    "fs = gcsfs.GCSFileSystem(token=\"anon\")\n",
    "\n",
    "store = fs.get_mapper('gs://weatherbench2/datasets/hres_t0/2016-2022-6h-1440x721.zarr')\n",
    "full_hrest0 = xr.open_zarr(store=store, consolidated=True, chunks=None)"
   ]
  },
  {
   "cell_type": "markdown",
   "metadata": {},
   "source": [
    "### Subset data from 2022"
   ]
  },
  {
   "cell_type": "code",
   "execution_count": 3,
   "metadata": {},
   "outputs": [],
   "source": [
    "start_time = '2022-06-01'\n",
    "end_time = '2022-12-31'\n",
    "\n",
    "sliced_hrest0_world = (\n",
    "    full_hrest0\n",
    "    .sel(time=slice(start_time, end_time))\n",
    "    .isel(time=slice(None, -2))\n",
    ")"
   ]
  },
  {
   "cell_type": "code",
   "execution_count": 12,
   "metadata": {},
   "outputs": [
    {
     "data": {
      "text/plain": [
       "427.0"
      ]
     },
     "execution_count": 12,
     "metadata": {},
     "output_type": "execute_result"
    }
   ],
   "source": [
    "len(sliced_hrest0_world.time)/2"
   ]
  },
  {
   "cell_type": "code",
   "execution_count": 4,
   "metadata": {},
   "outputs": [],
   "source": [
    "target_sliced_hrest0_world = (\n",
    "    full_hrest0\n",
    "    .sel(time=slice(start_time, end_time))  # Select the time range\n",
    "    .isel(time=slice(2, None))  # Skip the first two time steps\n",
    ")"
   ]
  },
  {
   "cell_type": "markdown",
   "metadata": {},
   "source": [
    "# Era 5 data for static variables"
   ]
  },
  {
   "cell_type": "code",
   "execution_count": 5,
   "metadata": {},
   "outputs": [],
   "source": [
    "fs = gcsfs.GCSFileSystem(token=\"anon\")\n",
    "\n",
    "store = fs.get_mapper('gs://weatherbench2/datasets/era5/1959-2023_01_10-wb13-6h-1440x721_with_derived_variables.zarr')\n",
    "full_era5 = xr.open_zarr(store=store, consolidated=True, chunks=None)"
   ]
  },
  {
   "cell_type": "code",
   "execution_count": 6,
   "metadata": {},
   "outputs": [],
   "source": [
    "start_time = '2022-06-01'\n",
    "end_time = '2022-12-31'\n",
    "data_inner_steps = 6  \n",
    "\n",
    "sliced_era5_world = (\n",
    "    full_era5\n",
    "    .sel(time=slice(start_time, end_time))\n",
    "    .isel(time=slice(None, -2))\n",
    ")"
   ]
  },
  {
   "cell_type": "code",
   "execution_count": 7,
   "metadata": {},
   "outputs": [],
   "source": [
    "target_sliced_era5_world = (\n",
    "    full_era5\n",
    "    .sel(time=slice(start_time, end_time))  # Select the time range\n",
    "    .isel(time=slice(2, None))  # Skip the first two time steps\n",
    ")"
   ]
  },
  {
   "cell_type": "code",
   "execution_count": 8,
   "metadata": {},
   "outputs": [
    {
     "ename": "NameError",
     "evalue": "name 'lat_max' is not defined",
     "output_type": "error",
     "traceback": [
      "\u001b[0;31m---------------------------------------------------------------------------\u001b[0m",
      "\u001b[0;31mNameError\u001b[0m                                 Traceback (most recent call last)",
      "Cell \u001b[0;32mIn[8], line 5\u001b[0m\n\u001b[1;32m      1\u001b[0m sliced_era5_sa \u001b[38;5;241m=\u001b[39m (\n\u001b[1;32m      2\u001b[0m     full_era5\n\u001b[1;32m      3\u001b[0m     \u001b[38;5;241m.\u001b[39msel(\n\u001b[1;32m      4\u001b[0m         time\u001b[38;5;241m=\u001b[39m\u001b[38;5;28mslice\u001b[39m(start_time, end_time),\n\u001b[0;32m----> 5\u001b[0m         latitude\u001b[38;5;241m=\u001b[39m\u001b[38;5;28mslice\u001b[39m(\u001b[43mlat_max\u001b[49m, lat_min),\n\u001b[1;32m      6\u001b[0m         longitude\u001b[38;5;241m=\u001b[39m\u001b[38;5;28mslice\u001b[39m(lon_min, lon_max)  \n\u001b[1;32m      7\u001b[0m     )\n\u001b[1;32m      8\u001b[0m )\n",
      "\u001b[0;31mNameError\u001b[0m: name 'lat_max' is not defined"
     ]
    }
   ],
   "source": [
    "sliced_era5_sa = (\n",
    "    full_era5\n",
    "    .sel(\n",
    "        time=slice(start_time, end_time),\n",
    "        latitude=slice(lat_max, lat_min),\n",
    "        longitude=slice(lon_min, lon_max)  \n",
    "    )\n",
    ")"
   ]
  },
  {
   "cell_type": "markdown",
   "metadata": {},
   "source": [
    "### Surface variables"
   ]
  },
  {
   "cell_type": "code",
   "execution_count": 5,
   "metadata": {},
   "outputs": [],
   "source": [
    "# List of surface variable names\n",
    "surface_vars = ['2m_temperature', '10m_u_component_of_wind', '10m_v_component_of_wind', 'mean_sea_level_pressure']\n",
    "\n",
    "# Select surface variables\n",
    "surf_vars_ds = sliced_hrest0_world[surface_vars]\n",
    "target_surf_vars_ds = target_sliced_hrest0_world[surface_vars]\n"
   ]
  },
  {
   "cell_type": "code",
   "execution_count": 8,
   "metadata": {},
   "outputs": [
    {
     "data": {
      "text/html": [
       "<div><svg style=\"position: absolute; width: 0; height: 0; overflow: hidden\">\n",
       "<defs>\n",
       "<symbol id=\"icon-database\" viewBox=\"0 0 32 32\">\n",
       "<path d=\"M16 0c-8.837 0-16 2.239-16 5v4c0 2.761 7.163 5 16 5s16-2.239 16-5v-4c0-2.761-7.163-5-16-5z\"></path>\n",
       "<path d=\"M16 17c-8.837 0-16-2.239-16-5v6c0 2.761 7.163 5 16 5s16-2.239 16-5v-6c0 2.761-7.163 5-16 5z\"></path>\n",
       "<path d=\"M16 26c-8.837 0-16-2.239-16-5v6c0 2.761 7.163 5 16 5s16-2.239 16-5v-6c0 2.761-7.163 5-16 5z\"></path>\n",
       "</symbol>\n",
       "<symbol id=\"icon-file-text2\" viewBox=\"0 0 32 32\">\n",
       "<path d=\"M28.681 7.159c-0.694-0.947-1.662-2.053-2.724-3.116s-2.169-2.030-3.116-2.724c-1.612-1.182-2.393-1.319-2.841-1.319h-15.5c-1.378 0-2.5 1.121-2.5 2.5v27c0 1.378 1.122 2.5 2.5 2.5h23c1.378 0 2.5-1.122 2.5-2.5v-19.5c0-0.448-0.137-1.23-1.319-2.841zM24.543 5.457c0.959 0.959 1.712 1.825 2.268 2.543h-4.811v-4.811c0.718 0.556 1.584 1.309 2.543 2.268zM28 29.5c0 0.271-0.229 0.5-0.5 0.5h-23c-0.271 0-0.5-0.229-0.5-0.5v-27c0-0.271 0.229-0.5 0.5-0.5 0 0 15.499-0 15.5 0v7c0 0.552 0.448 1 1 1h7v19.5z\"></path>\n",
       "<path d=\"M23 26h-14c-0.552 0-1-0.448-1-1s0.448-1 1-1h14c0.552 0 1 0.448 1 1s-0.448 1-1 1z\"></path>\n",
       "<path d=\"M23 22h-14c-0.552 0-1-0.448-1-1s0.448-1 1-1h14c0.552 0 1 0.448 1 1s-0.448 1-1 1z\"></path>\n",
       "<path d=\"M23 18h-14c-0.552 0-1-0.448-1-1s0.448-1 1-1h14c0.552 0 1 0.448 1 1s-0.448 1-1 1z\"></path>\n",
       "</symbol>\n",
       "</defs>\n",
       "</svg>\n",
       "<style>/* CSS stylesheet for displaying xarray objects in jupyterlab.\n",
       " *\n",
       " */\n",
       "\n",
       ":root {\n",
       "  --xr-font-color0: var(--jp-content-font-color0, rgba(0, 0, 0, 1));\n",
       "  --xr-font-color2: var(--jp-content-font-color2, rgba(0, 0, 0, 0.54));\n",
       "  --xr-font-color3: var(--jp-content-font-color3, rgba(0, 0, 0, 0.38));\n",
       "  --xr-border-color: var(--jp-border-color2, #e0e0e0);\n",
       "  --xr-disabled-color: var(--jp-layout-color3, #bdbdbd);\n",
       "  --xr-background-color: var(--jp-layout-color0, white);\n",
       "  --xr-background-color-row-even: var(--jp-layout-color1, white);\n",
       "  --xr-background-color-row-odd: var(--jp-layout-color2, #eeeeee);\n",
       "}\n",
       "\n",
       "html[theme=\"dark\"],\n",
       "html[data-theme=\"dark\"],\n",
       "body[data-theme=\"dark\"],\n",
       "body.vscode-dark {\n",
       "  --xr-font-color0: rgba(255, 255, 255, 1);\n",
       "  --xr-font-color2: rgba(255, 255, 255, 0.54);\n",
       "  --xr-font-color3: rgba(255, 255, 255, 0.38);\n",
       "  --xr-border-color: #1f1f1f;\n",
       "  --xr-disabled-color: #515151;\n",
       "  --xr-background-color: #111111;\n",
       "  --xr-background-color-row-even: #111111;\n",
       "  --xr-background-color-row-odd: #313131;\n",
       "}\n",
       "\n",
       ".xr-wrap {\n",
       "  display: block !important;\n",
       "  min-width: 300px;\n",
       "  max-width: 700px;\n",
       "}\n",
       "\n",
       ".xr-text-repr-fallback {\n",
       "  /* fallback to plain text repr when CSS is not injected (untrusted notebook) */\n",
       "  display: none;\n",
       "}\n",
       "\n",
       ".xr-header {\n",
       "  padding-top: 6px;\n",
       "  padding-bottom: 6px;\n",
       "  margin-bottom: 4px;\n",
       "  border-bottom: solid 1px var(--xr-border-color);\n",
       "}\n",
       "\n",
       ".xr-header > div,\n",
       ".xr-header > ul {\n",
       "  display: inline;\n",
       "  margin-top: 0;\n",
       "  margin-bottom: 0;\n",
       "}\n",
       "\n",
       ".xr-obj-type,\n",
       ".xr-array-name {\n",
       "  margin-left: 2px;\n",
       "  margin-right: 10px;\n",
       "}\n",
       "\n",
       ".xr-obj-type {\n",
       "  color: var(--xr-font-color2);\n",
       "}\n",
       "\n",
       ".xr-sections {\n",
       "  padding-left: 0 !important;\n",
       "  display: grid;\n",
       "  grid-template-columns: 150px auto auto 1fr 0 20px 0 20px;\n",
       "}\n",
       "\n",
       ".xr-section-item {\n",
       "  display: contents;\n",
       "}\n",
       "\n",
       ".xr-section-item input {\n",
       "  display: inline-block;\n",
       "  opacity: 0;\n",
       "  height: 0;\n",
       "}\n",
       "\n",
       ".xr-section-item input + label {\n",
       "  color: var(--xr-disabled-color);\n",
       "}\n",
       "\n",
       ".xr-section-item input:enabled + label {\n",
       "  cursor: pointer;\n",
       "  color: var(--xr-font-color2);\n",
       "}\n",
       "\n",
       ".xr-section-item input:focus + label {\n",
       "  border: 2px solid var(--xr-font-color0);\n",
       "}\n",
       "\n",
       ".xr-section-item input:enabled + label:hover {\n",
       "  color: var(--xr-font-color0);\n",
       "}\n",
       "\n",
       ".xr-section-summary {\n",
       "  grid-column: 1;\n",
       "  color: var(--xr-font-color2);\n",
       "  font-weight: 500;\n",
       "}\n",
       "\n",
       ".xr-section-summary > span {\n",
       "  display: inline-block;\n",
       "  padding-left: 0.5em;\n",
       "}\n",
       "\n",
       ".xr-section-summary-in:disabled + label {\n",
       "  color: var(--xr-font-color2);\n",
       "}\n",
       "\n",
       ".xr-section-summary-in + label:before {\n",
       "  display: inline-block;\n",
       "  content: \"►\";\n",
       "  font-size: 11px;\n",
       "  width: 15px;\n",
       "  text-align: center;\n",
       "}\n",
       "\n",
       ".xr-section-summary-in:disabled + label:before {\n",
       "  color: var(--xr-disabled-color);\n",
       "}\n",
       "\n",
       ".xr-section-summary-in:checked + label:before {\n",
       "  content: \"▼\";\n",
       "}\n",
       "\n",
       ".xr-section-summary-in:checked + label > span {\n",
       "  display: none;\n",
       "}\n",
       "\n",
       ".xr-section-summary,\n",
       ".xr-section-inline-details {\n",
       "  padding-top: 4px;\n",
       "  padding-bottom: 4px;\n",
       "}\n",
       "\n",
       ".xr-section-inline-details {\n",
       "  grid-column: 2 / -1;\n",
       "}\n",
       "\n",
       ".xr-section-details {\n",
       "  display: none;\n",
       "  grid-column: 1 / -1;\n",
       "  margin-bottom: 5px;\n",
       "}\n",
       "\n",
       ".xr-section-summary-in:checked ~ .xr-section-details {\n",
       "  display: contents;\n",
       "}\n",
       "\n",
       ".xr-array-wrap {\n",
       "  grid-column: 1 / -1;\n",
       "  display: grid;\n",
       "  grid-template-columns: 20px auto;\n",
       "}\n",
       "\n",
       ".xr-array-wrap > label {\n",
       "  grid-column: 1;\n",
       "  vertical-align: top;\n",
       "}\n",
       "\n",
       ".xr-preview {\n",
       "  color: var(--xr-font-color3);\n",
       "}\n",
       "\n",
       ".xr-array-preview,\n",
       ".xr-array-data {\n",
       "  padding: 0 5px !important;\n",
       "  grid-column: 2;\n",
       "}\n",
       "\n",
       ".xr-array-data,\n",
       ".xr-array-in:checked ~ .xr-array-preview {\n",
       "  display: none;\n",
       "}\n",
       "\n",
       ".xr-array-in:checked ~ .xr-array-data,\n",
       ".xr-array-preview {\n",
       "  display: inline-block;\n",
       "}\n",
       "\n",
       ".xr-dim-list {\n",
       "  display: inline-block !important;\n",
       "  list-style: none;\n",
       "  padding: 0 !important;\n",
       "  margin: 0;\n",
       "}\n",
       "\n",
       ".xr-dim-list li {\n",
       "  display: inline-block;\n",
       "  padding: 0;\n",
       "  margin: 0;\n",
       "}\n",
       "\n",
       ".xr-dim-list:before {\n",
       "  content: \"(\";\n",
       "}\n",
       "\n",
       ".xr-dim-list:after {\n",
       "  content: \")\";\n",
       "}\n",
       "\n",
       ".xr-dim-list li:not(:last-child):after {\n",
       "  content: \",\";\n",
       "  padding-right: 5px;\n",
       "}\n",
       "\n",
       ".xr-has-index {\n",
       "  font-weight: bold;\n",
       "}\n",
       "\n",
       ".xr-var-list,\n",
       ".xr-var-item {\n",
       "  display: contents;\n",
       "}\n",
       "\n",
       ".xr-var-item > div,\n",
       ".xr-var-item label,\n",
       ".xr-var-item > .xr-var-name span {\n",
       "  background-color: var(--xr-background-color-row-even);\n",
       "  margin-bottom: 0;\n",
       "}\n",
       "\n",
       ".xr-var-item > .xr-var-name:hover span {\n",
       "  padding-right: 5px;\n",
       "}\n",
       "\n",
       ".xr-var-list > li:nth-child(odd) > div,\n",
       ".xr-var-list > li:nth-child(odd) > label,\n",
       ".xr-var-list > li:nth-child(odd) > .xr-var-name span {\n",
       "  background-color: var(--xr-background-color-row-odd);\n",
       "}\n",
       "\n",
       ".xr-var-name {\n",
       "  grid-column: 1;\n",
       "}\n",
       "\n",
       ".xr-var-dims {\n",
       "  grid-column: 2;\n",
       "}\n",
       "\n",
       ".xr-var-dtype {\n",
       "  grid-column: 3;\n",
       "  text-align: right;\n",
       "  color: var(--xr-font-color2);\n",
       "}\n",
       "\n",
       ".xr-var-preview {\n",
       "  grid-column: 4;\n",
       "}\n",
       "\n",
       ".xr-index-preview {\n",
       "  grid-column: 2 / 5;\n",
       "  color: var(--xr-font-color2);\n",
       "}\n",
       "\n",
       ".xr-var-name,\n",
       ".xr-var-dims,\n",
       ".xr-var-dtype,\n",
       ".xr-preview,\n",
       ".xr-attrs dt {\n",
       "  white-space: nowrap;\n",
       "  overflow: hidden;\n",
       "  text-overflow: ellipsis;\n",
       "  padding-right: 10px;\n",
       "}\n",
       "\n",
       ".xr-var-name:hover,\n",
       ".xr-var-dims:hover,\n",
       ".xr-var-dtype:hover,\n",
       ".xr-attrs dt:hover {\n",
       "  overflow: visible;\n",
       "  width: auto;\n",
       "  z-index: 1;\n",
       "}\n",
       "\n",
       ".xr-var-attrs,\n",
       ".xr-var-data,\n",
       ".xr-index-data {\n",
       "  display: none;\n",
       "  background-color: var(--xr-background-color) !important;\n",
       "  padding-bottom: 5px !important;\n",
       "}\n",
       "\n",
       ".xr-var-attrs-in:checked ~ .xr-var-attrs,\n",
       ".xr-var-data-in:checked ~ .xr-var-data,\n",
       ".xr-index-data-in:checked ~ .xr-index-data {\n",
       "  display: block;\n",
       "}\n",
       "\n",
       ".xr-var-data > table {\n",
       "  float: right;\n",
       "}\n",
       "\n",
       ".xr-var-name span,\n",
       ".xr-var-data,\n",
       ".xr-index-name div,\n",
       ".xr-index-data,\n",
       ".xr-attrs {\n",
       "  padding-left: 25px !important;\n",
       "}\n",
       "\n",
       ".xr-attrs,\n",
       ".xr-var-attrs,\n",
       ".xr-var-data,\n",
       ".xr-index-data {\n",
       "  grid-column: 1 / -1;\n",
       "}\n",
       "\n",
       "dl.xr-attrs {\n",
       "  padding: 0;\n",
       "  margin: 0;\n",
       "  display: grid;\n",
       "  grid-template-columns: 125px auto;\n",
       "}\n",
       "\n",
       ".xr-attrs dt,\n",
       ".xr-attrs dd {\n",
       "  padding: 0;\n",
       "  margin: 0;\n",
       "  float: left;\n",
       "  padding-right: 10px;\n",
       "  width: auto;\n",
       "}\n",
       "\n",
       ".xr-attrs dt {\n",
       "  font-weight: normal;\n",
       "  grid-column: 1;\n",
       "}\n",
       "\n",
       ".xr-attrs dt:hover span {\n",
       "  display: inline-block;\n",
       "  background: var(--xr-background-color);\n",
       "  padding-right: 10px;\n",
       "}\n",
       "\n",
       ".xr-attrs dd {\n",
       "  grid-column: 2;\n",
       "  white-space: pre-wrap;\n",
       "  word-break: break-all;\n",
       "}\n",
       "\n",
       ".xr-icon-database,\n",
       ".xr-icon-file-text2,\n",
       ".xr-no-icon {\n",
       "  display: inline-block;\n",
       "  vertical-align: middle;\n",
       "  width: 1em;\n",
       "  height: 1.5em !important;\n",
       "  stroke-width: 0;\n",
       "  stroke: currentColor;\n",
       "  fill: currentColor;\n",
       "}\n",
       "</style><pre class='xr-text-repr-fallback'>&lt;xarray.DataArray &#x27;longitude&#x27; (longitude: 1440)&gt; Size: 6kB\n",
       "array([0.0000e+00, 2.5000e-01, 5.0000e-01, ..., 3.5925e+02, 3.5950e+02,\n",
       "       3.5975e+02], dtype=float32)\n",
       "Coordinates:\n",
       "  * longitude  (longitude) float32 6kB 0.0 0.25 0.5 0.75 ... 359.2 359.5 359.8</pre><div class='xr-wrap' style='display:none'><div class='xr-header'><div class='xr-obj-type'>xarray.DataArray</div><div class='xr-array-name'>'longitude'</div><ul class='xr-dim-list'><li><span class='xr-has-index'>longitude</span>: 1440</li></ul></div><ul class='xr-sections'><li class='xr-section-item'><div class='xr-array-wrap'><input id='section-09b30b79-94d9-48bf-9725-61ed0b7d6831' class='xr-array-in' type='checkbox' checked><label for='section-09b30b79-94d9-48bf-9725-61ed0b7d6831' title='Show/hide data repr'><svg class='icon xr-icon-database'><use xlink:href='#icon-database'></use></svg></label><div class='xr-array-preview xr-preview'><span>0.0 0.25 0.5 0.75 1.0 1.25 1.5 ... 358.5 358.8 359.0 359.2 359.5 359.8</span></div><div class='xr-array-data'><pre>array([0.0000e+00, 2.5000e-01, 5.0000e-01, ..., 3.5925e+02, 3.5950e+02,\n",
       "       3.5975e+02], dtype=float32)</pre></div></div></li><li class='xr-section-item'><input id='section-3575176c-08fe-4a00-a911-cc3049236e95' class='xr-section-summary-in' type='checkbox'  checked><label for='section-3575176c-08fe-4a00-a911-cc3049236e95' class='xr-section-summary' >Coordinates: <span>(1)</span></label><div class='xr-section-inline-details'></div><div class='xr-section-details'><ul class='xr-var-list'><li class='xr-var-item'><div class='xr-var-name'><span class='xr-has-index'>longitude</span></div><div class='xr-var-dims'>(longitude)</div><div class='xr-var-dtype'>float32</div><div class='xr-var-preview xr-preview'>0.0 0.25 0.5 ... 359.2 359.5 359.8</div><input id='attrs-e8dee70c-bd4c-475c-b658-74875239c709' class='xr-var-attrs-in' type='checkbox' disabled><label for='attrs-e8dee70c-bd4c-475c-b658-74875239c709' title='Show/Hide attributes'><svg class='icon xr-icon-file-text2'><use xlink:href='#icon-file-text2'></use></svg></label><input id='data-1a749a5a-503c-46ad-9851-c1489fd90e1d' class='xr-var-data-in' type='checkbox'><label for='data-1a749a5a-503c-46ad-9851-c1489fd90e1d' title='Show/Hide data repr'><svg class='icon xr-icon-database'><use xlink:href='#icon-database'></use></svg></label><div class='xr-var-attrs'><dl class='xr-attrs'></dl></div><div class='xr-var-data'><pre>array([0.0000e+00, 2.5000e-01, 5.0000e-01, ..., 3.5925e+02, 3.5950e+02,\n",
       "       3.5975e+02], dtype=float32)</pre></div></li></ul></div></li><li class='xr-section-item'><input id='section-6ce173a8-45ad-4055-b7a4-a90fd2688121' class='xr-section-summary-in' type='checkbox'  ><label for='section-6ce173a8-45ad-4055-b7a4-a90fd2688121' class='xr-section-summary' >Indexes: <span>(1)</span></label><div class='xr-section-inline-details'></div><div class='xr-section-details'><ul class='xr-var-list'><li class='xr-var-item'><div class='xr-index-name'><div>longitude</div></div><div class='xr-index-preview'>PandasIndex</div><input type='checkbox' disabled/><label></label><input id='index-b905c81f-f2c5-4d14-821e-703a7843f642' class='xr-index-data-in' type='checkbox'/><label for='index-b905c81f-f2c5-4d14-821e-703a7843f642' title='Show/Hide index repr'><svg class='icon xr-icon-database'><use xlink:href='#icon-database'></use></svg></label><div class='xr-index-data'><pre>PandasIndex(Index([   0.0,   0.25,    0.5,   0.75,    1.0,   1.25,    1.5,   1.75,    2.0,\n",
       "         2.25,\n",
       "       ...\n",
       "        357.5, 357.75,  358.0, 358.25,  358.5, 358.75,  359.0, 359.25,  359.5,\n",
       "       359.75],\n",
       "      dtype=&#x27;float32&#x27;, name=&#x27;longitude&#x27;, length=1440))</pre></div></li></ul></div></li><li class='xr-section-item'><input id='section-5ceb99fe-9132-4783-8ed8-10fda6e5c723' class='xr-section-summary-in' type='checkbox' disabled ><label for='section-5ceb99fe-9132-4783-8ed8-10fda6e5c723' class='xr-section-summary'  title='Expand/collapse section'>Attributes: <span>(0)</span></label><div class='xr-section-inline-details'></div><div class='xr-section-details'><dl class='xr-attrs'></dl></div></li></ul></div></div>"
      ],
      "text/plain": [
       "<xarray.DataArray 'longitude' (longitude: 1440)> Size: 6kB\n",
       "array([0.0000e+00, 2.5000e-01, 5.0000e-01, ..., 3.5925e+02, 3.5950e+02,\n",
       "       3.5975e+02], dtype=float32)\n",
       "Coordinates:\n",
       "  * longitude  (longitude) float32 6kB 0.0 0.25 0.5 0.75 ... 359.2 359.5 359.8"
      ]
     },
     "execution_count": 8,
     "metadata": {},
     "output_type": "execute_result"
    }
   ],
   "source": [
    "sliced_hrest0_world.longitude"
   ]
  },
  {
   "cell_type": "markdown",
   "metadata": {},
   "source": [
    "### Atmospherique variables"
   ]
  },
  {
   "cell_type": "code",
   "execution_count": 13,
   "metadata": {},
   "outputs": [],
   "source": [
    "atmostpheric_variables = [\"temperature\", \"u_component_of_wind\", \"v_component_of_wind\", \"specific_humidity\", \"geopotential\"]\n",
    "atmos_vars_ds = sliced_hrest0_world[atmostpheric_variables]\n",
    "target_atmos_vars_ds = target_sliced_hrest0_world[atmostpheric_variables]"
   ]
  },
  {
   "cell_type": "markdown",
   "metadata": {},
   "source": [
    "## Static variables"
   ]
  },
  {
   "cell_type": "code",
   "execution_count": 14,
   "metadata": {},
   "outputs": [],
   "source": [
    "static_variables = [\"land_sea_mask\", \"soil_type\", \"geopotential_at_surface\"]\n",
    "static_vars_ds = sliced_era5_world[static_variables]\n",
    "target_static_vars_ds = target_sliced_era5_world[static_variables]"
   ]
  },
  {
   "cell_type": "markdown",
   "metadata": {},
   "source": [
    "## Create batches"
   ]
  },
  {
   "cell_type": "code",
   "execution_count": 15,
   "metadata": {},
   "outputs": [],
   "source": [
    "def _prepare(x: np.ndarray, i) -> torch.Tensor:\n",
    "    \"\"\"Prepare a variable.\n",
    "\n",
    "    This does the following things:\n",
    "    * Select time indices `i` and `i - 1`.\n",
    "    * Insert an empty batch dimension with `[None]`.\n",
    "    * Flip along the latitude axis to ensure that the latitudes are decreasing.\n",
    "    * Copy the data, because the data must be contiguous when converting to PyTorch.\n",
    "    * Convert to PyTorch.\n",
    "    \"\"\"\n",
    "    return torch.from_numpy(x[[i - 1, i]][None][..., ::-1, :].copy())\n"
   ]
  },
  {
   "cell_type": "code",
   "execution_count": 16,
   "metadata": {},
   "outputs": [],
   "source": [
    "\n",
    "class ERA5ZarrDataset(Dataset):\n",
    "    def __init__(self, surf_vars_ds, atmos_vars_ds, static_vars_ds, sequence_length):\n",
    "        self.surf_vars_ds = surf_vars_ds\n",
    "        self.atmos_vars_ds = atmos_vars_ds\n",
    "        self.static_vars_ds = static_vars_ds\n",
    "        self.sequence_length = sequence_length\n",
    "        self.time_indices = range(sequence_length, len(surf_vars_ds.time))\n",
    "\n",
    "    def __len__(self):\n",
    "        return len(self.time_indices)\n",
    "\n",
    "    def __getitem__(self, idx):\n",
    "        i = self.time_indices[idx]\n",
    "\n",
    "        batch = Batch(\n",
    "    surf_vars={\n",
    "        \"2t\": _prepare(surf_vars_ds[\"2m_temperature\"].values, i),\n",
    "        \"10u\": _prepare(surf_vars_ds[\"10m_u_component_of_wind\"].values, i),\n",
    "        \"10v\": _prepare(surf_vars_ds[\"10m_v_component_of_wind\"].values, i),\n",
    "        \"msl\": _prepare(surf_vars_ds[\"mean_sea_level_pressure\"].values, i),\n",
    "    },\n",
    "    static_vars = {\n",
    "            \"z\": torch.from_numpy(self.static_vars_ds[\"geopotential_at_surface\"].values),\n",
    "            \"slt\": torch.from_numpy(self.static_vars_ds[\"soil_type\"].values),\n",
    "            \"lsm\": torch.from_numpy(self.static_vars_ds[\"land_sea_mask\"].values),\n",
    "        },\n",
    "    atmos_vars={\n",
    "        \"t\": _prepare(atmos_vars_ds[\"temperature\"].values,i),\n",
    "        \"u\": _prepare(atmos_vars_ds[\"u_component_of_wind\"].values, i),\n",
    "        \"v\": _prepare(atmos_vars_ds[\"v_component_of_wind\"].values, i),\n",
    "        \"q\": _prepare(atmos_vars_ds[\"specific_humidity\"].values, i),\n",
    "        \"z\": _prepare(atmos_vars_ds[\"geopotential\"].values, i),\n",
    "    },\n",
    "    metadata=Metadata(\n",
    "        # Flip the latitudes! We need to copy because converting to PyTorch, because the\n",
    "        # data must be contiguous.\n",
    "        lat=torch.from_numpy(surf_vars_ds.latitude.values[::-1].copy()),\n",
    "        lon=torch.from_numpy(surf_vars_ds.longitude.values),\n",
    "        # Converting to `datetime64[s]` ensures that the output of `tolist()` gives\n",
    "        # `datetime.datetime`s. Note that this needs to be a tuple of length one:\n",
    "        # one value for every batch element.\n",
    "        time=(surf_vars_ds.time.values.astype(\"datetime64[s]\").tolist()[i],),\n",
    "        atmos_levels=tuple(int(level) for level in atmos_vars_ds.level.values),\n",
    "    ),\n",
    ")\n",
    "\n",
    "\n",
    "        return batch"
   ]
  },
  {
   "cell_type": "code",
   "execution_count": 17,
   "metadata": {},
   "outputs": [],
   "source": [
    "world_batches = ERA5ZarrDataset(surf_vars_ds, atmos_vars_ds, static_vars_ds,1)\n",
    "target_world_batches = ERA5ZarrDataset(target_surf_vars_ds, target_atmos_vars_ds, target_static_vars_ds,1)"
   ]
  },
  {
   "cell_type": "code",
   "execution_count": null,
   "metadata": {},
   "outputs": [],
   "source": [
    "for batch in world_batches:\n",
    "    data=batch\n",
    "    break"
   ]
  },
  {
   "cell_type": "code",
   "execution_count": null,
   "metadata": {},
   "outputs": [],
   "source": [
    "batch"
   ]
  },
  {
   "cell_type": "markdown",
   "metadata": {},
   "source": [
    "### South Africa Data"
   ]
  },
  {
   "cell_type": "code",
   "execution_count": 64,
   "metadata": {},
   "outputs": [],
   "source": [
    "start_time = '2022-06-01'\n",
    "end_time = '2022-12-31'\n",
    "\n",
    "lat_max = -22.00 \n",
    "lat_min = -37.75  \n",
    "\n",
    "lon_min = 15.25   \n",
    "lon_max = 35.00   \n",
    "\n",
    "sliced_hrest0_SA = (\n",
    "    full_hrest0\n",
    "    .sel(\n",
    "        time=slice(start_time, end_time),\n",
    "        latitude=slice(lat_max, lat_min),\n",
    "        longitude=slice(lon_min, lon_max)  \n",
    "    )\n",
    "    .isel(time=slice(None, -2))\n",
    ")\n",
    "\n",
    "target_sliced_hrest0_SA = (\n",
    "    full_hrest0\n",
    "    .sel(\n",
    "        time=slice(start_time, end_time),\n",
    "        latitude=slice(lat_max, lat_min),\n",
    "        longitude=slice(lon_min, lon_max)  \n",
    "    )  \n",
    "    .isel(time=slice(2, None))  # Skip the first two time steps\n",
    ")"
   ]
  },
  {
   "cell_type": "code",
   "execution_count": 65,
   "metadata": {},
   "outputs": [],
   "source": [
    "start_time = '2022-06-01'\n",
    "end_time = '2022-12-31'\n",
    "\n",
    "lat_max = -22.00 \n",
    "lat_min = -37.75  \n",
    "\n",
    "lon_min = 15.25   \n",
    "lon_max = 35.00   \n",
    "\n",
    "sliced_era5_SA = (\n",
    "    full_era5\n",
    "    .sel(\n",
    "        time=slice(start_time, end_time),\n",
    "        latitude=slice(lat_max, lat_min),\n",
    "        longitude=slice(lon_min, lon_max)  \n",
    "    )\n",
    "    .isel(time=slice(None, -2))\n",
    ")\n",
    "\n",
    "target_sliced_era5_SA = (\n",
    "    full_era5\n",
    "    .sel(\n",
    "        time=slice(start_time, end_time),\n",
    "        latitude=slice(lat_max, lat_min),\n",
    "        longitude=slice(lon_min, lon_max)  \n",
    "    )  \n",
    "    .isel(time=slice(2, None))  # Skip the first two time steps\n",
    ")"
   ]
  },
  {
   "cell_type": "code",
   "execution_count": 66,
   "metadata": {},
   "outputs": [],
   "source": [
    "surf_vars_ds_SA = sliced_hrest0_SA[surface_vars]\n",
    "\n",
    "target_surf_vars_ds_SA = target_sliced_hrest0_SA[surface_vars]\n",
    "\n",
    "atmos_vars_ds_SA = sliced_hrest0_SA[atmostpheric_variables]\n",
    "\n",
    "target_atmos_vars_ds_SA = target_sliced_hrest0_SA[atmostpheric_variables]\n",
    "\n",
    "static_vars_ds_SA = sliced_era5_SA[static_variables]\n",
    "\n",
    "target_static_vars_ds_SA = target_sliced_era5_SA[static_variables]"
   ]
  },
  {
   "cell_type": "code",
   "execution_count": 67,
   "metadata": {},
   "outputs": [],
   "source": [
    "SA_batches = ERA5ZarrDataset(surf_vars_ds_SA, atmos_vars_ds_SA, static_vars_ds_SA,1)\n",
    "target_SA_batches = ERA5ZarrDataset(target_surf_vars_ds_SA, target_atmos_vars_ds_SA, target_static_vars_ds_SA,1)"
   ]
  },
  {
   "cell_type": "markdown",
   "metadata": {},
   "source": [
    "## Predictions Function"
   ]
  },
  {
   "cell_type": "code",
   "execution_count": 68,
   "metadata": {},
   "outputs": [],
   "source": [
    "def predict_fn(model, batch):\n",
    "    model.eval()\n",
    "    model = model.to(\"cuda\")\n",
    "    with torch.inference_mode():\n",
    "        preds = [pred.to(\"cpu\") for pred in rollout(model, batch, steps=2)]\n",
    "    model = model.to(\"cpu\")\n",
    "    return preds"
   ]
  },
  {
   "cell_type": "markdown",
   "metadata": {},
   "source": [
    "# Custom RMSE function"
   ]
  },
  {
   "cell_type": "markdown",
   "metadata": {},
   "source": [
    "## Grid weights"
   ]
  },
  {
   "cell_type": "code",
   "execution_count": 69,
   "metadata": {},
   "outputs": [],
   "source": [
    "def rmse_weights(latitudes, longitudes, R=6371.0):\n",
    "    # convert to gradient\n",
    "    lat_rad = np.deg2rad(latitudes)\n",
    "    lon_rad = np.deg2rad(longitudes)\n",
    "    \n",
    "    dlat = np.abs(np.diff(lat_rad).mean())  # Average latitude difference\n",
    "    dlon = np.abs(np.diff(lon_rad).mean())  # Average longitude difference\n",
    "\n",
    "    # Calculate the area for each latitude band\n",
    "    areas = R**2 * dlon * np.abs(np.sin(lat_rad + dlat/2) - np.sin(lat_rad - dlat/2))\n",
    "\n",
    "    # Expand areas to match the shape of the grid\n",
    "    area_grid = np.outer(areas, np.ones(len(longitudes)))\n",
    "    area_grid = area_grid/area_grid.sum()\n",
    "    \n",
    "    \n",
    "    return area_grid\n",
    "    \n",
    "\n"
   ]
  },
  {
   "cell_type": "markdown",
   "metadata": {},
   "source": [
    "### world rmse weights"
   ]
  },
  {
   "cell_type": "code",
   "execution_count": 70,
   "metadata": {},
   "outputs": [],
   "source": [
    "world_rmse_weights = rmse_weights(sliced_era5_world.latitude, sliced_era5_world.longitude, R=6371.0)"
   ]
  },
  {
   "cell_type": "markdown",
   "metadata": {},
   "source": [
    "### South Africa rmse weights"
   ]
  },
  {
   "cell_type": "code",
   "execution_count": 71,
   "metadata": {},
   "outputs": [],
   "source": [
    "SA_rmse_weights = rmse_weights(sliced_era5_SA.latitude, sliced_era5_SA.longitude, R=6371.0)"
   ]
  },
  {
   "cell_type": "code",
   "execution_count": 72,
   "metadata": {},
   "outputs": [],
   "source": [
    "def custom_rmse(actual, prediction, weigths):\n",
    "    return (((actual-prediction)**2)*weigths).sum()"
   ]
  },
  {
   "cell_type": "markdown",
   "metadata": {},
   "source": [
    "# RMSEs World dataset"
   ]
  },
  {
   "cell_type": "code",
   "execution_count": 73,
   "metadata": {},
   "outputs": [],
   "source": [
    "def rmse_fn(model, feature_batch, target_batch, var_name, weigths=world_rmse_weights, var_type=\"surface\", atmos_level_idx=0):\n",
    "    predictions = predict_fn(model, batch=feature_batch)\n",
    "    two_steps_rmse = []\n",
    "    pred_dates = []\n",
    "    for i in range(len(predictions)):\n",
    "        pred = predictions[i]\n",
    "        if var_type==\"surface\":\n",
    "            prediction = pred.surf_vars[var_name][0, 0].numpy()\n",
    "            actual = target_batch.surf_vars[var_name].squeeze()[i,:,:][1:, :]\n",
    "            # actual = target_batch.surf_vars[var_name][0, 0].numpy()\n",
    "            \n",
    "            # rmse = root_mean_squared_error(actual.flatten(), prediction.flatten())\n",
    "            rmse_ = custom_rmse(actual, prediction, weigths[1:,:])\n",
    "            # print(rmse1)\n",
    "            two_steps_rmse.append(rmse_.item())\n",
    "            pred_dates.append(pred.metadata.time[0])\n",
    "        # Atmospherique variable\n",
    "        elif var_type==\"atmosphere\":\n",
    "            prediction = pred.atmos_vars[var_name].squeeze()[atmos_level_idx,:,:].numpy().squeeze()\n",
    "            # actual = target_batch.atmos_vars[var_name].squeeze()[i,:,:][1:, :]\n",
    "            actual = target_batch.atmos_vars[var_name].squeeze()[i,atmos_level_idx,:,:].numpy()[:-1,:]\n",
    "            # rmse = root_mean_squared_error(actual.flatten(), prediction.flatten())\n",
    "            rmse_ = custom_rmse(actual, prediction, weigths[1:,:])\n",
    "            two_steps_rmse.append(rmse_.item())\n",
    "            pred_dates.append(pred.metadata.time[0])\n",
    "    return two_steps_rmse, pred_dates"
   ]
  },
  {
   "cell_type": "markdown",
   "metadata": {},
   "source": [
    "# RMSEs South Africa dataset"
   ]
  },
  {
   "cell_type": "code",
   "execution_count": 74,
   "metadata": {},
   "outputs": [],
   "source": [
    "def rmse_fn_sa(model, actual_batch, target_batch, var_name, weigths=SA_rmse_weights, var_type=\"surface\",  atmos_level_idx=0):\n",
    "    predictions = predict_fn(model, batch=actual_batch)\n",
    "    two_steps_rmse = []\n",
    "    pred_dates = []\n",
    "    for i in range(len(predictions)):\n",
    "        pred = predictions[i]\n",
    "        if var_type==\"surface\":\n",
    "            # prediction = pred.surf_vars[var_name][0, 0].numpy()\n",
    "            # actual = actual_batch.surf_vars[var_name][0, 0].numpy()\n",
    "            # rmse = root_mean_squared_error(actual.flatten(), prediction.flatten())\n",
    "            prediction = pred.surf_vars[var_name][0, 0].numpy()\n",
    "            actual = target_batch.surf_vars[var_name].squeeze()[i,:,:]\n",
    "            # rmse1 = rmse(actual, prediction)\n",
    "            computed_rmse = custom_rmse(actual, prediction, weigths)\n",
    "            two_steps_rmse.append(computed_rmse.item())\n",
    "            pred_dates.append(pred.metadata.time[0])\n",
    "            # print(computed_rmse.item())\n",
    "        elif var_type==\"atmosphere\":\n",
    "            prediction = pred.atmos_vars[var_name].squeeze()[atmos_level_idx,:,:].numpy().squeeze()\n",
    "            actual = target_batch.atmos_vars[var_name].squeeze()[i,atmos_level_idx,:,:].numpy()\n",
    "            # rmse = root_mean_squared_error(actual.flatten(), prediction.flatten())\n",
    "            rmse_ = custom_rmse(actual, prediction, weigths)\n",
    "            two_steps_rmse.append(rmse_.item())\n",
    "            pred_dates.append(pred.metadata.time[0])\n",
    "    return two_steps_rmse, pred_dates"
   ]
  },
  {
   "cell_type": "markdown",
   "metadata": {},
   "source": [
    "# PLot RMSES"
   ]
  },
  {
   "cell_type": "code",
   "execution_count": 75,
   "metadata": {},
   "outputs": [],
   "source": [
    "\n",
    "def plot_rmses(variable, rmses_world, rmses_sa, \n",
    "               figsize=(12, 8), fontsize=18,\n",
    "               date_ranges=None, \n",
    "               title=\"Two Steps Forward Prediction: RMSEs\",\n",
    "               save_path=\"../report/rmses_world_SA\",\n",
    "               atmos_level=None):\n",
    "\n",
    "    fig, ax = plt.subplots(figsize=figsize, dpi=300)\n",
    "\n",
    "    # Extract dates\n",
    "    date_times_6_hours = [date1 for date1, date2 in date_ranges]\n",
    "    date_times_12_hours = [date2 for date1, date2 in date_ranges]\n",
    "    formatted_dates_6_hours = [dt.strftime('%Y-%m-%d (%H:%M)') for dt in date_times_6_hours]\n",
    "    formatted_dates_12_hours = [dt.strftime('%Y-%m-%d (%H:%M)') for dt in date_times_12_hours]\n",
    "\n",
    "    # Convert x-axis to indices\n",
    "    x_indices = np.arange(len(formatted_dates_6_hours))\n",
    "\n",
    "    # Select a subset of dates for x-axis labels\n",
    "    num_ticks = min(6, len(formatted_dates_6_hours))\n",
    "    tick_positions = np.linspace(0, len(formatted_dates_6_hours) - 1, num_ticks, dtype=int)\n",
    "\n",
    "    # Plot RMSEs with improved colors and styles\n",
    "    ax.plot(x_indices, np.array(rmses_world)[:, 0], label=\"Global RMSE (6h Forecast)\", color=\"blue\", linestyle=\"-\", linewidth=2)\n",
    "    ax.plot(x_indices, np.array(rmses_sa)[:, 0], label=\"South Africa RMSE (6h Forecast)\", color=\"orange\", linestyle=\"-\", linewidth=2)\n",
    "    ax.plot(x_indices, np.array(rmses_world)[:, 1], label=\"Global RMSE (12h Forecast)\", color=\"blue\", linestyle=\"--\", linewidth=2)\n",
    "    ax.plot(x_indices, np.array(rmses_sa)[:, 1], label=\"South Africa RMSE (12h Forecast)\", color=\"orange\", linestyle=\"--\", linewidth=2)\n",
    "\n",
    "    # Set selected x-ticks\n",
    "    ax.set_xticks(tick_positions)\n",
    "    ax.set_xticklabels([formatted_dates_12_hours[i] for i in tick_positions], rotation=30, ha='right')\n",
    "\n",
    "    # Improve legend appearance\n",
    "    ax.legend(title=\"Forecast Horizon\", title_fontsize=fontsize-2, fontsize=fontsize-4,\n",
    "              bbox_to_anchor=(1.05, 1), loc=\"upper left\", frameon=False)\n",
    "\n",
    "    # Improve axis labels and title\n",
    "    ax.set_xlabel(\"Forecast Date\", fontsize=fontsize-2)\n",
    "    ax.set_ylabel(\"Root Mean Squared Error (RMSE)\", fontsize=fontsize-2)\n",
    "    ax.set_title(title, fontsize=fontsize, pad=20)\n",
    "    if atmos_level:\n",
    "        # Save the plots\n",
    "        plt.savefig(f\"{save_path}/rmse-{variable}-{atmos_level}.pdf\", bbox_inches=\"tight\")\n",
    "        plt.savefig(f\"{save_path}/rmse-{variable}-{atmos_level}.png\", bbox_inches=\"tight\")\n",
    "        plt.savefig(f\"{save_path}/rmse-{variable}-{atmos_level}.svg\", bbox_inches=\"tight\")\n",
    "    else:\n",
    "        plt.savefig(f\"{save_path}/rmse-{variable}.pdf\", bbox_inches=\"tight\")\n",
    "        plt.savefig(f\"{save_path}/rmse-{variable}.png\", bbox_inches=\"tight\", dpi=300)\n",
    "        plt.savefig(f\"{save_path}/rmse-{variable}.svg\", bbox_inches=\"tight\")\n",
    "\n",
    "    plt.show()\n"
   ]
  },
  {
   "cell_type": "markdown",
   "metadata": {},
   "source": [
    "# Surface Variables"
   ]
  },
  {
   "cell_type": "markdown",
   "metadata": {},
   "source": [
    "## Two-meter temperature in K: 2t"
   ]
  },
  {
   "cell_type": "code",
   "execution_count": null,
   "metadata": {},
   "outputs": [],
   "source": [
    "rmses_world_2t = []\n",
    "dates_world_2t = []\n",
    "\n",
    "for batch, target_batch in zip(world_batches, target_world_batches):\n",
    "    rmse, date = rmse_fn(model, feature_batch=batch, target_batch=target_batch, var_name=\"2t\", var_type=\"surface\")\n",
    "    rmses_world_2t.append(rmse)\n",
    "    dates_world_2t.append(date)\n",
    "    del batch, target_batch, rmse, date\n",
    "    torch.cuda.empty_cache()  # Free GPU memory"
   ]
  },
  {
   "cell_type": "code",
   "execution_count": null,
   "metadata": {},
   "outputs": [
    {
     "name": "stderr",
     "output_type": "stream",
     "text": [
      "/var/tmp/ipykernel_3476/3710106316.py:2: DeprecationWarning: __array_wrap__ must accept context and return_scalar arguments (positionally) in the future. (Deprecated NumPy 2.0)\n",
      "  return (((actual-prediction)**2)*weigths).sum()\n"
     ]
    }
   ],
   "source": [
    "rmses_SA_2t = []\n",
    "dates_SA_2t = []\n",
    "for batch, target_batch in zip(SA_batches, target_SA_batches):\n",
    "    rmse_, date = rmse_fn_sa(model, actual_batch=batch, target_batch=target_batch, var_name=\"2t\", var_type=\"surface\")\n",
    "    rmses_SA_2t.append(rmse_)\n",
    "    dates_SA_2t.append(date)\n",
    "    del batch, target_batch, rmse_, date\n",
    "    torch.cuda.empty_cache()  # Free GPU memory"
   ]
  },
  {
   "cell_type": "code",
   "execution_count": null,
   "metadata": {},
   "outputs": [],
   "source": [
    "plot_rmses(\"2t\",rmses_world_2t, rmses_SA_2t, \n",
    "            figsize=(15, 8), fontsize=18,\n",
    "            date_ranges=dates_world_2t, title=\"Two-meter temperature two steps forward prediction: RMSES\")"
   ]
  }
 ],
 "metadata": {
  "kernelspec": {
   "display_name": "venv",
   "language": "python",
   "name": "python3"
  },
  "language_info": {
   "codemirror_mode": {
    "name": "ipython",
    "version": 3
   },
   "file_extension": ".py",
   "mimetype": "text/x-python",
   "name": "python",
   "nbconvert_exporter": "python",
   "pygments_lexer": "ipython3",
   "version": "3.10.15"
  }
 },
 "nbformat": 4,
 "nbformat_minor": 2
}
