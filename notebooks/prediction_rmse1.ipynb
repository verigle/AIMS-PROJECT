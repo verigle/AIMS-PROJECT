{
 "cells": [
  {
   "cell_type": "markdown",
   "metadata": {},
   "source": [
    "# Libraries"
   ]
  },
  {
   "cell_type": "code",
   "execution_count": 1,
   "metadata": {},
   "outputs": [
    {
     "name": "stderr",
     "output_type": "stream",
     "text": [
      "/home/koomi_aims_ac_za/koomi/projects/AIMS-PROJECT/venv/lib/python3.10/site-packages/tqdm/auto.py:21: TqdmWarning: IProgress not found. Please update jupyter and ipywidgets. See https://ipywidgets.readthedocs.io/en/stable/user_install.html\n",
      "  from .autonotebook import tqdm as notebook_tqdm\n"
     ]
    }
   ],
   "source": [
    "import xarray as xr\n",
    "from datetime import datetime\n",
    "\n",
    "import torch\n",
    "\n",
    "from aurora import AuroraSmall, Batch, Metadata, rollout\n",
    "import matplotlib.pyplot as plt\n",
    "\n",
    "from pathlib import Path\n",
    "\n",
    "import cdsapi\n",
    "import numpy as np\n",
    "from sklearn.metrics import root_mean_squared_error\n",
    "import gcsfs\n",
    "\n",
    "from torch.utils.data import Dataset\n",
    "from aurora import Batch, Metadata\n",
    "import os"
   ]
  },
  {
   "cell_type": "code",
   "execution_count": 2,
   "metadata": {},
   "outputs": [
    {
     "name": "stdout",
     "output_type": "stream",
     "text": [
      "2.6.0+cu124\n",
      "True\n",
      "True\n"
     ]
    }
   ],
   "source": [
    "import torch\n",
    "print(torch.__version__)  \n",
    "print(torch.cuda.is_available())  \n",
    "print(torch.backends.cudnn.enabled)  \n"
   ]
  },
  {
   "cell_type": "code",
   "execution_count": null,
   "metadata": {},
   "outputs": [
    {
     "name": "stdout",
     "output_type": "stream",
     "text": [
      "True\n",
      "0\n"
     ]
    }
   ],
   "source": [
    "import torch\n",
    "print(torch.cuda.is_available())  # Check if GPU is available\n",
    "print(torch.cuda.current_device())  # Check the current GPU device\n"
   ]
  },
  {
   "cell_type": "code",
   "execution_count": 4,
   "metadata": {},
   "outputs": [],
   "source": [
    "torch.cuda.empty_cache()"
   ]
  },
  {
   "cell_type": "code",
   "execution_count": 5,
   "metadata": {},
   "outputs": [
    {
     "data": {
      "text/plain": [
       "True"
      ]
     },
     "execution_count": 5,
     "metadata": {},
     "output_type": "execute_result"
    }
   ],
   "source": [
    "torch.cuda.is_available()"
   ]
  },
  {
   "cell_type": "markdown",
   "metadata": {},
   "source": [
    "# Load the model"
   ]
  },
  {
   "cell_type": "code",
   "execution_count": 6,
   "metadata": {},
   "outputs": [
    {
     "data": {
      "text/plain": [
       "<All keys matched successfully>"
      ]
     },
     "execution_count": 6,
     "metadata": {},
     "output_type": "execute_result"
    }
   ],
   "source": [
    "model = AuroraSmall()\n",
    "\n",
    "model.load_state_dict(torch.load('../model/aurora.pth'))"
   ]
  },
  {
   "cell_type": "markdown",
   "metadata": {},
   "source": [
    "# Data"
   ]
  },
  {
   "cell_type": "markdown",
   "metadata": {},
   "source": [
    "## World"
   ]
  },
  {
   "cell_type": "code",
   "execution_count": 7,
   "metadata": {},
   "outputs": [],
   "source": [
    "fs = gcsfs.GCSFileSystem(token=\"anon\")\n",
    "\n",
    "store = fs.get_mapper('gs://weatherbench2/datasets/era5/1959-2023_01_10-wb13-6h-1440x721_with_derived_variables.zarr')\n",
    "full_era5 = xr.open_zarr(store=store, consolidated=True, chunks=None)"
   ]
  },
  {
   "cell_type": "markdown",
   "metadata": {},
   "source": [
    "### Subset data from 2022"
   ]
  },
  {
   "cell_type": "code",
   "execution_count": 8,
   "metadata": {},
   "outputs": [],
   "source": [
    "start_time = '2022-06-01'\n",
    "end_time = '2023-01-31'\n",
    "data_inner_steps = 6  \n",
    "\n",
    "sliced_era5_world = (\n",
    "    full_era5\n",
    "    .sel(time=slice(start_time, end_time))\n",
    "    .isel(time=slice(None, -2))\n",
    ")"
   ]
  },
  {
   "cell_type": "code",
   "execution_count": 9,
   "metadata": {},
   "outputs": [],
   "source": [
    "target_sliced_era5_world = (\n",
    "    full_era5\n",
    "    .sel(time=slice(start_time, end_time))  # Select the time range\n",
    "    .isel(time=slice(2, None))  # Skip the first two time steps\n",
    ")"
   ]
  },
  {
   "cell_type": "markdown",
   "metadata": {},
   "source": [
    "### Surface variables"
   ]
  },
  {
   "cell_type": "code",
   "execution_count": 10,
   "metadata": {},
   "outputs": [],
   "source": [
    "# List of surface variable names\n",
    "surface_vars = ['2m_temperature', '10m_u_component_of_wind', '10m_v_component_of_wind', 'mean_sea_level_pressure']\n",
    "\n",
    "# Select surface variables\n",
    "surf_vars_ds = sliced_era5_world[surface_vars]\n",
    "target_surf_vars_ds = target_sliced_era5_world[surface_vars]\n"
   ]
  },
  {
   "cell_type": "markdown",
   "metadata": {},
   "source": [
    "### Atmospherique variables"
   ]
  },
  {
   "cell_type": "code",
   "execution_count": 11,
   "metadata": {},
   "outputs": [],
   "source": [
    "atmostpheric_variables = [\"temperature\", \"u_component_of_wind\", \"v_component_of_wind\", \"specific_humidity\", \"geopotential\"]\n",
    "atmos_vars_ds = sliced_era5_world[atmostpheric_variables]\n",
    "target_atmos_vars_ds = target_sliced_era5_world[atmostpheric_variables]"
   ]
  },
  {
   "cell_type": "markdown",
   "metadata": {},
   "source": [
    "## Static variables"
   ]
  },
  {
   "cell_type": "code",
   "execution_count": 12,
   "metadata": {},
   "outputs": [],
   "source": [
    "static_variables = [\"land_sea_mask\", \"soil_type\", \"geopotential_at_surface\"]\n",
    "static_vars_ds = sliced_era5_world[static_variables]\n",
    "target_static_vars_ds = target_sliced_era5_world[static_variables]"
   ]
  },
  {
   "cell_type": "markdown",
   "metadata": {},
   "source": [
    "## Create batches"
   ]
  },
  {
   "cell_type": "code",
   "execution_count": 13,
   "metadata": {},
   "outputs": [],
   "source": [
    "\n",
    "class ERA5ZarrDataset(Dataset):\n",
    "    def __init__(self, surf_vars_ds, atmos_vars_ds, static_vars_ds, sequence_length):\n",
    "        self.surf_vars_ds = surf_vars_ds\n",
    "        self.atmos_vars_ds = atmos_vars_ds\n",
    "        self.static_vars_ds = static_vars_ds\n",
    "        self.sequence_length = sequence_length\n",
    "        self.time_indices = range(sequence_length, len(surf_vars_ds.time))\n",
    "\n",
    "    def __len__(self):\n",
    "        return len(self.time_indices)\n",
    "\n",
    "    def __getitem__(self, idx):\n",
    "        i = self.time_indices[idx]\n",
    "\n",
    "        surf_vars = {\n",
    "            \"2t\": torch.from_numpy(self.surf_vars_ds[\"2m_temperature\"].values[[i - 1, i]][None]),\n",
    "            \"10u\": torch.from_numpy(self.surf_vars_ds[\"10m_u_component_of_wind\"].values[[i - 1, i]][None]),\n",
    "            \"10v\": torch.from_numpy(self.surf_vars_ds[\"10m_v_component_of_wind\"].values[[i - 1, i]][None]),\n",
    "            \"msl\": torch.from_numpy(self.surf_vars_ds[\"mean_sea_level_pressure\"].values[[i - 1, i]][None]),\n",
    "        }\n",
    "\n",
    "        static_vars = {\n",
    "            \"z\": torch.from_numpy(self.static_vars_ds[\"geopotential_at_surface\"].values),\n",
    "            \"slt\": torch.from_numpy(self.static_vars_ds[\"soil_type\"].values),\n",
    "            \"lsm\": torch.from_numpy(self.static_vars_ds[\"land_sea_mask\"].values),\n",
    "        }\n",
    "\n",
    "        atmos_vars = {\n",
    "            \"t\": torch.from_numpy(self.atmos_vars_ds[\"temperature\"].values[[i - 1, i]][None]),\n",
    "            \"u\": torch.from_numpy(self.atmos_vars_ds[\"u_component_of_wind\"].values[[i - 1, i]][None]),\n",
    "            \"v\": torch.from_numpy(self.atmos_vars_ds[\"v_component_of_wind\"].values[[i - 1, i]][None]),\n",
    "            \"q\": torch.from_numpy(self.atmos_vars_ds[\"specific_humidity\"].values[[i - 1, i]][None]),\n",
    "            \"z\": torch.from_numpy(self.atmos_vars_ds[\"geopotential\"].values[[i - 1, i]][None]),\n",
    "        }\n",
    "\n",
    "        metadata=Metadata(\n",
    "        lat=torch.from_numpy(self.surf_vars_ds.latitude.values),\n",
    "        lon=torch.from_numpy(self.surf_vars_ds.longitude.values),\n",
    "        time=(self.surf_vars_ds.time.values.astype(\"datetime64[s]\").tolist()[i],),\n",
    "        atmos_levels=tuple(int(level) for level in self.atmos_vars_ds.level.values)\n",
    "    )\n",
    "\n",
    "\n",
    "        return Batch(surf_vars=surf_vars, static_vars=static_vars, atmos_vars=atmos_vars, metadata=metadata)\n"
   ]
  },
  {
   "cell_type": "code",
   "execution_count": 14,
   "metadata": {},
   "outputs": [],
   "source": [
    "world_batches = ERA5ZarrDataset(surf_vars_ds, atmos_vars_ds, static_vars_ds,1)\n",
    "target_world_batches = ERA5ZarrDataset(target_surf_vars_ds, target_atmos_vars_ds, target_static_vars_ds,1)"
   ]
  },
  {
   "cell_type": "markdown",
   "metadata": {},
   "source": [
    "### South Africa Data"
   ]
  },
  {
   "cell_type": "code",
   "execution_count": 15,
   "metadata": {},
   "outputs": [],
   "source": [
    "start_time = '2022-06-01'\n",
    "end_time = '2023-01-31'\n",
    "\n",
    "lat_max = -22.00 \n",
    "lat_min = -37.75  \n",
    "\n",
    "lon_min = 15.25   \n",
    "lon_max = 35.00   \n",
    "\n",
    "sliced_era5_SA = (\n",
    "    full_era5\n",
    "    .sel(\n",
    "        time=slice(start_time, end_time),\n",
    "        latitude=slice(lat_max, lat_min),\n",
    "        longitude=slice(lon_min, lon_max)  \n",
    "    )\n",
    "    .isel(time=slice(None, -2))\n",
    ")\n",
    "\n",
    "target_sliced_era5_SA = (\n",
    "    full_era5\n",
    "    .sel(\n",
    "        time=slice(start_time, end_time),\n",
    "        latitude=slice(lat_max, lat_min),\n",
    "        longitude=slice(lon_min, lon_max)  \n",
    "    )  \n",
    "    .isel(time=slice(2, None))  # Skip the first two time steps\n",
    ")"
   ]
  },
  {
   "cell_type": "code",
   "execution_count": 16,
   "metadata": {},
   "outputs": [],
   "source": [
    "surf_vars_ds_SA = sliced_era5_SA[surface_vars]\n",
    "\n",
    "target_surf_vars_ds_SA = target_sliced_era5_SA[surface_vars]\n",
    "\n",
    "atmos_vars_ds_SA = sliced_era5_SA[atmostpheric_variables]\n",
    "\n",
    "target_atmos_vars_ds_SA = target_sliced_era5_SA[atmostpheric_variables]\n",
    "\n",
    "static_vars_ds_SA = sliced_era5_SA[static_variables]\n",
    "\n",
    "target_static_vars_ds_SA = target_sliced_era5_SA[static_variables]"
   ]
  },
  {
   "cell_type": "code",
   "execution_count": 17,
   "metadata": {},
   "outputs": [],
   "source": [
    "SA_batches = ERA5ZarrDataset(surf_vars_ds_SA, atmos_vars_ds_SA, static_vars_ds_SA,1)\n",
    "target_SA_batches = ERA5ZarrDataset(target_surf_vars_ds_SA, target_atmos_vars_ds_SA, target_static_vars_ds_SA,1)"
   ]
  },
  {
   "cell_type": "markdown",
   "metadata": {},
   "source": [
    "## Predictions Function"
   ]
  },
  {
   "cell_type": "code",
   "execution_count": 18,
   "metadata": {},
   "outputs": [],
   "source": [
    "def predict_fn(model, batch):\n",
    "    model.eval()\n",
    "    model = model.to(\"cuda\")\n",
    "    # batch = batch.to(\"cuda\")\n",
    "    with torch.inference_mode():\n",
    "        preds = [pred.to(\"cpu\") for pred in rollout(model, batch, steps=2)]\n",
    "    return preds"
   ]
  },
  {
   "cell_type": "markdown",
   "metadata": {},
   "source": [
    "# Custom RMSE function"
   ]
  },
  {
   "cell_type": "markdown",
   "metadata": {},
   "source": [
    "## Grid weights"
   ]
  },
  {
   "cell_type": "code",
   "execution_count": 19,
   "metadata": {},
   "outputs": [],
   "source": [
    "\n",
    "def rmse_weights(latitudes, longitudes, R=6371.0, device=\"cuda\"):\n",
    "    \"\"\"\n",
    "    Compute area weights for RMSE calculation over a global grid.\n",
    "\n",
    "    Parameters:\n",
    "        latitudes (array-like): 1D array of latitudes (degrees).\n",
    "        longitudes (array-like): 1D array of longitudes (degrees).\n",
    "        R (float): Earth's radius in km (default: 6371.0).\n",
    "        device (str): 'cpu' or 'cuda' for GPU acceleration.\n",
    "\n",
    "    Returns:\n",
    "        torch.Tensor: Area weights normalized to sum to 1.\n",
    "    \"\"\"\n",
    "    # Convert lat/lon to radians\n",
    "    lat_rad = np.deg2rad(latitudes)\n",
    "    lon_rad = np.deg2rad(longitudes)\n",
    "\n",
    "    # Compute latitude and longitude differences\n",
    "    dlat = np.abs(np.diff(lat_rad).mean())  # Average latitude difference\n",
    "    dlon = np.abs(np.diff(lon_rad).mean())  # Average longitude difference\n",
    "\n",
    "    # Calculate area weights\n",
    "    areas = R**2 * dlon * np.abs(np.sin(lat_rad + dlat / 2) - np.sin(lat_rad - dlat / 2))\n",
    "\n",
    "    # Expand areas to create a 2D area weight grid\n",
    "    area_grid = np.outer(areas, np.ones(len(longitudes)))\n",
    "\n",
    "    # Normalize the area weights\n",
    "    area_grid /= area_grid.sum()\n",
    "\n",
    "    # Convert to PyTorch tensor\n",
    "    return torch.tensor(area_grid, dtype=torch.float32, device=device)\n"
   ]
  },
  {
   "cell_type": "markdown",
   "metadata": {},
   "source": [
    "### world rmse weights"
   ]
  },
  {
   "cell_type": "code",
   "execution_count": 20,
   "metadata": {},
   "outputs": [],
   "source": [
    "world_rmse_weights = rmse_weights(sliced_era5_world.latitude, sliced_era5_world.longitude, R=6371.0)"
   ]
  },
  {
   "cell_type": "markdown",
   "metadata": {},
   "source": [
    "### South Africa rmse weights"
   ]
  },
  {
   "cell_type": "code",
   "execution_count": 21,
   "metadata": {},
   "outputs": [],
   "source": [
    "SA_rmse_weights = rmse_weights(sliced_era5_SA.latitude, sliced_era5_SA.longitude, R=6371.0)"
   ]
  },
  {
   "cell_type": "code",
   "execution_count": 22,
   "metadata": {},
   "outputs": [],
   "source": [
    "def custom_rmse(actual, prediction, weights):\n",
    "    \"\"\"\n",
    "    Compute the weighted RMSE (Root Mean Square Error).\n",
    "\n",
    "    Parameters:\n",
    "        actual (torch.Tensor): Ground truth values.\n",
    "        prediction (torch.Tensor): Predicted values.\n",
    "        weights (torch.Tensor): Area weights (normalized).\n",
    "\n",
    "    Returns:\n",
    "        torch.Tensor: Weighted RMSE.\n",
    "    \"\"\"\n",
    "\n",
    "\n",
    "    # Compute weighted squared error\n",
    "    squared_error = ((actual - prediction) ** 2) * weights\n",
    "\n",
    "    # Compute and return the sum of the squared errors (RMSE without sqrt)\n",
    "    return torch.sqrt(squared_error.sum() / weights.sum())\n"
   ]
  },
  {
   "cell_type": "markdown",
   "metadata": {},
   "source": [
    "# RMSEs World dataset"
   ]
  },
  {
   "cell_type": "code",
   "execution_count": 23,
   "metadata": {},
   "outputs": [],
   "source": [
    "def rmse_fn(model, feature_batch, target_batch, var_name, weigths=world_rmse_weights, var_type=\"surface\", atmos_level_idx=0):\n",
    "    predictions = predict_fn(model, batch=feature_batch)\n",
    "    two_steps_rmse = []\n",
    "    pred_dates = []\n",
    "    for i in range(len(predictions)):\n",
    "        pred = predictions[i]\n",
    "        if var_type==\"surface\":\n",
    "            prediction = pred.surf_vars[var_name][0, 0].numpy()\n",
    "            actual = target_batch.surf_vars[var_name].squeeze()[i,:,:][1:, :]\n",
    "            # actual = target_batch.surf_vars[var_name][0, 0].numpy()\n",
    "            \n",
    "            # rmse = root_mean_squared_error(actual.flatten(), prediction.flatten())\n",
    "            rmse_ = custom_rmse(actual, prediction, weigths[1:,:])\n",
    "            # print(rmse1)\n",
    "            two_steps_rmse.append(rmse_.item())\n",
    "            pred_dates.append(pred.metadata.time[0])\n",
    "        # Atmospherique variable\n",
    "        elif var_type==\"atmosphere\":\n",
    "            prediction = pred.atmos_vars[var_name].squeeze()[atmos_level_idx,:,:].numpy().squeeze()\n",
    "            # actual = target_batch.atmos_vars[var_name].squeeze()[i,:,:][1:, :]\n",
    "            actual = target_batch.atmos_vars[var_name].squeeze()[i,atmos_level_idx,:,:].numpy()[:-1,:]\n",
    "            # rmse = root_mean_squared_error(actual.flatten(), prediction.flatten())\n",
    "            rmse_ = custom_rmse(actual, prediction, weigths[1:,:])\n",
    "            two_steps_rmse.append(rmse_.item())\n",
    "            pred_dates.append(pred.metadata.time[0])\n",
    "    return two_steps_rmse, pred_dates"
   ]
  },
  {
   "cell_type": "markdown",
   "metadata": {},
   "source": [
    "# RMSEs South Africa dataset"
   ]
  },
  {
   "cell_type": "code",
   "execution_count": 24,
   "metadata": {},
   "outputs": [],
   "source": [
    "def rmse_fn_sa(model, actual_batch, target_batch, var_name, weigths=SA_rmse_weights, var_type=\"surface\",  atmos_level_idx=0):\n",
    "    predictions = predict_fn(model, batch=actual_batch)\n",
    "    two_steps_rmse = []\n",
    "    pred_dates = []\n",
    "    for i in range(len(predictions)):\n",
    "        pred = predictions[i]\n",
    "        if var_type==\"surface\":\n",
    "            # prediction = pred.surf_vars[var_name][0, 0].numpy()\n",
    "            # actual = actual_batch.surf_vars[var_name][0, 0].numpy()\n",
    "            # rmse = root_mean_squared_error(actual.flatten(), prediction.flatten())\n",
    "            prediction = pred.surf_vars[var_name][0, 0].numpy()\n",
    "            actual = target_batch.surf_vars[var_name].squeeze()[i,:,:]\n",
    "            # rmse1 = rmse(actual, prediction)\n",
    "            computed_rmse = custom_rmse(actual, prediction, weigths)\n",
    "            two_steps_rmse.append(computed_rmse.item())\n",
    "            pred_dates.append(pred.metadata.time[0])\n",
    "            # print(computed_rmse.item())\n",
    "        elif var_type==\"atmosphere\":\n",
    "            prediction = pred.atmos_vars[var_name].squeeze()[atmos_level_idx,:,:].numpy().squeeze()\n",
    "            actual = target_batch.atmos_vars[var_name].squeeze()[i,atmos_level_idx,:,:].numpy()\n",
    "            # rmse = root_mean_squared_error(actual.flatten(), prediction.flatten())\n",
    "            rmse_ = custom_rmse(actual, prediction, weigths)\n",
    "            two_steps_rmse.append(rmse_.item())\n",
    "            pred_dates.append(pred.metadata.time[0])\n",
    "    return two_steps_rmse, pred_dates"
   ]
  },
  {
   "cell_type": "markdown",
   "metadata": {},
   "source": [
    "# PLot RMSES"
   ]
  },
  {
   "cell_type": "code",
   "execution_count": 25,
   "metadata": {},
   "outputs": [],
   "source": [
    "\n",
    "def plot_rmses(variable, rmses_world, rmses_sa, \n",
    "               figsize=(12, 8), fontsize=18,\n",
    "               date_ranges=None, \n",
    "               title=\"Two Steps Forward Prediction: RMSEs\",\n",
    "               save_path=\"../report/rmses_world_SA\",\n",
    "               atmos_level=None):\n",
    "\n",
    "    fig, ax = plt.subplots(figsize=figsize, dpi=300)\n",
    "\n",
    "    # Extract dates\n",
    "    date_times_6_hours = [date1 for date1, date2 in date_ranges]\n",
    "    date_times_12_hours = [date2 for date1, date2 in date_ranges]\n",
    "    formatted_dates_6_hours = [dt.strftime('%Y-%m-%d (%H:%M)') for dt in date_times_6_hours]\n",
    "    formatted_dates_12_hours = [dt.strftime('%Y-%m-%d (%H:%M)') for dt in date_times_12_hours]\n",
    "\n",
    "    # Convert x-axis to indices\n",
    "    x_indices = np.arange(len(formatted_dates_6_hours))\n",
    "\n",
    "    # Select a subset of dates for x-axis labels\n",
    "    num_ticks = min(6, len(formatted_dates_6_hours))\n",
    "    tick_positions = np.linspace(0, len(formatted_dates_6_hours) - 1, num_ticks, dtype=int)\n",
    "\n",
    "    # Plot RMSEs with improved colors and styles\n",
    "    ax.plot(x_indices, np.array(rmses_world)[:, 0], label=\"Global RMSE (6h Forecast)\", color=\"blue\", linestyle=\"-\", linewidth=2)\n",
    "    ax.plot(x_indices, np.array(rmses_sa)[:, 0], label=\"South Africa RMSE (6h Forecast)\", color=\"orange\", linestyle=\"-\", linewidth=2)\n",
    "    ax.plot(x_indices, np.array(rmses_world)[:, 1], label=\"Global RMSE (12h Forecast)\", color=\"blue\", linestyle=\"--\", linewidth=2)\n",
    "    ax.plot(x_indices, np.array(rmses_sa)[:, 1], label=\"South Africa RMSE (12h Forecast)\", color=\"orange\", linestyle=\"--\", linewidth=2)\n",
    "\n",
    "    # Set selected x-ticks\n",
    "    ax.set_xticks(tick_positions)\n",
    "    ax.set_xticklabels([formatted_dates_12_hours[i] for i in tick_positions], rotation=30, ha='right')\n",
    "\n",
    "    # Improve legend appearance\n",
    "    ax.legend(title=\"Forecast Horizon\", title_fontsize=fontsize-2, fontsize=fontsize-4,\n",
    "              bbox_to_anchor=(1.05, 1), loc=\"upper left\", frameon=False)\n",
    "\n",
    "    # Improve axis labels and title\n",
    "    ax.set_xlabel(\"Forecast Date\", fontsize=fontsize-2)\n",
    "    ax.set_ylabel(\"Root Mean Squared Error (RMSE)\", fontsize=fontsize-2)\n",
    "    ax.set_title(title, fontsize=fontsize, pad=20)\n",
    "    if atmos_level:\n",
    "        # Save the plots\n",
    "        plt.savefig(f\"{save_path}/rmse-{variable}-{atmos_level}.pdf\", bbox_inches=\"tight\")\n",
    "        plt.savefig(f\"{save_path}/rmse-{variable}-{atmos_level}.png\", bbox_inches=\"tight\")\n",
    "        plt.savefig(f\"{save_path}/rmse-{variable}-{atmos_level}.svg\", bbox_inches=\"tight\")\n",
    "    else:\n",
    "        plt.savefig(f\"{save_path}/rmse-{variable}.pdf\", bbox_inches=\"tight\")\n",
    "        plt.savefig(f\"{save_path}/rmse-{variable}.png\", bbox_inches=\"tight\", dpi=300)\n",
    "        plt.savefig(f\"{save_path}/rmse-{variable}.svg\", bbox_inches=\"tight\")\n",
    "\n",
    "    plt.show()\n"
   ]
  },
  {
   "cell_type": "markdown",
   "metadata": {},
   "source": [
    "# Surface Variables"
   ]
  },
  {
   "cell_type": "markdown",
   "metadata": {},
   "source": [
    "## Two-meter temperature in K: 2t"
   ]
  },
  {
   "cell_type": "code",
   "execution_count": 28,
   "metadata": {},
   "outputs": [],
   "source": [
    "from torch.utils.data import DataLoader\n",
    "import gc"
   ]
  },
  {
   "cell_type": "code",
   "execution_count": 29,
   "metadata": {},
   "outputs": [],
   "source": [
    "batch_size = 1  # Set a reasonable batch size for memory efficiency\n",
    "\n",
    "world_loader = DataLoader(world_batches, batch_size=batch_size, shuffle=False)\n",
    "target_loader = DataLoader(target_world_batches, batch_size=batch_size, shuffle=False)\n"
   ]
  },
  {
   "cell_type": "code",
   "execution_count": 30,
   "metadata": {},
   "outputs": [
    {
     "name": "stdout",
     "output_type": "stream",
     "text": [
      "Starting for the world\n"
     ]
    },
    {
     "ename": "",
     "evalue": "",
     "output_type": "error",
     "traceback": [
      "\u001b[1;31mThe Kernel crashed while executing code in the current cell or a previous cell. \n",
      "\u001b[1;31mPlease review the code in the cell(s) to identify a possible cause of the failure. \n",
      "\u001b[1;31mClick <a href='https://aka.ms/vscodeJupyterKernelCrash'>here</a> for more info. \n",
      "\u001b[1;31mView Jupyter <a href='command:jupyter.viewOutput'>log</a> for further details."
     ]
    }
   ],
   "source": [
    "print(\"Starting for the world\")\n",
    "rmses_world_2t = []\n",
    "dates_world_2t = []\n",
    "\n",
    "for feature_batch, target_batch in zip(world_loader, target_loader):\n",
    "    feature_batch = feature_batch.to(\"cuda\")\n",
    "    target_batch = target_batch.to(\"cuda\")\n",
    "\n",
    "    rmse, date = rmse_fn(model, feature_batch=feature_batch, target_batch=target_batch, var_name=\"2t\", var_type=\"surface\")\n",
    "    rmses_world_2t.append(rmse)\n",
    "    dates_world_2t.append(date)\n",
    "\n",
    "    # Free memory\n",
    "    del feature_batch, target_batch, rmse, date\n",
    "    torch.cuda.empty_cache()\n",
    "    gc.collect()"
   ]
  },
  {
   "cell_type": "code",
   "execution_count": 28,
   "metadata": {},
   "outputs": [
    {
     "ename": "KeyboardInterrupt",
     "evalue": "",
     "output_type": "error",
     "traceback": [
      "\u001b[0;31m---------------------------------------------------------------------------\u001b[0m",
      "\u001b[0;31mKeyboardInterrupt\u001b[0m                         Traceback (most recent call last)",
      "Cell \u001b[0;32mIn[28], line 4\u001b[0m\n\u001b[1;32m      1\u001b[0m rmses_world_2t \u001b[38;5;241m=\u001b[39m []\n\u001b[1;32m      2\u001b[0m dates_world_2t \u001b[38;5;241m=\u001b[39m []\n\u001b[0;32m----> 4\u001b[0m \u001b[38;5;28;01mfor\u001b[39;00m batch, target_batch \u001b[38;5;129;01min\u001b[39;00m \u001b[38;5;28mzip\u001b[39m(world_batches, target_world_batches):\n\u001b[1;32m      5\u001b[0m     rmse, date \u001b[38;5;241m=\u001b[39m rmse_fn(model, feature_batch\u001b[38;5;241m=\u001b[39mbatch, target_batch\u001b[38;5;241m=\u001b[39mtarget_batch, var_name\u001b[38;5;241m=\u001b[39m\u001b[38;5;124m\"\u001b[39m\u001b[38;5;124m2t\u001b[39m\u001b[38;5;124m\"\u001b[39m, var_type\u001b[38;5;241m=\u001b[39m\u001b[38;5;124m\"\u001b[39m\u001b[38;5;124msurface\u001b[39m\u001b[38;5;124m\"\u001b[39m)\n\u001b[1;32m      6\u001b[0m     rmses_world_2t\u001b[38;5;241m.\u001b[39mappend(rmse)\n",
      "Cell \u001b[0;32mIn[13], line 29\u001b[0m, in \u001b[0;36mERA5ZarrDataset.__getitem__\u001b[0;34m(self, idx)\u001b[0m\n\u001b[1;32m     15\u001b[0m     surf_vars \u001b[38;5;241m=\u001b[39m {\n\u001b[1;32m     16\u001b[0m         \u001b[38;5;124m\"\u001b[39m\u001b[38;5;124m2t\u001b[39m\u001b[38;5;124m\"\u001b[39m: torch\u001b[38;5;241m.\u001b[39mfrom_numpy(\u001b[38;5;28mself\u001b[39m\u001b[38;5;241m.\u001b[39msurf_vars_ds[\u001b[38;5;124m\"\u001b[39m\u001b[38;5;124m2m_temperature\u001b[39m\u001b[38;5;124m\"\u001b[39m]\u001b[38;5;241m.\u001b[39mvalues[[i \u001b[38;5;241m-\u001b[39m \u001b[38;5;241m1\u001b[39m, i]][\u001b[38;5;28;01mNone\u001b[39;00m]),\n\u001b[1;32m     17\u001b[0m         \u001b[38;5;124m\"\u001b[39m\u001b[38;5;124m10u\u001b[39m\u001b[38;5;124m\"\u001b[39m: torch\u001b[38;5;241m.\u001b[39mfrom_numpy(\u001b[38;5;28mself\u001b[39m\u001b[38;5;241m.\u001b[39msurf_vars_ds[\u001b[38;5;124m\"\u001b[39m\u001b[38;5;124m10m_u_component_of_wind\u001b[39m\u001b[38;5;124m\"\u001b[39m]\u001b[38;5;241m.\u001b[39mvalues[[i \u001b[38;5;241m-\u001b[39m \u001b[38;5;241m1\u001b[39m, i]][\u001b[38;5;28;01mNone\u001b[39;00m]),\n\u001b[1;32m     18\u001b[0m         \u001b[38;5;124m\"\u001b[39m\u001b[38;5;124m10v\u001b[39m\u001b[38;5;124m\"\u001b[39m: torch\u001b[38;5;241m.\u001b[39mfrom_numpy(\u001b[38;5;28mself\u001b[39m\u001b[38;5;241m.\u001b[39msurf_vars_ds[\u001b[38;5;124m\"\u001b[39m\u001b[38;5;124m10m_v_component_of_wind\u001b[39m\u001b[38;5;124m\"\u001b[39m]\u001b[38;5;241m.\u001b[39mvalues[[i \u001b[38;5;241m-\u001b[39m \u001b[38;5;241m1\u001b[39m, i]][\u001b[38;5;28;01mNone\u001b[39;00m]),\n\u001b[1;32m     19\u001b[0m         \u001b[38;5;124m\"\u001b[39m\u001b[38;5;124mmsl\u001b[39m\u001b[38;5;124m\"\u001b[39m: torch\u001b[38;5;241m.\u001b[39mfrom_numpy(\u001b[38;5;28mself\u001b[39m\u001b[38;5;241m.\u001b[39msurf_vars_ds[\u001b[38;5;124m\"\u001b[39m\u001b[38;5;124mmean_sea_level_pressure\u001b[39m\u001b[38;5;124m\"\u001b[39m]\u001b[38;5;241m.\u001b[39mvalues[[i \u001b[38;5;241m-\u001b[39m \u001b[38;5;241m1\u001b[39m, i]][\u001b[38;5;28;01mNone\u001b[39;00m]),\n\u001b[1;32m     20\u001b[0m     }\n\u001b[1;32m     22\u001b[0m     static_vars \u001b[38;5;241m=\u001b[39m {\n\u001b[1;32m     23\u001b[0m         \u001b[38;5;124m\"\u001b[39m\u001b[38;5;124mz\u001b[39m\u001b[38;5;124m\"\u001b[39m: torch\u001b[38;5;241m.\u001b[39mfrom_numpy(\u001b[38;5;28mself\u001b[39m\u001b[38;5;241m.\u001b[39mstatic_vars_ds[\u001b[38;5;124m\"\u001b[39m\u001b[38;5;124mgeopotential_at_surface\u001b[39m\u001b[38;5;124m\"\u001b[39m]\u001b[38;5;241m.\u001b[39mvalues),\n\u001b[1;32m     24\u001b[0m         \u001b[38;5;124m\"\u001b[39m\u001b[38;5;124mslt\u001b[39m\u001b[38;5;124m\"\u001b[39m: torch\u001b[38;5;241m.\u001b[39mfrom_numpy(\u001b[38;5;28mself\u001b[39m\u001b[38;5;241m.\u001b[39mstatic_vars_ds[\u001b[38;5;124m\"\u001b[39m\u001b[38;5;124msoil_type\u001b[39m\u001b[38;5;124m\"\u001b[39m]\u001b[38;5;241m.\u001b[39mvalues),\n\u001b[1;32m     25\u001b[0m         \u001b[38;5;124m\"\u001b[39m\u001b[38;5;124mlsm\u001b[39m\u001b[38;5;124m\"\u001b[39m: torch\u001b[38;5;241m.\u001b[39mfrom_numpy(\u001b[38;5;28mself\u001b[39m\u001b[38;5;241m.\u001b[39mstatic_vars_ds[\u001b[38;5;124m\"\u001b[39m\u001b[38;5;124mland_sea_mask\u001b[39m\u001b[38;5;124m\"\u001b[39m]\u001b[38;5;241m.\u001b[39mvalues),\n\u001b[1;32m     26\u001b[0m     }\n\u001b[1;32m     28\u001b[0m     atmos_vars \u001b[38;5;241m=\u001b[39m {\n\u001b[0;32m---> 29\u001b[0m         \u001b[38;5;124m\"\u001b[39m\u001b[38;5;124mt\u001b[39m\u001b[38;5;124m\"\u001b[39m: torch\u001b[38;5;241m.\u001b[39mfrom_numpy(\u001b[38;5;28;43mself\u001b[39;49m\u001b[38;5;241;43m.\u001b[39;49m\u001b[43matmos_vars_ds\u001b[49m\u001b[43m[\u001b[49m\u001b[38;5;124;43m\"\u001b[39;49m\u001b[38;5;124;43mtemperature\u001b[39;49m\u001b[38;5;124;43m\"\u001b[39;49m\u001b[43m]\u001b[49m\u001b[38;5;241;43m.\u001b[39;49m\u001b[43mvalues\u001b[49m[[i \u001b[38;5;241m-\u001b[39m \u001b[38;5;241m1\u001b[39m, i]][\u001b[38;5;28;01mNone\u001b[39;00m]),\n\u001b[1;32m     30\u001b[0m         \u001b[38;5;124m\"\u001b[39m\u001b[38;5;124mu\u001b[39m\u001b[38;5;124m\"\u001b[39m: torch\u001b[38;5;241m.\u001b[39mfrom_numpy(\u001b[38;5;28mself\u001b[39m\u001b[38;5;241m.\u001b[39matmos_vars_ds[\u001b[38;5;124m\"\u001b[39m\u001b[38;5;124mu_component_of_wind\u001b[39m\u001b[38;5;124m\"\u001b[39m]\u001b[38;5;241m.\u001b[39mvalues[[i \u001b[38;5;241m-\u001b[39m \u001b[38;5;241m1\u001b[39m, i]][\u001b[38;5;28;01mNone\u001b[39;00m]),\n\u001b[1;32m     31\u001b[0m         \u001b[38;5;124m\"\u001b[39m\u001b[38;5;124mv\u001b[39m\u001b[38;5;124m\"\u001b[39m: torch\u001b[38;5;241m.\u001b[39mfrom_numpy(\u001b[38;5;28mself\u001b[39m\u001b[38;5;241m.\u001b[39matmos_vars_ds[\u001b[38;5;124m\"\u001b[39m\u001b[38;5;124mv_component_of_wind\u001b[39m\u001b[38;5;124m\"\u001b[39m]\u001b[38;5;241m.\u001b[39mvalues[[i \u001b[38;5;241m-\u001b[39m \u001b[38;5;241m1\u001b[39m, i]][\u001b[38;5;28;01mNone\u001b[39;00m]),\n\u001b[1;32m     32\u001b[0m         \u001b[38;5;124m\"\u001b[39m\u001b[38;5;124mq\u001b[39m\u001b[38;5;124m\"\u001b[39m: torch\u001b[38;5;241m.\u001b[39mfrom_numpy(\u001b[38;5;28mself\u001b[39m\u001b[38;5;241m.\u001b[39matmos_vars_ds[\u001b[38;5;124m\"\u001b[39m\u001b[38;5;124mspecific_humidity\u001b[39m\u001b[38;5;124m\"\u001b[39m]\u001b[38;5;241m.\u001b[39mvalues[[i \u001b[38;5;241m-\u001b[39m \u001b[38;5;241m1\u001b[39m, i]][\u001b[38;5;28;01mNone\u001b[39;00m]),\n\u001b[1;32m     33\u001b[0m         \u001b[38;5;124m\"\u001b[39m\u001b[38;5;124mz\u001b[39m\u001b[38;5;124m\"\u001b[39m: torch\u001b[38;5;241m.\u001b[39mfrom_numpy(\u001b[38;5;28mself\u001b[39m\u001b[38;5;241m.\u001b[39matmos_vars_ds[\u001b[38;5;124m\"\u001b[39m\u001b[38;5;124mgeopotential\u001b[39m\u001b[38;5;124m\"\u001b[39m]\u001b[38;5;241m.\u001b[39mvalues[[i \u001b[38;5;241m-\u001b[39m \u001b[38;5;241m1\u001b[39m, i]][\u001b[38;5;28;01mNone\u001b[39;00m]),\n\u001b[1;32m     34\u001b[0m     }\n\u001b[1;32m     36\u001b[0m     metadata\u001b[38;5;241m=\u001b[39mMetadata(\n\u001b[1;32m     37\u001b[0m     lat\u001b[38;5;241m=\u001b[39mtorch\u001b[38;5;241m.\u001b[39mfrom_numpy(\u001b[38;5;28mself\u001b[39m\u001b[38;5;241m.\u001b[39msurf_vars_ds\u001b[38;5;241m.\u001b[39mlatitude\u001b[38;5;241m.\u001b[39mvalues),\n\u001b[1;32m     38\u001b[0m     lon\u001b[38;5;241m=\u001b[39mtorch\u001b[38;5;241m.\u001b[39mfrom_numpy(\u001b[38;5;28mself\u001b[39m\u001b[38;5;241m.\u001b[39msurf_vars_ds\u001b[38;5;241m.\u001b[39mlongitude\u001b[38;5;241m.\u001b[39mvalues),\n\u001b[1;32m     39\u001b[0m     time\u001b[38;5;241m=\u001b[39m(\u001b[38;5;28mself\u001b[39m\u001b[38;5;241m.\u001b[39msurf_vars_ds\u001b[38;5;241m.\u001b[39mtime\u001b[38;5;241m.\u001b[39mvalues\u001b[38;5;241m.\u001b[39mastype(\u001b[38;5;124m\"\u001b[39m\u001b[38;5;124mdatetime64[s]\u001b[39m\u001b[38;5;124m\"\u001b[39m)\u001b[38;5;241m.\u001b[39mtolist()[i],),\n\u001b[1;32m     40\u001b[0m     atmos_levels\u001b[38;5;241m=\u001b[39m\u001b[38;5;28mtuple\u001b[39m(\u001b[38;5;28mint\u001b[39m(level) \u001b[38;5;28;01mfor\u001b[39;00m level \u001b[38;5;129;01min\u001b[39;00m \u001b[38;5;28mself\u001b[39m\u001b[38;5;241m.\u001b[39matmos_vars_ds\u001b[38;5;241m.\u001b[39mlevel\u001b[38;5;241m.\u001b[39mvalues)\n\u001b[1;32m     41\u001b[0m )\n\u001b[1;32m     44\u001b[0m     \u001b[38;5;28;01mreturn\u001b[39;00m Batch(surf_vars\u001b[38;5;241m=\u001b[39msurf_vars, static_vars\u001b[38;5;241m=\u001b[39mstatic_vars, atmos_vars\u001b[38;5;241m=\u001b[39matmos_vars, metadata\u001b[38;5;241m=\u001b[39mmetadata)\n",
      "File \u001b[0;32m~/koomi/projects/AIMS-PROJECT/venv/lib/python3.10/site-packages/xarray/core/dataarray.py:814\u001b[0m, in \u001b[0;36mDataArray.values\u001b[0;34m(self)\u001b[0m\n\u001b[1;32m    801\u001b[0m \u001b[38;5;129m@property\u001b[39m\n\u001b[1;32m    802\u001b[0m \u001b[38;5;28;01mdef\u001b[39;00m\u001b[38;5;250m \u001b[39m\u001b[38;5;21mvalues\u001b[39m(\u001b[38;5;28mself\u001b[39m) \u001b[38;5;241m-\u001b[39m\u001b[38;5;241m>\u001b[39m np\u001b[38;5;241m.\u001b[39mndarray:\n\u001b[1;32m    803\u001b[0m \u001b[38;5;250m    \u001b[39m\u001b[38;5;124;03m\"\"\"\u001b[39;00m\n\u001b[1;32m    804\u001b[0m \u001b[38;5;124;03m    The array's data converted to numpy.ndarray.\u001b[39;00m\n\u001b[1;32m    805\u001b[0m \n\u001b[0;32m   (...)\u001b[0m\n\u001b[1;32m    812\u001b[0m \u001b[38;5;124;03m    to this array may be reflected in the DataArray as well.\u001b[39;00m\n\u001b[1;32m    813\u001b[0m \u001b[38;5;124;03m    \"\"\"\u001b[39;00m\n\u001b[0;32m--> 814\u001b[0m     \u001b[38;5;28;01mreturn\u001b[39;00m \u001b[38;5;28;43mself\u001b[39;49m\u001b[38;5;241;43m.\u001b[39;49m\u001b[43mvariable\u001b[49m\u001b[38;5;241;43m.\u001b[39;49m\u001b[43mvalues\u001b[49m\n",
      "File \u001b[0;32m~/koomi/projects/AIMS-PROJECT/venv/lib/python3.10/site-packages/xarray/core/variable.py:507\u001b[0m, in \u001b[0;36mVariable.values\u001b[0;34m(self)\u001b[0m\n\u001b[1;32m    504\u001b[0m \u001b[38;5;129m@property\u001b[39m\n\u001b[1;32m    505\u001b[0m \u001b[38;5;28;01mdef\u001b[39;00m\u001b[38;5;250m \u001b[39m\u001b[38;5;21mvalues\u001b[39m(\u001b[38;5;28mself\u001b[39m) \u001b[38;5;241m-\u001b[39m\u001b[38;5;241m>\u001b[39m np\u001b[38;5;241m.\u001b[39mndarray:\n\u001b[1;32m    506\u001b[0m \u001b[38;5;250m    \u001b[39m\u001b[38;5;124;03m\"\"\"The variable's data as a numpy.ndarray\"\"\"\u001b[39;00m\n\u001b[0;32m--> 507\u001b[0m     \u001b[38;5;28;01mreturn\u001b[39;00m \u001b[43m_as_array_or_item\u001b[49m\u001b[43m(\u001b[49m\u001b[38;5;28;43mself\u001b[39;49m\u001b[38;5;241;43m.\u001b[39;49m\u001b[43m_data\u001b[49m\u001b[43m)\u001b[49m\n",
      "File \u001b[0;32m~/koomi/projects/AIMS-PROJECT/venv/lib/python3.10/site-packages/xarray/core/variable.py:301\u001b[0m, in \u001b[0;36m_as_array_or_item\u001b[0;34m(data)\u001b[0m\n\u001b[1;32m    287\u001b[0m \u001b[38;5;28;01mdef\u001b[39;00m\u001b[38;5;250m \u001b[39m\u001b[38;5;21m_as_array_or_item\u001b[39m(data):\n\u001b[1;32m    288\u001b[0m \u001b[38;5;250m    \u001b[39m\u001b[38;5;124;03m\"\"\"Return the given values as a numpy array, or as an individual item if\u001b[39;00m\n\u001b[1;32m    289\u001b[0m \u001b[38;5;124;03m    it's a 0d datetime64 or timedelta64 array.\u001b[39;00m\n\u001b[1;32m    290\u001b[0m \n\u001b[0;32m   (...)\u001b[0m\n\u001b[1;32m    299\u001b[0m \u001b[38;5;124;03m    TODO: remove this (replace with np.asarray) once these issues are fixed\u001b[39;00m\n\u001b[1;32m    300\u001b[0m \u001b[38;5;124;03m    \"\"\"\u001b[39;00m\n\u001b[0;32m--> 301\u001b[0m     data \u001b[38;5;241m=\u001b[39m \u001b[43mnp\u001b[49m\u001b[38;5;241;43m.\u001b[39;49m\u001b[43masarray\u001b[49m\u001b[43m(\u001b[49m\u001b[43mdata\u001b[49m\u001b[43m)\u001b[49m\n\u001b[1;32m    302\u001b[0m     \u001b[38;5;28;01mif\u001b[39;00m data\u001b[38;5;241m.\u001b[39mndim \u001b[38;5;241m==\u001b[39m \u001b[38;5;241m0\u001b[39m:\n\u001b[1;32m    303\u001b[0m         kind \u001b[38;5;241m=\u001b[39m data\u001b[38;5;241m.\u001b[39mdtype\u001b[38;5;241m.\u001b[39mkind\n",
      "File \u001b[0;32m~/koomi/projects/AIMS-PROJECT/venv/lib/python3.10/site-packages/xarray/core/indexing.py:509\u001b[0m, in \u001b[0;36mExplicitlyIndexed.__array__\u001b[0;34m(self, dtype, copy)\u001b[0m\n\u001b[1;32m    504\u001b[0m \u001b[38;5;28;01mdef\u001b[39;00m\u001b[38;5;250m \u001b[39m\u001b[38;5;21m__array__\u001b[39m(\n\u001b[1;32m    505\u001b[0m     \u001b[38;5;28mself\u001b[39m, dtype: np\u001b[38;5;241m.\u001b[39mtyping\u001b[38;5;241m.\u001b[39mDTypeLike \u001b[38;5;241m=\u001b[39m \u001b[38;5;28;01mNone\u001b[39;00m, \u001b[38;5;241m/\u001b[39m, \u001b[38;5;241m*\u001b[39m, copy: \u001b[38;5;28mbool\u001b[39m \u001b[38;5;241m|\u001b[39m \u001b[38;5;28;01mNone\u001b[39;00m \u001b[38;5;241m=\u001b[39m \u001b[38;5;28;01mNone\u001b[39;00m\n\u001b[1;32m    506\u001b[0m ) \u001b[38;5;241m-\u001b[39m\u001b[38;5;241m>\u001b[39m np\u001b[38;5;241m.\u001b[39mndarray:\n\u001b[1;32m    507\u001b[0m     \u001b[38;5;66;03m# Leave casting to an array up to the underlying array type.\u001b[39;00m\n\u001b[1;32m    508\u001b[0m     \u001b[38;5;28;01mif\u001b[39;00m Version(np\u001b[38;5;241m.\u001b[39m__version__) \u001b[38;5;241m>\u001b[39m\u001b[38;5;241m=\u001b[39m Version(\u001b[38;5;124m\"\u001b[39m\u001b[38;5;124m2.0.0\u001b[39m\u001b[38;5;124m\"\u001b[39m):\n\u001b[0;32m--> 509\u001b[0m         \u001b[38;5;28;01mreturn\u001b[39;00m np\u001b[38;5;241m.\u001b[39masarray(\u001b[38;5;28;43mself\u001b[39;49m\u001b[38;5;241;43m.\u001b[39;49m\u001b[43mget_duck_array\u001b[49m\u001b[43m(\u001b[49m\u001b[43m)\u001b[49m, dtype\u001b[38;5;241m=\u001b[39mdtype, copy\u001b[38;5;241m=\u001b[39mcopy)\n\u001b[1;32m    510\u001b[0m     \u001b[38;5;28;01melse\u001b[39;00m:\n\u001b[1;32m    511\u001b[0m         \u001b[38;5;28;01mreturn\u001b[39;00m np\u001b[38;5;241m.\u001b[39masarray(\u001b[38;5;28mself\u001b[39m\u001b[38;5;241m.\u001b[39mget_duck_array(), dtype\u001b[38;5;241m=\u001b[39mdtype)\n",
      "File \u001b[0;32m~/koomi/projects/AIMS-PROJECT/venv/lib/python3.10/site-packages/xarray/core/indexing.py:835\u001b[0m, in \u001b[0;36mMemoryCachedArray.get_duck_array\u001b[0;34m(self)\u001b[0m\n\u001b[1;32m    834\u001b[0m \u001b[38;5;28;01mdef\u001b[39;00m\u001b[38;5;250m \u001b[39m\u001b[38;5;21mget_duck_array\u001b[39m(\u001b[38;5;28mself\u001b[39m):\n\u001b[0;32m--> 835\u001b[0m     \u001b[38;5;28;43mself\u001b[39;49m\u001b[38;5;241;43m.\u001b[39;49m\u001b[43m_ensure_cached\u001b[49m\u001b[43m(\u001b[49m\u001b[43m)\u001b[49m\n\u001b[1;32m    836\u001b[0m     \u001b[38;5;28;01mreturn\u001b[39;00m \u001b[38;5;28mself\u001b[39m\u001b[38;5;241m.\u001b[39marray\u001b[38;5;241m.\u001b[39mget_duck_array()\n",
      "File \u001b[0;32m~/koomi/projects/AIMS-PROJECT/venv/lib/python3.10/site-packages/xarray/core/indexing.py:832\u001b[0m, in \u001b[0;36mMemoryCachedArray._ensure_cached\u001b[0;34m(self)\u001b[0m\n\u001b[1;32m    831\u001b[0m \u001b[38;5;28;01mdef\u001b[39;00m\u001b[38;5;250m \u001b[39m\u001b[38;5;21m_ensure_cached\u001b[39m(\u001b[38;5;28mself\u001b[39m):\n\u001b[0;32m--> 832\u001b[0m     \u001b[38;5;28mself\u001b[39m\u001b[38;5;241m.\u001b[39marray \u001b[38;5;241m=\u001b[39m as_indexable(\u001b[38;5;28;43mself\u001b[39;49m\u001b[38;5;241;43m.\u001b[39;49m\u001b[43marray\u001b[49m\u001b[38;5;241;43m.\u001b[39;49m\u001b[43mget_duck_array\u001b[49m\u001b[43m(\u001b[49m\u001b[43m)\u001b[49m)\n",
      "File \u001b[0;32m~/koomi/projects/AIMS-PROJECT/venv/lib/python3.10/site-packages/xarray/core/indexing.py:789\u001b[0m, in \u001b[0;36mCopyOnWriteArray.get_duck_array\u001b[0;34m(self)\u001b[0m\n\u001b[1;32m    788\u001b[0m \u001b[38;5;28;01mdef\u001b[39;00m\u001b[38;5;250m \u001b[39m\u001b[38;5;21mget_duck_array\u001b[39m(\u001b[38;5;28mself\u001b[39m):\n\u001b[0;32m--> 789\u001b[0m     \u001b[38;5;28;01mreturn\u001b[39;00m \u001b[38;5;28;43mself\u001b[39;49m\u001b[38;5;241;43m.\u001b[39;49m\u001b[43marray\u001b[49m\u001b[38;5;241;43m.\u001b[39;49m\u001b[43mget_duck_array\u001b[49m\u001b[43m(\u001b[49m\u001b[43m)\u001b[49m\n",
      "File \u001b[0;32m~/koomi/projects/AIMS-PROJECT/venv/lib/python3.10/site-packages/xarray/core/indexing.py:652\u001b[0m, in \u001b[0;36mLazilyIndexedArray.get_duck_array\u001b[0;34m(self)\u001b[0m\n\u001b[1;32m    648\u001b[0m     array \u001b[38;5;241m=\u001b[39m apply_indexer(\u001b[38;5;28mself\u001b[39m\u001b[38;5;241m.\u001b[39marray, \u001b[38;5;28mself\u001b[39m\u001b[38;5;241m.\u001b[39mkey)\n\u001b[1;32m    649\u001b[0m \u001b[38;5;28;01melse\u001b[39;00m:\n\u001b[1;32m    650\u001b[0m     \u001b[38;5;66;03m# If the array is not an ExplicitlyIndexedNDArrayMixin,\u001b[39;00m\n\u001b[1;32m    651\u001b[0m     \u001b[38;5;66;03m# it may wrap a BackendArray so use its __getitem__\u001b[39;00m\n\u001b[0;32m--> 652\u001b[0m     array \u001b[38;5;241m=\u001b[39m \u001b[38;5;28;43mself\u001b[39;49m\u001b[38;5;241;43m.\u001b[39;49m\u001b[43marray\u001b[49m\u001b[43m[\u001b[49m\u001b[38;5;28;43mself\u001b[39;49m\u001b[38;5;241;43m.\u001b[39;49m\u001b[43mkey\u001b[49m\u001b[43m]\u001b[49m\n\u001b[1;32m    654\u001b[0m \u001b[38;5;66;03m# self.array[self.key] is now a numpy array when\u001b[39;00m\n\u001b[1;32m    655\u001b[0m \u001b[38;5;66;03m# self.array is a BackendArray subclass\u001b[39;00m\n\u001b[1;32m    656\u001b[0m \u001b[38;5;66;03m# and self.key is BasicIndexer((slice(None, None, None),))\u001b[39;00m\n\u001b[1;32m    657\u001b[0m \u001b[38;5;66;03m# so we need the explicit check for ExplicitlyIndexed\u001b[39;00m\n\u001b[1;32m    658\u001b[0m \u001b[38;5;28;01mif\u001b[39;00m \u001b[38;5;28misinstance\u001b[39m(array, ExplicitlyIndexed):\n",
      "File \u001b[0;32m~/koomi/projects/AIMS-PROJECT/venv/lib/python3.10/site-packages/xarray/backends/zarr.py:223\u001b[0m, in \u001b[0;36mZarrArrayWrapper.__getitem__\u001b[0;34m(self, key)\u001b[0m\n\u001b[1;32m    221\u001b[0m \u001b[38;5;28;01melif\u001b[39;00m \u001b[38;5;28misinstance\u001b[39m(key, indexing\u001b[38;5;241m.\u001b[39mOuterIndexer):\n\u001b[1;32m    222\u001b[0m     method \u001b[38;5;241m=\u001b[39m \u001b[38;5;28mself\u001b[39m\u001b[38;5;241m.\u001b[39m_oindex\n\u001b[0;32m--> 223\u001b[0m \u001b[38;5;28;01mreturn\u001b[39;00m \u001b[43mindexing\u001b[49m\u001b[38;5;241;43m.\u001b[39;49m\u001b[43mexplicit_indexing_adapter\u001b[49m\u001b[43m(\u001b[49m\n\u001b[1;32m    224\u001b[0m \u001b[43m    \u001b[49m\u001b[43mkey\u001b[49m\u001b[43m,\u001b[49m\u001b[43m \u001b[49m\u001b[43marray\u001b[49m\u001b[38;5;241;43m.\u001b[39;49m\u001b[43mshape\u001b[49m\u001b[43m,\u001b[49m\u001b[43m \u001b[49m\u001b[43mindexing\u001b[49m\u001b[38;5;241;43m.\u001b[39;49m\u001b[43mIndexingSupport\u001b[49m\u001b[38;5;241;43m.\u001b[39;49m\u001b[43mVECTORIZED\u001b[49m\u001b[43m,\u001b[49m\u001b[43m \u001b[49m\u001b[43mmethod\u001b[49m\n\u001b[1;32m    225\u001b[0m \u001b[43m\u001b[49m\u001b[43m)\u001b[49m\n",
      "File \u001b[0;32m~/koomi/projects/AIMS-PROJECT/venv/lib/python3.10/site-packages/xarray/core/indexing.py:1013\u001b[0m, in \u001b[0;36mexplicit_indexing_adapter\u001b[0;34m(key, shape, indexing_support, raw_indexing_method)\u001b[0m\n\u001b[1;32m    991\u001b[0m \u001b[38;5;250m\u001b[39m\u001b[38;5;124;03m\"\"\"Support explicit indexing by delegating to a raw indexing method.\u001b[39;00m\n\u001b[1;32m    992\u001b[0m \n\u001b[1;32m    993\u001b[0m \u001b[38;5;124;03mOuter and/or vectorized indexers are supported by indexing a second time\u001b[39;00m\n\u001b[0;32m   (...)\u001b[0m\n\u001b[1;32m   1010\u001b[0m \u001b[38;5;124;03mIndexing result, in the form of a duck numpy-array.\u001b[39;00m\n\u001b[1;32m   1011\u001b[0m \u001b[38;5;124;03m\"\"\"\u001b[39;00m\n\u001b[1;32m   1012\u001b[0m raw_key, numpy_indices \u001b[38;5;241m=\u001b[39m decompose_indexer(key, shape, indexing_support)\n\u001b[0;32m-> 1013\u001b[0m result \u001b[38;5;241m=\u001b[39m \u001b[43mraw_indexing_method\u001b[49m\u001b[43m(\u001b[49m\u001b[43mraw_key\u001b[49m\u001b[38;5;241;43m.\u001b[39;49m\u001b[43mtuple\u001b[49m\u001b[43m)\u001b[49m\n\u001b[1;32m   1014\u001b[0m \u001b[38;5;28;01mif\u001b[39;00m numpy_indices\u001b[38;5;241m.\u001b[39mtuple:\n\u001b[1;32m   1015\u001b[0m     \u001b[38;5;66;03m# index the loaded np.ndarray\u001b[39;00m\n\u001b[1;32m   1016\u001b[0m     indexable \u001b[38;5;241m=\u001b[39m NumpyIndexingAdapter(result)\n",
      "File \u001b[0;32m~/koomi/projects/AIMS-PROJECT/venv/lib/python3.10/site-packages/xarray/backends/zarr.py:213\u001b[0m, in \u001b[0;36mZarrArrayWrapper._getitem\u001b[0;34m(self, key)\u001b[0m\n\u001b[1;32m    212\u001b[0m \u001b[38;5;28;01mdef\u001b[39;00m\u001b[38;5;250m \u001b[39m\u001b[38;5;21m_getitem\u001b[39m(\u001b[38;5;28mself\u001b[39m, key):\n\u001b[0;32m--> 213\u001b[0m     \u001b[38;5;28;01mreturn\u001b[39;00m \u001b[38;5;28;43mself\u001b[39;49m\u001b[38;5;241;43m.\u001b[39;49m\u001b[43m_array\u001b[49m\u001b[43m[\u001b[49m\u001b[43mkey\u001b[49m\u001b[43m]\u001b[49m\n",
      "File \u001b[0;32m~/koomi/projects/AIMS-PROJECT/venv/lib/python3.10/site-packages/zarr/core.py:795\u001b[0m, in \u001b[0;36mArray.__getitem__\u001b[0;34m(self, selection)\u001b[0m\n\u001b[1;32m    793\u001b[0m     result \u001b[38;5;241m=\u001b[39m \u001b[38;5;28mself\u001b[39m\u001b[38;5;241m.\u001b[39mvindex[selection]\n\u001b[1;32m    794\u001b[0m \u001b[38;5;28;01melif\u001b[39;00m is_pure_orthogonal_indexing(pure_selection, \u001b[38;5;28mself\u001b[39m\u001b[38;5;241m.\u001b[39mndim):\n\u001b[0;32m--> 795\u001b[0m     result \u001b[38;5;241m=\u001b[39m \u001b[38;5;28;43mself\u001b[39;49m\u001b[38;5;241;43m.\u001b[39;49m\u001b[43mget_orthogonal_selection\u001b[49m\u001b[43m(\u001b[49m\u001b[43mpure_selection\u001b[49m\u001b[43m,\u001b[49m\u001b[43m \u001b[49m\u001b[43mfields\u001b[49m\u001b[38;5;241;43m=\u001b[39;49m\u001b[43mfields\u001b[49m\u001b[43m)\u001b[49m\n\u001b[1;32m    796\u001b[0m \u001b[38;5;28;01melse\u001b[39;00m:\n\u001b[1;32m    797\u001b[0m     result \u001b[38;5;241m=\u001b[39m \u001b[38;5;28mself\u001b[39m\u001b[38;5;241m.\u001b[39mget_basic_selection(pure_selection, fields\u001b[38;5;241m=\u001b[39mfields)\n",
      "File \u001b[0;32m~/koomi/projects/AIMS-PROJECT/venv/lib/python3.10/site-packages/zarr/core.py:1077\u001b[0m, in \u001b[0;36mArray.get_orthogonal_selection\u001b[0;34m(self, selection, out, fields)\u001b[0m\n\u001b[1;32m   1074\u001b[0m \u001b[38;5;66;03m# setup indexer\u001b[39;00m\n\u001b[1;32m   1075\u001b[0m indexer \u001b[38;5;241m=\u001b[39m OrthogonalIndexer(selection, \u001b[38;5;28mself\u001b[39m)\n\u001b[0;32m-> 1077\u001b[0m \u001b[38;5;28;01mreturn\u001b[39;00m \u001b[38;5;28;43mself\u001b[39;49m\u001b[38;5;241;43m.\u001b[39;49m\u001b[43m_get_selection\u001b[49m\u001b[43m(\u001b[49m\u001b[43mindexer\u001b[49m\u001b[38;5;241;43m=\u001b[39;49m\u001b[43mindexer\u001b[49m\u001b[43m,\u001b[49m\u001b[43m \u001b[49m\u001b[43mout\u001b[49m\u001b[38;5;241;43m=\u001b[39;49m\u001b[43mout\u001b[49m\u001b[43m,\u001b[49m\u001b[43m \u001b[49m\u001b[43mfields\u001b[49m\u001b[38;5;241;43m=\u001b[39;49m\u001b[43mfields\u001b[49m\u001b[43m)\u001b[49m\n",
      "File \u001b[0;32m~/koomi/projects/AIMS-PROJECT/venv/lib/python3.10/site-packages/zarr/core.py:1340\u001b[0m, in \u001b[0;36mArray._get_selection\u001b[0;34m(self, indexer, out, fields)\u001b[0m\n\u001b[1;32m   1337\u001b[0m \u001b[38;5;28;01mif\u001b[39;00m math\u001b[38;5;241m.\u001b[39mprod(out_shape) \u001b[38;5;241m>\u001b[39m \u001b[38;5;241m0\u001b[39m:\n\u001b[1;32m   1338\u001b[0m     \u001b[38;5;66;03m# allow storage to get multiple items at once\u001b[39;00m\n\u001b[1;32m   1339\u001b[0m     lchunk_coords, lchunk_selection, lout_selection \u001b[38;5;241m=\u001b[39m \u001b[38;5;28mzip\u001b[39m(\u001b[38;5;241m*\u001b[39mindexer)\n\u001b[0;32m-> 1340\u001b[0m     \u001b[38;5;28;43mself\u001b[39;49m\u001b[38;5;241;43m.\u001b[39;49m\u001b[43m_chunk_getitems\u001b[49m\u001b[43m(\u001b[49m\n\u001b[1;32m   1341\u001b[0m \u001b[43m        \u001b[49m\u001b[43mlchunk_coords\u001b[49m\u001b[43m,\u001b[49m\n\u001b[1;32m   1342\u001b[0m \u001b[43m        \u001b[49m\u001b[43mlchunk_selection\u001b[49m\u001b[43m,\u001b[49m\n\u001b[1;32m   1343\u001b[0m \u001b[43m        \u001b[49m\u001b[43mout\u001b[49m\u001b[43m,\u001b[49m\n\u001b[1;32m   1344\u001b[0m \u001b[43m        \u001b[49m\u001b[43mlout_selection\u001b[49m\u001b[43m,\u001b[49m\n\u001b[1;32m   1345\u001b[0m \u001b[43m        \u001b[49m\u001b[43mdrop_axes\u001b[49m\u001b[38;5;241;43m=\u001b[39;49m\u001b[43mindexer\u001b[49m\u001b[38;5;241;43m.\u001b[39;49m\u001b[43mdrop_axes\u001b[49m\u001b[43m,\u001b[49m\n\u001b[1;32m   1346\u001b[0m \u001b[43m        \u001b[49m\u001b[43mfields\u001b[49m\u001b[38;5;241;43m=\u001b[39;49m\u001b[43mfields\u001b[49m\u001b[43m,\u001b[49m\n\u001b[1;32m   1347\u001b[0m \u001b[43m    \u001b[49m\u001b[43m)\u001b[49m\n\u001b[1;32m   1348\u001b[0m \u001b[38;5;28;01mif\u001b[39;00m out\u001b[38;5;241m.\u001b[39mshape:\n\u001b[1;32m   1349\u001b[0m     \u001b[38;5;28;01mreturn\u001b[39;00m out\n",
      "File \u001b[0;32m~/koomi/projects/AIMS-PROJECT/venv/lib/python3.10/site-packages/zarr/core.py:2181\u001b[0m, in \u001b[0;36mArray._chunk_getitems\u001b[0;34m(self, lchunk_coords, lchunk_selection, out, lout_selection, drop_axes, fields)\u001b[0m\n\u001b[1;32m   2179\u001b[0m     \u001b[38;5;28;01mif\u001b[39;00m \u001b[38;5;129;01mnot\u001b[39;00m \u001b[38;5;28misinstance\u001b[39m(\u001b[38;5;28mself\u001b[39m\u001b[38;5;241m.\u001b[39m_meta_array, np\u001b[38;5;241m.\u001b[39mndarray):\n\u001b[1;32m   2180\u001b[0m         contexts \u001b[38;5;241m=\u001b[39m ConstantMap(ckeys, constant\u001b[38;5;241m=\u001b[39mContext(meta_array\u001b[38;5;241m=\u001b[39m\u001b[38;5;28mself\u001b[39m\u001b[38;5;241m.\u001b[39m_meta_array))\n\u001b[0;32m-> 2181\u001b[0m     cdatas \u001b[38;5;241m=\u001b[39m \u001b[38;5;28;43mself\u001b[39;49m\u001b[38;5;241;43m.\u001b[39;49m\u001b[43mchunk_store\u001b[49m\u001b[38;5;241;43m.\u001b[39;49m\u001b[43mgetitems\u001b[49m\u001b[43m(\u001b[49m\u001b[43mckeys\u001b[49m\u001b[43m,\u001b[49m\u001b[43m \u001b[49m\u001b[43mcontexts\u001b[49m\u001b[38;5;241;43m=\u001b[39;49m\u001b[43mcontexts\u001b[49m\u001b[43m)\u001b[49m\n\u001b[1;32m   2183\u001b[0m \u001b[38;5;28;01mfor\u001b[39;00m ckey, chunk_select, out_select \u001b[38;5;129;01min\u001b[39;00m \u001b[38;5;28mzip\u001b[39m(ckeys, lchunk_selection, lout_selection):\n\u001b[1;32m   2184\u001b[0m     \u001b[38;5;28;01mif\u001b[39;00m ckey \u001b[38;5;129;01min\u001b[39;00m cdatas:\n",
      "File \u001b[0;32m~/koomi/projects/AIMS-PROJECT/venv/lib/python3.10/site-packages/zarr/storage.py:1426\u001b[0m, in \u001b[0;36mFSStore.getitems\u001b[0;34m(self, keys, contexts)\u001b[0m\n\u001b[1;32m   1422\u001b[0m \u001b[38;5;28;01mdef\u001b[39;00m\u001b[38;5;250m \u001b[39m\u001b[38;5;21mgetitems\u001b[39m(\n\u001b[1;32m   1423\u001b[0m     \u001b[38;5;28mself\u001b[39m, keys: Sequence[\u001b[38;5;28mstr\u001b[39m], \u001b[38;5;241m*\u001b[39m, contexts: Mapping[\u001b[38;5;28mstr\u001b[39m, Context]\n\u001b[1;32m   1424\u001b[0m ) \u001b[38;5;241m-\u001b[39m\u001b[38;5;241m>\u001b[39m Mapping[\u001b[38;5;28mstr\u001b[39m, Any]:\n\u001b[1;32m   1425\u001b[0m     keys_transformed \u001b[38;5;241m=\u001b[39m {\u001b[38;5;28mself\u001b[39m\u001b[38;5;241m.\u001b[39m_normalize_key(key): key \u001b[38;5;28;01mfor\u001b[39;00m key \u001b[38;5;129;01min\u001b[39;00m keys}\n\u001b[0;32m-> 1426\u001b[0m     results_transformed \u001b[38;5;241m=\u001b[39m \u001b[38;5;28;43mself\u001b[39;49m\u001b[38;5;241;43m.\u001b[39;49m\u001b[43mmap\u001b[49m\u001b[38;5;241;43m.\u001b[39;49m\u001b[43mgetitems\u001b[49m\u001b[43m(\u001b[49m\u001b[38;5;28;43mlist\u001b[39;49m\u001b[43m(\u001b[49m\u001b[43mkeys_transformed\u001b[49m\u001b[43m)\u001b[49m\u001b[43m,\u001b[49m\u001b[43m \u001b[49m\u001b[43mon_error\u001b[49m\u001b[38;5;241;43m=\u001b[39;49m\u001b[38;5;124;43m\"\u001b[39;49m\u001b[38;5;124;43mreturn\u001b[39;49m\u001b[38;5;124;43m\"\u001b[39;49m\u001b[43m)\u001b[49m\n\u001b[1;32m   1427\u001b[0m     results \u001b[38;5;241m=\u001b[39m {}\n\u001b[1;32m   1428\u001b[0m     \u001b[38;5;28;01mfor\u001b[39;00m k, v \u001b[38;5;129;01min\u001b[39;00m results_transformed\u001b[38;5;241m.\u001b[39mitems():\n",
      "File \u001b[0;32m~/koomi/projects/AIMS-PROJECT/venv/lib/python3.10/site-packages/fsspec/mapping.py:105\u001b[0m, in \u001b[0;36mFSMap.getitems\u001b[0;34m(self, keys, on_error)\u001b[0m\n\u001b[1;32m    103\u001b[0m oe \u001b[38;5;241m=\u001b[39m on_error \u001b[38;5;28;01mif\u001b[39;00m on_error \u001b[38;5;241m==\u001b[39m \u001b[38;5;124m\"\u001b[39m\u001b[38;5;124mraise\u001b[39m\u001b[38;5;124m\"\u001b[39m \u001b[38;5;28;01melse\u001b[39;00m \u001b[38;5;124m\"\u001b[39m\u001b[38;5;124mreturn\u001b[39m\u001b[38;5;124m\"\u001b[39m\n\u001b[1;32m    104\u001b[0m \u001b[38;5;28;01mtry\u001b[39;00m:\n\u001b[0;32m--> 105\u001b[0m     out \u001b[38;5;241m=\u001b[39m \u001b[38;5;28;43mself\u001b[39;49m\u001b[38;5;241;43m.\u001b[39;49m\u001b[43mfs\u001b[49m\u001b[38;5;241;43m.\u001b[39;49m\u001b[43mcat\u001b[49m\u001b[43m(\u001b[49m\u001b[43mkeys2\u001b[49m\u001b[43m,\u001b[49m\u001b[43m \u001b[49m\u001b[43mon_error\u001b[49m\u001b[38;5;241;43m=\u001b[39;49m\u001b[43moe\u001b[49m\u001b[43m)\u001b[49m\n\u001b[1;32m    106\u001b[0m     \u001b[38;5;28;01mif\u001b[39;00m \u001b[38;5;28misinstance\u001b[39m(out, \u001b[38;5;28mbytes\u001b[39m):\n\u001b[1;32m    107\u001b[0m         out \u001b[38;5;241m=\u001b[39m {keys2[\u001b[38;5;241m0\u001b[39m]: out}\n",
      "File \u001b[0;32m~/koomi/projects/AIMS-PROJECT/venv/lib/python3.10/site-packages/fsspec/asyn.py:118\u001b[0m, in \u001b[0;36msync_wrapper.<locals>.wrapper\u001b[0;34m(*args, **kwargs)\u001b[0m\n\u001b[1;32m    115\u001b[0m \u001b[38;5;129m@functools\u001b[39m\u001b[38;5;241m.\u001b[39mwraps(func)\n\u001b[1;32m    116\u001b[0m \u001b[38;5;28;01mdef\u001b[39;00m\u001b[38;5;250m \u001b[39m\u001b[38;5;21mwrapper\u001b[39m(\u001b[38;5;241m*\u001b[39margs, \u001b[38;5;241m*\u001b[39m\u001b[38;5;241m*\u001b[39mkwargs):\n\u001b[1;32m    117\u001b[0m     \u001b[38;5;28mself\u001b[39m \u001b[38;5;241m=\u001b[39m obj \u001b[38;5;129;01mor\u001b[39;00m args[\u001b[38;5;241m0\u001b[39m]\n\u001b[0;32m--> 118\u001b[0m     \u001b[38;5;28;01mreturn\u001b[39;00m \u001b[43msync\u001b[49m\u001b[43m(\u001b[49m\u001b[38;5;28;43mself\u001b[39;49m\u001b[38;5;241;43m.\u001b[39;49m\u001b[43mloop\u001b[49m\u001b[43m,\u001b[49m\u001b[43m \u001b[49m\u001b[43mfunc\u001b[49m\u001b[43m,\u001b[49m\u001b[43m \u001b[49m\u001b[38;5;241;43m*\u001b[39;49m\u001b[43margs\u001b[49m\u001b[43m,\u001b[49m\u001b[43m \u001b[49m\u001b[38;5;241;43m*\u001b[39;49m\u001b[38;5;241;43m*\u001b[39;49m\u001b[43mkwargs\u001b[49m\u001b[43m)\u001b[49m\n",
      "File \u001b[0;32m~/koomi/projects/AIMS-PROJECT/venv/lib/python3.10/site-packages/fsspec/asyn.py:91\u001b[0m, in \u001b[0;36msync\u001b[0;34m(loop, func, timeout, *args, **kwargs)\u001b[0m\n\u001b[1;32m     88\u001b[0m asyncio\u001b[38;5;241m.\u001b[39mrun_coroutine_threadsafe(_runner(event, coro, result, timeout), loop)\n\u001b[1;32m     89\u001b[0m \u001b[38;5;28;01mwhile\u001b[39;00m \u001b[38;5;28;01mTrue\u001b[39;00m:\n\u001b[1;32m     90\u001b[0m     \u001b[38;5;66;03m# this loops allows thread to get interrupted\u001b[39;00m\n\u001b[0;32m---> 91\u001b[0m     \u001b[38;5;28;01mif\u001b[39;00m \u001b[43mevent\u001b[49m\u001b[38;5;241;43m.\u001b[39;49m\u001b[43mwait\u001b[49m\u001b[43m(\u001b[49m\u001b[38;5;241;43m1\u001b[39;49m\u001b[43m)\u001b[49m:\n\u001b[1;32m     92\u001b[0m         \u001b[38;5;28;01mbreak\u001b[39;00m\n\u001b[1;32m     93\u001b[0m     \u001b[38;5;28;01mif\u001b[39;00m timeout \u001b[38;5;129;01mis\u001b[39;00m \u001b[38;5;129;01mnot\u001b[39;00m \u001b[38;5;28;01mNone\u001b[39;00m:\n",
      "File \u001b[0;32m/opt/conda/lib/python3.10/threading.py:607\u001b[0m, in \u001b[0;36mEvent.wait\u001b[0;34m(self, timeout)\u001b[0m\n\u001b[1;32m    605\u001b[0m signaled \u001b[38;5;241m=\u001b[39m \u001b[38;5;28mself\u001b[39m\u001b[38;5;241m.\u001b[39m_flag\n\u001b[1;32m    606\u001b[0m \u001b[38;5;28;01mif\u001b[39;00m \u001b[38;5;129;01mnot\u001b[39;00m signaled:\n\u001b[0;32m--> 607\u001b[0m     signaled \u001b[38;5;241m=\u001b[39m \u001b[38;5;28;43mself\u001b[39;49m\u001b[38;5;241;43m.\u001b[39;49m\u001b[43m_cond\u001b[49m\u001b[38;5;241;43m.\u001b[39;49m\u001b[43mwait\u001b[49m\u001b[43m(\u001b[49m\u001b[43mtimeout\u001b[49m\u001b[43m)\u001b[49m\n\u001b[1;32m    608\u001b[0m \u001b[38;5;28;01mreturn\u001b[39;00m signaled\n",
      "File \u001b[0;32m/opt/conda/lib/python3.10/threading.py:324\u001b[0m, in \u001b[0;36mCondition.wait\u001b[0;34m(self, timeout)\u001b[0m\n\u001b[1;32m    322\u001b[0m \u001b[38;5;28;01melse\u001b[39;00m:\n\u001b[1;32m    323\u001b[0m     \u001b[38;5;28;01mif\u001b[39;00m timeout \u001b[38;5;241m>\u001b[39m \u001b[38;5;241m0\u001b[39m:\n\u001b[0;32m--> 324\u001b[0m         gotit \u001b[38;5;241m=\u001b[39m \u001b[43mwaiter\u001b[49m\u001b[38;5;241;43m.\u001b[39;49m\u001b[43macquire\u001b[49m\u001b[43m(\u001b[49m\u001b[38;5;28;43;01mTrue\u001b[39;49;00m\u001b[43m,\u001b[49m\u001b[43m \u001b[49m\u001b[43mtimeout\u001b[49m\u001b[43m)\u001b[49m\n\u001b[1;32m    325\u001b[0m     \u001b[38;5;28;01melse\u001b[39;00m:\n\u001b[1;32m    326\u001b[0m         gotit \u001b[38;5;241m=\u001b[39m waiter\u001b[38;5;241m.\u001b[39macquire(\u001b[38;5;28;01mFalse\u001b[39;00m)\n",
      "\u001b[0;31mKeyboardInterrupt\u001b[0m: "
     ]
    }
   ],
   "source": [
    "rmses_world_2t = []\n",
    "dates_world_2t = []\n",
    "\n",
    "for batch, target_batch in zip(world_batches, target_world_batches):\n",
    "    rmse, date = rmse_fn(model, feature_batch=batch, target_batch=target_batch, var_name=\"2t\", var_type=\"surface\")\n",
    "    rmses_world_2t.append(rmse)\n",
    "    dates_world_2t.append(date)\n",
    "    del batch, target_batch, rmse, date\n",
    "    torch.cuda.empty_cache()  # Free GPU memory"
   ]
  },
  {
   "cell_type": "code",
   "execution_count": 1,
   "metadata": {},
   "outputs": [
    {
     "ename": "NameError",
     "evalue": "name 'SA_batches' is not defined",
     "output_type": "error",
     "traceback": [
      "\u001b[0;31m---------------------------------------------------------------------------\u001b[0m",
      "\u001b[0;31mNameError\u001b[0m                                 Traceback (most recent call last)",
      "Cell \u001b[0;32mIn[1], line 3\u001b[0m\n\u001b[1;32m      1\u001b[0m rmses_SA_2t \u001b[38;5;241m=\u001b[39m []\n\u001b[1;32m      2\u001b[0m dates_SA_2t \u001b[38;5;241m=\u001b[39m []\n\u001b[0;32m----> 3\u001b[0m \u001b[38;5;28;01mfor\u001b[39;00m batch, target_batch \u001b[38;5;129;01min\u001b[39;00m \u001b[38;5;28mzip\u001b[39m(\u001b[43mSA_batches\u001b[49m, target_SA_batches):\n\u001b[1;32m      4\u001b[0m     rmse_, date \u001b[38;5;241m=\u001b[39m rmse_fn_sa(model, actual_batch\u001b[38;5;241m=\u001b[39mbatch, target_batch\u001b[38;5;241m=\u001b[39mtarget_batch, var_name\u001b[38;5;241m=\u001b[39m\u001b[38;5;124m\"\u001b[39m\u001b[38;5;124m2t\u001b[39m\u001b[38;5;124m\"\u001b[39m, var_type\u001b[38;5;241m=\u001b[39m\u001b[38;5;124m\"\u001b[39m\u001b[38;5;124msurface\u001b[39m\u001b[38;5;124m\"\u001b[39m)\n\u001b[1;32m      5\u001b[0m     rmses_SA_2t\u001b[38;5;241m.\u001b[39mappend(rmse_)\n",
      "\u001b[0;31mNameError\u001b[0m: name 'SA_batches' is not defined"
     ]
    }
   ],
   "source": [
    "rmses_SA_2t = []\n",
    "dates_SA_2t = []\n",
    "for batch, target_batch in zip(SA_batches, target_SA_batches):\n",
    "    rmse_, date = rmse_fn_sa(model, actual_batch=batch, target_batch=target_batch, var_name=\"2t\", var_type=\"surface\")\n",
    "    rmses_SA_2t.append(rmse_)\n",
    "    dates_SA_2t.append(date)\n",
    "    del batch, target_batch, rmse_, date\n",
    "    torch.cuda.empty_cache()  # Free GPU memory"
   ]
  },
  {
   "cell_type": "code",
   "execution_count": null,
   "metadata": {},
   "outputs": [],
   "source": [
    "plot_rmses(\"2t\",rmses_world_2t, rmses_SA_2t, \n",
    "            figsize=(15, 8), fontsize=18,\n",
    "            date_ranges=dates_world_2t, title=\"Two-meter temperature two steps forward prediction: RMSES\")"
   ]
  },
  {
   "cell_type": "markdown",
   "metadata": {},
   "source": [
    "## Ten-meter eastward wind speed in m/s :U10"
   ]
  },
  {
   "cell_type": "code",
   "execution_count": null,
   "metadata": {},
   "outputs": [],
   "source": [
    "rmses_world_u10 = []\n",
    "dates_world_u10 = []\n",
    "for batch, target_batch in zip(world_batches, target_world_batches):\n",
    "    rmse, date = rmse_fn(model, batch,target_batch, \"10u\", var_type=\"surface\")\n",
    "    rmses_world_u10.append(rmse)\n",
    "    dates_world_u10.append(date)"
   ]
  },
  {
   "cell_type": "code",
   "execution_count": null,
   "metadata": {},
   "outputs": [],
   "source": [
    "rmses_SA_u10 = []\n",
    "dates_SA_u10 = []\n",
    "for batch, target_batch in zip(SA_batches, target_SA_batches):\n",
    "    rmse, date = rmse_fn_sa(model, batch, target_batch, \"10u\", var_type=\"surface\")\n",
    "    rmses_SA_u10.append(rmse)\n",
    "    dates_SA_u10.append(date)"
   ]
  },
  {
   "cell_type": "code",
   "execution_count": null,
   "metadata": {},
   "outputs": [],
   "source": [
    "plot_rmses(\"u10\",rmses_world_u10, rmses_SA_u10, \n",
    "            figsize=(15, 8), fontsize=18,\n",
    "            date_ranges=dates_world_u10, title=\"Ten-meter eastward wind speed two steps forward prediction: RMSES\")"
   ]
  },
  {
   "cell_type": "markdown",
   "metadata": {},
   "source": [
    "## Ten-meter southward wind speed in m/s: V10"
   ]
  },
  {
   "cell_type": "code",
   "execution_count": null,
   "metadata": {},
   "outputs": [],
   "source": [
    "rmses_world_v10 = []\n",
    "dates_world_v10 = []\n",
    "for batch, target_batch in zip(world_batches, target_world_batches):\n",
    "    rmse, date = rmse_fn(model, batch, target_batch, \"10v\", var_type=\"surface\")\n",
    "    rmses_world_v10.append(rmse)\n",
    "    dates_world_v10.append(date)"
   ]
  },
  {
   "cell_type": "code",
   "execution_count": null,
   "metadata": {},
   "outputs": [],
   "source": [
    "rmses_SA_v10 = []\n",
    "dates_SA_v10 = []\n",
    "for batch, target_batch in zip(SA_batches, target_SA_batches):\n",
    "    rmse, date = rmse_fn_sa(model, batch, target_batch, \"10v\", var_type=\"surface\")\n",
    "    rmses_SA_v10.append(rmse)\n",
    "    dates_SA_v10.append(date)"
   ]
  },
  {
   "cell_type": "code",
   "execution_count": null,
   "metadata": {},
   "outputs": [],
   "source": [
    "plot_rmses(\"v10\",rmses_world_v10, rmses_SA_v10, \n",
    "            figsize=(15, 8), fontsize=18,\n",
    "            date_ranges=dates_world_v10, title=\"Ten-meter southward wind speed two steps forward prediction: RMSES\")"
   ]
  },
  {
   "cell_type": "markdown",
   "metadata": {},
   "source": [
    "## Mean sea-level pressure in Pa :msl"
   ]
  },
  {
   "cell_type": "code",
   "execution_count": null,
   "metadata": {},
   "outputs": [],
   "source": [
    "rmses_world_msl = []\n",
    "dates_world_msl = []\n",
    "for batch, target_batch in zip(world_batches, target_world_batches):\n",
    "    rmse, date = rmse_fn(model, batch, target_batch, \"msl\", var_type=\"surface\")\n",
    "    rmses_world_msl.append(rmse)\n",
    "    dates_world_msl.append(date)"
   ]
  },
  {
   "cell_type": "code",
   "execution_count": null,
   "metadata": {},
   "outputs": [],
   "source": [
    "rmses_SA_msl = []\n",
    "dates_SA_msl = []\n",
    "for batch, target_batch in zip(SA_batches, target_SA_batches):\n",
    "    rmse, date = rmse_fn_sa(model, batch, target_batch, \"msl\", var_type=\"surface\")\n",
    "    rmses_SA_msl.append(rmse)\n",
    "    dates_SA_msl.append(date)"
   ]
  },
  {
   "cell_type": "code",
   "execution_count": null,
   "metadata": {},
   "outputs": [],
   "source": [
    "plot_rmses(\"msl\",rmses_world_msl, rmses_SA_msl, \n",
    "            figsize=(15, 8), fontsize=18,\n",
    "            date_ranges=dates_world_msl, title=\"Mean sea-level pressure two steps forward prediction: RMSES\")"
   ]
  },
  {
   "cell_type": "markdown",
   "metadata": {},
   "source": [
    "# Atmosphere"
   ]
  },
  {
   "cell_type": "markdown",
   "metadata": {},
   "source": [
    "## Temperature in K : t"
   ]
  },
  {
   "cell_type": "markdown",
   "metadata": {},
   "source": [
    "### 50 hPa"
   ]
  },
  {
   "cell_type": "code",
   "execution_count": null,
   "metadata": {},
   "outputs": [],
   "source": [
    "rmses_world_t = []\n",
    "dates_world_t = []\n",
    "for batch, target_batch in zip(world_batches, target_world_batches):\n",
    "    rmse, date = rmse_fn(model, batch, target_batch, \"t\", var_type=\"atmosphere\", atmos_level_idx=0)\n",
    "    rmses_world_t.append(rmse)\n",
    "    dates_world_t.append(date)"
   ]
  },
  {
   "cell_type": "code",
   "execution_count": null,
   "metadata": {},
   "outputs": [],
   "source": [
    "rmses_SA_t = []\n",
    "dates_SA_t = []\n",
    "for batch, target_batch in zip(SA_batches, target_SA_batches):\n",
    "    rmse, date = rmse_fn_sa(model, batch, target_batch, \"t\", var_type=\"atmosphere\", atmos_level_idx=0)\n",
    "    rmses_SA_t.append(rmse)\n",
    "    dates_SA_t.append(date)"
   ]
  },
  {
   "cell_type": "code",
   "execution_count": null,
   "metadata": {},
   "outputs": [],
   "source": [
    "plot_rmses(\"t\",rmses_world_t, rmses_SA_t, \n",
    "            figsize=(15, 8), fontsize=18,\n",
    "            date_ranges=dates_world_t, title=\"Temperature in K  two steps forward prediction: RMSES\",\n",
    "            atmos_level=\"50hPa\")"
   ]
  },
  {
   "cell_type": "markdown",
   "metadata": {},
   "source": [
    "### 100 hPa"
   ]
  },
  {
   "cell_type": "code",
   "execution_count": null,
   "metadata": {},
   "outputs": [],
   "source": []
  },
  {
   "cell_type": "code",
   "execution_count": null,
   "metadata": {},
   "outputs": [],
   "source": []
  },
  {
   "cell_type": "markdown",
   "metadata": {},
   "source": [
    "### 150 hPa"
   ]
  },
  {
   "cell_type": "code",
   "execution_count": null,
   "metadata": {},
   "outputs": [],
   "source": []
  },
  {
   "cell_type": "markdown",
   "metadata": {},
   "source": [
    "### 200 hPa"
   ]
  },
  {
   "cell_type": "code",
   "execution_count": null,
   "metadata": {},
   "outputs": [],
   "source": []
  },
  {
   "cell_type": "markdown",
   "metadata": {},
   "source": [
    "### 250 hPa"
   ]
  },
  {
   "cell_type": "code",
   "execution_count": null,
   "metadata": {},
   "outputs": [],
   "source": []
  },
  {
   "cell_type": "markdown",
   "metadata": {},
   "source": [
    "### 300 hPa"
   ]
  },
  {
   "cell_type": "code",
   "execution_count": null,
   "metadata": {},
   "outputs": [],
   "source": []
  },
  {
   "cell_type": "markdown",
   "metadata": {},
   "source": [
    "### 400 hPa"
   ]
  },
  {
   "cell_type": "code",
   "execution_count": null,
   "metadata": {},
   "outputs": [],
   "source": [
    "rmses_world_t_400hpa = []\n",
    "dates_world_t_400hpa = []\n",
    "for batch, target_batch in zip(world_batches, target_world_batches):\n",
    "    rmse, date = rmse_fn(model, batch, target_batch, \"t\", var_type=\"atmosphere\", atmos_level_idx=6)\n",
    "    rmses_world_t_400hpa.append(rmse)\n",
    "    dates_world_t_400hpa.append(date)"
   ]
  },
  {
   "cell_type": "code",
   "execution_count": null,
   "metadata": {},
   "outputs": [],
   "source": [
    "rmses_SA_t_400hpa = []\n",
    "dates_SA_t_400hpa = []\n",
    "for batch, target_batch in zip(SA_batches, target_SA_batches):\n",
    "    rmse, date = rmse_fn_sa(model, batch, target_batch, \"t\", var_type=\"atmosphere\", atmos_level_idx=6)\n",
    "    rmses_SA_t_400hpa.append(rmse)\n",
    "    dates_SA_t_400hpa.append(date)"
   ]
  },
  {
   "cell_type": "code",
   "execution_count": null,
   "metadata": {},
   "outputs": [],
   "source": [
    "plot_rmses(\"t\",rmses_world_t_400hpa, rmses_SA_t_400hpa, \n",
    "            figsize=(15, 8), fontsize=18,\n",
    "            date_ranges=dates_world_t_400hpa, title=\"Temperature in K  two steps forward prediction: RMSES\",\n",
    "            atmos_level=\"400hPa\")"
   ]
  },
  {
   "cell_type": "markdown",
   "metadata": {},
   "source": [
    "### 500 hPa"
   ]
  },
  {
   "cell_type": "code",
   "execution_count": null,
   "metadata": {},
   "outputs": [],
   "source": []
  },
  {
   "cell_type": "markdown",
   "metadata": {},
   "source": [
    "### 600hPa"
   ]
  },
  {
   "cell_type": "code",
   "execution_count": null,
   "metadata": {},
   "outputs": [],
   "source": []
  },
  {
   "cell_type": "markdown",
   "metadata": {},
   "source": [
    "### 700 hPa"
   ]
  },
  {
   "cell_type": "code",
   "execution_count": null,
   "metadata": {},
   "outputs": [],
   "source": []
  },
  {
   "cell_type": "markdown",
   "metadata": {},
   "source": [
    "### 850 hPa"
   ]
  },
  {
   "cell_type": "code",
   "execution_count": null,
   "metadata": {},
   "outputs": [],
   "source": []
  },
  {
   "cell_type": "markdown",
   "metadata": {},
   "source": [
    "### 925 hPa"
   ]
  },
  {
   "cell_type": "code",
   "execution_count": null,
   "metadata": {},
   "outputs": [],
   "source": []
  },
  {
   "cell_type": "markdown",
   "metadata": {},
   "source": [
    "### 1000 hPa"
   ]
  },
  {
   "cell_type": "code",
   "execution_count": null,
   "metadata": {},
   "outputs": [],
   "source": [
    "rmses_world_t_1000hpa = []\n",
    "dates_world_t_1000hpa = []\n",
    "for batch, target_batch in zip(world_batches, target_world_batches):\n",
    "    rmse, date = rmse_fn(model, batch, target_batch, \"t\", var_type=\"atmosphere\", atmos_level_idx=12)\n",
    "    rmses_world_t_1000hpa.append(rmse)\n",
    "    dates_world_t_1000hpa.append(date)"
   ]
  },
  {
   "cell_type": "code",
   "execution_count": null,
   "metadata": {},
   "outputs": [],
   "source": [
    "rmses_SA_t_1000hpa = []\n",
    "dates_SA_t_1000hpa = []\n",
    "for batch, target_batch in zip(SA_batches, target_SA_batches):\n",
    "    rmse, date = rmse_fn_sa(model, batch, target_batch, \"t\", var_type=\"atmosphere\", atmos_level_idx=12)\n",
    "    rmses_SA_t_1000hpa.append(rmse)\n",
    "    dates_SA_t_1000hpa.append(date)"
   ]
  },
  {
   "cell_type": "code",
   "execution_count": null,
   "metadata": {},
   "outputs": [],
   "source": [
    "plot_rmses(\"t\",rmses_world_t_1000hpa, rmses_SA_t_1000hpa, \n",
    "            figsize=(15, 8), fontsize=18,\n",
    "            date_ranges=dates_SA_t_1000hpa, title=\"Temperature in K  two steps forward prediction: RMSES\",\n",
    "            atmos_level=\"1000hPa\")"
   ]
  },
  {
   "cell_type": "code",
   "execution_count": null,
   "metadata": {},
   "outputs": [],
   "source": []
  },
  {
   "cell_type": "markdown",
   "metadata": {},
   "source": [
    "## Eastward wind speed in m/s u"
   ]
  },
  {
   "cell_type": "markdown",
   "metadata": {},
   "source": [
    "### 50 hPa"
   ]
  },
  {
   "cell_type": "code",
   "execution_count": null,
   "metadata": {},
   "outputs": [],
   "source": [
    "rmses_world_u = []\n",
    "dates_world_u = []\n",
    "for batch, target_batch in zip(world_batches, target_world_batches):\n",
    "    rmse, date = rmse_fn(model, batch, target_batch, \"u\", var_type=\"atmosphere\", atmos_level_idx=0)\n",
    "    rmses_world_u.append(rmse)\n",
    "    dates_world_u.append(date)"
   ]
  },
  {
   "cell_type": "code",
   "execution_count": null,
   "metadata": {},
   "outputs": [],
   "source": [
    "rmses_SA_u = []\n",
    "dates_SA_u = []\n",
    "for batch, target_batch in zip(SA_batches, target_SA_batches):\n",
    "    rmse, date = rmse_fn_sa(model, batch, target_batch, \"u\", var_type=\"atmosphere\", atmos_level_idx=0)\n",
    "    rmses_SA_u.append(rmse)\n",
    "    dates_SA_u.append(date)"
   ]
  },
  {
   "cell_type": "code",
   "execution_count": null,
   "metadata": {},
   "outputs": [],
   "source": [
    "plot_rmses(\"u\",rmses_world_u, rmses_SA_u, \n",
    "            figsize=(15, 8), fontsize=18,\n",
    "            date_ranges=dates_world_u, title=\"Eastward wind speed two steps forward prediction: RMSES\",\n",
    "            atmos_level=\"50hPa\")"
   ]
  },
  {
   "cell_type": "markdown",
   "metadata": {},
   "source": [
    "### 100 hPa"
   ]
  },
  {
   "cell_type": "code",
   "execution_count": null,
   "metadata": {},
   "outputs": [],
   "source": []
  },
  {
   "cell_type": "code",
   "execution_count": null,
   "metadata": {},
   "outputs": [],
   "source": []
  },
  {
   "cell_type": "markdown",
   "metadata": {},
   "source": [
    "### 150 hPa"
   ]
  },
  {
   "cell_type": "code",
   "execution_count": null,
   "metadata": {},
   "outputs": [],
   "source": []
  },
  {
   "cell_type": "markdown",
   "metadata": {},
   "source": [
    "### 200 hPa"
   ]
  },
  {
   "cell_type": "code",
   "execution_count": null,
   "metadata": {},
   "outputs": [],
   "source": []
  },
  {
   "cell_type": "markdown",
   "metadata": {},
   "source": [
    "### 250 hPa"
   ]
  },
  {
   "cell_type": "code",
   "execution_count": null,
   "metadata": {},
   "outputs": [],
   "source": []
  },
  {
   "cell_type": "markdown",
   "metadata": {},
   "source": [
    "### 300 hPa"
   ]
  },
  {
   "cell_type": "code",
   "execution_count": null,
   "metadata": {},
   "outputs": [],
   "source": []
  },
  {
   "cell_type": "markdown",
   "metadata": {},
   "source": [
    "### 400 hPa"
   ]
  },
  {
   "cell_type": "code",
   "execution_count": null,
   "metadata": {},
   "outputs": [],
   "source": [
    "rmses_world_u_400hpa = []\n",
    "dates_world_u_400hpa = []\n",
    "for batch, target_batch in zip(world_batches, target_world_batches):\n",
    "    rmse, date = rmse_fn(model, batch, target_batch, \"u\", var_type=\"atmosphere\", atmos_level_idx=6)\n",
    "    rmses_world_u_400hpa.append(rmse)\n",
    "    dates_world_u_400hpa.append(date)"
   ]
  },
  {
   "cell_type": "code",
   "execution_count": null,
   "metadata": {},
   "outputs": [],
   "source": [
    "rmses_SA_u_400hpa = []\n",
    "dates_SA_u_400hpa = []\n",
    "for batch, target_batch in zip(SA_batches, target_SA_batches):\n",
    "    rmse, date = rmse_fn_sa(model, batch, target_batch, \"u\", var_type=\"atmosphere\", atmos_level_idx=6)\n",
    "    rmses_SA_u_400hpa.append(rmse)\n",
    "    dates_SA_u_400hpa.append(date)"
   ]
  },
  {
   "cell_type": "code",
   "execution_count": null,
   "metadata": {},
   "outputs": [],
   "source": [
    "plot_rmses(\"u\",rmses_world_u_400hpa, rmses_SA_u_400hpa, \n",
    "            figsize=(15, 8), fontsize=18,\n",
    "            date_ranges=dates_world_u_400hpa, title=\"Eastward wind speed  two steps forward prediction: RMSES\",\n",
    "            atmos_level=\"400hPa\")"
   ]
  },
  {
   "cell_type": "markdown",
   "metadata": {},
   "source": [
    "### 500 hPa"
   ]
  },
  {
   "cell_type": "code",
   "execution_count": null,
   "metadata": {},
   "outputs": [],
   "source": []
  },
  {
   "cell_type": "markdown",
   "metadata": {},
   "source": [
    "### 600hPa"
   ]
  },
  {
   "cell_type": "code",
   "execution_count": null,
   "metadata": {},
   "outputs": [],
   "source": []
  },
  {
   "cell_type": "markdown",
   "metadata": {},
   "source": [
    "### 700 hPa"
   ]
  },
  {
   "cell_type": "code",
   "execution_count": null,
   "metadata": {},
   "outputs": [],
   "source": []
  },
  {
   "cell_type": "markdown",
   "metadata": {},
   "source": [
    "### 850 hPa"
   ]
  },
  {
   "cell_type": "code",
   "execution_count": null,
   "metadata": {},
   "outputs": [],
   "source": []
  },
  {
   "cell_type": "markdown",
   "metadata": {},
   "source": [
    "### 925 hPa"
   ]
  },
  {
   "cell_type": "code",
   "execution_count": null,
   "metadata": {},
   "outputs": [],
   "source": []
  },
  {
   "cell_type": "markdown",
   "metadata": {},
   "source": [
    "### 1000 hPa"
   ]
  },
  {
   "cell_type": "code",
   "execution_count": null,
   "metadata": {},
   "outputs": [],
   "source": [
    "rmses_world_u_1000hpa = []\n",
    "dates_world_u_1000hpa = []\n",
    "for batch, target_batch in zip(world_batches, target_world_batches):\n",
    "    rmse, date = rmse_fn(model, batch, \"u\", var_type=\"atmosphere\", atmos_level_idx=12)\n",
    "    rmses_world_u_1000hpa.append(rmse)\n",
    "    dates_world_u_1000hpa.append(date)"
   ]
  },
  {
   "cell_type": "code",
   "execution_count": null,
   "metadata": {},
   "outputs": [],
   "source": [
    "rmses_SA_u_1000hpa = []\n",
    "dates_SA_u_1000hpa = []\n",
    "for batch, target_batch in zip(SA_batches, target_SA_batches):\n",
    "    rmse, date = rmse_fn_sa(model, batch, target_batch, \"u\", var_type=\"atmosphere\", atmos_level_idx=12)\n",
    "    rmses_SA_u_1000hpa.append(rmse)\n",
    "    dates_SA_u_1000hpa.append(date)"
   ]
  },
  {
   "cell_type": "code",
   "execution_count": null,
   "metadata": {},
   "outputs": [],
   "source": [
    "plot_rmses(\"u\",rmses_world_u_1000hpa, rmses_SA_u_1000hpa, \n",
    "            figsize=(15, 8), fontsize=18,\n",
    "            date_ranges=dates_SA_u_1000hpa, title=\"Eastward wind speed  two steps forward prediction: RMSES\",\n",
    "            atmos_level=\"1000hPa\")"
   ]
  },
  {
   "cell_type": "code",
   "execution_count": null,
   "metadata": {},
   "outputs": [],
   "source": []
  },
  {
   "cell_type": "markdown",
   "metadata": {},
   "source": [
    "### Southward wind speed in m/s :v"
   ]
  },
  {
   "cell_type": "markdown",
   "metadata": {},
   "source": [
    "### 50 hPa"
   ]
  },
  {
   "cell_type": "code",
   "execution_count": null,
   "metadata": {},
   "outputs": [],
   "source": [
    "rmses_world_v = []\n",
    "dates_world_v = []\n",
    "for batch, target_batch in zip(world_batches, target_world_batches):\n",
    "    rmse, date = rmse_fn(model, batch, target_batch, \"v\", var_type=\"atmosphere\", atmos_level_idx=0)\n",
    "    rmses_world_v.append(rmse)\n",
    "    dates_world_v.append(date)"
   ]
  },
  {
   "cell_type": "code",
   "execution_count": null,
   "metadata": {},
   "outputs": [],
   "source": [
    "rmses_SA_v = []\n",
    "dates_SA_v = []\n",
    "for batch, target_batch in zip(SA_batches, target_SA_batches):\n",
    "    rmse, date = rmse_fn_sa(model, batch, target_batch, \"v\", var_type=\"atmosphere\", atmos_level_idx=0)\n",
    "    rmses_SA_v.append(rmse)\n",
    "    dates_SA_v.append(date)"
   ]
  },
  {
   "cell_type": "code",
   "execution_count": null,
   "metadata": {},
   "outputs": [],
   "source": [
    "plot_rmses(\"v\",rmses_world_v, rmses_SA_v, \n",
    "            figsize=(15, 8), fontsize=18,\n",
    "            date_ranges=dates_world_v, title=\"Southward wind speed two steps forward prediction: RMSES\",\n",
    "            atmos_level=\"50hPa\")"
   ]
  },
  {
   "cell_type": "markdown",
   "metadata": {},
   "source": [
    "### 100 hPa"
   ]
  },
  {
   "cell_type": "code",
   "execution_count": null,
   "metadata": {},
   "outputs": [],
   "source": []
  },
  {
   "cell_type": "code",
   "execution_count": null,
   "metadata": {},
   "outputs": [],
   "source": []
  },
  {
   "cell_type": "markdown",
   "metadata": {},
   "source": [
    "### 150 hPa"
   ]
  },
  {
   "cell_type": "code",
   "execution_count": null,
   "metadata": {},
   "outputs": [],
   "source": []
  },
  {
   "cell_type": "markdown",
   "metadata": {},
   "source": [
    "### 200 hPa"
   ]
  },
  {
   "cell_type": "code",
   "execution_count": null,
   "metadata": {},
   "outputs": [],
   "source": []
  },
  {
   "cell_type": "markdown",
   "metadata": {},
   "source": [
    "### 250 hPa"
   ]
  },
  {
   "cell_type": "code",
   "execution_count": null,
   "metadata": {},
   "outputs": [],
   "source": []
  },
  {
   "cell_type": "markdown",
   "metadata": {},
   "source": [
    "### 300 hPa"
   ]
  },
  {
   "cell_type": "code",
   "execution_count": null,
   "metadata": {},
   "outputs": [],
   "source": []
  },
  {
   "cell_type": "markdown",
   "metadata": {},
   "source": [
    "### 400 hPa"
   ]
  },
  {
   "cell_type": "code",
   "execution_count": null,
   "metadata": {},
   "outputs": [],
   "source": [
    "rmses_world_v_400hpa = []\n",
    "dates_world_v_400hpa = []\n",
    "for batch, target_batch in zip(world_batches, target_world_batches):\n",
    "    rmse, date = rmse_fn(model, batch, target_batch, \"v\", var_type=\"atmosphere\", atmos_level_idx=6)\n",
    "    rmses_world_v_400hpa.append(rmse)\n",
    "    dates_world_v_400hpa.append(date)"
   ]
  },
  {
   "cell_type": "code",
   "execution_count": null,
   "metadata": {},
   "outputs": [],
   "source": [
    "rmses_SA_v_400hpa = []\n",
    "dates_SA_v_400hpa = []\n",
    "for batch, target_batch in zip(SA_batches, target_SA_batches):\n",
    "    rmse, date = rmse_fn_sa(model, batch, target_batch, \"v\", var_type=\"atmosphere\", atmos_level_idx=6)\n",
    "    rmses_SA_v_400hpa.append(rmse)\n",
    "    dates_SA_v_400hpa.append(date)"
   ]
  },
  {
   "cell_type": "code",
   "execution_count": null,
   "metadata": {},
   "outputs": [],
   "source": [
    "plot_rmses(\"v\",rmses_world_v_400hpa, rmses_SA_v_400hpa, \n",
    "            figsize=(15, 8), fontsize=18,\n",
    "            date_ranges=dates_world_v_400hpa, title=\"Southward wind speed  two steps forward prediction: RMSES\",\n",
    "            atmos_level=\"400hPa\")"
   ]
  },
  {
   "cell_type": "markdown",
   "metadata": {},
   "source": [
    "### 500 hPa"
   ]
  },
  {
   "cell_type": "code",
   "execution_count": null,
   "metadata": {},
   "outputs": [],
   "source": []
  },
  {
   "cell_type": "markdown",
   "metadata": {},
   "source": [
    "### 600hPa"
   ]
  },
  {
   "cell_type": "code",
   "execution_count": null,
   "metadata": {},
   "outputs": [],
   "source": []
  },
  {
   "cell_type": "markdown",
   "metadata": {},
   "source": [
    "### 700 hPa"
   ]
  },
  {
   "cell_type": "code",
   "execution_count": null,
   "metadata": {},
   "outputs": [],
   "source": []
  },
  {
   "cell_type": "markdown",
   "metadata": {},
   "source": [
    "### 850 hPa"
   ]
  },
  {
   "cell_type": "code",
   "execution_count": null,
   "metadata": {},
   "outputs": [],
   "source": []
  },
  {
   "cell_type": "markdown",
   "metadata": {},
   "source": [
    "### 925 hPa"
   ]
  },
  {
   "cell_type": "code",
   "execution_count": null,
   "metadata": {},
   "outputs": [],
   "source": []
  },
  {
   "cell_type": "markdown",
   "metadata": {},
   "source": [
    "### 1000 hPa"
   ]
  },
  {
   "cell_type": "code",
   "execution_count": null,
   "metadata": {},
   "outputs": [],
   "source": [
    "rmses_world_v_1000hpa = []\n",
    "dates_world_v_1000hpa = []\n",
    "for batch, target_batch in zip(world_batches, target_world_batches):\n",
    "    rmse, date = rmse_fn(model, batch, target_batch, \"v\", var_type=\"atmosphere\", atmos_level_idx=12)\n",
    "    rmses_world_v_1000hpa.append(rmse)\n",
    "    dates_world_v_1000hpa.append(date)"
   ]
  },
  {
   "cell_type": "code",
   "execution_count": null,
   "metadata": {},
   "outputs": [],
   "source": [
    "rmses_SA_v_1000hpa = []\n",
    "dates_SA_v_1000hpa = []\n",
    "for batch, target_batch in zip(SA_batches, target_SA_batches):\n",
    "    rmse, date = rmse_fn_sa(model, batch, target_batch, \"v\", var_type=\"atmosphere\", atmos_level_idx=12)\n",
    "    rmses_SA_v_1000hpa.append(rmse)\n",
    "    dates_SA_v_1000hpa.append(date)"
   ]
  },
  {
   "cell_type": "code",
   "execution_count": null,
   "metadata": {},
   "outputs": [],
   "source": [
    "plot_rmses(\"v\",rmses_world_v_1000hpa, rmses_SA_v_1000hpa, \n",
    "            figsize=(15, 8), fontsize=18,\n",
    "            date_ranges=dates_SA_v_1000hpa, title=\"Southward wind speed  two steps forward prediction: RMSES\",\n",
    "            atmos_level=\"1000hPa\")"
   ]
  },
  {
   "cell_type": "markdown",
   "metadata": {},
   "source": [
    "### Specific humidity in kg / kg: q"
   ]
  },
  {
   "cell_type": "markdown",
   "metadata": {},
   "source": [
    "### 50 hPa"
   ]
  },
  {
   "cell_type": "code",
   "execution_count": null,
   "metadata": {},
   "outputs": [],
   "source": [
    "rmses_world_q = []\n",
    "dates_world_q = []\n",
    "for batch, target_batch in zip(world_batches, target_world_batches):\n",
    "    rmse, date = rmse_fn(model, batch, target_batch, \"q\", var_type=\"atmosphere\", atmos_level_idx=0)\n",
    "    rmses_world_q.append(rmse)\n",
    "    dates_world_q.append(date)"
   ]
  },
  {
   "cell_type": "code",
   "execution_count": null,
   "metadata": {},
   "outputs": [],
   "source": [
    "rmses_SA_q = []\n",
    "dates_SA_q = []\n",
    "for batch, target_batch in zip(SA_batches, target_SA_batches):\n",
    "    rmse, date = rmse_fn_sa(model, batch, target_batch, \"q\", var_type=\"atmosphere\", atmos_level_idx=0)\n",
    "    rmses_SA_q.append(rmse)\n",
    "    dates_SA_q.append(date)"
   ]
  },
  {
   "cell_type": "code",
   "execution_count": null,
   "metadata": {},
   "outputs": [],
   "source": [
    "plot_rmses(\"q\",rmses_world_q, rmses_SA_q, \n",
    "            figsize=(15, 8), fontsize=18,\n",
    "            date_ranges=dates_world_q, title=\"Specific humidity two steps forward prediction: RMSES\",\n",
    "            atmos_level=\"50hPa\")"
   ]
  },
  {
   "cell_type": "markdown",
   "metadata": {},
   "source": [
    "### 100 hPa"
   ]
  },
  {
   "cell_type": "code",
   "execution_count": null,
   "metadata": {},
   "outputs": [],
   "source": []
  },
  {
   "cell_type": "code",
   "execution_count": null,
   "metadata": {},
   "outputs": [],
   "source": []
  },
  {
   "cell_type": "markdown",
   "metadata": {},
   "source": [
    "### 150 hPa"
   ]
  },
  {
   "cell_type": "code",
   "execution_count": null,
   "metadata": {},
   "outputs": [],
   "source": []
  },
  {
   "cell_type": "markdown",
   "metadata": {},
   "source": [
    "### 200 hPa"
   ]
  },
  {
   "cell_type": "code",
   "execution_count": null,
   "metadata": {},
   "outputs": [],
   "source": []
  },
  {
   "cell_type": "markdown",
   "metadata": {},
   "source": [
    "### 250 hPa"
   ]
  },
  {
   "cell_type": "code",
   "execution_count": null,
   "metadata": {},
   "outputs": [],
   "source": []
  },
  {
   "cell_type": "markdown",
   "metadata": {},
   "source": [
    "### 300 hPa"
   ]
  },
  {
   "cell_type": "code",
   "execution_count": null,
   "metadata": {},
   "outputs": [],
   "source": []
  },
  {
   "cell_type": "markdown",
   "metadata": {},
   "source": [
    "### 400 hPa"
   ]
  },
  {
   "cell_type": "code",
   "execution_count": null,
   "metadata": {},
   "outputs": [],
   "source": [
    "rmses_world_q_400hpa = []\n",
    "dates_world_q_400hpa = []\n",
    "for batch, target_batch in zip(world_batches, target_world_batches):\n",
    "    rmse, date = rmse_fn(model, batch, target_batch, \"q\", var_type=\"atmosphere\", atmos_level_idx=6)\n",
    "    rmses_world_q_400hpa.append(rmse)\n",
    "    dates_world_q_400hpa.append(date)"
   ]
  },
  {
   "cell_type": "code",
   "execution_count": null,
   "metadata": {},
   "outputs": [],
   "source": [
    "rmses_SA_q_400hpa = []\n",
    "dates_SA_q_400hpa = []\n",
    "for batch, target_batch in zip(SA_batches, target_SA_batches):\n",
    "    rmse, date = rmse_fn_sa(model, batch, target_batch, \"q\", var_type=\"atmosphere\", atmos_level_idx=6)\n",
    "    rmses_SA_q_400hpa.append(rmse)\n",
    "    dates_SA_q_400hpa.append(date)"
   ]
  },
  {
   "cell_type": "code",
   "execution_count": null,
   "metadata": {},
   "outputs": [],
   "source": [
    "plot_rmses(\"q\",rmses_world_q_400hpa, rmses_SA_q_400hpa, \n",
    "            figsize=(15, 8), fontsize=18,\n",
    "            date_ranges=dates_world_q_400hpa, title=\"Specific humidity  two steps forward prediction: RMSES\",\n",
    "            atmos_level=\"400hPa\")"
   ]
  },
  {
   "cell_type": "markdown",
   "metadata": {},
   "source": [
    "### 500 hPa"
   ]
  },
  {
   "cell_type": "code",
   "execution_count": null,
   "metadata": {},
   "outputs": [],
   "source": []
  },
  {
   "cell_type": "markdown",
   "metadata": {},
   "source": [
    "### 600hPa"
   ]
  },
  {
   "cell_type": "code",
   "execution_count": null,
   "metadata": {},
   "outputs": [],
   "source": []
  },
  {
   "cell_type": "markdown",
   "metadata": {},
   "source": [
    "### 700 hPa"
   ]
  },
  {
   "cell_type": "code",
   "execution_count": null,
   "metadata": {},
   "outputs": [],
   "source": []
  },
  {
   "cell_type": "markdown",
   "metadata": {},
   "source": [
    "### 850 hPa"
   ]
  },
  {
   "cell_type": "code",
   "execution_count": null,
   "metadata": {},
   "outputs": [],
   "source": []
  },
  {
   "cell_type": "markdown",
   "metadata": {},
   "source": [
    "### 925 hPa"
   ]
  },
  {
   "cell_type": "code",
   "execution_count": null,
   "metadata": {},
   "outputs": [],
   "source": []
  },
  {
   "cell_type": "markdown",
   "metadata": {},
   "source": [
    "### 1000 hPa"
   ]
  },
  {
   "cell_type": "code",
   "execution_count": null,
   "metadata": {},
   "outputs": [],
   "source": [
    "rmses_world_q_1000hpa = []\n",
    "dates_world_q_1000hpa = []\n",
    "for batch, target_batch in zip(world_batches, target_world_batches):\n",
    "    rmse, date = rmse_fn(model, batch, target_batch, \"q\", var_type=\"atmosphere\", atmos_level_idx=12)\n",
    "    rmses_world_q_1000hpa.append(rmse)\n",
    "    dates_world_q_1000hpa.append(date)"
   ]
  },
  {
   "cell_type": "code",
   "execution_count": null,
   "metadata": {},
   "outputs": [],
   "source": [
    "rmses_SA_q_1000hpa = []\n",
    "dates_SA_q_1000hpa = []\n",
    "for batch, target_batch in zip(SA_batches, target_SA_batches):\n",
    "    rmse, date = rmse_fn_sa(model, batch, target_batch, \"q\", var_type=\"atmosphere\", atmos_level_idx=12)\n",
    "    rmses_SA_q_1000hpa.append(rmse)\n",
    "    dates_SA_q_1000hpa.append(date)"
   ]
  },
  {
   "cell_type": "code",
   "execution_count": null,
   "metadata": {},
   "outputs": [],
   "source": [
    "plot_rmses(\"q\",rmses_world_q_1000hpa, rmses_SA_q_1000hpa, \n",
    "            figsize=(15, 8), fontsize=18,\n",
    "            date_ranges=dates_SA_q_1000hpa, title=\"Specific humidity  two steps forward prediction: RMSES\",\n",
    "            atmos_level=\"1000hPa\")"
   ]
  },
  {
   "cell_type": "markdown",
   "metadata": {},
   "source": [
    "### Geopotential in m^2 / s^2 : z"
   ]
  },
  {
   "cell_type": "markdown",
   "metadata": {},
   "source": [
    "### 50 hPa"
   ]
  },
  {
   "cell_type": "code",
   "execution_count": null,
   "metadata": {},
   "outputs": [],
   "source": [
    "rmses_world_z = []\n",
    "dates_world_z = []\n",
    "for batch, target_batch in zip(world_batches, target_world_batches):\n",
    "    rmse, date = rmse_fn(model, batch, target_batch, \"z\", var_type=\"atmosphere\", atmos_level_idx=0)\n",
    "    rmses_world_z.append(rmse)\n",
    "    dates_world_z.append(date)"
   ]
  },
  {
   "cell_type": "code",
   "execution_count": null,
   "metadata": {},
   "outputs": [],
   "source": [
    "rmses_SA_z = []\n",
    "dates_SA_z = []\n",
    "for batch, target_batch in zip(SA_batches, target_SA_batches):\n",
    "    rmse, date = rmse_fn_sa(model, batch, target_batch, \"z\", var_type=\"atmosphere\", atmos_level_idx=0)\n",
    "    rmses_SA_z.append(rmse)\n",
    "    dates_SA_z.append(date)"
   ]
  },
  {
   "cell_type": "code",
   "execution_count": null,
   "metadata": {},
   "outputs": [],
   "source": [
    "plot_rmses(\"z\",rmses_world_z, rmses_SA_z, \n",
    "            figsize=(15, 8), fontsize=18,\n",
    "            date_ranges=dates_world_z, title=\"Geopotential two steps forward prediction: RMSES\",\n",
    "            atmos_level=\"50hPa\")"
   ]
  },
  {
   "cell_type": "markdown",
   "metadata": {},
   "source": [
    "### 100 hPa"
   ]
  },
  {
   "cell_type": "code",
   "execution_count": null,
   "metadata": {},
   "outputs": [],
   "source": []
  },
  {
   "cell_type": "code",
   "execution_count": null,
   "metadata": {},
   "outputs": [],
   "source": []
  },
  {
   "cell_type": "markdown",
   "metadata": {},
   "source": [
    "### 150 hPa"
   ]
  },
  {
   "cell_type": "code",
   "execution_count": null,
   "metadata": {},
   "outputs": [],
   "source": []
  },
  {
   "cell_type": "markdown",
   "metadata": {},
   "source": [
    "### 200 hPa"
   ]
  },
  {
   "cell_type": "code",
   "execution_count": null,
   "metadata": {},
   "outputs": [],
   "source": []
  },
  {
   "cell_type": "markdown",
   "metadata": {},
   "source": [
    "### 250 hPa"
   ]
  },
  {
   "cell_type": "code",
   "execution_count": null,
   "metadata": {},
   "outputs": [],
   "source": []
  },
  {
   "cell_type": "markdown",
   "metadata": {},
   "source": [
    "### 300 hPa"
   ]
  },
  {
   "cell_type": "code",
   "execution_count": null,
   "metadata": {},
   "outputs": [],
   "source": []
  },
  {
   "cell_type": "markdown",
   "metadata": {},
   "source": [
    "### 400 hPa"
   ]
  },
  {
   "cell_type": "code",
   "execution_count": null,
   "metadata": {},
   "outputs": [],
   "source": [
    "rmses_world_z_400hpa = []\n",
    "dates_world_z_400hpa = []\n",
    "for batch, target_batch in zip(world_batches, target_world_batches):\n",
    "    rmse, date = rmse_fn(model, batch, target_batch, \"z\", var_type=\"atmosphere\", atmos_level_idx=6)\n",
    "    rmses_world_z_400hpa.append(rmse)\n",
    "    dates_world_z_400hpa.append(date)"
   ]
  },
  {
   "cell_type": "code",
   "execution_count": null,
   "metadata": {},
   "outputs": [],
   "source": [
    "rmses_SA_z_400hpa = []\n",
    "dates_SA_z_400hpa = []\n",
    "for batch, target_batch in zip(SA_batches, target_SA_batches):\n",
    "    rmse, date = rmse_fn_sa(model, batch, target_batch, \"z\", var_type=\"atmosphere\", atmos_level_idx=6)\n",
    "    rmses_SA_z_400hpa.append(rmse)\n",
    "    dates_SA_z_400hpa.append(date)"
   ]
  },
  {
   "cell_type": "code",
   "execution_count": null,
   "metadata": {},
   "outputs": [],
   "source": [
    "plot_rmses(\"z\",rmses_world_z_400hpa, rmses_SA_z_400hpa, \n",
    "            figsize=(15, 8), fontsize=18,\n",
    "            date_ranges=dates_world_z_400hpa, title=\"Geopotential two steps forward prediction: RMSES\",\n",
    "            atmos_level=\"400hPa\")"
   ]
  },
  {
   "cell_type": "markdown",
   "metadata": {},
   "source": [
    "### 500 hPa"
   ]
  },
  {
   "cell_type": "code",
   "execution_count": null,
   "metadata": {},
   "outputs": [],
   "source": []
  },
  {
   "cell_type": "markdown",
   "metadata": {},
   "source": [
    "### 600hPa"
   ]
  },
  {
   "cell_type": "code",
   "execution_count": null,
   "metadata": {},
   "outputs": [],
   "source": []
  },
  {
   "cell_type": "markdown",
   "metadata": {},
   "source": [
    "### 700 hPa"
   ]
  },
  {
   "cell_type": "code",
   "execution_count": null,
   "metadata": {},
   "outputs": [],
   "source": []
  },
  {
   "cell_type": "markdown",
   "metadata": {},
   "source": [
    "### 850 hPa"
   ]
  },
  {
   "cell_type": "code",
   "execution_count": null,
   "metadata": {},
   "outputs": [],
   "source": []
  },
  {
   "cell_type": "markdown",
   "metadata": {},
   "source": [
    "### 925 hPa"
   ]
  },
  {
   "cell_type": "code",
   "execution_count": null,
   "metadata": {},
   "outputs": [],
   "source": []
  },
  {
   "cell_type": "markdown",
   "metadata": {},
   "source": [
    "### 1000 hPa"
   ]
  },
  {
   "cell_type": "code",
   "execution_count": null,
   "metadata": {},
   "outputs": [],
   "source": [
    "rmses_world_z_1000hpa = []\n",
    "dates_world_z_1000hpa = []\n",
    "for batch, target_batch in zip(world_batches, target_world_batches):\n",
    "    rmse, date = rmse_fn(model, batch, target_batch, \"z\", var_type=\"atmosphere\", atmos_level_idx=12)\n",
    "    rmses_world_z_1000hpa.append(rmse)\n",
    "    dates_world_z_1000hpa.append(date)"
   ]
  },
  {
   "cell_type": "code",
   "execution_count": null,
   "metadata": {},
   "outputs": [],
   "source": [
    "rmses_SA_z_1000hpa = []\n",
    "dates_SA_z_1000hpa = []\n",
    "for batch, target_batch in zip(SA_batches, target_SA_batches):\n",
    "    rmse, date = rmse_fn_sa(model, batch, target_batch, \"z\", var_type=\"atmosphere\", atmos_level_idx=12)\n",
    "    rmses_SA_z_1000hpa.append(rmse)\n",
    "    dates_SA_z_1000hpa.append(date)"
   ]
  },
  {
   "cell_type": "code",
   "execution_count": null,
   "metadata": {},
   "outputs": [],
   "source": [
    "plot_rmses(\"z\",rmses_world_z_1000hpa, rmses_SA_z_1000hpa, \n",
    "            figsize=(15, 8), fontsize=18,\n",
    "            date_ranges=dates_SA_z_1000hpa, title=\"Geopotential  two steps forward prediction: RMSES\",\n",
    "            atmos_level=\"1000hPa\")"
   ]
  },
  {
   "cell_type": "code",
   "execution_count": null,
   "metadata": {},
   "outputs": [],
   "source": []
  }
 ],
 "metadata": {
  "kernelspec": {
   "display_name": "venv",
   "language": "python",
   "name": "python3"
  },
  "language_info": {
   "codemirror_mode": {
    "name": "ipython",
    "version": 3
   },
   "file_extension": ".py",
   "mimetype": "text/x-python",
   "name": "python",
   "nbconvert_exporter": "python",
   "pygments_lexer": "ipython3",
   "version": "3.10.15"
  }
 },
 "nbformat": 4,
 "nbformat_minor": 2
}
