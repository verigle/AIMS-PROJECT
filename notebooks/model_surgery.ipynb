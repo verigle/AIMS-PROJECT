{
 "cells": [
  {
   "cell_type": "code",
   "execution_count": 1,
   "metadata": {},
   "outputs": [
    {
     "name": "stderr",
     "output_type": "stream",
     "text": [
      "/home/koomi_aims_ac_za/koomi/projects/AIMS-PROJECT/venv/lib/python3.10/site-packages/tqdm/auto.py:21: TqdmWarning: IProgress not found. Please update jupyter and ipywidgets. See https://ipywidgets.readthedocs.io/en/stable/user_install.html\n",
      "  from .autonotebook import tqdm as notebook_tqdm\n"
     ]
    }
   ],
   "source": [
    "import xarray as xr\n",
    "from datetime import datetime\n",
    "\n",
    "import torch\n",
    "\n",
    "from aurora import AuroraSmall, Batch, Metadata, rollout\n",
    "import matplotlib.pyplot as plt\n",
    "\n",
    "from pathlib import Path\n",
    "\n",
    "import cdsapi\n",
    "import numpy as np\n",
    "from sklearn.metrics import root_mean_squared_error\n",
    "import gcsfs\n",
    "\n",
    "from torch.utils.data import Dataset\n",
    "from aurora import Batch, Metadata\n",
    "import os"
   ]
  },
  {
   "cell_type": "markdown",
   "metadata": {},
   "source": [
    "# Get new model"
   ]
  },
  {
   "cell_type": "code",
   "execution_count": 2,
   "metadata": {},
   "outputs": [],
   "source": [
    "from aurora import Aurora\n",
    "\n",
    "model = AuroraSmall(\n",
    "    use_lora=False,  # Model was not fine-tuned.\n",
    "    autocast=True,  # Use AMP.\n",
    "    stabilise_level_agg=True\n",
    ")\n",
    "model.load_checkpoint(\"microsoft/aurora\", \"aurora-0.25-small-pretrained.ckpt\",  strict=False)\n",
    "\n",
    "torch.save(model.state_dict(), \"../model/aurora-0.25-small-pretrained.pth\")"
   ]
  },
  {
   "cell_type": "code",
   "execution_count": 3,
   "metadata": {},
   "outputs": [],
   "source": [
    "import sys\n",
    "sys.path.append(os.path.abspath(\"../src\"))\n",
    "from utils import get_surface_feature_target_data, get_atmos_feature_target_data\n",
    "from utils import get_static_feature_target_data, create_batch, predict_fn, rmse_weights\n",
    "from utils import rmse_fn, plot_rmses, custom_rmse"
   ]
  },
  {
   "cell_type": "markdown",
   "metadata": {},
   "source": [
    "# Load Model"
   ]
  },
  {
   "cell_type": "code",
   "execution_count": 4,
   "metadata": {},
   "outputs": [
    {
     "data": {
      "text/plain": [
       "<All keys matched successfully>"
      ]
     },
     "execution_count": 4,
     "metadata": {},
     "output_type": "execute_result"
    }
   ],
   "source": [
    "model = AuroraSmall(\n",
    "    use_lora=False,  # Model was not fine-tuned.\n",
    "    autocast=True,  # Use AMP.\n",
    ")\n",
    "model.load_state_dict(torch.load('../model/aurora-pretrained.pth'))"
   ]
  },
  {
   "cell_type": "markdown",
   "metadata": {},
   "source": [
    "# Freeze all weights"
   ]
  },
  {
   "cell_type": "code",
   "execution_count": 5,
   "metadata": {},
   "outputs": [],
   "source": [
    "for param in model.parameters():\n",
    "    param.requires_grad = False"
   ]
  },
  {
   "cell_type": "code",
   "execution_count": 6,
   "metadata": {},
   "outputs": [
    {
     "name": "stdout",
     "output_type": "stream",
     "text": [
      "Aurora(\n",
      "  (encoder): Perceiver3DEncoder(\n",
      "    (surf_mlp): MLP(\n",
      "      (net): Sequential(\n",
      "        (0): Linear(in_features=256, out_features=1024, bias=True)\n",
      "        (1): GELU(approximate='none')\n",
      "        (2): Linear(in_features=1024, out_features=256, bias=True)\n",
      "        (3): Dropout(p=0.0, inplace=False)\n",
      "      )\n",
      "    )\n",
      "    (surf_norm): LayerNorm((256,), eps=1e-05, elementwise_affine=True)\n",
      "    (pos_embed): Linear(in_features=256, out_features=256, bias=True)\n",
      "    (scale_embed): Linear(in_features=256, out_features=256, bias=True)\n",
      "    (lead_time_embed): Linear(in_features=256, out_features=256, bias=True)\n",
      "    (absolute_time_embed): Linear(in_features=256, out_features=256, bias=True)\n",
      "    (atmos_levels_embed): Linear(in_features=256, out_features=256, bias=True)\n",
      "    (surf_token_embeds): LevelPatchEmbed(\n",
      "      (weights): ParameterDict(\n",
      "          (10u): Parameter containing: [torch.FloatTensor of size 256x1x2x4x4]\n",
      "          (10v): Parameter containing: [torch.FloatTensor of size 256x1x2x4x4]\n",
      "          (2t): Parameter containing: [torch.FloatTensor of size 256x1x2x4x4]\n",
      "          (lsm): Parameter containing: [torch.FloatTensor of size 256x1x2x4x4]\n",
      "          (msl): Parameter containing: [torch.FloatTensor of size 256x1x2x4x4]\n",
      "          (slt): Parameter containing: [torch.FloatTensor of size 256x1x2x4x4]\n",
      "          (z): Parameter containing: [torch.FloatTensor of size 256x1x2x4x4]\n",
      "      )\n",
      "      (norm): Identity()\n",
      "    )\n",
      "    (atmos_token_embeds): LevelPatchEmbed(\n",
      "      (weights): ParameterDict(\n",
      "          (q): Parameter containing: [torch.FloatTensor of size 256x1x2x4x4]\n",
      "          (t): Parameter containing: [torch.FloatTensor of size 256x1x2x4x4]\n",
      "          (u): Parameter containing: [torch.FloatTensor of size 256x1x2x4x4]\n",
      "          (v): Parameter containing: [torch.FloatTensor of size 256x1x2x4x4]\n",
      "          (z): Parameter containing: [torch.FloatTensor of size 256x1x2x4x4]\n",
      "      )\n",
      "      (norm): Identity()\n",
      "    )\n",
      "    (level_agg): PerceiverResampler(\n",
      "      (layers): ModuleList(\n",
      "        (0): ModuleList(\n",
      "          (0): PerceiverAttention(\n",
      "            (to_q): Linear(in_features=256, out_features=256, bias=False)\n",
      "            (to_kv): Linear(in_features=256, out_features=512, bias=False)\n",
      "            (to_out): Linear(in_features=256, out_features=256, bias=False)\n",
      "          )\n",
      "          (1): MLP(\n",
      "            (net): Sequential(\n",
      "              (0): Linear(in_features=256, out_features=1024, bias=True)\n",
      "              (1): GELU(approximate='none')\n",
      "              (2): Linear(in_features=1024, out_features=256, bias=True)\n",
      "              (3): Dropout(p=0.0, inplace=False)\n",
      "            )\n",
      "          )\n",
      "          (2-3): 2 x LayerNorm((256,), eps=1e-05, elementwise_affine=True)\n",
      "        )\n",
      "      )\n",
      "    )\n",
      "    (pos_drop): Dropout(p=0.0, inplace=False)\n",
      "  )\n",
      "  (backbone): Swin3DTransformerBackbone(\n",
      "    (time_mlp): Sequential(\n",
      "      (0): Linear(in_features=256, out_features=256, bias=True)\n",
      "      (1): SiLU()\n",
      "      (2): Linear(in_features=256, out_features=256, bias=True)\n",
      "    )\n",
      "    (encoder_layers): ModuleList(\n",
      "      (0): Basic3DEncoderLayer(\n",
      "        (blocks): ModuleList(\n",
      "          (0-1): 2 x Swin3DTransformerBlock(\n",
      "            (norm1): AdaptiveLayerNorm(\n",
      "              (ln): LayerNorm((256,), eps=1e-05, elementwise_affine=False)\n",
      "              (ln_modulation): Sequential(\n",
      "                (0): SiLU()\n",
      "                (1): Linear(in_features=256, out_features=512, bias=True)\n",
      "              )\n",
      "            )\n",
      "            (attn): WindowAttention(\n",
      "              dim=256, window_size=(2, 6, 12), num_heads=4\n",
      "              (qkv): Linear(in_features=256, out_features=768, bias=True)\n",
      "              (proj): Linear(in_features=256, out_features=256, bias=True)\n",
      "              (proj_drop): Dropout(p=0.0, inplace=False)\n",
      "            )\n",
      "            (drop_path): Identity()\n",
      "            (norm2): AdaptiveLayerNorm(\n",
      "              (ln): LayerNorm((256,), eps=1e-05, elementwise_affine=False)\n",
      "              (ln_modulation): Sequential(\n",
      "                (0): SiLU()\n",
      "                (1): Linear(in_features=256, out_features=512, bias=True)\n",
      "              )\n",
      "            )\n",
      "            (mlp): MLP(\n",
      "              (fc1): Linear(in_features=256, out_features=1024, bias=True)\n",
      "              (act): GELU(approximate='none')\n",
      "              (fc2): Linear(in_features=1024, out_features=256, bias=True)\n",
      "              (drop): Dropout(p=0.0, inplace=False)\n",
      "            )\n",
      "          )\n",
      "        )\n",
      "        (downsample): PatchMerging3D(\n",
      "          (reduction): Linear(in_features=1024, out_features=512, bias=False)\n",
      "          (norm): LayerNorm((1024,), eps=1e-05, elementwise_affine=True)\n",
      "        )\n",
      "      )\n",
      "      (1): Basic3DEncoderLayer(\n",
      "        (blocks): ModuleList(\n",
      "          (0-5): 6 x Swin3DTransformerBlock(\n",
      "            (norm1): AdaptiveLayerNorm(\n",
      "              (ln): LayerNorm((512,), eps=1e-05, elementwise_affine=False)\n",
      "              (ln_modulation): Sequential(\n",
      "                (0): SiLU()\n",
      "                (1): Linear(in_features=256, out_features=1024, bias=True)\n",
      "              )\n",
      "            )\n",
      "            (attn): WindowAttention(\n",
      "              dim=512, window_size=(2, 6, 12), num_heads=8\n",
      "              (qkv): Linear(in_features=512, out_features=1536, bias=True)\n",
      "              (proj): Linear(in_features=512, out_features=512, bias=True)\n",
      "              (proj_drop): Dropout(p=0.0, inplace=False)\n",
      "            )\n",
      "            (drop_path): Identity()\n",
      "            (norm2): AdaptiveLayerNorm(\n",
      "              (ln): LayerNorm((512,), eps=1e-05, elementwise_affine=False)\n",
      "              (ln_modulation): Sequential(\n",
      "                (0): SiLU()\n",
      "                (1): Linear(in_features=256, out_features=1024, bias=True)\n",
      "              )\n",
      "            )\n",
      "            (mlp): MLP(\n",
      "              (fc1): Linear(in_features=512, out_features=2048, bias=True)\n",
      "              (act): GELU(approximate='none')\n",
      "              (fc2): Linear(in_features=2048, out_features=512, bias=True)\n",
      "              (drop): Dropout(p=0.0, inplace=False)\n",
      "            )\n",
      "          )\n",
      "        )\n",
      "        (downsample): PatchMerging3D(\n",
      "          (reduction): Linear(in_features=2048, out_features=1024, bias=False)\n",
      "          (norm): LayerNorm((2048,), eps=1e-05, elementwise_affine=True)\n",
      "        )\n",
      "      )\n",
      "      (2): Basic3DEncoderLayer(\n",
      "        (blocks): ModuleList(\n",
      "          (0-1): 2 x Swin3DTransformerBlock(\n",
      "            (norm1): AdaptiveLayerNorm(\n",
      "              (ln): LayerNorm((1024,), eps=1e-05, elementwise_affine=False)\n",
      "              (ln_modulation): Sequential(\n",
      "                (0): SiLU()\n",
      "                (1): Linear(in_features=256, out_features=2048, bias=True)\n",
      "              )\n",
      "            )\n",
      "            (attn): WindowAttention(\n",
      "              dim=1024, window_size=(2, 6, 12), num_heads=16\n",
      "              (qkv): Linear(in_features=1024, out_features=3072, bias=True)\n",
      "              (proj): Linear(in_features=1024, out_features=1024, bias=True)\n",
      "              (proj_drop): Dropout(p=0.0, inplace=False)\n",
      "            )\n",
      "            (drop_path): Identity()\n",
      "            (norm2): AdaptiveLayerNorm(\n",
      "              (ln): LayerNorm((1024,), eps=1e-05, elementwise_affine=False)\n",
      "              (ln_modulation): Sequential(\n",
      "                (0): SiLU()\n",
      "                (1): Linear(in_features=256, out_features=2048, bias=True)\n",
      "              )\n",
      "            )\n",
      "            (mlp): MLP(\n",
      "              (fc1): Linear(in_features=1024, out_features=4096, bias=True)\n",
      "              (act): GELU(approximate='none')\n",
      "              (fc2): Linear(in_features=4096, out_features=1024, bias=True)\n",
      "              (drop): Dropout(p=0.0, inplace=False)\n",
      "            )\n",
      "          )\n",
      "        )\n",
      "      )\n",
      "    )\n",
      "    (decoder_layers): ModuleList(\n",
      "      (0): Basic3DDecoderLayer(\n",
      "        (blocks): ModuleList(\n",
      "          (0-1): 2 x Swin3DTransformerBlock(\n",
      "            (norm1): AdaptiveLayerNorm(\n",
      "              (ln): LayerNorm((1024,), eps=1e-05, elementwise_affine=False)\n",
      "              (ln_modulation): Sequential(\n",
      "                (0): SiLU()\n",
      "                (1): Linear(in_features=256, out_features=2048, bias=True)\n",
      "              )\n",
      "            )\n",
      "            (attn): WindowAttention(\n",
      "              dim=1024, window_size=(2, 6, 12), num_heads=16\n",
      "              (qkv): Linear(in_features=1024, out_features=3072, bias=True)\n",
      "              (proj): Linear(in_features=1024, out_features=1024, bias=True)\n",
      "              (proj_drop): Dropout(p=0.0, inplace=False)\n",
      "            )\n",
      "            (drop_path): Identity()\n",
      "            (norm2): AdaptiveLayerNorm(\n",
      "              (ln): LayerNorm((1024,), eps=1e-05, elementwise_affine=False)\n",
      "              (ln_modulation): Sequential(\n",
      "                (0): SiLU()\n",
      "                (1): Linear(in_features=256, out_features=2048, bias=True)\n",
      "              )\n",
      "            )\n",
      "            (mlp): MLP(\n",
      "              (fc1): Linear(in_features=1024, out_features=4096, bias=True)\n",
      "              (act): GELU(approximate='none')\n",
      "              (fc2): Linear(in_features=4096, out_features=1024, bias=True)\n",
      "              (drop): Dropout(p=0.0, inplace=False)\n",
      "            )\n",
      "          )\n",
      "        )\n",
      "        (upsample): PatchSplitting3D(\n",
      "          (lin1): Linear(in_features=1024, out_features=2048, bias=False)\n",
      "          (lin2): Linear(in_features=512, out_features=512, bias=False)\n",
      "          (norm): LayerNorm((512,), eps=1e-05, elementwise_affine=True)\n",
      "        )\n",
      "      )\n",
      "      (1): Basic3DDecoderLayer(\n",
      "        (blocks): ModuleList(\n",
      "          (0-5): 6 x Swin3DTransformerBlock(\n",
      "            (norm1): AdaptiveLayerNorm(\n",
      "              (ln): LayerNorm((512,), eps=1e-05, elementwise_affine=False)\n",
      "              (ln_modulation): Sequential(\n",
      "                (0): SiLU()\n",
      "                (1): Linear(in_features=256, out_features=1024, bias=True)\n",
      "              )\n",
      "            )\n",
      "            (attn): WindowAttention(\n",
      "              dim=512, window_size=(2, 6, 12), num_heads=8\n",
      "              (qkv): Linear(in_features=512, out_features=1536, bias=True)\n",
      "              (proj): Linear(in_features=512, out_features=512, bias=True)\n",
      "              (proj_drop): Dropout(p=0.0, inplace=False)\n",
      "            )\n",
      "            (drop_path): Identity()\n",
      "            (norm2): AdaptiveLayerNorm(\n",
      "              (ln): LayerNorm((512,), eps=1e-05, elementwise_affine=False)\n",
      "              (ln_modulation): Sequential(\n",
      "                (0): SiLU()\n",
      "                (1): Linear(in_features=256, out_features=1024, bias=True)\n",
      "              )\n",
      "            )\n",
      "            (mlp): MLP(\n",
      "              (fc1): Linear(in_features=512, out_features=2048, bias=True)\n",
      "              (act): GELU(approximate='none')\n",
      "              (fc2): Linear(in_features=2048, out_features=512, bias=True)\n",
      "              (drop): Dropout(p=0.0, inplace=False)\n",
      "            )\n",
      "          )\n",
      "        )\n",
      "        (upsample): PatchSplitting3D(\n",
      "          (lin1): Linear(in_features=512, out_features=1024, bias=False)\n",
      "          (lin2): Linear(in_features=256, out_features=256, bias=False)\n",
      "          (norm): LayerNorm((256,), eps=1e-05, elementwise_affine=True)\n",
      "        )\n",
      "      )\n",
      "      (2): Basic3DDecoderLayer(\n",
      "        (blocks): ModuleList(\n",
      "          (0-1): 2 x Swin3DTransformerBlock(\n",
      "            (norm1): AdaptiveLayerNorm(\n",
      "              (ln): LayerNorm((256,), eps=1e-05, elementwise_affine=False)\n",
      "              (ln_modulation): Sequential(\n",
      "                (0): SiLU()\n",
      "                (1): Linear(in_features=256, out_features=512, bias=True)\n",
      "              )\n",
      "            )\n",
      "            (attn): WindowAttention(\n",
      "              dim=256, window_size=(2, 6, 12), num_heads=4\n",
      "              (qkv): Linear(in_features=256, out_features=768, bias=True)\n",
      "              (proj): Linear(in_features=256, out_features=256, bias=True)\n",
      "              (proj_drop): Dropout(p=0.0, inplace=False)\n",
      "            )\n",
      "            (drop_path): Identity()\n",
      "            (norm2): AdaptiveLayerNorm(\n",
      "              (ln): LayerNorm((256,), eps=1e-05, elementwise_affine=False)\n",
      "              (ln_modulation): Sequential(\n",
      "                (0): SiLU()\n",
      "                (1): Linear(in_features=256, out_features=512, bias=True)\n",
      "              )\n",
      "            )\n",
      "            (mlp): MLP(\n",
      "              (fc1): Linear(in_features=256, out_features=1024, bias=True)\n",
      "              (act): GELU(approximate='none')\n",
      "              (fc2): Linear(in_features=1024, out_features=256, bias=True)\n",
      "              (drop): Dropout(p=0.0, inplace=False)\n",
      "            )\n",
      "          )\n",
      "        )\n",
      "      )\n",
      "    )\n",
      "  )\n",
      "  (decoder): Perceiver3DDecoder(\n",
      "    (level_decoder): PerceiverResampler(\n",
      "      (layers): ModuleList(\n",
      "        (0): ModuleList(\n",
      "          (0): PerceiverAttention(\n",
      "            (to_q): Linear(in_features=512, out_features=512, bias=False)\n",
      "            (to_kv): Linear(in_features=512, out_features=1024, bias=False)\n",
      "            (to_out): Linear(in_features=512, out_features=512, bias=False)\n",
      "          )\n",
      "          (1): MLP(\n",
      "            (net): Sequential(\n",
      "              (0): Linear(in_features=512, out_features=1024, bias=True)\n",
      "              (1): GELU(approximate='none')\n",
      "              (2): Linear(in_features=1024, out_features=512, bias=True)\n",
      "              (3): Dropout(p=0.0, inplace=False)\n",
      "            )\n",
      "          )\n",
      "          (2-3): 2 x LayerNorm((512,), eps=1e-05, elementwise_affine=True)\n",
      "        )\n",
      "      )\n",
      "    )\n",
      "    (surf_heads): ParameterDict(\n",
      "        (10u): Object of type: Linear\n",
      "        (10v): Object of type: Linear\n",
      "        (2t): Object of type: Linear\n",
      "        (msl): Object of type: Linear\n",
      "      (10u): Linear(in_features=512, out_features=16, bias=True)\n",
      "      (10v): Linear(in_features=512, out_features=16, bias=True)\n",
      "      (2t): Linear(in_features=512, out_features=16, bias=True)\n",
      "      (msl): Linear(in_features=512, out_features=16, bias=True)\n",
      "    )\n",
      "    (atmos_heads): ParameterDict(\n",
      "        (q): Object of type: Linear\n",
      "        (t): Object of type: Linear\n",
      "        (u): Object of type: Linear\n",
      "        (v): Object of type: Linear\n",
      "        (z): Object of type: Linear\n",
      "      (q): Linear(in_features=512, out_features=16, bias=True)\n",
      "      (t): Linear(in_features=512, out_features=16, bias=True)\n",
      "      (u): Linear(in_features=512, out_features=16, bias=True)\n",
      "      (v): Linear(in_features=512, out_features=16, bias=True)\n",
      "      (z): Linear(in_features=512, out_features=16, bias=True)\n",
      "    )\n",
      "    (atmos_levels_embed): Linear(in_features=512, out_features=512, bias=True)\n",
      "  )\n",
      ")\n"
     ]
    }
   ],
   "source": [
    "print(model)"
   ]
  },
  {
   "cell_type": "code",
   "execution_count": 8,
   "metadata": {},
   "outputs": [
    {
     "name": "stdout",
     "output_type": "stream",
     "text": [
      "Linear(in_features=256, out_features=256, bias=True)\n",
      "SiLU()\n",
      "Linear(in_features=256, out_features=256, bias=True)\n"
     ]
    }
   ],
   "source": [
    "for layer in model.backbone.time_mlp:\n",
    "    print(layer)"
   ]
  },
  {
   "cell_type": "markdown",
   "metadata": {},
   "source": [
    "# Lora class"
   ]
  },
  {
   "cell_type": "code",
   "execution_count": 10,
   "metadata": {},
   "outputs": [],
   "source": [
    "class LoRALayer(torch.nn.Module):\n",
    "    def __init__(self, in_dim, out_dim, rank, alpha):\n",
    "        super().__init__()\n",
    "        std_dev = 1 / torch.sqrt(torch.tensor(rank).float())\n",
    "        self.A = torch.nn.Parameter(torch.randn(in_dim, rank) * std_dev)\n",
    "        self.B = torch.nn.Parameter(torch.zeros(rank, out_dim))\n",
    "        self.alpha = alpha\n",
    "\n",
    "    def forward(self, x):\n",
    "        x = self.alpha * (x @ self.A @ self.B)\n",
    "        return x"
   ]
  },
  {
   "cell_type": "code",
   "execution_count": 11,
   "metadata": {},
   "outputs": [],
   "source": [
    "class LinearWithLoRA(torch.nn.Module):\n",
    "    def __init__(self, linear, rank, alpha):\n",
    "        super().__init__()\n",
    "        self.linear = linear\n",
    "        self.lora = LoRALayer(\n",
    "            linear.in_features, linear.out_features, rank, alpha\n",
    "        )\n",
    "\n",
    "    def forward(self, x):\n",
    "        return self.linear(x) + self.lora(x)"
   ]
  },
  {
   "cell_type": "code",
   "execution_count": 12,
   "metadata": {},
   "outputs": [],
   "source": [
    "from functools import partial\n",
    "# default hyperparameter choices\n",
    "lora_r = 8\n",
    "lora_alpha = 16\n",
    "# lora_dropout = 0.05\n",
    "# lora_query = True\n",
    "# lora_key = False\n",
    "# lora_value = True\n",
    "# lora_projection = False\n",
    "# lora_mlp = False\n",
    "# lora_head = False\n",
    "\n",
    "# layers = []\n",
    "\n",
    "assign_lora = partial(LinearWithLoRA, rank=lora_r, alpha=lora_alpha)"
   ]
  },
  {
   "cell_type": "markdown",
   "metadata": {},
   "source": [
    "# Add lora to some parts"
   ]
  },
  {
   "cell_type": "markdown",
   "metadata": {},
   "source": [
    "# Backbone MLP"
   ]
  },
  {
   "cell_type": "code",
   "execution_count": 16,
   "metadata": {},
   "outputs": [],
   "source": [
    "model.backbone.time_mlp[0] = assign_lora(model.backbone.time_mlp[0])\n",
    "model.backbone.time_mlp[2] = assign_lora(model.backbone.time_mlp[2])"
   ]
  },
  {
   "cell_type": "markdown",
   "metadata": {},
   "source": [
    "# Encoder"
   ]
  },
  {
   "cell_type": "code",
   "execution_count": 20,
   "metadata": {},
   "outputs": [],
   "source": [
    "model.backbone.encoder_layers[0].blocks[0].norm1.ln_modulation[1] = assign_lora(model.backbone.encoder_layers[0].blocks[0].norm1.ln_modulation[1] )\n",
    "\n"
   ]
  },
  {
   "cell_type": "code",
   "execution_count": 24,
   "metadata": {},
   "outputs": [],
   "source": [
    "model.backbone.encoder_layers[0].blocks[0].attn.qkv = assign_lora(model.backbone.encoder_layers[0].blocks[0].attn.qkv)\n",
    "model.backbone.encoder_layers[0].blocks[0].attn.proj = assign_lora(model.backbone.encoder_layers[0].blocks[0].attn.proj)"
   ]
  },
  {
   "cell_type": "code",
   "execution_count": null,
   "metadata": {},
   "outputs": [],
   "source": [
    "model.backbone.encoder_layers[0].blocks[0].attn.qkv = assign_lora(model.backbone.encoder_layers[0].blocks[0].attn.qkv)\n",
    "model.backbone.encoder_layers[0].blocks[0].attn.proj = assign_lora(model.backbone.encoder_layers[0].blocks[0].attn.proj)"
   ]
  },
  {
   "cell_type": "code",
   "execution_count": 28,
   "metadata": {},
   "outputs": [
    {
     "data": {
      "text/plain": [
       "Linear(in_features=256, out_features=512, bias=True)"
      ]
     },
     "execution_count": 28,
     "metadata": {},
     "output_type": "execute_result"
    }
   ],
   "source": [
    "model.backbone.encoder_layers[0].blocks[0].norm2.ln_modulation[1] =  assign_lora(model.backbone.encoder_layers[0].blocks[0].norm2.ln_modulation[1])"
   ]
  },
  {
   "cell_type": "code",
   "execution_count": 29,
   "metadata": {},
   "outputs": [
    {
     "data": {
      "text/plain": [
       "MLP(\n",
       "  (fc1): Linear(in_features=256, out_features=1024, bias=True)\n",
       "  (act): GELU(approximate='none')\n",
       "  (fc2): Linear(in_features=1024, out_features=256, bias=True)\n",
       "  (drop): Dropout(p=0.0, inplace=False)\n",
       ")"
      ]
     },
     "execution_count": 29,
     "metadata": {},
     "output_type": "execute_result"
    }
   ],
   "source": [
    "model.backbone.encoder_layers[0].blocks[0].mlp.fc1"
   ]
  },
  {
   "cell_type": "code",
   "execution_count": null,
   "metadata": {},
   "outputs": [],
   "source": []
  }
 ],
 "metadata": {
  "kernelspec": {
   "display_name": "venv",
   "language": "python",
   "name": "python3"
  },
  "language_info": {
   "codemirror_mode": {
    "name": "ipython",
    "version": 3
   },
   "file_extension": ".py",
   "mimetype": "text/x-python",
   "name": "python",
   "nbconvert_exporter": "python",
   "pygments_lexer": "ipython3",
   "version": "3.10.15"
  }
 },
 "nbformat": 4,
 "nbformat_minor": 2
}
